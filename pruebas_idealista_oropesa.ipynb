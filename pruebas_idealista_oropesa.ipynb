{
 "cells": [
  {
   "cell_type": "markdown",
   "id": "fa4a311b",
   "metadata": {},
   "source": [
    "## Extrae datos de idealista mediante técnica de web scrapping"
   ]
  },
  {
   "cell_type": "markdown",
   "id": "aeaa389f",
   "metadata": {},
   "source": [
    "### Dependencias e importaciones"
   ]
  },
  {
   "cell_type": "code",
   "execution_count": 1,
   "id": "3b92ee4c",
   "metadata": {},
   "outputs": [],
   "source": [
    "# pip install undetected-chromedriver"
   ]
  },
  {
   "cell_type": "code",
   "execution_count": 1,
   "id": "cca75b86",
   "metadata": {},
   "outputs": [],
   "source": [
    "import requests\n",
    "from bs4 import BeautifulSoup as bs\n",
    "import random\n",
    "import time\n",
    "import pandas as pd\n",
    "import numpy as np\n",
    "from selenium import webdriver\n",
    "from selenium.webdriver.common.by import By\n",
    "from selenium.webdriver.common.keys import Keys\n",
    "from selenium.webdriver.chrome.options import Options\n",
    "import undetected_chromedriver as uc"
   ]
  },
  {
   "cell_type": "code",
   "execution_count": 5,
   "id": "c5d01b41",
   "metadata": {},
   "outputs": [],
   "source": [
    "URL_INICIAL_LISTADO = \"https://www.idealista.com/venta-viviendas/oropesa-del-mar-castellon/con-sin-inquilinos/\"\n",
    "URL_INMUEBLE = \"https://www.idealista.com/inmueble/%INMUEBLE_ID%/\""
   ]
  },
  {
   "cell_type": "code",
   "execution_count": 7,
   "id": "828d4aa5",
   "metadata": {},
   "outputs": [],
   "source": [
    "browser = uc.Chrome()"
   ]
  },
  {
   "cell_type": "markdown",
   "id": "34f6559d",
   "metadata": {},
   "source": [
    "### 1º hacemos una lectura de las distintas páginas para ir anotando los ids"
   ]
  },
  {
   "cell_type": "code",
   "execution_count": 9,
   "id": "95ecd775",
   "metadata": {},
   "outputs": [
    {
     "name": "stdout",
     "output_type": "stream",
     "text": [
      "Página:  1\n",
      "[{'id': '100000581', 'enlace': '/inmueble/100000581/', 'titulo': \"Piso en termalismo, Torre Bellver - La Renegá - Les Platgete'S, Oropesa del Mar\", 'precio': '590.000€', 'detalles': '4 hab. | 161 m² | Planta 3ª exterior con ascensor', 'descripcion': 'Disfrutar, unos días, unas vacaciones, una temporada larga, durante todo el año, sea cual sea su elección, usted dispone de todos los servicios y más en Benicassim.\\nBenicàssim cuenta con un clima y una orografía excelentes que le permiten ofrecer una amplia oferta de actividades deportivas durante todo el año. Tanto si', 'etiquetas': 'Vistas al mar'}, {'id': '105575288', 'enlace': '/inmueble/105575288/', 'titulo': \"Dúplex en calle Forcall, 8, Torre Bellver - La Renegá - Les Platgete'S, Oropesa del Mar\", 'precio': '550.000€', 'detalles': '4 hab. | 165 m² | Planta 2ª exterior con ascensor', 'descripcion': 'Espectacular ático duplex con vistas al Mar a 5 minutos de BenicassimDisfrutar, unos días, unas vacaciones, una temporada larga, durante todo el año, sea cual sea su elección, usted dispone de todos los servicios y más en Benicassim.\\nBenicàssim cuenta con un clima y una orografía excelentes que le permiten ofrecer una amplia oferta de actividades deportivas durante todo el año. Tanto si', 'etiquetas': 'Vistas al mar'}, {'id': '107660488', 'enlace': '/inmueble/107660488/', 'titulo': \"Dúplex en calle Forcall, 7, Torre Bellver - La Renegá - Les Platgete'S, Oropesa del Mar\", 'precio': '395.000€', 'detalles': '2 hab. | 163 m² | Planta 2ª exterior con ascensor', 'descripcion': 'Disfrutar, unos días, unas vacaciones, una temporada larga, durante todo el año, sea cual sea su elección, usted dispone de todos los servicios y más en Benicassim.\\nBenicàssim cuenta con un clima y una orografía excelentes que le permiten ofrecer una amplia oferta de actividades deportivas durante todo el año. Tanto si', 'etiquetas': 'Vistas al mar'}, {'id': '103149663', 'enlace': '/inmueble/103149663/', 'titulo': \"Dúplex en Forcall, 8, Torre Bellver - La Renegá - Les Platgete'S, Oropesa del Mar\", 'precio': '450.000€', 'detalles': '3 hab. | 163 m² | Planta 2ª exterior con ascensor', 'descripcion': 'Disfrutar, unos días, unas vacaciones, una temporada larga, durante todo el año, sea cual sea su elección, usted dispone de todos los servicios y más en Benicassim.\\nBenicàssim cuenta con un clima y una orografía excelentes que le permiten ofrecer una amplia oferta de actividades deportivas durante todo el año. Tanto si', 'etiquetas': 'Vistas al mar'}, {'id': '103629589', 'enlace': '/inmueble/103629589/', 'titulo': \"Casa o chalet independiente en calle Urbanización Las Playetas de Bellver, 117, Torre Bellver - La Renegá - Les Platgete'S, Oropesa del Mar\", 'precio': '925.000€', 'detalles': '5 hab. | 375 m²', 'descripcion': 'ESPECTACULAR PROPIEDAD EN PLAYETAS, A 5 MIN A PIE DE LA PLAYA Y MUY CERCA A BENICASSIMEn venta, te presentamos esta increíble propiedad ubicada en la magnifica Urbanización Las Playetas. Con un diseño vanguardista y casi independencia energética, esta casa te cautivará desde el primer momento.\\nAl ingresar, encontrarás un luminoso salón-comedor con una acogedora chimenea, ideal para disfrutar de momentos', 'etiquetas': 'Villa'}, {'id': '107868849', 'enlace': '/inmueble/107868849/', 'titulo': 'Piso en calle dels Terrers, 1, Bahía Park - Isla Park, Oropesa del Mar', 'precio': '187.000€', 'detalles': '2 hab. | 87 m² | Planta 3ª exterior con ascensor', 'descripcion': 'Apartamento con vistas al mar y reforma a estrenarApartamento Reformado a Estrenar con Vistas al Mar en el Complejo Magic World – Oropesa del Mar\\nTe presentamos este precioso apartamento reformado a estrenar, situado en el corazón del exclusivo complejo Magic World en Oropesa del Mar. Ubicado en la mejor zona del resort, frente a la playa y los jardines del complejo,', 'etiquetas': 'Con vistas | Vistas al mar'}, {'id': '105995475', 'enlace': '/inmueble/105995475/', 'titulo': 'Piso en avenida Jardín, 57, Costa Azahar, Oropesa del Mar', 'precio': '129.000€', 'detalles': '2 hab. | 109 m² | Planta 8ª exterior con ascensor', 'descripcion': 'El apartamento en el edificio Jardines de Mar, en el complejo Magic World, es una encantadora residencia situada en una de las zonas más populares y vibrantes de la costa mediterránea. Este edificio moderno y elegante se encuentra estratégicamente ubicado cerca de la playa, ofreciendo un fácil acceso a las actividades', 'etiquetas': 'Vistas al mar'}, {'id': '102663499', 'enlace': '/inmueble/102663499/', 'titulo': \"Piso en Forcall, Torre Bellver - La Renegá - Les Platgete'S, Oropesa del Mar\", 'precio': '349.000€', 'detalles': '3 hab. | 115 m² | Planta 1ª exterior con ascensor', 'descripcion': 'Espectacular apartamento con vistas al Mar a 5 minutos del Hotel Voramar en BenicassimDisfrutar, unos días, unas vacaciones, una temporada larga, durante todo el año, sea cual sea su elección, usted dispone de todos los servicios y más en Benicassim.\\nBenicàssim cuenta con un clima y una orografía excelentes que le permiten ofrecer una amplia oferta de actividades deportivas durante todo el año. Tanto si', 'etiquetas': 'Vistas al mar'}, {'id': '94575061', 'enlace': '/inmueble/94575061/', 'titulo': \"Casa o chalet independiente en Tombatossals, Torre Bellver - La Renegá - Les Platgete'S, Oropesa del Mar\", 'precio': '775.000€', 'detalles': '6 hab. | 365 m²', 'descripcion': 'Espectacular propiedad en la exclusiva Urbanización Torrebellver a 5 minutos del Hotel VoramarEsta exclusiva propiedad situada en Torrebellver a 5 minutos de la Plata de Las Playetas y con magnificas vistas al mar, ofrece un generoso espacio tanto como para querer convertirla en su residencia habitual y disfrutar del mar y del bosque mediterráneo a tan solo 5 minutos de Benicassim y a 15 minutos de Castellón.\\nE', 'etiquetas': 'Vistas al mar | Villa'}, {'id': '106411759', 'enlace': '/inmueble/106411759/', 'titulo': 'Piso en plaza de Mallorca, s/n, Zona Playa Morro de Gos, Oropesa del Mar', 'precio': '390.000€', 'detalles': '3 hab. | 128 m² | Bajo exterior con ascensor', 'descripcion': 'Apartamento en Primera Línea de Playa en Urbanización Playa Blanca, Oropesa del Mar\\nEste exclusivo apartamento, ubicado en la Urbanización Playa Blanca en Oropesa del Mar, ofrece una experiencia única junto al mar. Situado en primera línea de playa y orientado al este, permite disfrutar de los impresionantes amanecere', 'etiquetas': 'Vistas al mar'}, {'id': '106729235', 'enlace': '/inmueble/106729235/', 'titulo': 'Casa o chalet independiente en El Balcó - Jaume I, Oropesa del Mar', 'precio': '675.000€', 'detalles': '5 hab. | 359 m²', 'descripcion': '¡Vive el lujo y la tranquilidad en El Balcó de Oropesa del Mar!\\nTe presentamos un chalet independiente que lo tiene todo: piscina privada, un cuidado jardín, y unas vistas inigualables al mar y la montaña. Cada rincón de esta vivienda está diseñado para ofrecer comodidad, luz natural y un ambiente acogedor que invita a', 'etiquetas': 'Vistas al mar'}, {'id': '106615417', 'enlace': '/inmueble/106615417/', 'titulo': 'Piso en Vista Mar, Oropesa del Mar', 'precio': '218.000€', 'detalles': '2 hab. | 95 m² | Planta 3ª exterior con ascensor', 'descripcion': 'Te presentamos este exclusivo apartamento frontal en un entorno privilegiado. Situado en primera línea de mar, este luminoso piso cuenta con dos amplias terrazas que te permitirán disfrutar de vistas espectaculares y momentos inolvidables.\\nAccede a la primera terraza desde el salón, donde podrás contemplar el horizont', 'etiquetas': ''}, {'id': '106038098', 'enlace': '/inmueble/106038098/', 'titulo': 'Casa o chalet independiente en El Balcó - Jaume I, Oropesa del Mar', 'precio': '626.000€', 'detalles': '4 hab. | 320 m²', 'descripcion': 'Vendemos esta Villa en El Balcó. Ubicada sobre parcela de 930 metros cuadrados. Se distribuye en tres plantas, en total 320 metros cuadrados construidos. Con piscina privada, jardín, zona de barbacoa, varias terrazas y diferentes ambientes en el exterior.\\nCon una distribución muy cómoda, la planta baja tiene despacho,', 'etiquetas': 'Villa'}, {'id': '107865692', 'enlace': '/inmueble/107865692/', 'titulo': 'Chalet adosado en avenida Jaime I, El Balcó - Jaume I, Oropesa del Mar', 'precio': '189.000€', 'detalles': '2 hab. | 90 m²', 'descripcion': 'Encantador Adosado en Venta en Avenida Jaime I\\nEn venta encantador adosado con entrada independiente, ubicado en una urbanización privada en Oropesa del Mar.\\nLa vivienda se distribuye en dos plantas. En la planta baja, cuenta con una cocina americana, un cuarto de almacenaje, un aseo y un amplio salón-comedor que da a', 'etiquetas': ''}, {'id': '107031031', 'enlace': '/inmueble/107031031/', 'titulo': 'Chalet adosado en calle del Port de Querol, El Balcó - Jaume I, Oropesa del Mar', 'precio': '289.000€', 'detalles': '3 hab. | 174 m²', 'descripcion': 'Estupendo adosado en residencial en Oropesa\\nSe vende espectacular y elegante adosado de tres plantas con garaje, ubicado en Oropesa del Mar, en la calle Port de Querol. Esta vivienda, con un diseño moderno y acabados de alta calidad, destaca por su estilo único y sofisticado, convirtiéndola en una auténtica joya. Cada', 'etiquetas': ''}, {'id': '103184253', 'enlace': '/inmueble/103184253/', 'titulo': 'Casa o chalet independiente en calle Traginers Arrieros, 370, El Balcó - Jaume I, Oropesa del Mar', 'precio': '600.000€', 'detalles': '5 hab. | 380 m²', 'descripcion': '¡Descubre la joya del Mediterráneo en Oropesa del Mar! Esta exclusiva villa ofrece un diseño moderno fusionado con la calidez del estilo mediterráneo, ubicada en uno de los enclaves más bellos de la Costa. Con 380 m² construidos sobre una parcela de 650 m², esta propiedad te brinda amplios espacios abiertos y luminosos', 'etiquetas': ''}, {'id': '105679188', 'enlace': '/inmueble/105679188/', 'titulo': \"Piso en calle d'Alacant, 12, Zona Playa Morro de Gos, Oropesa del Mar\", 'precio': '104.900€', 'detalles': '1 hab. | 52 m² | Bajo exterior con ascensor', 'descripcion': 'Se vende apartamento a escasos metros de la playa de la Morro de Gos. La vivienda consta de terraza delantera que da acceso independiente a la vivienda, amplio salón-comedor con grandes ventanales y cocina office, una habitación doble, un aseo, un baño con plato de ducha y una terraza trasera cubierta que hace el papel', 'etiquetas': 'Apartamento'}, {'id': '93332264', 'enlace': '/inmueble/93332264/', 'titulo': \"Casa o chalet independiente en calle Urbanización Las Playetas de Bellver, 150 D, Torre Bellver - La Renegá - Les Platgete'S, Oropesa del Mar\", 'precio': '1.195.000€', 'detalles': '9 hab. | 801 m²', 'descripcion': 'Espectacular propiedad en la exclusiva Urbanización Las Playetas a 5 minutos del Hotel VoramarEsta exclusiva propiedad situada en la parte alta de Playetas y con magnificas vistas al mar, ofrece un generoso espacio tanto como para querer convertirla en su residencia habitual y disfrutar del mar y del bosque mediterráneo a tan solo 5 minutos de Benicassim y a 15 minutos de Castellón.\\nEn la planta entrada, la cas', 'etiquetas': 'Vistas al mar | Villa'}, {'id': '90482546', 'enlace': '/inmueble/90482546/', 'titulo': \"Casa o chalet independiente en Playetas, s/n, Torre Bellver - La Renegá - Les Platgete'S, Oropesa del Mar\", 'precio': '850.000€', 'detalles': '6 hab. | 528 m²', 'descripcion': 'ESPECTACULAR VILLA INDIVIDUAL CON VISTAS AL MAR TOTALMENTE REFORMADA CON ACABADOS DE ALTA CALIDADMAGNIFICAS VISTAS AL MAR DESDE ESTA ÚNICA PROPIEDAD SITUADA EN LA EXCLUSIVA URBANIZACIÓN LAS PLAYETAS\\nUn original edificio construido en la montaña, totalmente reformado y acondicionado para que junto a las inmejorables vistas al mar, haga de esta vivienda una casa de ensueños.\\nLa propiedad consta de 4 dormitorios más', 'etiquetas': 'Vistas al mar | Villa'}, {'id': '107631252', 'enlace': '/inmueble/107631252/', 'titulo': 'Chalet adosado en El Balcó - Jaume I, Oropesa del Mar', 'precio': '285.000€', 'detalles': '3 hab. | 176 m²', 'descripcion': 'Espectacular Adosado de Tres Plantas con Zona Chillout Privada en Oropesa del Mar\\nSe vende espectacular adosado de tres plantas, ubicado en un entorno privilegiado de Oropesa del Mar, a pocos minutos de la playa de La Concha. Esta moderna propiedad, con acabados de alta calidad, destaca por su estilo único y sofisticad', 'etiquetas': ''}, {'id': '107548280', 'enlace': '/inmueble/107548280/', 'titulo': 'Ático en avenida Central, 22, Costa Marfil, Oropesa del Mar', 'precio': '142.000€', 'detalles': '2 hab. | 178 m² | Planta 5ª exterior con ascensor', 'descripcion': 'Exclusivo Apartamento con Gran Terraza de 50 m² en Magic World – Oropesa del Mar\\nDescubre este magnífico apartamento de 2 habitaciones y 1 baño, ubicado en la quinta planta del exclusivo complejo Magic World, en segunda línea de playa en Oropesa del Mar. Su punto fuerte es, sin duda, su impresionante terraza de 50 m²', 'etiquetas': ''}, {'id': '106220906', 'enlace': '/inmueble/106220906/', 'titulo': 'Dúplex en Balneario, Oropesa del Mar', 'precio': '169.900€', 'detalles': '2 hab. | 67 m² | Planta 2ª exterior sin ascensor', 'descripcion': 'PISO REFORMADO CON LICENCIA TURISTICA Y VISTAS AL MAR\\naProperties tiene el gusto de presentarles esta preciosa propiedad, situada en una ubicación privilegiada cerca de la playa, ha sido completamente reformada con un diseño elegante y moderno, lista para ofrecer un estilo de vida único en un entorno exclusivo.\\nAl e', 'etiquetas': 'Vistas al mar'}, {'id': '107801313', 'enlace': '/inmueble/107801313/', 'titulo': 'Piso en Acapulco, Oropesa del Mar', 'precio': '208.500€', 'detalles': '3 hab. | 98 m² | Planta 1ª exterior con ascensor', 'descripcion': 'CASAGENCIA INMOBILIARIA VENDE. , apartamento de tres habitaciones dos baños, uno de ellos en suite, reformado y equipado con plaza de garaje en sótano cubierto.\\nEl apartamento nos recibe con un amplio salón abierto a una estupenda terraza con vistas despejadas desde donde vemos el mar y la montaña. La terraza con suel', 'etiquetas': 'Vistas al mar'}, {'id': '106361932', 'enlace': '/inmueble/106361932/', 'titulo': 'Piso en plaza de Mallorca, Zona Playa Morro de Gos, Oropesa del Mar', 'precio': '420.000€', 'detalles': '3 hab. | 121 m² | Bajo con ascensor', 'descripcion': 'BAJADA DE PRECIO!\\nEspectacular apartamento de lujo prácticamente nuevo, listo para entrar a vivir, construido hace tan sólo dos años, vistas al mar, primera línea de playa, se vende completamente equipado, cocina integrada con el salón comedor y salida a una espléndida terraza, una habitación individual, otra habitació', 'etiquetas': 'Vistas al mar'}, {'id': '107110601', 'enlace': '/inmueble/107110601/', 'titulo': 'Piso en avenida Central, Costa Azahar, Oropesa del Mar', 'precio': '127.000€', 'detalles': '2 hab. | 110 m² | Bajo con ascensor', 'descripcion': '¡No pierdas la oportunidad de adquirir este acogedor apartamento en Marina D´or, Oropesa Del Mar! Con 2 dormitorios, 1 baño y una amplia terraza para disfrutar del clima mediterráneo. Este inmueble de 110m2 está en excelente estado y se vende totalmente amueblado, incluyendo una cocina equipada con electrodomésticos. A', 'etiquetas': ''}, {'id': '104402421', 'enlace': '/inmueble/104402421/', 'titulo': 'Piso en calle Amplaries, 9, Miramar - Sol Park, Oropesa del Mar', 'precio': '240.000€', 'detalles': '2 hab. | 74 m² | Planta 4ª exterior con ascensor', 'descripcion': '¡Increíble oportunidad de adquirir un exclusivo piso en PRIMERA LÍNEA DE PLAYA en la codiciada zona de Magic World!\\nEsta espectacular propiedad de 74 metros cuadrados se encuentra a tan solo 50 metros de la playa, en la prestigiosa urbanización Miramar. Disfruta de comodidades como conserje, videoportero, jardines exub', 'etiquetas': 'Vistas al mar'}, {'id': '101619669', 'enlace': '/inmueble/101619669/', 'titulo': 'Piso en calle de Laura de Cervellón, 16, Zona Centro, Oropesa del Mar', 'precio': '207.260€', 'detalles': '3 hab. | 137 m² | Planta 3ª exterior con ascensor', 'descripcion': 'Inmobiliaria Danila presenta un apartamento ideal para vivir todo el año.\\nEste apartamiento esta situado en frente del ayuntamiento de Oropesa del Mar.\\nCerca de todos los servicios tienda, supermercado, bares, bancos, restaurantes, etc.\\nConstrucción del año 2005. Superficie construida 157 metros cuadrados de allí 137 m', 'etiquetas': 'Vistas al mar'}, {'id': '102146350', 'enlace': '/inmueble/102146350/', 'titulo': \"Casa o chalet independiente en Torre Bellver - La Renegá - Les Platgete'S, Oropesa del Mar\", 'precio': '260.000€', 'detalles': '3 hab. | 93 m²', 'descripcion': '¡Atención, amantes del mar y la buena vida!\\n¿Buscas un rincón especial junto a la playa donde disfrutar con los tuyos? Te presentamos esta magnífica villa individual en Oropesa del Mar, ubicada en residencial privado y a tan solo 50 metros de la arena. ¡Olvídate del coche y baja a la playa en chanclas!\\nLa vivienda, en', 'etiquetas': ''}, {'id': '104486509', 'enlace': '/inmueble/104486509/', 'titulo': 'Piso en calle dels Terrers, Miramar - Sol Park, Oropesa del Mar', 'precio': '175.000€', 'detalles': '3 hab. | 126 m² | Planta 7ª con ascensor', 'descripcion': \"REF 3653\\nExcelente oportunidad de adquirir en propiedad este magnífico piso ubicado en Marina D'Or, Oropesa Del Mar.\\nSe trata de una vivienda de 126m2 construidos bien distribuidos en amplio salón comedor con salida a una terraza con vistas increíbles al mar y montaña, cocina independiente, un cuarto de baño completo\", 'etiquetas': 'Vistas al mar'}, {'id': '107524894', 'enlace': '/inmueble/107524894/', 'titulo': \"Casa o chalet independiente en calle Tombatossals, Torre Bellver - La Renegá - Les Platgete'S, Oropesa del Mar\", 'precio': '775.000€', 'detalles': '5 hab. | 305 m²', 'descripcion': 'Exclusividad y vistas en una de las mejores zonas de la costa\\nSituada en Torre Bellver, una de las áreas más exclusivas de la costa de Oropesa, esta villa independiente ofrece un entorno tranquilo, privacidad y la comodidad de estar a solo unos minutos de la playa. Su amplio solar ajardinado y sus diferentes niveles c', 'etiquetas': 'Vistas al mar | Villa'}]\n"
     ]
    }
   ],
   "source": [
    "paginacion = 1\n",
    "ids = []\n",
    "resultados = []\n",
    "# while True:\n",
    "while paginacion == 1:\n",
    "    print('Página: ', paginacion)\n",
    "    url = f'{URL_INICIAL_LISTADO}{\"pagina-\" + str(paginacion) + \".htm\" if paginacion > 1 else \"\"}'\n",
    "    browser.get(url)\n",
    "    time.sleep(random.randint(8, 12))\n",
    "\n",
    "    # Trata de marcar el sí en la información de cookies\n",
    "    try:\n",
    "        browser.find_element(\"xpath\", '//*[@id=\"didomi-notice-agree-button\"]').click()\n",
    "    except:\n",
    "        pass\n",
    "\n",
    "    html = browser.page_source\n",
    "    soup = bs(html, 'html.parser')\n",
    "\n",
    "    pagina_actual = int(soup.find('main', {'class': 'listing-items'}).find('div', {'class': 'pagination'}).find('li', {'class': 'selected'}).text)\n",
    "    if paginacion == pagina_actual:\n",
    "        # articles = soup.find('main', {'class': 'listing-items'}).find_all('article')\n",
    "        articles = soup.find('main', {'class': 'listing-items'}).find_all('article', attrs={'data-element-id': True})\n",
    "    else:\n",
    "        break\n",
    "\n",
    "    paginacion += 1\n",
    "\n",
    "\n",
    "for article in articles:\n",
    "    # ID del artículo\n",
    "    element_id = article.get('data-element-id')\n",
    "\n",
    "    # Enlace y título\n",
    "    link_tag = article.find('a', class_='item-link')\n",
    "    enlace = link_tag.get('href') if link_tag else ''\n",
    "    titulo = link_tag.get('title') if link_tag else ''\n",
    "\n",
    "    # Precio\n",
    "    price_tag = article.find('span', class_='item-price')\n",
    "    precio = price_tag.get_text(strip=True) if price_tag else ''\n",
    "\n",
    "    # Detalles (habitaciones, m2, planta...)\n",
    "    detalles_tags = article.find_all('span', class_='item-detail')\n",
    "    detalles = ' | '.join([d.get_text(strip=True) for d in detalles_tags])\n",
    "\n",
    "    # Descripción\n",
    "    desc_tag = article.find('div', class_='item-description')\n",
    "    descripcion = desc_tag.get_text(strip=True) if desc_tag else ''\n",
    "\n",
    "    # Etiquetas (ej: Vistas al mar)\n",
    "    tag_container = article.find('div', class_='listing-tags-container')\n",
    "    etiquetas = ''\n",
    "    if tag_container:\n",
    "        etiquetas = ' | '.join([\n",
    "            tag.get_text(strip=True) for tag in tag_container.find_all('span', class_='listing-tags')\n",
    "        ])\n",
    "\n",
    "    # Diccionario final para este artículo\n",
    "    datos = {\n",
    "        'id': element_id,\n",
    "        'enlace': enlace,\n",
    "        'titulo': titulo,\n",
    "        'precio': precio,\n",
    "        'detalles': detalles,\n",
    "        'descripcion': descripcion,\n",
    "        'etiquetas': etiquetas\n",
    "    }\n",
    "\n",
    "    resultados.append(datos)\n",
    "print(resultados)\n",
    "\n",
    "\n",
    "\n",
    "\n",
    "    # for article in articles:\n",
    "    #     id_muebles = article.get('data-element-id')\n",
    "    #     ids.append(id_muebles)\n",
    "    #     print(id_muebles)\n",
    "    #     time.sleep(random.randint(1, 3))\n",
    "    # ids = [muebles for muebles in ids if muebles is not None]"
   ]
  },
  {
   "cell_type": "code",
   "execution_count": null,
   "id": "64328580",
   "metadata": {},
   "outputs": [],
   "source": [
    "df_resultados = pd.DataFrame(resultados)\n",
    "df_resultados\n"
   ]
  }
 ],
 "metadata": {
  "kernelspec": {
   "display_name": "dev-basico-3.12.7",
   "language": "python",
   "name": "python3"
  },
  "language_info": {
   "codemirror_mode": {
    "name": "ipython",
    "version": 3
   },
   "file_extension": ".py",
   "mimetype": "text/x-python",
   "name": "python",
   "nbconvert_exporter": "python",
   "pygments_lexer": "ipython3",
   "version": "3.12.7"
  }
 },
 "nbformat": 4,
 "nbformat_minor": 5
}
