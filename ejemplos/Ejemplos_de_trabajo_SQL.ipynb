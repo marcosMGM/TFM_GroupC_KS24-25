{
 "cells": [
  {
   "cell_type": "markdown",
   "metadata": {},
   "source": [
    "#### Dependencias"
   ]
  },
  {
   "cell_type": "code",
   "execution_count": 5,
   "metadata": {},
   "outputs": [],
   "source": [
    "import pyodbc\n",
    "import pandas as pd\n",
    "from credenciales_sqlserver import *"
   ]
  },
  {
   "cell_type": "markdown",
   "metadata": {},
   "source": [
    "#### Parámetros de la conexión"
   ]
  },
  {
   "cell_type": "markdown",
   "metadata": {},
   "source": [
    "- <i style=\"color:yellow\">Habría que comentar y descomentar la versión del driver que se encuentra instalado en el sistema donde va a correr el script o el notebook.</i>.\n",
    "- <i style=\"color:yellow\">Los datos de conexión (IP, usuario, clave, puerto) no pueden alterarse ya que corresponden a la configuración del servidor</i>"
   ]
  },
  {
   "cell_type": "code",
   "execution_count": 6,
   "metadata": {},
   "outputs": [],
   "source": [
    "\n",
    "\n",
    "connection_string = (\n",
    "    # f\"DRIVER={{ODBC Driver 17 for SQL Server}};\"\n",
    "    # f\"DRIVER={{ODBC Driver 18 for SQL Server}};\"\n",
    "    f\"DRIVER={{SQL Server}};\"\n",
    "    f\"SERVER={SERVER},{PORT};\"\n",
    "    f\"DATABASE={DATABASE};\"\n",
    "    f\"UID={USERNAME};\"\n",
    "    f\"PWD={PASSWORD}\"\n",
    ")\n"
   ]
  },
  {
   "cell_type": "markdown",
   "metadata": {},
   "source": [
    "Con la siguiente línea puedes ver los controladores que tienes instalados.\n",
    "\n",
    "<code>print(pyodbc.drivers())</code>"
   ]
  },
  {
   "cell_type": "markdown",
   "metadata": {},
   "source": [
    "#### Funciones típicas"
   ]
  },
  {
   "cell_type": "code",
   "execution_count": 7,
   "metadata": {},
   "outputs": [],
   "source": [
    "def get_connection():\n",
    "    return pyodbc.connect(connection_string)"
   ]
  },
  {
   "cell_type": "code",
   "execution_count": 8,
   "metadata": {},
   "outputs": [],
   "source": [
    "def crear_tabla():\n",
    "    with get_connection() as conn:\n",
    "        cursor = conn.cursor()\n",
    "        cursor.execute(\"\"\"\n",
    "            IF OBJECT_ID('Empleados', 'U') IS NULL\n",
    "            CREATE TABLE Empleados (\n",
    "                ID INT PRIMARY KEY IDENTITY(1,1),\n",
    "                Nombre NVARCHAR(100),\n",
    "                Edad INT\n",
    "            )\n",
    "        \"\"\")\n",
    "        conn.commit()\n",
    "    print(\"✅ Tabla 'Empleados' creada o ya existente.\")\n"
   ]
  },
  {
   "cell_type": "code",
   "execution_count": 9,
   "metadata": {},
   "outputs": [],
   "source": [
    "def insertar_empleado(nombre, edad):\n",
    "    with get_connection() as conn:\n",
    "        cursor = conn.cursor()\n",
    "        cursor.execute(\"INSERT INTO Empleados (Nombre, Edad) VALUES (?, ?)\", (nombre, edad))\n",
    "        conn.commit()\n",
    "    print(f\"✅ Insertado: {nombre}, {edad} años.\")\n"
   ]
  },
  {
   "cell_type": "code",
   "execution_count": 10,
   "metadata": {},
   "outputs": [],
   "source": [
    "def editar_empleado(id_empleado, nuevo_nombre, nueva_edad):\n",
    "    with get_connection() as conn:\n",
    "        cursor = conn.cursor()\n",
    "        cursor.execute(\"\"\"\n",
    "            UPDATE Empleados\n",
    "            SET Nombre = ?, Edad = ?\n",
    "            WHERE ID = ?\n",
    "        \"\"\", (nuevo_nombre, nueva_edad, id_empleado))\n",
    "        conn.commit()\n",
    "    print(f\"✏️ Empleado con ID {id_empleado} actualizado.\")\n"
   ]
  },
  {
   "cell_type": "code",
   "execution_count": 11,
   "metadata": {},
   "outputs": [],
   "source": [
    "def eliminar_empleado(id_empleado):\n",
    "    with get_connection() as conn:\n",
    "        cursor = conn.cursor()\n",
    "        cursor.execute(\"DELETE FROM Empleados WHERE ID = ?\", (id_empleado,))\n",
    "        conn.commit()\n",
    "    print(f\"🗑️ Empleado con ID {id_empleado} eliminado.\")\n"
   ]
  },
  {
   "cell_type": "code",
   "execution_count": 12,
   "metadata": {},
   "outputs": [],
   "source": [
    "def eliminar_tabla():\n",
    "    with get_connection() as conn:\n",
    "        cursor = conn.cursor()\n",
    "        cursor.execute(\"DROP TABLE IF EXISTS Empleados\")\n",
    "        conn.commit()\n",
    "    print(\"💥 Tabla 'Empleados' eliminada si existía.\")\n"
   ]
  },
  {
   "cell_type": "code",
   "execution_count": null,
   "metadata": {},
   "outputs": [],
   "source": [
    "def listar_empleados():\n",
    "    with get_connection() as conn:\n",
    "        cursor = conn.cursor()\n",
    "        cursor.execute(\"SELECT * FROM Empleados\")\n",
    "        for row in cursor.fetchall():\n",
    "            print(f\"ID: {row.ID}, Nombre: {row.Nombre}, Edad: {row.Edad}\")\n",
    "\n"
   ]
  },
  {
   "cell_type": "code",
   "execution_count": 14,
   "metadata": {},
   "outputs": [],
   "source": [
    "def pd_from_tabla(tabla):\n",
    "    with get_connection() as conn:\n",
    "        query = f\"SELECT * FROM {tabla}\"\n",
    "        df = pd.read_sql(query, conn)\n",
    "    return df"
   ]
  },
  {
   "cell_type": "markdown",
   "metadata": {},
   "source": [
    "#### Ejecución del código"
   ]
  },
  {
   "cell_type": "code",
   "execution_count": 34,
   "metadata": {},
   "outputs": [
    {
     "name": "stdout",
     "output_type": "stream",
     "text": [
      "✅ Tabla 'Empleados' creada o ya existente.\n"
     ]
    }
   ],
   "source": [
    "crear_tabla()"
   ]
  },
  {
   "cell_type": "code",
   "execution_count": 15,
   "metadata": {},
   "outputs": [
    {
     "name": "stdout",
     "output_type": "stream",
     "text": [
      "✅ Insertado: Juan Pérez, 30 años.\n",
      "✅ Insertado: Ana Gómez, 25 años.\n",
      "✅ Insertado: Luis Rodríguez, 40 años.\n",
      "✅ Insertado: María López, 28 años.\n",
      "✅ Insertado: Carlos Sánchez, 35 años.\n"
     ]
    }
   ],
   "source": [
    "insertar_empleado(\"Juan Pérez\", 30)\n",
    "insertar_empleado(\"Ana Gómez\", 25) \n",
    "insertar_empleado(\"Luis Rodríguez\", 40)\n",
    "insertar_empleado(\"María López\", 28)\n",
    "insertar_empleado(\"Carlos Sánchez\", 35)"
   ]
  },
  {
   "cell_type": "code",
   "execution_count": 12,
   "metadata": {},
   "outputs": [
    {
     "name": "stdout",
     "output_type": "stream",
     "text": [
      "ID: 1, Nombre: Juan Pérez, Edad: 30\n",
      "ID: 2, Nombre: Ana Gómez, Edad: 25\n",
      "ID: 3, Nombre: Luis Rodríguez, Edad: 40\n",
      "ID: 4, Nombre: María López, Edad: 28\n",
      "ID: 5, Nombre: Carlos Sánchez, Edad: 35\n"
     ]
    }
   ],
   "source": [
    "listar_empleados()"
   ]
  }
 ],
 "metadata": {
  "kernelspec": {
   "display_name": "dev-basico-3.12.7",
   "language": "python",
   "name": "python3"
  },
  "language_info": {
   "codemirror_mode": {
    "name": "ipython",
    "version": 3
   },
   "file_extension": ".py",
   "mimetype": "text/x-python",
   "name": "python",
   "nbconvert_exporter": "python",
   "pygments_lexer": "ipython3",
   "version": "3.12.7"
  }
 },
 "nbformat": 4,
 "nbformat_minor": 2
}
