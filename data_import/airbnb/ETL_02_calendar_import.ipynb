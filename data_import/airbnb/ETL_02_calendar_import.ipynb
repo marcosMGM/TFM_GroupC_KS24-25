{
 "cells": [
  {
   "cell_type": "markdown",
   "id": "3c752874",
   "metadata": {},
   "source": [
    "## Bloque I\n",
    "Descomprimir el csv en formato gz"
   ]
  },
  {
   "cell_type": "code",
   "execution_count": null,
   "id": "262e5017",
   "metadata": {},
   "outputs": [],
   "source": [
    "\"\"\"  \n",
    "Importación de ficheros de AIRBNB. Preprocesado y cargado a la base de datos \n",
    "\n",
    "Obtenemos los datos desde https://insideairbnb.com/get-the-data/\n",
    "\n",
    "Podríamos hacer scraping, obtener la fecha de la última actualización de Madrid y generar el enlace para descargarlo, pero no es necesario por que se actualiza cada mucho tiempo y no es necesario tener la última versión. Podemos cambiar la info procesable en la carpeta data manualmente.\n",
    "\n",
    "\"\"\"\n",
    "import os\n",
    "import pandas as pd\n",
    "import numpy as np\n",
    "import datetime\n",
    "from config_bd import *\n",
    "import requests\n",
    "import sys\n",
    "import gzip\n",
    "import shutil\n",
    "\n",
    "DATA_DIR = os.path.join('data')\n",
    "# DATA_DIR = os.path.join(os.path.dirname(__file__), 'data')\n",
    "TEMP_DIR = os.path.join(DATA_DIR, 'TEMP')\n",
    "\n",
    "\n",
    "\"\"\" Comprobamos que existe el directorio de datos \"\"\"\n",
    "\n",
    "if not os.path.exists(DATA_DIR):\n",
    "    print(f\"El directorio {DATA_DIR} no existe. No es posible continuar...\")\n",
    "    sys.exit()\n",
    "\n",
    "\"\"\" Descomprimimos el archivo de calendario \"\"\"\n",
    "\n",
    "if not os.path.exists(TEMP_DIR):\n",
    "    os.makedirs(TEMP_DIR)\n",
    "\n",
    "\n",
    "gz_file_path = os.path.join(DATA_DIR, 'calendar.csv.gz')\n",
    "output_file_path = os.path.join(TEMP_DIR, os.path.splitext(os.path.basename(gz_file_path))[0])\n",
    "\n",
    "if os.path.exists(gz_file_path):\n",
    "    try:\n",
    "        with gzip.open(gz_file_path, 'rb') as f_in:\n",
    "            with open(output_file_path, 'wb') as f_out:\n",
    "                shutil.copyfileobj(f_in, f_out)\n",
    "        print(f\"Archivo {gz_file_path} descomprimido como {output_file_path}\")\n",
    "    except Exception as e:\n",
    "        print(f\"Error al descomprimir el archivo {gz_file_path}: {e}\")\n",
    "        sys.exit()\n",
    "else:\n",
    "    print(f\"El archivo {gz_file_path} no existe. No es posible continuar...\")\n",
    "    sys.exit()\n"
   ]
  },
  {
   "cell_type": "markdown",
   "id": "a3a46f5f",
   "metadata": {},
   "source": [
    "## Bloque II\n",
    "Carga del csv en pandas. Cambios de tipos e imputación"
   ]
  },
  {
   "cell_type": "markdown",
   "id": "d97d03e1",
   "metadata": {},
   "source": [
    "Estos son lo pasos seguidos:\n",
    "\n",
    "<ul>\n",
    "<li>Elimino el simbolo de la moneda y lo convierto a float.</li>\n",
    "<li>Convierto la disponibilidad de string a bool (0,1)</li>\n",
    "<li>Convierto las max y min nigths a enteros. Imputo los faltantas con las medianas de cada una.</li>\n",
    "<li>Elimino el precio ajustado.</li>\n",
    "<li>Renombro el listing_id a property_id</li>\n",
    "</ul>"
   ]
  },
  {
   "cell_type": "code",
   "execution_count": null,
   "id": "2203c114",
   "metadata": {},
   "outputs": [],
   "source": [
    "df = pd.read_csv(output_file_path, low_memory=False)"
   ]
  },
  {
   "cell_type": "code",
   "execution_count": null,
   "id": "1bb399fc",
   "metadata": {},
   "outputs": [],
   "source": [
    "df['price'] = df['price'].replace({'\\$': '', ',': ''}, regex=True).astype(float)\n",
    "df['price'] = df['price'].fillna(0)\n",
    "df['available'] = df['available'].replace({'t': 1, 'f': 0})\n",
    "df['minimum_nights'] = df['minimum_nights'].fillna(df['minimum_nights'].median()).astype(int)\n",
    "df['maximum_nights'] = df['maximum_nights'].fillna(df['maximum_nights'].median()).astype(int)\n",
    "df = df.drop(columns=['adjusted_price'])\n",
    "df = df.rename(columns={'listing_id': 'property_id'})\n",
    "# df['fecha'] = pd.to_datetime(df['fecha'], format='%Y-%m-%d')"
   ]
  },
  {
   "cell_type": "markdown",
   "id": "8985a3d8",
   "metadata": {},
   "source": [
    "Cargamos el fichero de listings ya transformado para conocer qué propiedades debemos descartar del calendar y por lo tanto no las llevamos a la base de datos."
   ]
  },
  {
   "cell_type": "code",
   "execution_count": null,
   "id": "ad842ecb",
   "metadata": {},
   "outputs": [],
   "source": [
    "listings = pd.read_csv(os.path.join(TEMP_DIR,'transform_listings.csv'))\n",
    "properties = set(listings['property_id'].unique())\n",
    "print(f\"El número de propiedades en fichero de listings transformado es: {len(properties)}\")"
   ]
  },
  {
   "cell_type": "code",
   "execution_count": null,
   "id": "4bf05ba7",
   "metadata": {},
   "outputs": [],
   "source": [
    "print(f\"El número de propiedades en el calendar es: {len(df['property_id'].unique())}, con un total de {df['property_id'].count()} registros\")"
   ]
  },
  {
   "cell_type": "code",
   "execution_count": null,
   "id": "26bee1c2",
   "metadata": {},
   "outputs": [],
   "source": [
    "df = df[df[\"property_id\"].isin(properties)].copy()"
   ]
  },
  {
   "cell_type": "code",
   "execution_count": null,
   "id": "b1b8e408",
   "metadata": {},
   "outputs": [],
   "source": [
    "print(f\"El número de propiedades en el calendar filtrado es: {len(df['property_id'].unique())}, con un total de {df['property_id'].count()} registros\")"
   ]
  },
  {
   "cell_type": "markdown",
   "id": "9d9db15b",
   "metadata": {},
   "source": [
    "## Bloque III\n",
    "Importamos a la base de datos. \n",
    "**Requiere haber creado la tabla, dejo el script que he utilizado para su creación en la ruta** <code>sql_querys/02_CREATE TABLE bnb_calendar.sql</code>"
   ]
  },
  {
   "cell_type": "code",
   "execution_count": null,
   "id": "f7f5e8d3",
   "metadata": {},
   "outputs": [],
   "source": [
    "from config_bd import get_connection"
   ]
  },
  {
   "cell_type": "code",
   "execution_count": null,
   "id": "d6b130ab",
   "metadata": {},
   "outputs": [],
   "source": [
    "df.to_csv(os.path.join(TEMP_DIR,'transform_calendar.csv'), index=False)"
   ]
  },
  {
   "cell_type": "markdown",
   "id": "a99c6280",
   "metadata": {},
   "source": [
    "🌡️ **La carga a la base de datos del servidor por bloques tarda de 5 a 10 minutos** 🌡️\n",
    "\n",
    "*Ya está cargado en la base de datos, sino hacemos cambios no sería necesario volverlo a correr. (después de filtrar quedan +6.000.000 registros)*.\n",
    "\n",
    "Si se resube hacer un truncate a la table ya que tiene PK en [property_id, date], no se manejan conflictos en este proceso por lo que se rompería, si bien he hecho un groupby y no se dan dates duplicadas para el mismo property_id"
   ]
  },
  {
   "cell_type": "code",
   "execution_count": null,
   "id": "a53d4582",
   "metadata": {},
   "outputs": [],
   "source": [
    "from tqdm import tqdm  #con esta lib itero sobre el dataframe y muestro el progreso.\n",
    "\n",
    "with get_connection() as conn:\n",
    "    cursor = conn.cursor()\n",
    "    cursor.fast_executemany = True \n",
    "\n",
    "    CHUNKSIZE = 100000\n",
    "    for chunk in tqdm(\n",
    "        pd.read_csv(os.path.join(TEMP_DIR, 'transform_calendar.csv'), chunksize=CHUNKSIZE),\n",
    "        unit_scale=CHUNKSIZE, unit=\" filas\"\n",
    "    ):\n",
    "\n",
    "        insert_sql = \"\"\"\n",
    "        INSERT INTO dbo.bnb_calendar\n",
    "            (property_id, [date], available, price,\n",
    "            minimum_nights, maximum_nights)\n",
    "        VALUES (?,?,?,?,?,?)\n",
    "        \"\"\"\n",
    "        cursor.executemany(insert_sql, chunk.values.tolist())\n",
    "        conn.commit()        \n",
    "\n",
    "\n"
   ]
  },
  {
   "cell_type": "markdown",
   "id": "01226f75",
   "metadata": {},
   "source": [
    "Elimino el fichero para no dejar duplicado el csv"
   ]
  },
  {
   "cell_type": "code",
   "execution_count": null,
   "id": "3f712a80",
   "metadata": {},
   "outputs": [],
   "source": [
    "os.remove(os.path.join(TEMP_DIR,'transform_calendar.csv'))"
   ]
  }
 ],
 "metadata": {
  "kernelspec": {
   "display_name": "tfm",
   "language": "python",
   "name": "python3"
  },
  "language_info": {
   "codemirror_mode": {
    "name": "ipython",
    "version": 3
   },
   "file_extension": ".py",
   "mimetype": "text/x-python",
   "name": "python",
   "nbconvert_exporter": "python",
   "pygments_lexer": "ipython3",
   "version": "3.9.21"
  }
 },
 "nbformat": 4,
 "nbformat_minor": 5
}
