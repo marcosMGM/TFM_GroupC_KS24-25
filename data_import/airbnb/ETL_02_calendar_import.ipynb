{
 "cells": [
  {
   "cell_type": "markdown",
   "id": "3c752874",
   "metadata": {},
   "source": [
    "## Bloque I\n",
    "Descomprimir el csv en formato gz"
   ]
  },
  {
   "cell_type": "code",
   "execution_count": 27,
   "id": "262e5017",
   "metadata": {},
   "outputs": [
    {
     "name": "stdout",
     "output_type": "stream",
     "text": [
      "Archivo data\\calendar.csv.gz descomprimido como data\\TEMP\\calendar.csv\n"
     ]
    }
   ],
   "source": [
    "\"\"\"  \n",
    "Importación de ficheros de AIRBNB. Preprocesado y cargado a la base de datos \n",
    "\n",
    "Obtenemos los datos desde https://insideairbnb.com/get-the-data/\n",
    "\n",
    "Podríamos hacer scraping, obtener la fecha de la última actualización de Madrid y generar el enlace para descargarlo, pero no es necesario por que se actualiza cada mucho tiempo y no es necesario tener la última versión. Podemos cambiar la info procesable en la carpeta data manualmente.\n",
    "\n",
    "\"\"\"\n",
    "import os\n",
    "import pandas as pd\n",
    "import numpy as np\n",
    "import datetime\n",
    "from config_bd import *\n",
    "import requests\n",
    "import sys\n",
    "import gzip\n",
    "import shutil\n",
    "\n",
    "DATA_DIR = os.path.join('data')\n",
    "# DATA_DIR = os.path.join(os.path.dirname(__file__), 'data')\n",
    "TEMP_DIR = os.path.join(DATA_DIR, 'TEMP')\n",
    "\n",
    "\n",
    "\"\"\" Comprobamos que existe el directorio de datos \"\"\"\n",
    "\n",
    "if not os.path.exists(DATA_DIR):\n",
    "    print(f\"El directorio {DATA_DIR} no existe. No es posible continuar...\")\n",
    "    sys.exit()\n",
    "\n",
    "\"\"\" Descomprimimos el archivo de calendario \"\"\"\n",
    "\n",
    "if not os.path.exists(TEMP_DIR):\n",
    "    os.makedirs(TEMP_DIR)\n",
    "\n",
    "\n",
    "gz_file_path = os.path.join(DATA_DIR, 'calendar.csv.gz')\n",
    "output_file_path = os.path.join(TEMP_DIR, os.path.splitext(os.path.basename(gz_file_path))[0])\n",
    "\n",
    "if os.path.exists(gz_file_path):\n",
    "    try:\n",
    "        with gzip.open(gz_file_path, 'rb') as f_in:\n",
    "            with open(output_file_path, 'wb') as f_out:\n",
    "                shutil.copyfileobj(f_in, f_out)\n",
    "        print(f\"Archivo {gz_file_path} descomprimido como {output_file_path}\")\n",
    "    except Exception as e:\n",
    "        print(f\"Error al descomprimir el archivo {gz_file_path}: {e}\")\n",
    "        sys.exit()\n",
    "else:\n",
    "    print(f\"El archivo {gz_file_path} no existe. No es posible continuar...\")\n",
    "    sys.exit()\n"
   ]
  },
  {
   "cell_type": "markdown",
   "id": "a3a46f5f",
   "metadata": {},
   "source": [
    "## Bloque II\n",
    "Carga del csv en pandas. Cambios de tipos e imputación"
   ]
  },
  {
   "cell_type": "markdown",
   "id": "d97d03e1",
   "metadata": {},
   "source": [
    "Estos son lo pasos seguidos:\n",
    "\n",
    "<ul>\n",
    "<li>Elimino el simbolo de la moneda y lo convierto a float.</li>\n",
    "<li>Convierto la disponibilidad de string a bool (0,1)</li>\n",
    "<li>Convierto las max y min nigths a enteros. Imputo los faltantas con las medianas de cada una.</li>\n",
    "<li>Elimino el precio ajustado.</li>\n",
    "<li>Renombro el listing_id a property_id</li>\n",
    "</ul>"
   ]
  },
  {
   "cell_type": "code",
   "execution_count": 28,
   "id": "2203c114",
   "metadata": {},
   "outputs": [],
   "source": [
    "df = pd.read_csv(output_file_path, low_memory=False)"
   ]
  },
  {
   "cell_type": "code",
   "execution_count": 29,
   "id": "1bb399fc",
   "metadata": {},
   "outputs": [
    {
     "name": "stderr",
     "output_type": "stream",
     "text": [
      "C:\\Users\\dsantamaria\\AppData\\Local\\Temp\\ipykernel_16060\\1973130110.py:3: FutureWarning: Downcasting behavior in `replace` is deprecated and will be removed in a future version. To retain the old behavior, explicitly call `result.infer_objects(copy=False)`. To opt-in to the future behavior, set `pd.set_option('future.no_silent_downcasting', True)`\n",
      "  df['available'] = df['available'].replace({'t': 1, 'f': 0})\n"
     ]
    }
   ],
   "source": [
    "df['price'] = df['price'].replace({'\\$': '', ',': ''}, regex=True).astype(float)\n",
    "df['price'] = df['price'].fillna(0)\n",
    "df['available'] = df['available'].replace({'t': 1, 'f': 0})\n",
    "df['minimum_nights'] = df['minimum_nights'].fillna(df['minimum_nights'].median()).astype(int)\n",
    "df['maximum_nights'] = df['maximum_nights'].fillna(df['maximum_nights'].median()).astype(int)\n",
    "df = df.drop(columns=['adjusted_price'])\n",
    "df = df.rename(columns={'listing_id': 'property_id'})\n",
    "# df['fecha'] = pd.to_datetime(df['fecha'], format='%Y-%m-%d')"
   ]
  },
  {
   "cell_type": "code",
   "execution_count": 38,
   "id": "f7d6ae7c",
   "metadata": {},
   "outputs": [
    {
     "data": {
      "application/vnd.microsoft.datawrangler.viewer.v0+json": {
       "columns": [
        {
         "name": "index",
         "rawType": "int64",
         "type": "integer"
        },
        {
         "name": "property_id",
         "rawType": "int64",
         "type": "integer"
        },
        {
         "name": "date",
         "rawType": "object",
         "type": "string"
        },
        {
         "name": "available",
         "rawType": "int64",
         "type": "integer"
        },
        {
         "name": "price",
         "rawType": "float64",
         "type": "float"
        },
        {
         "name": "minimum_nights",
         "rawType": "int64",
         "type": "integer"
        },
        {
         "name": "maximum_nights",
         "rawType": "int64",
         "type": "integer"
        }
       ],
       "ref": "ff62794c-a6f5-4919-9dfe-15af83d92846",
       "rows": [
        [
         "730",
         "30320",
         "2024-09-11",
         "0",
         "65.0",
         "5",
         "180"
        ],
        [
         "1024",
         "30320",
         "2024-09-12",
         "0",
         "65.0",
         "5",
         "180"
        ],
        [
         "1025",
         "30320",
         "2024-09-13",
         "0",
         "65.0",
         "5",
         "180"
        ],
        [
         "1026",
         "30320",
         "2024-09-14",
         "0",
         "65.0",
         "5",
         "180"
        ],
        [
         "1027",
         "30320",
         "2024-09-15",
         "0",
         "65.0",
         "5",
         "180"
        ],
        [
         "1028",
         "30320",
         "2024-09-16",
         "0",
         "65.0",
         "5",
         "180"
        ],
        [
         "1029",
         "30320",
         "2024-09-17",
         "0",
         "65.0",
         "5",
         "180"
        ],
        [
         "1030",
         "30320",
         "2024-09-18",
         "0",
         "65.0",
         "5",
         "180"
        ],
        [
         "1031",
         "30320",
         "2024-09-19",
         "0",
         "65.0",
         "5",
         "180"
        ],
        [
         "1032",
         "30320",
         "2024-09-20",
         "0",
         "65.0",
         "5",
         "180"
        ],
        [
         "1033",
         "30320",
         "2024-09-21",
         "0",
         "65.0",
         "5",
         "180"
        ],
        [
         "1034",
         "30320",
         "2024-09-22",
         "0",
         "65.0",
         "5",
         "180"
        ],
        [
         "1035",
         "30320",
         "2024-09-23",
         "0",
         "65.0",
         "5",
         "180"
        ],
        [
         "1036",
         "30320",
         "2024-09-24",
         "0",
         "65.0",
         "5",
         "180"
        ],
        [
         "1037",
         "30320",
         "2024-09-25",
         "0",
         "65.0",
         "5",
         "180"
        ],
        [
         "1038",
         "30320",
         "2024-09-26",
         "0",
         "65.0",
         "5",
         "180"
        ],
        [
         "1039",
         "30320",
         "2024-09-27",
         "0",
         "65.0",
         "5",
         "180"
        ],
        [
         "1040",
         "30320",
         "2024-09-28",
         "0",
         "65.0",
         "5",
         "180"
        ],
        [
         "1041",
         "30320",
         "2024-09-29",
         "0",
         "65.0",
         "5",
         "180"
        ],
        [
         "1042",
         "30320",
         "2024-09-30",
         "0",
         "65.0",
         "5",
         "180"
        ],
        [
         "1043",
         "30320",
         "2024-10-01",
         "0",
         "65.0",
         "5",
         "180"
        ],
        [
         "1044",
         "30320",
         "2024-10-02",
         "0",
         "65.0",
         "5",
         "180"
        ],
        [
         "1045",
         "30320",
         "2024-10-03",
         "0",
         "65.0",
         "5",
         "180"
        ],
        [
         "1046",
         "30320",
         "2024-10-04",
         "0",
         "65.0",
         "5",
         "180"
        ],
        [
         "1047",
         "30320",
         "2024-10-05",
         "0",
         "65.0",
         "5",
         "180"
        ],
        [
         "1048",
         "30320",
         "2024-10-06",
         "0",
         "65.0",
         "5",
         "180"
        ],
        [
         "1049",
         "30320",
         "2024-10-07",
         "0",
         "65.0",
         "5",
         "180"
        ],
        [
         "1050",
         "30320",
         "2024-10-08",
         "0",
         "65.0",
         "5",
         "180"
        ],
        [
         "1051",
         "30320",
         "2024-10-09",
         "0",
         "65.0",
         "5",
         "180"
        ],
        [
         "1052",
         "30320",
         "2024-10-10",
         "0",
         "65.0",
         "5",
         "180"
        ],
        [
         "1053",
         "30320",
         "2024-10-11",
         "0",
         "65.0",
         "5",
         "180"
        ],
        [
         "1054",
         "30320",
         "2024-10-12",
         "0",
         "65.0",
         "5",
         "180"
        ],
        [
         "1055",
         "30320",
         "2024-10-13",
         "0",
         "65.0",
         "5",
         "180"
        ],
        [
         "1056",
         "30320",
         "2024-10-14",
         "0",
         "65.0",
         "5",
         "180"
        ],
        [
         "1057",
         "30320",
         "2024-10-15",
         "0",
         "65.0",
         "5",
         "180"
        ],
        [
         "1058",
         "30320",
         "2024-10-16",
         "0",
         "65.0",
         "5",
         "180"
        ],
        [
         "1059",
         "30320",
         "2024-10-17",
         "0",
         "65.0",
         "5",
         "180"
        ],
        [
         "1060",
         "30320",
         "2024-10-18",
         "0",
         "65.0",
         "5",
         "180"
        ],
        [
         "1061",
         "30320",
         "2024-10-19",
         "0",
         "65.0",
         "5",
         "180"
        ],
        [
         "1062",
         "30320",
         "2024-10-20",
         "0",
         "65.0",
         "5",
         "180"
        ],
        [
         "1063",
         "30320",
         "2024-10-21",
         "0",
         "65.0",
         "5",
         "180"
        ],
        [
         "1064",
         "30320",
         "2024-10-22",
         "0",
         "65.0",
         "5",
         "180"
        ],
        [
         "1065",
         "30320",
         "2024-10-23",
         "0",
         "65.0",
         "5",
         "180"
        ],
        [
         "1066",
         "30320",
         "2024-10-24",
         "0",
         "65.0",
         "5",
         "180"
        ],
        [
         "1067",
         "30320",
         "2024-10-25",
         "0",
         "65.0",
         "5",
         "180"
        ],
        [
         "1068",
         "30320",
         "2024-10-26",
         "0",
         "65.0",
         "5",
         "180"
        ],
        [
         "1069",
         "30320",
         "2024-10-27",
         "0",
         "65.0",
         "5",
         "180"
        ],
        [
         "1070",
         "30320",
         "2024-10-28",
         "0",
         "65.0",
         "5",
         "180"
        ],
        [
         "1071",
         "30320",
         "2024-10-29",
         "0",
         "65.0",
         "5",
         "180"
        ],
        [
         "1072",
         "30320",
         "2024-10-30",
         "0",
         "65.0",
         "5",
         "180"
        ]
       ],
       "shape": {
        "columns": 6,
        "rows": 5052330
       }
      },
      "text/html": [
       "<div>\n",
       "<style scoped>\n",
       "    .dataframe tbody tr th:only-of-type {\n",
       "        vertical-align: middle;\n",
       "    }\n",
       "\n",
       "    .dataframe tbody tr th {\n",
       "        vertical-align: top;\n",
       "    }\n",
       "\n",
       "    .dataframe thead th {\n",
       "        text-align: right;\n",
       "    }\n",
       "</style>\n",
       "<table border=\"1\" class=\"dataframe\">\n",
       "  <thead>\n",
       "    <tr style=\"text-align: right;\">\n",
       "      <th></th>\n",
       "      <th>property_id</th>\n",
       "      <th>date</th>\n",
       "      <th>available</th>\n",
       "      <th>price</th>\n",
       "      <th>minimum_nights</th>\n",
       "      <th>maximum_nights</th>\n",
       "    </tr>\n",
       "  </thead>\n",
       "  <tbody>\n",
       "    <tr>\n",
       "      <th>730</th>\n",
       "      <td>30320</td>\n",
       "      <td>2024-09-11</td>\n",
       "      <td>0</td>\n",
       "      <td>65.0</td>\n",
       "      <td>5</td>\n",
       "      <td>180</td>\n",
       "    </tr>\n",
       "    <tr>\n",
       "      <th>1024</th>\n",
       "      <td>30320</td>\n",
       "      <td>2024-09-12</td>\n",
       "      <td>0</td>\n",
       "      <td>65.0</td>\n",
       "      <td>5</td>\n",
       "      <td>180</td>\n",
       "    </tr>\n",
       "    <tr>\n",
       "      <th>1025</th>\n",
       "      <td>30320</td>\n",
       "      <td>2024-09-13</td>\n",
       "      <td>0</td>\n",
       "      <td>65.0</td>\n",
       "      <td>5</td>\n",
       "      <td>180</td>\n",
       "    </tr>\n",
       "    <tr>\n",
       "      <th>1026</th>\n",
       "      <td>30320</td>\n",
       "      <td>2024-09-14</td>\n",
       "      <td>0</td>\n",
       "      <td>65.0</td>\n",
       "      <td>5</td>\n",
       "      <td>180</td>\n",
       "    </tr>\n",
       "    <tr>\n",
       "      <th>1027</th>\n",
       "      <td>30320</td>\n",
       "      <td>2024-09-15</td>\n",
       "      <td>0</td>\n",
       "      <td>65.0</td>\n",
       "      <td>5</td>\n",
       "      <td>180</td>\n",
       "    </tr>\n",
       "    <tr>\n",
       "      <th>...</th>\n",
       "      <td>...</td>\n",
       "      <td>...</td>\n",
       "      <td>...</td>\n",
       "      <td>...</td>\n",
       "      <td>...</td>\n",
       "      <td>...</td>\n",
       "    </tr>\n",
       "    <tr>\n",
       "      <th>9846612</th>\n",
       "      <td>1242719768352447224</td>\n",
       "      <td>2025-09-06</td>\n",
       "      <td>0</td>\n",
       "      <td>515.0</td>\n",
       "      <td>31</td>\n",
       "      <td>330</td>\n",
       "    </tr>\n",
       "    <tr>\n",
       "      <th>9846613</th>\n",
       "      <td>1242719768352447224</td>\n",
       "      <td>2025-09-07</td>\n",
       "      <td>0</td>\n",
       "      <td>515.0</td>\n",
       "      <td>31</td>\n",
       "      <td>330</td>\n",
       "    </tr>\n",
       "    <tr>\n",
       "      <th>9846614</th>\n",
       "      <td>1242719768352447224</td>\n",
       "      <td>2025-09-08</td>\n",
       "      <td>0</td>\n",
       "      <td>515.0</td>\n",
       "      <td>31</td>\n",
       "      <td>330</td>\n",
       "    </tr>\n",
       "    <tr>\n",
       "      <th>9846615</th>\n",
       "      <td>1242719768352447224</td>\n",
       "      <td>2025-09-09</td>\n",
       "      <td>0</td>\n",
       "      <td>515.0</td>\n",
       "      <td>31</td>\n",
       "      <td>330</td>\n",
       "    </tr>\n",
       "    <tr>\n",
       "      <th>9846616</th>\n",
       "      <td>1242719768352447224</td>\n",
       "      <td>2025-09-10</td>\n",
       "      <td>0</td>\n",
       "      <td>515.0</td>\n",
       "      <td>31</td>\n",
       "      <td>330</td>\n",
       "    </tr>\n",
       "  </tbody>\n",
       "</table>\n",
       "<p>5052330 rows × 6 columns</p>\n",
       "</div>"
      ],
      "text/plain": [
       "                 property_id        date  available  price  minimum_nights  \\\n",
       "730                    30320  2024-09-11          0   65.0               5   \n",
       "1024                   30320  2024-09-12          0   65.0               5   \n",
       "1025                   30320  2024-09-13          0   65.0               5   \n",
       "1026                   30320  2024-09-14          0   65.0               5   \n",
       "1027                   30320  2024-09-15          0   65.0               5   \n",
       "...                      ...         ...        ...    ...             ...   \n",
       "9846612  1242719768352447224  2025-09-06          0  515.0              31   \n",
       "9846613  1242719768352447224  2025-09-07          0  515.0              31   \n",
       "9846614  1242719768352447224  2025-09-08          0  515.0              31   \n",
       "9846615  1242719768352447224  2025-09-09          0  515.0              31   \n",
       "9846616  1242719768352447224  2025-09-10          0  515.0              31   \n",
       "\n",
       "         maximum_nights  \n",
       "730                 180  \n",
       "1024                180  \n",
       "1025                180  \n",
       "1026                180  \n",
       "1027                180  \n",
       "...                 ...  \n",
       "9846612             330  \n",
       "9846613             330  \n",
       "9846614             330  \n",
       "9846615             330  \n",
       "9846616             330  \n",
       "\n",
       "[5052330 rows x 6 columns]"
      ]
     },
     "execution_count": 38,
     "metadata": {},
     "output_type": "execute_result"
    }
   ],
   "source": [
    "df"
   ]
  },
  {
   "cell_type": "markdown",
   "id": "8985a3d8",
   "metadata": {},
   "source": [
    "Cargamos el fichero de listings ya transformado para conocer qué propiedades debemos descartar del calendar y por lo tanto no las llevamos a la base de datos."
   ]
  },
  {
   "cell_type": "code",
   "execution_count": 30,
   "id": "ad842ecb",
   "metadata": {},
   "outputs": [
    {
     "name": "stdout",
     "output_type": "stream",
     "text": [
      "El número de propiedades en fichero de listings transformado es: 16805\n"
     ]
    }
   ],
   "source": [
    "listings = pd.read_csv(os.path.join(TEMP_DIR,'transform_listings.csv'))\n",
    "properties = set(listings['property_id'].unique())\n",
    "print(f\"El número de propiedades en fichero de listings transformado es: {len(properties)}\")"
   ]
  },
  {
   "cell_type": "code",
   "execution_count": 31,
   "id": "4bf05ba7",
   "metadata": {},
   "outputs": [
    {
     "name": "stdout",
     "output_type": "stream",
     "text": [
      "El número de propiedades en el calendar es: 26980, con un total de 9847608 registros\n"
     ]
    }
   ],
   "source": [
    "print(f\"El número de propiedades en el calendar es: {len(df['property_id'].unique())}, con un total de {df['property_id'].count()} registros\")"
   ]
  },
  {
   "cell_type": "code",
   "execution_count": 32,
   "id": "26bee1c2",
   "metadata": {},
   "outputs": [],
   "source": [
    "df = df[df[\"property_id\"].isin(properties)].copy()"
   ]
  },
  {
   "cell_type": "code",
   "execution_count": 33,
   "id": "b1b8e408",
   "metadata": {},
   "outputs": [
    {
     "name": "stdout",
     "output_type": "stream",
     "text": [
      "El número de propiedades en el calendar filtrado es: 13842, con un total de 5052330 registros\n"
     ]
    }
   ],
   "source": [
    "print(f\"El número de propiedades en el calendar filtrado es: {len(df['property_id'].unique())}, con un total de {df['property_id'].count()} registros\")"
   ]
  },
  {
   "cell_type": "code",
   "execution_count": 34,
   "id": "dceca627",
   "metadata": {},
   "outputs": [],
   "source": [
    "# group = df.groupby(['property_id','available']).agg({'date':'count'}).reset_index().sort_values(by=['property_id','available'], ascending=[True,True]).to_csv(os.path.join(TEMP_DIR,'calendar_grouped.csv'), index=False)   "
   ]
  },
  {
   "cell_type": "code",
   "execution_count": 35,
   "id": "c8e55561",
   "metadata": {},
   "outputs": [
    {
     "name": "stdout",
     "output_type": "stream",
     "text": [
      "<class 'pandas.core.frame.DataFrame'>\n",
      "Index: 5052330 entries, 730 to 9846616\n",
      "Data columns (total 6 columns):\n",
      " #   Column          Dtype  \n",
      "---  ------          -----  \n",
      " 0   property_id     int64  \n",
      " 1   date            object \n",
      " 2   available       int64  \n",
      " 3   price           float64\n",
      " 4   minimum_nights  int64  \n",
      " 5   maximum_nights  int64  \n",
      "dtypes: float64(1), int64(4), object(1)\n",
      "memory usage: 269.8+ MB\n"
     ]
    }
   ],
   "source": [
    "df.info()"
   ]
  },
  {
   "cell_type": "markdown",
   "id": "9d9db15b",
   "metadata": {},
   "source": [
    "## Bloque III\n",
    "Importamos a la base de datos. \n",
    "**Requiere haber creado la tabla, dejo el script que he utilizado para su creación en la ruta** <code>sql_querys/02_CREATE TABLE bnb_calendar.sql</code>"
   ]
  },
  {
   "cell_type": "code",
   "execution_count": 36,
   "id": "f7f5e8d3",
   "metadata": {},
   "outputs": [],
   "source": [
    "from config_bd import get_connection"
   ]
  },
  {
   "cell_type": "code",
   "execution_count": 37,
   "id": "d6b130ab",
   "metadata": {},
   "outputs": [],
   "source": [
    "df.to_csv(os.path.join(TEMP_DIR,'transform_calendar.csv'), index=False)"
   ]
  },
  {
   "cell_type": "markdown",
   "id": "a99c6280",
   "metadata": {},
   "source": [
    "🌡️ **La carga a la base de datos del servidor por bloques tarda de 5 a 10 minutos** 🌡️\n",
    "\n",
    "*Ya está cargado en la base de datos, sino hacemos cambios no sería necesario volverlo a correr. (después de filtrar quedan +6.000.000 registros)*.\n",
    "\n",
    "Si se resube hacer un truncate a la table ya que tiene PK en [property_id, date], no se manejan conflictos en este proceso por lo que se rompería, si bien he hecho un groupby y no se dan dates duplicadas para el mismo property_id"
   ]
  },
  {
   "cell_type": "code",
   "execution_count": null,
   "id": "a53d4582",
   "metadata": {},
   "outputs": [],
   "source": [
    "from tqdm import tqdm  #con esta lib itero sobre el dataframe y muestro el progreso.\n",
    "\n",
    "with get_connection() as conn:\n",
    "    cursor = conn.cursor()\n",
    "    cursor.fast_executemany = True \n",
    "\n",
    "    CHUNKSIZE = 100000\n",
    "    for chunk in tqdm(\n",
    "        pd.read_csv(os.path.join(TEMP_DIR, 'transform_calendar.csv'), chunksize=CHUNKSIZE),\n",
    "        unit_scale=CHUNKSIZE, unit=\" filas\"\n",
    "    ):\n",
    "\n",
    "        insert_sql = \"\"\"\n",
    "        INSERT INTO dbo.bnb_calendar\n",
    "            (property_id, [date], available, price,\n",
    "            minimum_nights, maximum_nights)\n",
    "        VALUES (?,?,?,?,?,?)\n",
    "        \"\"\"\n",
    "        cursor.executemany(insert_sql, chunk.values.tolist())\n",
    "        conn.commit()        \n",
    "\n",
    "\n",
    "from tqdm import tqdm  #con esta lib itero sobre el dataframe y muestro el progreso.\n",
    "\n",
    "with get_connection() as conn:\n",
    "    cursor = conn.cursor()\n",
    "    cursor.fast_executemany = True \n",
    "\n",
    "    CHUNKSIZE = 100000\n",
    "    for chunk in tqdm(\n",
    "        pd.read_csv(os.path.join(TEMP_DIR, 'transform_calendar.csv'), chunksize=CHUNKSIZE),\n",
    "        unit_scale=CHUNKSIZE, unit=\" filas\"\n",
    "    ):\n",
    "\n",
    "        insert_sql = \"\"\"\n",
    "        INSERT INTO dbo.bnb_calendar\n",
    "            (property_id, [date], available, price,\n",
    "            minimum_nights, maximum_nights)\n",
    "        VALUES (?,?,?,?,?,?)\n",
    "        \"\"\"\n",
    "        cursor.executemany(insert_sql, chunk.values.tolist())\n",
    "        conn.commit()        \n",
    "\n",
    "\n"
   ]
  },
  {
   "cell_type": "markdown",
   "id": "01226f75",
   "metadata": {},
   "source": [
    "Elimino el fichero para no dejar duplicado el csv"
   ]
  },
  {
   "cell_type": "code",
   "execution_count": null,
   "id": "3f712a80",
   "metadata": {},
   "outputs": [],
   "source": [
    "os.remove(os.path.join(TEMP_DIR,'transform_calendar.csv'))"
   ]
  }
 ],
 "metadata": {
  "kernelspec": {
   "display_name": "tfm",
   "language": "python",
   "name": "python3"
  },
  "language_info": {
   "codemirror_mode": {
    "name": "ipython",
    "version": 3
   },
   "file_extension": ".py",
   "mimetype": "text/x-python",
   "name": "python",
   "nbconvert_exporter": "python",
   "pygments_lexer": "ipython3",
   "version": "3.9.21"
  }
 },
 "nbformat": 4,
 "nbformat_minor": 5
}
