{
 "cells": [
  {
   "cell_type": "markdown",
   "id": "2b18096b",
   "metadata": {},
   "source": [
    "# <span style=\"background-color:white;color:red;\"> ⌛⌛ EN PROGRESO⌛⌛</span>"
   ]
  },
  {
   "cell_type": "markdown",
   "id": "3c752874",
   "metadata": {},
   "source": [
    "## Bloque I\n",
    "Descomprimir el csv en formato gz"
   ]
  },
  {
   "cell_type": "code",
   "execution_count": 3,
   "id": "262e5017",
   "metadata": {},
   "outputs": [
    {
     "name": "stdout",
     "output_type": "stream",
     "text": [
      "Archivo data\\listings.csv.gz descomprimido como data\\TEMP\\listings.csv\n"
     ]
    }
   ],
   "source": [
    "\"\"\"  \n",
    "Importación de ficheros de AIRBNB. Preprocesado y cargado a la base de datos \n",
    "\n",
    "Obtenemos los datos desde https://insideairbnb.com/get-the-data/\n",
    "\n",
    "Podríamos hacer scraping, obtener la fecha de la última actualización de Madrid y generar el enlace para descargarlo, pero no es necesario por que se actualiza cada mucho tiempo y no es necesario tener la última versión. Podemos cambiar la info procesable en la carpeta data manualmente.\n",
    "\n",
    "\"\"\"\n",
    "import os\n",
    "import pandas as pd\n",
    "import numpy as np\n",
    "import datetime\n",
    "from config_bd import *\n",
    "import requests\n",
    "import sys\n",
    "import gzip\n",
    "import shutil\n",
    "\n",
    "DATA_DIR = os.path.join('data')\n",
    "# DATA_DIR = os.path.join(os.path.dirname(__file__), 'data')\n",
    "TEMP_DIR = os.path.join(DATA_DIR, 'TEMP')\n",
    "\n",
    "\n",
    "\"\"\" Comprobamos que existe el directorio de datos \"\"\"\n",
    "\n",
    "if not os.path.exists(DATA_DIR):\n",
    "    print(f\"El directorio {DATA_DIR} no existe. No es posible continuar...\")\n",
    "    sys.exit()\n",
    "\n",
    "\"\"\" Descomprimimos el archivo de calendario \"\"\"\n",
    "\n",
    "if not os.path.exists(TEMP_DIR):\n",
    "    os.makedirs(TEMP_DIR)\n",
    "\n",
    "\n",
    "gz_file_path = os.path.join(DATA_DIR, 'listings.csv.gz')\n",
    "output_file_path = os.path.join(TEMP_DIR, os.path.splitext(os.path.basename(gz_file_path))[0])\n",
    "\n",
    "if os.path.exists(gz_file_path):\n",
    "    try:\n",
    "        with gzip.open(gz_file_path, 'rb') as f_in:\n",
    "            with open(output_file_path, 'wb') as f_out:\n",
    "                shutil.copyfileobj(f_in, f_out)\n",
    "        print(f\"Archivo {gz_file_path} descomprimido como {output_file_path}\")\n",
    "    except Exception as e:\n",
    "        print(f\"Error al descomprimir el archivo {gz_file_path}: {e}\")\n",
    "        sys.exit()\n",
    "else:\n",
    "    print(f\"El archivo {gz_file_path} no existe. No es posible continuar...\")\n",
    "    sys.exit()\n"
   ]
  },
  {
   "cell_type": "markdown",
   "id": "a3a46f5f",
   "metadata": {},
   "source": [
    "## Bloque II\n",
    "Carga del csv de detalle completo en pandas. Cambios de tipos e imputación"
   ]
  },
  {
   "cell_type": "markdown",
   "id": "d97d03e1",
   "metadata": {},
   "source": [
    "Estos son lo pasos seguidos:\n",
    "\n",
    "<ul>\n",
    "<li>Eliminamos campos innecesarios</li>\n",
    "<li>Eliminamos las propiedades que no se encuentran dentro del perímetro de interés (habitaciones, compartidas, albergues...)</li>\n",
    "<li></li>\n",
    "<li></li>\n",
    "<li></li>\n",
    "<li></li>\n",
    "<li></li>\n",
    "</ul>"
   ]
  },
  {
   "cell_type": "code",
   "execution_count": 4,
   "id": "2203c114",
   "metadata": {},
   "outputs": [],
   "source": [
    "df = pd.read_csv(output_file_path, low_memory=False)"
   ]
  },
  {
   "cell_type": "markdown",
   "id": "36513dd8",
   "metadata": {},
   "source": [
    "Eliminamos campos innecesarios"
   ]
  },
  {
   "cell_type": "code",
   "execution_count": 5,
   "id": "3c6e9aeb",
   "metadata": {},
   "outputs": [],
   "source": [
    "df = df.drop(columns=['scrape_id','last_scraped','source','neighborhood_overview','host_id','host_url','host_name','host_since','host_location','host_response_time','host_response_rate','host_acceptance_rate','host_is_superhost','host_thumbnail_url','host_picture_url','host_listings_count','host_total_listings_count','host_verifications','host_has_profile_pic','host_identity_verified','neighbourhood','bathrooms_text','beds','amenities','minimum_minimum_nights','maximum_minimum_nights','minimum_maximum_nights','maximum_maximum_nights','minimum_nights_avg_ntm','maximum_nights_avg_ntm','has_availability','calendar_last_scraped','number_of_reviews','number_of_reviews_ltm','number_of_reviews_l30d','availability_eoy','number_of_reviews_ly','first_review','last_review','review_scores_rating','review_scores_accuracy','review_scores_cleanliness','review_scores_checkin','review_scores_communication','review_scores_location','review_scores_value','license','instant_bookable','calculated_host_listings_count','calculated_host_listings_count_entire_homes','calculated_host_listings_count_private_rooms','calculated_host_listings_count_shared_rooms','reviews_per_month','host_about','host_neighbourhood','calendar_updated','availability_30','availability_60','availability_90','availability_365','picture_url'])"
   ]
  },
  {
   "cell_type": "markdown",
   "id": "38811cdc",
   "metadata": {},
   "source": [
    "Eliminamos las habitaciones, casas compartidas, hoteles, picaderos, etc, solo queremos viviendas completas"
   ]
  },
  {
   "cell_type": "code",
   "execution_count": 6,
   "id": "d8da9899",
   "metadata": {},
   "outputs": [
    {
     "data": {
      "text/plain": [
       "room_type\n",
       "Entire home/apt    16805\n",
       "Name: count, dtype: int64"
      ]
     },
     "execution_count": 6,
     "metadata": {},
     "output_type": "execute_result"
    }
   ],
   "source": [
    "# df['property_type'].value_counts()\n",
    "# df['room_type'].value_counts()\n",
    "df = df[df['room_type']== 'Entire home/apt'].copy()\n",
    "df['room_type'].value_counts()"
   ]
  },
  {
   "cell_type": "markdown",
   "id": "ae97cba7",
   "metadata": {},
   "source": [
    "conversión de tipos"
   ]
  },
  {
   "cell_type": "code",
   "execution_count": 7,
   "id": "87870db6",
   "metadata": {},
   "outputs": [],
   "source": [
    "df['accommodates'] = df['accommodates'].astype(int)\n",
    "df['bathrooms'] = df['bathrooms'].replace([np.inf,-np.inf],np.nan).fillna(0).astype(int)\n",
    "df['bedrooms'] = df['bedrooms'].replace([np.inf,-np.inf],np.nan).fillna(0).astype(int)\n",
    "df['price'] = df['price'].replace({'\\$': '', ',': ''}, regex=True).astype(float)\n",
    "df['minimum_nights'] = df['minimum_nights'].astype(int)\n",
    "df['maximum_nights'] = df['maximum_nights'].astype(int)\n",
    "df['estimated_occupancy_l365d'] = df['estimated_occupancy_l365d'].astype(int)"
   ]
  },
  {
   "cell_type": "markdown",
   "id": "4ab14087",
   "metadata": {},
   "source": [
    "imputamos una habitación y un baño cuando esta información no está rellena, asumiendo que habiendo retirado las propiedades compartidas, podemos interpretar que los estudios, lofts, etc todos van a tener al menos una habitación y baño o equivalente. (Sofá cama, etc).\n",
    "\n",
    "*También se podría imputar las habitaciones dividiendo los \"acommodates\" entre dos pero creo que este método es más conservador.*"
   ]
  },
  {
   "cell_type": "code",
   "execution_count": 8,
   "id": "1b9280ed",
   "metadata": {},
   "outputs": [],
   "source": [
    "# df[(df['bathrooms'] == 0)& (df['bedrooms']==0)]\n",
    "df['bathrooms'] = df['bathrooms'].replace(0,1)\n",
    "df['bedrooms'] = df['bedrooms'].replace(0,1)"
   ]
  },
  {
   "cell_type": "code",
   "execution_count": 9,
   "id": "0e1eb013",
   "metadata": {},
   "outputs": [],
   "source": [
    "df = df.rename(columns={'id':'property_id'})"
   ]
  },
  {
   "cell_type": "code",
   "execution_count": 10,
   "id": "4926efce",
   "metadata": {},
   "outputs": [
    {
     "name": "stdout",
     "output_type": "stream",
     "text": [
      "<class 'pandas.core.frame.DataFrame'>\n",
      "Index: 16805 entries, 1 to 25285\n",
      "Data columns (total 18 columns):\n",
      " #   Column                        Non-Null Count  Dtype  \n",
      "---  ------                        --------------  -----  \n",
      " 0   property_id                   16805 non-null  int64  \n",
      " 1   listing_url                   16805 non-null  object \n",
      " 2   name                          16805 non-null  object \n",
      " 3   description                   16344 non-null  object \n",
      " 4   neighbourhood_cleansed        16805 non-null  object \n",
      " 5   neighbourhood_group_cleansed  16805 non-null  object \n",
      " 6   latitude                      16805 non-null  float64\n",
      " 7   longitude                     16805 non-null  float64\n",
      " 8   property_type                 16805 non-null  object \n",
      " 9   room_type                     16805 non-null  object \n",
      " 10  accommodates                  16805 non-null  int64  \n",
      " 11  bathrooms                     16805 non-null  int64  \n",
      " 12  bedrooms                      16805 non-null  int64  \n",
      " 13  price                         13871 non-null  float64\n",
      " 14  minimum_nights                16805 non-null  int64  \n",
      " 15  maximum_nights                16805 non-null  int64  \n",
      " 16  estimated_occupancy_l365d     16805 non-null  int64  \n",
      " 17  estimated_revenue_l365d       13871 non-null  float64\n",
      "dtypes: float64(4), int64(7), object(7)\n",
      "memory usage: 2.4+ MB\n"
     ]
    }
   ],
   "source": [
    "df.info()"
   ]
  },
  {
   "cell_type": "markdown",
   "id": "9d9db15b",
   "metadata": {},
   "source": [
    "## Bloque III\n",
    "Importamos a la base de datos. \n",
    "**Requiere haber creado la tabla** <code>01_CREATE TABLE bnb_property.sql</code>"
   ]
  },
  {
   "cell_type": "code",
   "execution_count": 11,
   "id": "f7f5e8d3",
   "metadata": {},
   "outputs": [],
   "source": [
    "from config_bd import get_connection"
   ]
  },
  {
   "cell_type": "code",
   "execution_count": 12,
   "id": "d6b130ab",
   "metadata": {},
   "outputs": [],
   "source": [
    "df.to_csv(os.path.join(TEMP_DIR,'transform_listings.csv'), index=False)"
   ]
  },
  {
   "cell_type": "code",
   "execution_count": 13,
   "id": "c391fd3d",
   "metadata": {},
   "outputs": [
    {
     "name": "stdout",
     "output_type": "stream",
     "text": [
      "<class 'pandas.core.frame.DataFrame'>\n",
      "Index: 16805 entries, 1 to 25285\n",
      "Data columns (total 18 columns):\n",
      " #   Column                        Non-Null Count  Dtype  \n",
      "---  ------                        --------------  -----  \n",
      " 0   property_id                   16805 non-null  int64  \n",
      " 1   listing_url                   16805 non-null  object \n",
      " 2   name                          16805 non-null  object \n",
      " 3   description                   16344 non-null  object \n",
      " 4   neighbourhood_cleansed        16805 non-null  object \n",
      " 5   neighbourhood_group_cleansed  16805 non-null  object \n",
      " 6   latitude                      16805 non-null  float64\n",
      " 7   longitude                     16805 non-null  float64\n",
      " 8   property_type                 16805 non-null  object \n",
      " 9   room_type                     16805 non-null  object \n",
      " 10  accommodates                  16805 non-null  int64  \n",
      " 11  bathrooms                     16805 non-null  int64  \n",
      " 12  bedrooms                      16805 non-null  int64  \n",
      " 13  price                         13871 non-null  float64\n",
      " 14  minimum_nights                16805 non-null  int64  \n",
      " 15  maximum_nights                16805 non-null  int64  \n",
      " 16  estimated_occupancy_l365d     16805 non-null  int64  \n",
      " 17  estimated_revenue_l365d       13871 non-null  float64\n",
      "dtypes: float64(4), int64(7), object(7)\n",
      "memory usage: 2.4+ MB\n"
     ]
    }
   ],
   "source": [
    "df.info()"
   ]
  },
  {
   "cell_type": "markdown",
   "id": "e244f0de",
   "metadata": {},
   "source": [
    "# ⌛VOY POR AQUÍÍÍÍÍÍÍÍÍÍÍÍÍÍÍÍÍÍÍÍÍÍÍÍÍÍÍÍÍÍÍÍÍÍÍÍÍÍÍÍÍÍÍÍÍÍÍÍÍÍÍÍ"
   ]
  },
  {
   "cell_type": "code",
   "execution_count": 14,
   "id": "a53d4582",
   "metadata": {},
   "outputs": [],
   "source": [
    "# from tqdm import tqdm\n",
    "# # from time import sleep\n",
    "\n",
    "# with get_connection() as conn:\n",
    "#     cursor = conn.cursor()\n",
    "#     cursor.fast_executemany = True \n",
    "\n",
    "#     CHUNKSIZE = 500\n",
    "#     for chunk in tqdm(\n",
    "#         pd.read_csv(os.path.join(TEMP_DIR, 'transform_calendar.csv'), chunksize=CHUNKSIZE),\n",
    "#         unit_scale=CHUNKSIZE, unit=\" filas\"\n",
    "#     ):\n",
    "\n",
    "#         insert_sql = \"\"\"\n",
    "#         INSERT INTO dbo.bnb_calendar\n",
    "#             (property_id, [date], available, price,\n",
    "#             minimum_nights, maximum_nights)\n",
    "#         VALUES (?,?,?,?,?,?)\n",
    "#         \"\"\"\n",
    "#         cursor.executemany(insert_sql, chunk.values.tolist())\n",
    "#         conn.commit()        \n",
    "\n",
    "\n"
   ]
  },
  {
   "cell_type": "markdown",
   "id": "01226f75",
   "metadata": {},
   "source": [
    "~~Elimino el fichero para no dejar duplicado el csv~~\n",
    "<span style=\"color:orange\">En este notebook no hay que eliminar el transformado ya que lo vamos a emplear desde el notebook de calendars, evitando importar a la base de datos la información que no nos interesa respecto a las viviendas que hemos eliminado.</span>"
   ]
  },
  {
   "cell_type": "code",
   "execution_count": 15,
   "id": "3f712a80",
   "metadata": {},
   "outputs": [],
   "source": [
    "# os.remove(os.path.join(TEMP_DIR,'transform_listings.csv'))"
   ]
  },
  {
   "cell_type": "code",
   "execution_count": 16,
   "id": "3e13c882",
   "metadata": {},
   "outputs": [],
   "source": [
    "df = pd.read_csv(os.path.join(TEMP_DIR,'transform_listings.csv'))"
   ]
  },
  {
   "cell_type": "code",
   "execution_count": 21,
   "id": "3620ee9f",
   "metadata": {},
   "outputs": [
    {
     "data": {
      "text/plain": [
       "neighbourhood_group_cleansed\n",
       "Centro                   7892\n",
       "Salamanca                1325\n",
       "Tetuán                   1124\n",
       "Chamberí                 1118\n",
       "Arganzuela                861\n",
       "Retiro                    615\n",
       "Chamartín                 614\n",
       "Carabanchel               439\n",
       "Ciudad Lineal             434\n",
       "Puente de Vallecas        410\n",
       "Moncloa - Aravaca         371\n",
       "Latina                    301\n",
       "Hortaleza                 294\n",
       "Usera                     276\n",
       "San Blas - Canillejas     265\n",
       "Fuencarral - El Pardo     175\n",
       "Villaverde                 97\n",
       "Barajas                    70\n",
       "Villa de Vallecas          60\n",
       "Moratalaz                  40\n",
       "Vicálvaro                  24\n",
       "Name: count, dtype: int64"
      ]
     },
     "execution_count": 21,
     "metadata": {},
     "output_type": "execute_result"
    }
   ],
   "source": [
    "# df['id'].max()\n",
    "# df['neighbourhood_cleansed'].value_counts()\n",
    "df['neighbourhood_group_cleansed'].value_counts()"
   ]
  },
  {
   "cell_type": "code",
   "execution_count": 19,
   "id": "eeac8094",
   "metadata": {},
   "outputs": [
    {
     "name": "stdout",
     "output_type": "stream",
     "text": [
      "<class 'pandas.core.frame.DataFrame'>\n",
      "RangeIndex: 16805 entries, 0 to 16804\n",
      "Data columns (total 18 columns):\n",
      " #   Column                        Non-Null Count  Dtype  \n",
      "---  ------                        --------------  -----  \n",
      " 0   property_id                   16805 non-null  int64  \n",
      " 1   listing_url                   16805 non-null  object \n",
      " 2   name                          16805 non-null  object \n",
      " 3   description                   16344 non-null  object \n",
      " 4   neighbourhood_cleansed        16805 non-null  object \n",
      " 5   neighbourhood_group_cleansed  16805 non-null  object \n",
      " 6   latitude                      16805 non-null  float64\n",
      " 7   longitude                     16805 non-null  float64\n",
      " 8   property_type                 16805 non-null  object \n",
      " 9   room_type                     16805 non-null  object \n",
      " 10  accommodates                  16805 non-null  int64  \n",
      " 11  bathrooms                     16805 non-null  int64  \n",
      " 12  bedrooms                      16805 non-null  int64  \n",
      " 13  price                         13871 non-null  float64\n",
      " 14  minimum_nights                16805 non-null  int64  \n",
      " 15  maximum_nights                16805 non-null  int64  \n",
      " 16  estimated_occupancy_l365d     16805 non-null  int64  \n",
      " 17  estimated_revenue_l365d       13871 non-null  float64\n",
      "dtypes: float64(4), int64(7), object(7)\n",
      "memory usage: 2.3+ MB\n"
     ]
    }
   ],
   "source": [
    "df.info()"
   ]
  },
  {
   "cell_type": "code",
   "execution_count": 25,
   "id": "81286dfc",
   "metadata": {},
   "outputs": [
    {
     "data": {
      "text/html": [
       "<div>\n",
       "<style scoped>\n",
       "    .dataframe tbody tr th:only-of-type {\n",
       "        vertical-align: middle;\n",
       "    }\n",
       "\n",
       "    .dataframe tbody tr th {\n",
       "        vertical-align: top;\n",
       "    }\n",
       "\n",
       "    .dataframe thead th {\n",
       "        text-align: right;\n",
       "    }\n",
       "</style>\n",
       "<table border=\"1\" class=\"dataframe\">\n",
       "  <thead>\n",
       "    <tr style=\"text-align: right;\">\n",
       "      <th></th>\n",
       "      <th>property_id</th>\n",
       "      <th>listing_url</th>\n",
       "      <th>name</th>\n",
       "      <th>description</th>\n",
       "      <th>neighbourhood_cleansed</th>\n",
       "      <th>neighbourhood_group_cleansed</th>\n",
       "      <th>latitude</th>\n",
       "      <th>longitude</th>\n",
       "      <th>property_type</th>\n",
       "      <th>room_type</th>\n",
       "      <th>accommodates</th>\n",
       "      <th>bathrooms</th>\n",
       "      <th>bedrooms</th>\n",
       "      <th>price</th>\n",
       "      <th>minimum_nights</th>\n",
       "      <th>maximum_nights</th>\n",
       "      <th>estimated_occupancy_l365d</th>\n",
       "      <th>estimated_revenue_l365d</th>\n",
       "    </tr>\n",
       "  </thead>\n",
       "  <tbody>\n",
       "    <tr>\n",
       "      <th>11667</th>\n",
       "      <td>1087700981397177073</td>\n",
       "      <td>https://www.airbnb.com/rooms/1087700981397177073</td>\n",
       "      <td>Stunning duplex | Terrace &amp; BBQ | Free Parking</td>\n",
       "      <td>Discover our duplex in the North Zone of Madri...</td>\n",
       "      <td>Valdeacederas</td>\n",
       "      <td>Tetuán</td>\n",
       "      <td>40.467680</td>\n",
       "      <td>-3.708650</td>\n",
       "      <td>Entire rental unit</td>\n",
       "      <td>Entire home/apt</td>\n",
       "      <td>6</td>\n",
       "      <td>2</td>\n",
       "      <td>2</td>\n",
       "      <td>23124.0</td>\n",
       "      <td>3</td>\n",
       "      <td>365</td>\n",
       "      <td>114</td>\n",
       "      <td>2636136.0</td>\n",
       "    </tr>\n",
       "    <tr>\n",
       "      <th>1701</th>\n",
       "      <td>18816591</td>\n",
       "      <td>https://www.airbnb.com/rooms/18816591</td>\n",
       "      <td>PUERTA DEL ANGEL</td>\n",
       "      <td>Located next to Paseo De Extremadura, a few me...</td>\n",
       "      <td>Puerta del Angel</td>\n",
       "      <td>Latina</td>\n",
       "      <td>40.409160</td>\n",
       "      <td>-3.732560</td>\n",
       "      <td>Entire rental unit</td>\n",
       "      <td>Entire home/apt</td>\n",
       "      <td>4</td>\n",
       "      <td>1</td>\n",
       "      <td>1</td>\n",
       "      <td>19276.0</td>\n",
       "      <td>3</td>\n",
       "      <td>365</td>\n",
       "      <td>102</td>\n",
       "      <td>1966152.0</td>\n",
       "    </tr>\n",
       "    <tr>\n",
       "      <th>6248</th>\n",
       "      <td>577960547451462595</td>\n",
       "      <td>https://www.airbnb.com/rooms/577960547451462595</td>\n",
       "      <td>Luxury  La Latina</td>\n",
       "      <td>Steps away from the royal palace, the Cebada m...</td>\n",
       "      <td>Palacio</td>\n",
       "      <td>Centro</td>\n",
       "      <td>40.409010</td>\n",
       "      <td>-3.713490</td>\n",
       "      <td>Entire rental unit</td>\n",
       "      <td>Entire home/apt</td>\n",
       "      <td>4</td>\n",
       "      <td>1</td>\n",
       "      <td>2</td>\n",
       "      <td>2251.0</td>\n",
       "      <td>1</td>\n",
       "      <td>730</td>\n",
       "      <td>255</td>\n",
       "      <td>574005.0</td>\n",
       "    </tr>\n",
       "    <tr>\n",
       "      <th>9362</th>\n",
       "      <td>918580151552814707</td>\n",
       "      <td>https://www.airbnb.com/rooms/918580151552814707</td>\n",
       "      <td>Cozy apartment with balconies in Chueca</td>\n",
       "      <td>Welcome to this beautiful Airbnb apartment in ...</td>\n",
       "      <td>Justicia</td>\n",
       "      <td>Centro</td>\n",
       "      <td>40.423673</td>\n",
       "      <td>-3.699559</td>\n",
       "      <td>Entire rental unit</td>\n",
       "      <td>Entire home/apt</td>\n",
       "      <td>2</td>\n",
       "      <td>1</td>\n",
       "      <td>1</td>\n",
       "      <td>6517.0</td>\n",
       "      <td>3</td>\n",
       "      <td>365</td>\n",
       "      <td>84</td>\n",
       "      <td>547428.0</td>\n",
       "    </tr>\n",
       "    <tr>\n",
       "      <th>5431</th>\n",
       "      <td>50995991</td>\n",
       "      <td>https://www.airbnb.com/rooms/50995991</td>\n",
       "      <td>Cozy and central studio - Puerta del Sol</td>\n",
       "      <td>Cozy studio, renovated, with a careful design ...</td>\n",
       "      <td>Sol</td>\n",
       "      <td>Centro</td>\n",
       "      <td>40.419110</td>\n",
       "      <td>-3.705490</td>\n",
       "      <td>Entire rental unit</td>\n",
       "      <td>Entire home/apt</td>\n",
       "      <td>2</td>\n",
       "      <td>1</td>\n",
       "      <td>1</td>\n",
       "      <td>2069.0</td>\n",
       "      <td>1</td>\n",
       "      <td>1125</td>\n",
       "      <td>210</td>\n",
       "      <td>434490.0</td>\n",
       "    </tr>\n",
       "    <tr>\n",
       "      <th>1509</th>\n",
       "      <td>17932739</td>\n",
       "      <td>https://www.airbnb.com/rooms/17932739</td>\n",
       "      <td>Bright &amp; Spacious 2BD 2BTH - Las Letras</td>\n",
       "      <td>Spacious and bright apartment located in the B...</td>\n",
       "      <td>Cortes</td>\n",
       "      <td>Centro</td>\n",
       "      <td>40.412890</td>\n",
       "      <td>-3.696620</td>\n",
       "      <td>Entire rental unit</td>\n",
       "      <td>Entire home/apt</td>\n",
       "      <td>6</td>\n",
       "      <td>2</td>\n",
       "      <td>2</td>\n",
       "      <td>1302.0</td>\n",
       "      <td>1</td>\n",
       "      <td>1125</td>\n",
       "      <td>255</td>\n",
       "      <td>332010.0</td>\n",
       "    </tr>\n",
       "    <tr>\n",
       "      <th>6003</th>\n",
       "      <td>54408298</td>\n",
       "      <td>https://www.airbnb.com/rooms/54408298</td>\n",
       "      <td>Modern &amp; Bright - 2Bedrooms 1.5Baths -Plaza Es...</td>\n",
       "      <td>Bright apartment located in the heart of Madri...</td>\n",
       "      <td>Argüelles</td>\n",
       "      <td>Moncloa - Aravaca</td>\n",
       "      <td>40.426060</td>\n",
       "      <td>-3.715450</td>\n",
       "      <td>Entire rental unit</td>\n",
       "      <td>Entire home/apt</td>\n",
       "      <td>5</td>\n",
       "      <td>1</td>\n",
       "      <td>2</td>\n",
       "      <td>3420.0</td>\n",
       "      <td>1</td>\n",
       "      <td>1125</td>\n",
       "      <td>96</td>\n",
       "      <td>328320.0</td>\n",
       "    </tr>\n",
       "    <tr>\n",
       "      <th>14249</th>\n",
       "      <td>1236338692469671335</td>\n",
       "      <td>https://www.airbnb.com/rooms/1236338692469671335</td>\n",
       "      <td>Luxury Jerónimos</td>\n",
       "      <td>This brand new unique apartment is located in ...</td>\n",
       "      <td>Jerónimos</td>\n",
       "      <td>Retiro</td>\n",
       "      <td>40.418493</td>\n",
       "      <td>-3.691579</td>\n",
       "      <td>Entire rental unit</td>\n",
       "      <td>Entire home/apt</td>\n",
       "      <td>6</td>\n",
       "      <td>3</td>\n",
       "      <td>3</td>\n",
       "      <td>1174.0</td>\n",
       "      <td>20</td>\n",
       "      <td>365</td>\n",
       "      <td>240</td>\n",
       "      <td>281760.0</td>\n",
       "    </tr>\n",
       "    <tr>\n",
       "      <th>4965</th>\n",
       "      <td>46653997</td>\n",
       "      <td>https://www.airbnb.com/rooms/46653997</td>\n",
       "      <td>LUXURY PENTHOUSE. TERRACE + SWIMMING POOL</td>\n",
       "      <td>Penthouse decorated in detail with high qualit...</td>\n",
       "      <td>Hellín</td>\n",
       "      <td>San Blas - Canillejas</td>\n",
       "      <td>40.433160</td>\n",
       "      <td>-3.619620</td>\n",
       "      <td>Entire condo</td>\n",
       "      <td>Entire home/apt</td>\n",
       "      <td>4</td>\n",
       "      <td>1</td>\n",
       "      <td>1</td>\n",
       "      <td>1000.0</td>\n",
       "      <td>2</td>\n",
       "      <td>1000</td>\n",
       "      <td>255</td>\n",
       "      <td>255000.0</td>\n",
       "    </tr>\n",
       "    <tr>\n",
       "      <th>4471</th>\n",
       "      <td>42595353</td>\n",
       "      <td>https://www.airbnb.com/rooms/42595353</td>\n",
       "      <td>Luxury Penthouse W/Terrace - 5BD 5BTH - Gran vía</td>\n",
       "      <td>Luxury penthouse in historic building located ...</td>\n",
       "      <td>Justicia</td>\n",
       "      <td>Centro</td>\n",
       "      <td>40.420440</td>\n",
       "      <td>-3.697180</td>\n",
       "      <td>Entire rental unit</td>\n",
       "      <td>Entire home/apt</td>\n",
       "      <td>10</td>\n",
       "      <td>5</td>\n",
       "      <td>5</td>\n",
       "      <td>1545.0</td>\n",
       "      <td>1</td>\n",
       "      <td>1125</td>\n",
       "      <td>150</td>\n",
       "      <td>231750.0</td>\n",
       "    </tr>\n",
       "  </tbody>\n",
       "</table>\n",
       "</div>"
      ],
      "text/plain": [
       "               property_id                                       listing_url  \\\n",
       "11667  1087700981397177073  https://www.airbnb.com/rooms/1087700981397177073   \n",
       "1701              18816591             https://www.airbnb.com/rooms/18816591   \n",
       "6248    577960547451462595   https://www.airbnb.com/rooms/577960547451462595   \n",
       "9362    918580151552814707   https://www.airbnb.com/rooms/918580151552814707   \n",
       "5431              50995991             https://www.airbnb.com/rooms/50995991   \n",
       "1509              17932739             https://www.airbnb.com/rooms/17932739   \n",
       "6003              54408298             https://www.airbnb.com/rooms/54408298   \n",
       "14249  1236338692469671335  https://www.airbnb.com/rooms/1236338692469671335   \n",
       "4965              46653997             https://www.airbnb.com/rooms/46653997   \n",
       "4471              42595353             https://www.airbnb.com/rooms/42595353   \n",
       "\n",
       "                                                    name  \\\n",
       "11667     Stunning duplex | Terrace & BBQ | Free Parking   \n",
       "1701                                    PUERTA DEL ANGEL   \n",
       "6248                                   Luxury  La Latina   \n",
       "9362             Cozy apartment with balconies in Chueca   \n",
       "5431            Cozy and central studio - Puerta del Sol   \n",
       "1509             Bright & Spacious 2BD 2BTH - Las Letras   \n",
       "6003   Modern & Bright - 2Bedrooms 1.5Baths -Plaza Es...   \n",
       "14249                                   Luxury Jerónimos   \n",
       "4965           LUXURY PENTHOUSE. TERRACE + SWIMMING POOL   \n",
       "4471    Luxury Penthouse W/Terrace - 5BD 5BTH - Gran vía   \n",
       "\n",
       "                                             description  \\\n",
       "11667  Discover our duplex in the North Zone of Madri...   \n",
       "1701   Located next to Paseo De Extremadura, a few me...   \n",
       "6248   Steps away from the royal palace, the Cebada m...   \n",
       "9362   Welcome to this beautiful Airbnb apartment in ...   \n",
       "5431   Cozy studio, renovated, with a careful design ...   \n",
       "1509   Spacious and bright apartment located in the B...   \n",
       "6003   Bright apartment located in the heart of Madri...   \n",
       "14249  This brand new unique apartment is located in ...   \n",
       "4965   Penthouse decorated in detail with high qualit...   \n",
       "4471   Luxury penthouse in historic building located ...   \n",
       "\n",
       "      neighbourhood_cleansed neighbourhood_group_cleansed   latitude  \\\n",
       "11667          Valdeacederas                       Tetuán  40.467680   \n",
       "1701        Puerta del Angel                       Latina  40.409160   \n",
       "6248                 Palacio                       Centro  40.409010   \n",
       "9362                Justicia                       Centro  40.423673   \n",
       "5431                     Sol                       Centro  40.419110   \n",
       "1509                  Cortes                       Centro  40.412890   \n",
       "6003               Argüelles            Moncloa - Aravaca  40.426060   \n",
       "14249              Jerónimos                       Retiro  40.418493   \n",
       "4965                  Hellín        San Blas - Canillejas  40.433160   \n",
       "4471                Justicia                       Centro  40.420440   \n",
       "\n",
       "       longitude       property_type        room_type  accommodates  \\\n",
       "11667  -3.708650  Entire rental unit  Entire home/apt             6   \n",
       "1701   -3.732560  Entire rental unit  Entire home/apt             4   \n",
       "6248   -3.713490  Entire rental unit  Entire home/apt             4   \n",
       "9362   -3.699559  Entire rental unit  Entire home/apt             2   \n",
       "5431   -3.705490  Entire rental unit  Entire home/apt             2   \n",
       "1509   -3.696620  Entire rental unit  Entire home/apt             6   \n",
       "6003   -3.715450  Entire rental unit  Entire home/apt             5   \n",
       "14249  -3.691579  Entire rental unit  Entire home/apt             6   \n",
       "4965   -3.619620        Entire condo  Entire home/apt             4   \n",
       "4471   -3.697180  Entire rental unit  Entire home/apt            10   \n",
       "\n",
       "       bathrooms  bedrooms    price  minimum_nights  maximum_nights  \\\n",
       "11667          2         2  23124.0               3             365   \n",
       "1701           1         1  19276.0               3             365   \n",
       "6248           1         2   2251.0               1             730   \n",
       "9362           1         1   6517.0               3             365   \n",
       "5431           1         1   2069.0               1            1125   \n",
       "1509           2         2   1302.0               1            1125   \n",
       "6003           1         2   3420.0               1            1125   \n",
       "14249          3         3   1174.0              20             365   \n",
       "4965           1         1   1000.0               2            1000   \n",
       "4471           5         5   1545.0               1            1125   \n",
       "\n",
       "       estimated_occupancy_l365d  estimated_revenue_l365d  \n",
       "11667                        114                2636136.0  \n",
       "1701                         102                1966152.0  \n",
       "6248                         255                 574005.0  \n",
       "9362                          84                 547428.0  \n",
       "5431                         210                 434490.0  \n",
       "1509                         255                 332010.0  \n",
       "6003                          96                 328320.0  \n",
       "14249                        240                 281760.0  \n",
       "4965                         255                 255000.0  \n",
       "4471                         150                 231750.0  "
      ]
     },
     "execution_count": 25,
     "metadata": {},
     "output_type": "execute_result"
    }
   ],
   "source": [
    "df.sort_values(by=\"estimated_revenue_l365d\",ascending=False).head(10)"
   ]
  },
  {
   "cell_type": "code",
   "execution_count": 28,
   "id": "e3d7fe8c",
   "metadata": {},
   "outputs": [
    {
     "data": {
      "image/png": "[encoded data removed]",
      "text/plain": [
       "<Figure size 1000x600 with 1 Axes>"
      ]
     },
     "metadata": {},
     "output_type": "display_data"
    }
   ],
   "source": [
    "import matplotlib.pyplot as plt\n",
    "\n",
    "plt.figure(figsize=(10,6))\n",
    "df['estimated_revenue_l365d'].dropna().hist(bins=150)\n",
    "plt.xlabel('Estimated Revenue (last 365 days)')\n",
    "plt.ylabel('Frequency')\n",
    "plt.title('Histograma de estimated_revenue_l365d')\n",
    "plt.show()"
   ]
  }
 ],
 "metadata": {
  "kernelspec": {
   "display_name": "tfm",
   "language": "python",
   "name": "python3"
  },
  "language_info": {
   "codemirror_mode": {
    "name": "ipython",
    "version": 3
   },
   "file_extension": ".py",
   "mimetype": "text/x-python",
   "name": "python",
   "nbconvert_exporter": "python",
   "pygments_lexer": "ipython3",
   "version": "3.9.21"
  }
 },
 "nbformat": 4,
 "nbformat_minor": 5
}
