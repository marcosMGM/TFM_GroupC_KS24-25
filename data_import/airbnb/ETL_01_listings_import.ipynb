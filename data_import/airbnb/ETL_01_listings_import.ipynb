{
 "cells": [
  {
   "cell_type": "markdown",
   "id": "2b18096b",
   "metadata": {},
   "source": [
    "# <span style=\"background-color:white;color:red;\"> ⌛⌛ EN PROGRESO⌛⌛</span>"
   ]
  },
  {
   "cell_type": "markdown",
   "id": "3c752874",
   "metadata": {},
   "source": [
    "## Bloque I\n",
    "Descomprimir el csv en formato gz"
   ]
  },
  {
   "cell_type": "code",
   "execution_count": 32,
   "id": "262e5017",
   "metadata": {},
   "outputs": [
    {
     "name": "stdout",
     "output_type": "stream",
     "text": [
      "Archivo data\\listings.csv.gz descomprimido como data\\TEMP\\listings.csv\n"
     ]
    }
   ],
   "source": [
    "\"\"\"  \n",
    "Importación de ficheros de AIRBNB. Preprocesado y cargado a la base de datos \n",
    "\n",
    "Obtenemos los datos desde https://insideairbnb.com/get-the-data/\n",
    "\n",
    "Podríamos hacer scraping, obtener la fecha de la última actualización de Madrid y generar el enlace para descargarlo, pero no es necesario por que se actualiza cada mucho tiempo y no es necesario tener la última versión. Podemos cambiar la info procesable en la carpeta data manualmente.\n",
    "\n",
    "\"\"\"\n",
    "import os\n",
    "import pandas as pd\n",
    "import numpy as np\n",
    "import datetime\n",
    "from config_bd import *\n",
    "import requests\n",
    "import sys\n",
    "import gzip\n",
    "import shutil\n",
    "\n",
    "DATA_DIR = os.path.join('data')\n",
    "# DATA_DIR = os.path.join(os.path.dirname(__file__), 'data')\n",
    "TEMP_DIR = os.path.join(DATA_DIR, 'TEMP')\n",
    "\n",
    "\n",
    "\"\"\" Comprobamos que existe el directorio de datos \"\"\"\n",
    "\n",
    "if not os.path.exists(DATA_DIR):\n",
    "    print(f\"El directorio {DATA_DIR} no existe. No es posible continuar...\")\n",
    "    sys.exit()\n",
    "\n",
    "\"\"\" Descomprimimos el archivo de calendario \"\"\"\n",
    "\n",
    "if not os.path.exists(TEMP_DIR):\n",
    "    os.makedirs(TEMP_DIR)\n",
    "\n",
    "\n",
    "gz_file_path = os.path.join(DATA_DIR, 'listings.csv.gz')\n",
    "output_file_path = os.path.join(TEMP_DIR, os.path.splitext(os.path.basename(gz_file_path))[0])\n",
    "\n",
    "if os.path.exists(gz_file_path):\n",
    "    try:\n",
    "        with gzip.open(gz_file_path, 'rb') as f_in:\n",
    "            with open(output_file_path, 'wb') as f_out:\n",
    "                shutil.copyfileobj(f_in, f_out)\n",
    "        print(f\"Archivo {gz_file_path} descomprimido como {output_file_path}\")\n",
    "    except Exception as e:\n",
    "        print(f\"Error al descomprimir el archivo {gz_file_path}: {e}\")\n",
    "        sys.exit()\n",
    "else:\n",
    "    print(f\"El archivo {gz_file_path} no existe. No es posible continuar...\")\n",
    "    sys.exit()\n"
   ]
  },
  {
   "cell_type": "markdown",
   "id": "a3a46f5f",
   "metadata": {},
   "source": [
    "## Bloque II\n",
    "Carga del csv de detalle completo en pandas. Cambios de tipos e imputación"
   ]
  },
  {
   "cell_type": "markdown",
   "id": "d97d03e1",
   "metadata": {},
   "source": [
    "Estos son lo pasos seguidos:\n",
    "\n",
    "<ul>\n",
    "<li>Eliminamos campos innecesarios</li>\n",
    "<li>Eliminamos las propiedades que no se encuentran dentro del perímetro de interés (habitaciones, compartidas, albergues...)</li>\n",
    "<li></li>\n",
    "<li></li>\n",
    "<li></li>\n",
    "<li></li>\n",
    "<li></li>\n",
    "</ul>"
   ]
  },
  {
   "cell_type": "code",
   "execution_count": 33,
   "id": "2203c114",
   "metadata": {},
   "outputs": [],
   "source": [
    "df = pd.read_csv(output_file_path, low_memory=False)"
   ]
  },
  {
   "cell_type": "markdown",
   "id": "36513dd8",
   "metadata": {},
   "source": [
    "Eliminamos campos innecesarios"
   ]
  },
  {
   "cell_type": "code",
   "execution_count": 34,
   "id": "3c6e9aeb",
   "metadata": {},
   "outputs": [],
   "source": [
    "df = df.drop(columns=['scrape_id','last_scraped','source','neighborhood_overview','host_id','host_url','host_name','host_since','host_location','host_response_time','host_response_rate','host_acceptance_rate','host_is_superhost','host_thumbnail_url','host_picture_url','host_listings_count','host_total_listings_count','host_verifications','host_has_profile_pic','host_identity_verified','neighbourhood','bathrooms_text','beds','amenities','minimum_minimum_nights','maximum_minimum_nights','minimum_maximum_nights','maximum_maximum_nights','minimum_nights_avg_ntm','maximum_nights_avg_ntm','has_availability','calendar_last_scraped','number_of_reviews','number_of_reviews_ltm','number_of_reviews_l30d','availability_eoy','number_of_reviews_ly','first_review','last_review','review_scores_rating','review_scores_accuracy','review_scores_cleanliness','review_scores_checkin','review_scores_communication','review_scores_location','review_scores_value','license','instant_bookable','calculated_host_listings_count','calculated_host_listings_count_entire_homes','calculated_host_listings_count_private_rooms','calculated_host_listings_count_shared_rooms','reviews_per_month','host_about','host_neighbourhood','calendar_updated','availability_30','availability_60','availability_90','availability_365','picture_url'])"
   ]
  },
  {
   "cell_type": "markdown",
   "id": "38811cdc",
   "metadata": {},
   "source": [
    "Eliminamos las habitaciones, casas compartidas, hoteles, picaderos, etc, solo queremos viviendas completas"
   ]
  },
  {
   "cell_type": "code",
   "execution_count": 35,
   "id": "d8da9899",
   "metadata": {},
   "outputs": [
    {
     "data": {
      "text/plain": [
       "room_type\n",
       "Entire home/apt    16805\n",
       "Name: count, dtype: int64"
      ]
     },
     "execution_count": 35,
     "metadata": {},
     "output_type": "execute_result"
    }
   ],
   "source": [
    "# df['property_type'].value_counts()\n",
    "# df['room_type'].value_counts()\n",
    "df = df[df['room_type']== 'Entire home/apt'].copy()\n",
    "df['room_type'].value_counts()"
   ]
  },
  {
   "cell_type": "markdown",
   "id": "ae97cba7",
   "metadata": {},
   "source": [
    "conversión de tipos"
   ]
  },
  {
   "cell_type": "code",
   "execution_count": 36,
   "id": "87870db6",
   "metadata": {},
   "outputs": [],
   "source": [
    "df['accommodates'] = df['accommodates'].astype(int)\n",
    "df['bathrooms'] = df['bathrooms'].replace([np.inf,-np.inf],np.nan).fillna(0).astype(int)\n",
    "df['bedrooms'] = df['bedrooms'].replace([np.inf,-np.inf],np.nan).fillna(0).astype(int)\n",
    "df['price'] = df['price'].replace({'\\$': '', ',': ''}, regex=True).astype(float)\n",
    "df['minimum_nights'] = df['minimum_nights'].astype(int)\n",
    "df['maximum_nights'] = df['maximum_nights'].astype(int)\n",
    "df['estimated_occupancy_l365d'] = df['estimated_occupancy_l365d'].astype(int)"
   ]
  },
  {
   "cell_type": "markdown",
   "id": "4ab14087",
   "metadata": {},
   "source": [
    "imputamos una habitación y un baño cuando esta información no está rellena, asumiendo que habiendo retirado las propiedades compartidas, podemos interpretar que los estudios, lofts, etc todos van a tener al menos una habitación y baño o equivalente. (Sofá cama, etc).\n",
    "\n",
    "*También se podría imputar las habitaciones dividiendo los \"acommodates\" entre dos pero creo que este método es más conservador.*"
   ]
  },
  {
   "cell_type": "code",
   "execution_count": 37,
   "id": "1b9280ed",
   "metadata": {},
   "outputs": [],
   "source": [
    "# df[(df['bathrooms'] == 0)& (df['bedrooms']==0)]\n",
    "df['bathrooms'] = df['bathrooms'].replace(0,1)\n",
    "df['bedrooms'] = df['bedrooms'].replace(0,1)"
   ]
  },
  {
   "cell_type": "code",
   "execution_count": 38,
   "id": "0e1eb013",
   "metadata": {},
   "outputs": [],
   "source": [
    "df = df.rename(columns={'id':'property_id'})"
   ]
  },
  {
   "cell_type": "code",
   "execution_count": 39,
   "id": "4926efce",
   "metadata": {},
   "outputs": [
    {
     "name": "stdout",
     "output_type": "stream",
     "text": [
      "<class 'pandas.core.frame.DataFrame'>\n",
      "Index: 16805 entries, 1 to 25285\n",
      "Data columns (total 18 columns):\n",
      " #   Column                        Non-Null Count  Dtype  \n",
      "---  ------                        --------------  -----  \n",
      " 0   property_id                   16805 non-null  int64  \n",
      " 1   listing_url                   16805 non-null  object \n",
      " 2   name                          16805 non-null  object \n",
      " 3   description                   16344 non-null  object \n",
      " 4   neighbourhood_cleansed        16805 non-null  object \n",
      " 5   neighbourhood_group_cleansed  16805 non-null  object \n",
      " 6   latitude                      16805 non-null  float64\n",
      " 7   longitude                     16805 non-null  float64\n",
      " 8   property_type                 16805 non-null  object \n",
      " 9   room_type                     16805 non-null  object \n",
      " 10  accommodates                  16805 non-null  int64  \n",
      " 11  bathrooms                     16805 non-null  int64  \n",
      " 12  bedrooms                      16805 non-null  int64  \n",
      " 13  price                         13871 non-null  float64\n",
      " 14  minimum_nights                16805 non-null  int64  \n",
      " 15  maximum_nights                16805 non-null  int64  \n",
      " 16  estimated_occupancy_l365d     16805 non-null  int64  \n",
      " 17  estimated_revenue_l365d       13871 non-null  float64\n",
      "dtypes: float64(4), int64(7), object(7)\n",
      "memory usage: 2.4+ MB\n"
     ]
    }
   ],
   "source": [
    "df.info()"
   ]
  },
  {
   "cell_type": "markdown",
   "id": "9d9db15b",
   "metadata": {},
   "source": [
    "## Bloque III\n",
    "Importamos a la base de datos. \n",
    "**Requiere haber creado la tabla** <code>01_CREATE TABLE bnb_property.sql</code>"
   ]
  },
  {
   "cell_type": "code",
   "execution_count": 40,
   "id": "f7f5e8d3",
   "metadata": {},
   "outputs": [],
   "source": [
    "from config_bd import get_connection"
   ]
  },
  {
   "cell_type": "code",
   "execution_count": 41,
   "id": "d6b130ab",
   "metadata": {},
   "outputs": [],
   "source": [
    "df.to_csv(os.path.join(TEMP_DIR,'transform_listings.csv'), index=False)"
   ]
  },
  {
   "cell_type": "code",
   "execution_count": 42,
   "id": "c391fd3d",
   "metadata": {},
   "outputs": [
    {
     "name": "stdout",
     "output_type": "stream",
     "text": [
      "<class 'pandas.core.frame.DataFrame'>\n",
      "Index: 16805 entries, 1 to 25285\n",
      "Data columns (total 18 columns):\n",
      " #   Column                        Non-Null Count  Dtype  \n",
      "---  ------                        --------------  -----  \n",
      " 0   property_id                   16805 non-null  int64  \n",
      " 1   listing_url                   16805 non-null  object \n",
      " 2   name                          16805 non-null  object \n",
      " 3   description                   16344 non-null  object \n",
      " 4   neighbourhood_cleansed        16805 non-null  object \n",
      " 5   neighbourhood_group_cleansed  16805 non-null  object \n",
      " 6   latitude                      16805 non-null  float64\n",
      " 7   longitude                     16805 non-null  float64\n",
      " 8   property_type                 16805 non-null  object \n",
      " 9   room_type                     16805 non-null  object \n",
      " 10  accommodates                  16805 non-null  int64  \n",
      " 11  bathrooms                     16805 non-null  int64  \n",
      " 12  bedrooms                      16805 non-null  int64  \n",
      " 13  price                         13871 non-null  float64\n",
      " 14  minimum_nights                16805 non-null  int64  \n",
      " 15  maximum_nights                16805 non-null  int64  \n",
      " 16  estimated_occupancy_l365d     16805 non-null  int64  \n",
      " 17  estimated_revenue_l365d       13871 non-null  float64\n",
      "dtypes: float64(4), int64(7), object(7)\n",
      "memory usage: 2.4+ MB\n"
     ]
    }
   ],
   "source": [
    "df.info()"
   ]
  },
  {
   "cell_type": "markdown",
   "id": "e244f0de",
   "metadata": {},
   "source": [
    "# ⌛VOY POR AQUÍÍÍÍÍÍÍÍÍÍÍÍÍÍÍÍÍÍÍÍÍÍÍÍÍÍÍÍÍÍÍÍÍÍÍÍÍÍÍÍÍÍÍÍÍÍÍÍÍÍÍÍ"
   ]
  },
  {
   "cell_type": "code",
   "execution_count": 43,
   "id": "a53d4582",
   "metadata": {},
   "outputs": [],
   "source": [
    "# from tqdm import tqdm\n",
    "# # from time import sleep\n",
    "\n",
    "# with get_connection() as conn:\n",
    "#     cursor = conn.cursor()\n",
    "#     cursor.fast_executemany = True \n",
    "\n",
    "#     CHUNKSIZE = 500\n",
    "#     for chunk in tqdm(\n",
    "#         pd.read_csv(os.path.join(TEMP_DIR, 'transform_calendar.csv'), chunksize=CHUNKSIZE),\n",
    "#         unit_scale=CHUNKSIZE, unit=\" filas\"\n",
    "#     ):\n",
    "\n",
    "#         insert_sql = \"\"\"\n",
    "#         INSERT INTO dbo.bnb_calendar\n",
    "#             (property_id, [date], available, price,\n",
    "#             minimum_nights, maximum_nights)\n",
    "#         VALUES (?,?,?,?,?,?)\n",
    "#         \"\"\"\n",
    "#         cursor.executemany(insert_sql, chunk.values.tolist())\n",
    "#         conn.commit()        \n",
    "\n",
    "\n"
   ]
  },
  {
   "cell_type": "markdown",
   "id": "01226f75",
   "metadata": {},
   "source": [
    "~~Elimino el fichero para no dejar duplicado el csv~~\n",
    "<span style=\"color:orange\">En este notebook no hay que eliminar el transformado ya que lo vamos a emplear desde el notebook de calendars, evitando importar a la base de datos la información que no nos interesa respecto a las viviendas que hemos eliminado.</span>"
   ]
  },
  {
   "cell_type": "code",
   "execution_count": 44,
   "id": "3f712a80",
   "metadata": {},
   "outputs": [],
   "source": [
    "# os.remove(os.path.join(TEMP_DIR,'transform_listings.csv'))"
   ]
  },
  {
   "cell_type": "code",
   "execution_count": 45,
   "id": "3e13c882",
   "metadata": {},
   "outputs": [],
   "source": [
    "df = pd.read_csv(os.path.join(TEMP_DIR,'transform_listings.csv'))"
   ]
  },
  {
   "cell_type": "code",
   "execution_count": 46,
   "id": "3620ee9f",
   "metadata": {},
   "outputs": [],
   "source": [
    "# df['id'].max()"
   ]
  }
 ],
 "metadata": {
  "kernelspec": {
   "display_name": "tfm",
   "language": "python",
   "name": "python3"
  },
  "language_info": {
   "codemirror_mode": {
    "name": "ipython",
    "version": 3
   },
   "file_extension": ".py",
   "mimetype": "text/x-python",
   "name": "python",
   "nbconvert_exporter": "python",
   "pygments_lexer": "ipython3",
   "version": "3.9.21"
  }
 },
 "nbformat": 4,
 "nbformat_minor": 5
}
