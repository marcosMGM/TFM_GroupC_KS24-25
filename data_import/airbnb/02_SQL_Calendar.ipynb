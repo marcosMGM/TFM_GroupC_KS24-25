{
 "cells": [
  {
   "cell_type": "markdown",
   "id": "8be09229",
   "metadata": {},
   "source": [
    "# <span style=\"background-color:white;color:red;\"> ⌛⌛ EN PROGRESO⌛⌛</span>"
   ]
  },
  {
   "cell_type": "markdown",
   "id": "58fab76c",
   "metadata": {},
   "source": [
    "Con este script trabajaremos en pandas los datos almacenados en la base de datos sql server (servidor remoto). Tarda un minuto aprox en cargar el pandas."
   ]
  },
  {
   "cell_type": "code",
   "execution_count": 2,
   "id": "4bf9001a",
   "metadata": {},
   "outputs": [],
   "source": [
    "import pandas as pd\n",
    "import numpy as np\n",
    "import os, sys, time\n",
    "from config_bd import get_connection"
   ]
  },
  {
   "cell_type": "code",
   "execution_count": null,
   "id": "154ac1b3",
   "metadata": {},
   "outputs": [
    {
     "name": "stderr",
     "output_type": "stream",
     "text": [
      "C:\\Users\\dsantamaria\\AppData\\Local\\Temp\\ipykernel_30588\\2722173423.py:6: UserWarning: pandas only supports SQLAlchemy connectable (engine/connection) or database string URI or sqlite3 DBAPI2 connection. Other DBAPI2 objects are not tested. Please consider using SQLAlchemy.\n",
      "  df = pd.read_sql(query, conn)\n"
     ]
    }
   ],
   "source": [
    "with get_connection() as conn:\n",
    "    query = \"\"\"\n",
    "    SELECT * FROM bnb_calendar\n",
    "    \"\"\"\n",
    "    df = pd.read_sql(query, conn)"
   ]
  },
  {
   "cell_type": "code",
   "execution_count": 4,
   "id": "beb064ec",
   "metadata": {},
   "outputs": [
    {
     "data": {
      "application/vnd.microsoft.datawrangler.viewer.v0+json": {
       "columns": [
        {
         "name": "index",
         "rawType": "int64",
         "type": "integer"
        },
        {
         "name": "property_id",
         "rawType": "int64",
         "type": "integer"
        },
        {
         "name": "date",
         "rawType": "object",
         "type": "string"
        },
        {
         "name": "available",
         "rawType": "bool",
         "type": "boolean"
        },
        {
         "name": "price",
         "rawType": "float64",
         "type": "float"
        },
        {
         "name": "minimum_nights",
         "rawType": "int64",
         "type": "integer"
        },
        {
         "name": "maximum_nights",
         "rawType": "int64",
         "type": "integer"
        }
       ],
       "conversionMethod": "pd.DataFrame",
       "ref": "7001e861-cb86-4e99-ae5f-94214ed7445f",
       "rows": [
        [
         "0",
         "21853",
         "2025-03-11",
         "False",
         "30.0",
         "4",
         "40"
        ],
        [
         "1",
         "21853",
         "2025-03-12",
         "False",
         "30.0",
         "4",
         "40"
        ],
        [
         "2",
         "21853",
         "2025-03-13",
         "False",
         "30.0",
         "4",
         "40"
        ],
        [
         "3",
         "21853",
         "2025-03-14",
         "False",
         "30.0",
         "4",
         "40"
        ],
        [
         "4",
         "21853",
         "2025-03-15",
         "False",
         "30.0",
         "4",
         "40"
        ],
        [
         "5",
         "21853",
         "2025-03-16",
         "False",
         "30.0",
         "4",
         "40"
        ],
        [
         "6",
         "21853",
         "2025-03-17",
         "False",
         "30.0",
         "4",
         "40"
        ],
        [
         "7",
         "21853",
         "2025-03-18",
         "False",
         "30.0",
         "4",
         "40"
        ],
        [
         "8",
         "21853",
         "2025-03-19",
         "False",
         "30.0",
         "4",
         "40"
        ],
        [
         "9",
         "21853",
         "2025-03-20",
         "False",
         "30.0",
         "4",
         "40"
        ],
        [
         "10",
         "21853",
         "2025-03-21",
         "False",
         "30.0",
         "4",
         "40"
        ],
        [
         "11",
         "21853",
         "2025-03-22",
         "False",
         "30.0",
         "4",
         "40"
        ],
        [
         "12",
         "21853",
         "2025-03-23",
         "False",
         "30.0",
         "4",
         "40"
        ],
        [
         "13",
         "21853",
         "2025-03-24",
         "False",
         "30.0",
         "4",
         "40"
        ],
        [
         "14",
         "21853",
         "2025-03-25",
         "False",
         "30.0",
         "4",
         "40"
        ],
        [
         "15",
         "21853",
         "2025-03-26",
         "False",
         "30.0",
         "4",
         "40"
        ],
        [
         "16",
         "21853",
         "2025-03-27",
         "False",
         "30.0",
         "4",
         "40"
        ],
        [
         "17",
         "21853",
         "2025-03-28",
         "False",
         "30.0",
         "4",
         "40"
        ],
        [
         "18",
         "21853",
         "2025-03-29",
         "False",
         "30.0",
         "4",
         "40"
        ],
        [
         "19",
         "21853",
         "2025-03-30",
         "False",
         "30.0",
         "4",
         "40"
        ],
        [
         "20",
         "21853",
         "2025-03-31",
         "False",
         "30.0",
         "4",
         "40"
        ],
        [
         "21",
         "21853",
         "2025-04-01",
         "False",
         "30.0",
         "4",
         "40"
        ],
        [
         "22",
         "21853",
         "2025-04-02",
         "False",
         "30.0",
         "4",
         "40"
        ],
        [
         "23",
         "21853",
         "2025-04-03",
         "False",
         "30.0",
         "4",
         "40"
        ],
        [
         "24",
         "21853",
         "2025-04-04",
         "False",
         "30.0",
         "4",
         "40"
        ],
        [
         "25",
         "21853",
         "2025-04-05",
         "False",
         "30.0",
         "4",
         "40"
        ],
        [
         "26",
         "21853",
         "2025-04-06",
         "False",
         "30.0",
         "4",
         "40"
        ],
        [
         "27",
         "21853",
         "2025-04-07",
         "False",
         "30.0",
         "4",
         "40"
        ],
        [
         "28",
         "21853",
         "2025-04-08",
         "False",
         "30.0",
         "4",
         "40"
        ],
        [
         "29",
         "21853",
         "2025-04-09",
         "False",
         "30.0",
         "4",
         "40"
        ],
        [
         "30",
         "21853",
         "2025-04-10",
         "False",
         "30.0",
         "4",
         "40"
        ],
        [
         "31",
         "21853",
         "2025-04-11",
         "False",
         "30.0",
         "4",
         "40"
        ],
        [
         "32",
         "21853",
         "2025-04-12",
         "False",
         "30.0",
         "4",
         "40"
        ],
        [
         "33",
         "21853",
         "2025-04-13",
         "False",
         "30.0",
         "4",
         "40"
        ],
        [
         "34",
         "21853",
         "2025-04-14",
         "False",
         "30.0",
         "4",
         "40"
        ],
        [
         "35",
         "21853",
         "2025-04-15",
         "False",
         "30.0",
         "4",
         "40"
        ],
        [
         "36",
         "21853",
         "2025-04-16",
         "False",
         "30.0",
         "4",
         "40"
        ],
        [
         "37",
         "21853",
         "2025-04-17",
         "False",
         "30.0",
         "4",
         "40"
        ],
        [
         "38",
         "21853",
         "2025-04-18",
         "False",
         "30.0",
         "4",
         "40"
        ],
        [
         "39",
         "21853",
         "2025-04-19",
         "False",
         "30.0",
         "4",
         "40"
        ],
        [
         "40",
         "21853",
         "2025-04-20",
         "False",
         "30.0",
         "4",
         "40"
        ],
        [
         "41",
         "21853",
         "2025-04-21",
         "False",
         "30.0",
         "4",
         "40"
        ],
        [
         "42",
         "21853",
         "2025-04-22",
         "False",
         "30.0",
         "4",
         "40"
        ],
        [
         "43",
         "21853",
         "2025-04-23",
         "False",
         "30.0",
         "4",
         "40"
        ],
        [
         "44",
         "21853",
         "2025-04-24",
         "False",
         "30.0",
         "4",
         "40"
        ],
        [
         "45",
         "21853",
         "2025-04-25",
         "False",
         "30.0",
         "4",
         "40"
        ],
        [
         "46",
         "21853",
         "2025-04-26",
         "False",
         "30.0",
         "4",
         "40"
        ],
        [
         "47",
         "21853",
         "2025-04-27",
         "False",
         "30.0",
         "4",
         "40"
        ],
        [
         "48",
         "21853",
         "2025-04-28",
         "False",
         "30.0",
         "4",
         "40"
        ],
        [
         "49",
         "21853",
         "2025-04-29",
         "False",
         "30.0",
         "4",
         "40"
        ]
       ],
       "shape": {
        "columns": 6,
        "rows": 9236806
       }
      },
      "text/html": [
       "<div>\n",
       "<style scoped>\n",
       "    .dataframe tbody tr th:only-of-type {\n",
       "        vertical-align: middle;\n",
       "    }\n",
       "\n",
       "    .dataframe tbody tr th {\n",
       "        vertical-align: top;\n",
       "    }\n",
       "\n",
       "    .dataframe thead th {\n",
       "        text-align: right;\n",
       "    }\n",
       "</style>\n",
       "<table border=\"1\" class=\"dataframe\">\n",
       "  <thead>\n",
       "    <tr style=\"text-align: right;\">\n",
       "      <th></th>\n",
       "      <th>property_id</th>\n",
       "      <th>date</th>\n",
       "      <th>available</th>\n",
       "      <th>price</th>\n",
       "      <th>minimum_nights</th>\n",
       "      <th>maximum_nights</th>\n",
       "    </tr>\n",
       "  </thead>\n",
       "  <tbody>\n",
       "    <tr>\n",
       "      <th>0</th>\n",
       "      <td>21853</td>\n",
       "      <td>2025-03-11</td>\n",
       "      <td>False</td>\n",
       "      <td>30.0</td>\n",
       "      <td>4</td>\n",
       "      <td>40</td>\n",
       "    </tr>\n",
       "    <tr>\n",
       "      <th>1</th>\n",
       "      <td>21853</td>\n",
       "      <td>2025-03-12</td>\n",
       "      <td>False</td>\n",
       "      <td>30.0</td>\n",
       "      <td>4</td>\n",
       "      <td>40</td>\n",
       "    </tr>\n",
       "    <tr>\n",
       "      <th>2</th>\n",
       "      <td>21853</td>\n",
       "      <td>2025-03-13</td>\n",
       "      <td>False</td>\n",
       "      <td>30.0</td>\n",
       "      <td>4</td>\n",
       "      <td>40</td>\n",
       "    </tr>\n",
       "    <tr>\n",
       "      <th>3</th>\n",
       "      <td>21853</td>\n",
       "      <td>2025-03-14</td>\n",
       "      <td>False</td>\n",
       "      <td>30.0</td>\n",
       "      <td>4</td>\n",
       "      <td>40</td>\n",
       "    </tr>\n",
       "    <tr>\n",
       "      <th>4</th>\n",
       "      <td>21853</td>\n",
       "      <td>2025-03-15</td>\n",
       "      <td>False</td>\n",
       "      <td>30.0</td>\n",
       "      <td>4</td>\n",
       "      <td>40</td>\n",
       "    </tr>\n",
       "    <tr>\n",
       "      <th>...</th>\n",
       "      <td>...</td>\n",
       "      <td>...</td>\n",
       "      <td>...</td>\n",
       "      <td>...</td>\n",
       "      <td>...</td>\n",
       "      <td>...</td>\n",
       "    </tr>\n",
       "    <tr>\n",
       "      <th>9236801</th>\n",
       "      <td>1369179411176424072</td>\n",
       "      <td>2026-02-28</td>\n",
       "      <td>True</td>\n",
       "      <td>29.0</td>\n",
       "      <td>1</td>\n",
       "      <td>365</td>\n",
       "    </tr>\n",
       "    <tr>\n",
       "      <th>9236802</th>\n",
       "      <td>1369179411176424072</td>\n",
       "      <td>2026-03-01</td>\n",
       "      <td>True</td>\n",
       "      <td>29.0</td>\n",
       "      <td>1</td>\n",
       "      <td>365</td>\n",
       "    </tr>\n",
       "    <tr>\n",
       "      <th>9236803</th>\n",
       "      <td>1369179411176424072</td>\n",
       "      <td>2026-03-02</td>\n",
       "      <td>True</td>\n",
       "      <td>29.0</td>\n",
       "      <td>1</td>\n",
       "      <td>365</td>\n",
       "    </tr>\n",
       "    <tr>\n",
       "      <th>9236804</th>\n",
       "      <td>1369179411176424072</td>\n",
       "      <td>2026-03-03</td>\n",
       "      <td>True</td>\n",
       "      <td>29.0</td>\n",
       "      <td>1</td>\n",
       "      <td>365</td>\n",
       "    </tr>\n",
       "    <tr>\n",
       "      <th>9236805</th>\n",
       "      <td>1369179411176424072</td>\n",
       "      <td>2026-03-04</td>\n",
       "      <td>True</td>\n",
       "      <td>29.0</td>\n",
       "      <td>1</td>\n",
       "      <td>365</td>\n",
       "    </tr>\n",
       "  </tbody>\n",
       "</table>\n",
       "<p>9236806 rows × 6 columns</p>\n",
       "</div>"
      ],
      "text/plain": [
       "                 property_id        date  available  price  minimum_nights  \\\n",
       "0                      21853  2025-03-11      False   30.0               4   \n",
       "1                      21853  2025-03-12      False   30.0               4   \n",
       "2                      21853  2025-03-13      False   30.0               4   \n",
       "3                      21853  2025-03-14      False   30.0               4   \n",
       "4                      21853  2025-03-15      False   30.0               4   \n",
       "...                      ...         ...        ...    ...             ...   \n",
       "9236801  1369179411176424072  2026-02-28       True   29.0               1   \n",
       "9236802  1369179411176424072  2026-03-01       True   29.0               1   \n",
       "9236803  1369179411176424072  2026-03-02       True   29.0               1   \n",
       "9236804  1369179411176424072  2026-03-03       True   29.0               1   \n",
       "9236805  1369179411176424072  2026-03-04       True   29.0               1   \n",
       "\n",
       "         maximum_nights  \n",
       "0                    40  \n",
       "1                    40  \n",
       "2                    40  \n",
       "3                    40  \n",
       "4                    40  \n",
       "...                 ...  \n",
       "9236801             365  \n",
       "9236802             365  \n",
       "9236803             365  \n",
       "9236804             365  \n",
       "9236805             365  \n",
       "\n",
       "[9236806 rows x 6 columns]"
      ]
     },
     "execution_count": 4,
     "metadata": {},
     "output_type": "execute_result"
    }
   ],
   "source": [
    "df"
   ]
  }
 ],
 "metadata": {
  "kernelspec": {
   "display_name": "tfm",
   "language": "python",
   "name": "python3"
  },
  "language_info": {
   "codemirror_mode": {
    "name": "ipython",
    "version": 3
   },
   "file_extension": ".py",
   "mimetype": "text/x-python",
   "name": "python",
   "nbconvert_exporter": "python",
   "pygments_lexer": "ipython3",
   "version": "3.9.21"
  }
 },
 "nbformat": 4,
 "nbformat_minor": 5
}
