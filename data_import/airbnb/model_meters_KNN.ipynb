{
 "cells": [
  {
   "cell_type": "code",
   "execution_count": 1,
   "id": "b5cb98a7",
   "metadata": {},
   "outputs": [
    {
     "name": "stdout",
     "output_type": "stream",
     "text": [
      "['/opt/anaconda3/envs/ML_Kschool/lib/python311.zip', '/opt/anaconda3/envs/ML_Kschool/lib/python3.11', '/opt/anaconda3/envs/ML_Kschool/lib/python3.11/lib-dynload', '', '/Users/jayarza/.local/lib/python3.11/site-packages', '/opt/anaconda3/envs/ML_Kschool/lib/python3.11/site-packages', '/Users/jayarza/Developer/Master Data Science/TFM/Proyecto_Git/TFM_GroupC_KS24-25']\n"
     ]
    }
   ],
   "source": [
    "import sys\n",
    "import os\n",
    "project_root = os.path.abspath(os.path.join(os.getcwd(), '..', '..'))\n",
    "\n",
    "# Add to sys.path if not already added\n",
    "if project_root not in sys.path:\n",
    "    sys.path.append(project_root)\n",
    "print(sys.path)\n"
   ]
  },
  {
   "cell_type": "code",
   "execution_count": 2,
   "id": "02d7aefa",
   "metadata": {},
   "outputs": [],
   "source": [
    "from tfm_functions_bd_mac import *\n",
    "import pandas as pd\n",
    "import matplotlib.pyplot as plt\n",
    "import numpy as np\n",
    "\n",
    "# Preprocesado y modelado\n",
    "from scipy.stats import pearsonr\n",
    "from sklearn.model_selection import train_test_split\n",
    "from sklearn.metrics import r2_score\n",
    "from sklearn.metrics import mean_squared_error\n",
    "from sklearn.preprocessing import StandardScaler\n",
    "import statsmodels.api as sm\n",
    "import statsmodels.formula.api as smf\n",
    "from scipy import stats"
   ]
  },
  {
   "cell_type": "code",
   "execution_count": 3,
   "id": "411f365c",
   "metadata": {},
   "outputs": [],
   "source": [
    "# Call get_houses with explicit credentials\n",
    "df_houses = pd.DataFrame(get_all_houses(),columns=[\n",
    "\"HOUSE_ID\",\n",
    "\"TITLE\",\n",
    "\"PRICE\",\n",
    "\"ADDRESS1\",\n",
    "\"ADDRESS2\",\n",
    "\"CITY\",\n",
    "\"ENERGY_CONSUME\",\n",
    "\"ENERGY_EMISSION\",\n",
    "\"PLANTA\",\n",
    "\"SUPERFICIE\",\n",
    "\"HABITACIONES\",\n",
    "\"BANOS\",\n",
    "\"GARAJE\",\n",
    "\"ESTADO\",\n",
    "\"ARMARIOS_EMPOTRADOS\",\n",
    "\"ANO\",\n",
    "\"CALEFACCION\",\n",
    "\"PISCINA\",\n",
    "\"JARDIN\",\n",
    "\"UPDATE_DATE\",\n",
    "\"URL\",\n",
    "\"ZONA\",\n",
    "\"MORE_INFO\",\n",
    "\"ASCENSOR\",\n",
    "\"MOVILIDAD_REDUCIDA\",\n",
    "\"TRASTERO\",\n",
    "\"TERRAZA\",\n",
    "\"BALCON\",\n",
    "\"AIRE_ACOND\",\n",
    "\"ORIENTACION\",\n",
    "\"LATITUDE\",\n",
    "\"LONGITUDE\",\n",
    "\"CREATED_DATE\",\n",
    "\"UPDATED_DATE\",\n",
    "\"DISTRITO\",\n",
    "\"PRICE_PER_NIGHT\"])\n"
   ]
  },
  {
   "cell_type": "code",
   "execution_count": 4,
   "id": "512627c0",
   "metadata": {},
   "outputs": [
    {
     "data": {
      "text/plain": [
       "8208"
      ]
     },
     "execution_count": 4,
     "metadata": {},
     "output_type": "execute_result"
    }
   ],
   "source": [
    "len(df_houses)"
   ]
  },
  {
   "cell_type": "code",
   "execution_count": 5,
   "id": "818a330d",
   "metadata": {},
   "outputs": [
    {
     "data": {
      "application/vnd.microsoft.datawrangler.viewer.v0+json": {
       "columns": [
        {
         "name": "index",
         "rawType": "int64",
         "type": "integer"
        },
        {
         "name": "HOUSE_ID",
         "rawType": "object",
         "type": "string"
        },
        {
         "name": "TITLE",
         "rawType": "object",
         "type": "string"
        },
        {
         "name": "PRICE",
         "rawType": "float64",
         "type": "float"
        },
        {
         "name": "ADDRESS1",
         "rawType": "object",
         "type": "string"
        },
        {
         "name": "ADDRESS2",
         "rawType": "object",
         "type": "unknown"
        },
        {
         "name": "CITY",
         "rawType": "object",
         "type": "string"
        },
        {
         "name": "ENERGY_CONSUME",
         "rawType": "object",
         "type": "unknown"
        },
        {
         "name": "ENERGY_EMISSION",
         "rawType": "object",
         "type": "unknown"
        },
        {
         "name": "PLANTA",
         "rawType": "object",
         "type": "unknown"
        },
        {
         "name": "SUPERFICIE",
         "rawType": "object",
         "type": "string"
        },
        {
         "name": "HABITACIONES",
         "rawType": "object",
         "type": "string"
        },
        {
         "name": "BANOS",
         "rawType": "object",
         "type": "string"
        },
        {
         "name": "GARAJE",
         "rawType": "bool",
         "type": "boolean"
        },
        {
         "name": "ESTADO",
         "rawType": "object",
         "type": "unknown"
        },
        {
         "name": "ARMARIOS_EMPOTRADOS",
         "rawType": "bool",
         "type": "boolean"
        },
        {
         "name": "ANO",
         "rawType": "object",
         "type": "unknown"
        },
        {
         "name": "CALEFACCION",
         "rawType": "object",
         "type": "unknown"
        },
        {
         "name": "PISCINA",
         "rawType": "bool",
         "type": "boolean"
        },
        {
         "name": "JARDIN",
         "rawType": "bool",
         "type": "boolean"
        },
        {
         "name": "UPDATE_DATE",
         "rawType": "object",
         "type": "string"
        },
        {
         "name": "URL",
         "rawType": "object",
         "type": "string"
        },
        {
         "name": "ZONA",
         "rawType": "object",
         "type": "string"
        },
        {
         "name": "MORE_INFO",
         "rawType": "object",
         "type": "unknown"
        },
        {
         "name": "ASCENSOR",
         "rawType": "bool",
         "type": "boolean"
        },
        {
         "name": "MOVILIDAD_REDUCIDA",
         "rawType": "object",
         "type": "string"
        },
        {
         "name": "TRASTERO",
         "rawType": "bool",
         "type": "boolean"
        },
        {
         "name": "TERRAZA",
         "rawType": "bool",
         "type": "boolean"
        },
        {
         "name": "BALCON",
         "rawType": "bool",
         "type": "boolean"
        },
        {
         "name": "AIRE_ACOND",
         "rawType": "bool",
         "type": "boolean"
        },
        {
         "name": "ORIENTACION",
         "rawType": "object",
         "type": "unknown"
        },
        {
         "name": "LATITUDE",
         "rawType": "float64",
         "type": "float"
        },
        {
         "name": "LONGITUDE",
         "rawType": "float64",
         "type": "float"
        },
        {
         "name": "CREATED_DATE",
         "rawType": "datetime64[ns]",
         "type": "datetime"
        },
        {
         "name": "UPDATED_DATE",
         "rawType": "datetime64[ns]",
         "type": "datetime"
        },
        {
         "name": "DISTRITO",
         "rawType": "object",
         "type": "string"
        },
        {
         "name": "PRICE_PER_NIGHT",
         "rawType": "object",
         "type": "unknown"
        }
       ],
       "ref": "eccfa947-c553-464b-8e85-8578e809b143",
       "rows": [
        [
         "0",
         "100053144",
         "Piso en venta en calle de Saturno",
         "142000.0",
         "Calle de Saturno",
         "Barrio Casco Histórico de Barajas",
         "Madrid capital, Madrid",
         null,
         null,
         "Planta 1ª",
         "Consumo: \n260 kWh/m² año",
         "3 habitaciones",
         "1 baño",
         "False",
         "Segunda mano/buen estado",
         "False",
         null,
         null,
         "False",
         "False",
         "Anuncio actualizado el 24 de abril",
         "https://www.idealista.com/inmueble/100053144/",
         "madrid",
         null,
         "True",
         "Not defined",
         "False",
         "False",
         "False",
         "False",
         null,
         "40.4734285",
         "-3.5796101",
         "2025-05-25 16:40:39.310000",
         "2025-05-26 16:59:12.613000",
         "Barajas",
         "122.74"
        ],
        [
         "1",
         "100225591",
         "Casa o chalet independiente en venta en calle Espliego, 17",
         "439000.0",
         "Calle Espliego, 17",
         "Villalbilla",
         "Corredor del Henares, Madrid",
         null,
         null,
         "2 plantas",
         "Parcela de 710 m²",
         "5 habitaciones",
         "3 baños",
         "True",
         "Segunda mano/buen estado",
         "True",
         null,
         null,
         "True",
         "True",
         "Anuncio actualizado el 5 de abril",
         "https://www.idealista.com/inmueble/100225591/",
         "madrid",
         null,
         "False",
         "Not defined",
         "True",
         "True",
         "False",
         "False",
         "Orientación sur",
         "40.44462499999999",
         "-3.2850525",
         "2025-05-25 16:40:39.310000",
         "2025-05-26 16:59:23.887000",
         "Not defined",
         null
        ],
        [
         "2",
         "100281275",
         "Chalet adosado en venta en Las Matas- Peñascales",
         "280000.0",
         "Barrio Las Matas- Peñascales",
         "Distrito Las Matas- Peñascales",
         "Zona noroeste, Madrid",
         null,
         null,
         "2 plantas",
         "Emisiones: \n65,5 kg CO2/m² año",
         "3 habitaciones",
         "1 baño",
         "False",
         "Segunda mano/buen estado",
         "False",
         "Construido en 1960",
         "Calefacción individual: Gas natural",
         "False",
         "False",
         "Anuncio actualizado el 30 de marzo",
         "https://www.idealista.com/inmueble/100281275/",
         "madrid",
         null,
         "False",
         "Not defined",
         "True",
         "True",
         "False",
         "False",
         "Orientación sur, este, oeste",
         "40.41672790000001",
         "-3.7032905",
         "2025-05-25 16:40:39.310000",
         "2025-05-26 16:59:26.273000",
         "Centro",
         "155.44"
        ],
        [
         "3",
         "100445913",
         "Piso en venta en calle Marcelo Usera",
         "259000.0",
         "Calle Marcelo Usera",
         "Barrio Moscardó",
         "Madrid capital, Madrid",
         "icon-energy-c-f",
         "icon-energy-c-f",
         null,
         "73 m² construidos, 67 m² útiles",
         "3 habitaciones",
         "1 baño",
         "False",
         "Segunda mano/buen estado",
         "False",
         "Construido en 1960",
         "Calefacción individual",
         "False",
         "False",
         "Anuncio actualizado el 20 de marzo",
         "https://www.idealista.com/inmueble/100445913/",
         "madrid",
         null,
         "True",
         "Not defined",
         "False",
         "False",
         "False",
         "False",
         "Orientación norte, sur",
         "40.3856949",
         "-3.7071224",
         "2025-05-25 16:40:39.310000",
         "2025-05-26 17:19:30.850000",
         "Usera",
         "128.58"
        ],
        [
         "4",
         "100454896",
         "Piso en venta en Fuentes s/n",
         "139900.0",
         "Fuentes s/n",
         "Distrito Noroeste",
         "Corredor del Henares, Madrid",
         null,
         null,
         "Planta 5ª exterior",
         "63 m² construidos",
         "3 habitaciones",
         "1 baño",
         "False",
         "Segunda mano/buen estado",
         "False",
         null,
         "Calefacción individual: Gas natural",
         "False",
         "False",
         "Anuncio actualizado el 20 de marzo",
         "https://www.idealista.com/inmueble/100454896/",
         "madrid",
         null,
         "True",
         "Not defined",
         "False",
         "False",
         "False",
         "False",
         null,
         "40.4167307",
         "-3.7032972",
         "2025-05-25 16:40:39.310000",
         "2025-05-26 17:19:31.137000",
         "Centro",
         "155.44"
        ],
        [
         "5",
         "100519346",
         "Piso en venta en Écija",
         "1649000.0",
         "Écija",
         "Barrio Argüelles",
         "Madrid capital, Madrid",
         null,
         null,
         "Planta 3ª exterior",
         "175 m² construidos",
         "3 habitaciones",
         "3 baños",
         "False",
         "Segunda mano/buen estado",
         "True",
         null,
         "Calefacción individual",
         "False",
         "False",
         "Anuncio actualizado el 14 de abril",
         "https://www.idealista.com/inmueble/100519346/",
         "madrid",
         null,
         "True",
         "Not defined",
         "False",
         "True",
         "False",
         "False",
         null,
         "40.4314969",
         "-3.723654",
         "2025-05-25 16:40:39.310000",
         "2025-05-26 17:19:31.470000",
         "Moncloa - Aravaca",
         "193.81"
        ],
        [
         "6",
         "100519587",
         "Piso en venta en calle Segovia, 14",
         "101000.0",
         "Calle Segovia, 14",
         "Distrito Noroeste",
         "Corredor del Henares, Madrid",
         null,
         null,
         "Planta 5ª exterior",
         "76 m² construidos",
         "3 habitaciones",
         "1 baño",
         "False",
         "Segunda mano/para reformar",
         "False",
         null,
         "No dispone de calefacción",
         "False",
         "False",
         "Anuncio actualizado el 10 de abril",
         "https://www.idealista.com/inmueble/100519587/",
         "madrid",
         "Ocupada ilegalmente",
         "True",
         "Not defined",
         "True",
         "False",
         "False",
         "False",
         null,
         "-19.9952622",
         "23.4180769",
         "2025-05-25 16:40:39.310000",
         "2025-05-26 17:19:31.767000",
         "Not defined",
         null
        ],
        [
         "7",
         "100656798",
         "Piso en venta en calle de Paterna, 17",
         "210000.0",
         "Calle de Paterna, 17",
         "Barrio San Cristóbal",
         "Madrid capital, Madrid",
         null,
         null,
         "Planta 2ª exterior",
         "58 m² construidos",
         "3 habitaciones",
         "1 baño",
         "False",
         "Segunda mano/buen estado",
         "True",
         null,
         null,
         "False",
         "False",
         "Anuncio actualizado el 5 de abril",
         "https://www.idealista.com/inmueble/100656798/",
         "madrid",
         "Alquilada",
         "True",
         "Not defined",
         "False",
         "False",
         "True",
         "False",
         null,
         "40.3422257",
         "-3.6843119",
         "2025-05-25 16:40:39.310000",
         "2025-05-26 17:19:32.030000",
         "Villaverde",
         "104.75"
        ],
        [
         "8",
         "100794368",
         "Piso en venta en calle de la Marquesa de Silvela",
         "215000.0",
         "Calle de la Marquesa de Silvela",
         "Barrio Moscardó",
         "Madrid capital, Madrid",
         null,
         null,
         "Planta 3ª exterior",
         "Emisiones: \n53 kg CO2/m² año",
         "3 habitaciones",
         "1 baño",
         "False",
         "Segunda mano/buen estado",
         "False",
         "Construido en 1960",
         null,
         "False",
         "False",
         "Anuncio actualizado el 9 de abril",
         "https://www.idealista.com/inmueble/100794368/",
         "madrid",
         "Alquilada",
         "True",
         "Not defined",
         "False",
         "False",
         "False",
         "False",
         "Orientación este, oeste",
         "40.3860437",
         "-3.7142933",
         "2025-05-25 16:40:39.310000",
         "2025-05-26 17:19:32.290000",
         "Usera",
         "128.58"
        ],
        [
         "9",
         "100794996",
         "Piso en venta en calle de Ferroviarios",
         "213000.0",
         "Calle de Ferroviarios",
         "Barrio Almendrales",
         "Madrid capital, Madrid",
         null,
         null,
         null,
         "Emisiones: \n433 kg CO2/m² año",
         "3 habitaciones",
         "1 baño",
         "False",
         "Segunda mano/buen estado",
         "False",
         "Construido en 1961",
         null,
         "False",
         "False",
         "Anuncio actualizado el 7 de abril",
         "https://www.idealista.com/inmueble/100794996/",
         "madrid",
         null,
         "True",
         "Not defined",
         "False",
         "True",
         "False",
         "False",
         null,
         "40.3837587",
         "-3.704785",
         "2025-05-25 16:40:39.310000",
         "2025-05-26 17:19:32.590000",
         "Usera",
         "128.58"
        ],
        [
         "10",
         "100870194",
         "Casa o chalet independiente en venta en Cerro Alarcón",
         "750000.0",
         "Distrito Cerro Alarcón",
         "Valdemorillo",
         "Zona noroeste, Madrid",
         "icon-energy-c-d",
         "icon-energy-c-e",
         "2 plantas",
         "Parcela de 106 m²",
         "5 habitaciones",
         "3 baños",
         "True",
         "Segunda mano/buen estado",
         "True",
         "Construido en 2000",
         "Calefacción individual: Gas propano/butano",
         "True",
         "True",
         "Anuncio actualizado el 14 de abril",
         "https://www.idealista.com/inmueble/100870194/",
         "madrid",
         "Villa",
         "False",
         "Not defined",
         "True",
         "False",
         "True",
         "False",
         "Orientación norte, sur, este, oeste",
         "40.465653",
         "-4.087426499999999",
         "2025-05-25 16:40:39.310000",
         "2025-05-26 17:19:32.847000",
         "Not defined",
         null
        ],
        [
         "11",
         "100891794",
         "Piso en venta en calle de Pedro de Valdivia",
         "2300000.0",
         "Calle de Pedro de Valdivia",
         "Barrio El Viso",
         "Madrid capital, Madrid",
         null,
         null,
         "Planta 6ª exterior",
         "265 m² construidos",
         "5 habitaciones",
         "5 baños",
         "True",
         "Segunda mano/buen estado",
         "True",
         "Construido en 1966",
         "Calefacción central",
         "False",
         "False",
         "Anuncio actualizado el 11 de abril",
         "https://www.idealista.com/inmueble/100891794/",
         "madrid",
         "Lujo",
         "True",
         "1",
         "True",
         "True",
         "False",
         "False",
         null,
         "40.4391142",
         "-3.6849464",
         "2025-05-25 16:40:39.310000",
         "2025-05-26 17:19:33.113000",
         "Chamartín",
         "217.83"
        ],
        [
         "12",
         "100909239",
         "Chalet adosado en venta en calle mallorca",
         "330000.0",
         "Calle mallorca",
         "Distrito Zona Estación",
         "Zona sur, Madrid",
         "icon-energy-c-d",
         "icon-energy-c-d",
         "3 plantas",
         "209 m² construidos",
         "4 habitaciones",
         "3 baños",
         "True",
         "Segunda mano/buen estado",
         "True",
         null,
         null,
         "False",
         "True",
         "Anuncio actualizado el 24 de marzo",
         "https://www.idealista.com/inmueble/100909239/",
         "madrid",
         null,
         "False",
         "Not defined",
         "False",
         "True",
         "False",
         "False",
         null,
         "40.4167088",
         "-3.5812692",
         "2025-05-25 16:40:39.310000",
         "2025-05-26 17:19:33.410000",
         "Vicálvaro",
         "199.54"
        ],
        [
         "13",
         "100934265",
         "Piso en venta en calle de la Coruña, 29",
         "225000.0",
         "Calle de la Coruña, 29",
         "Distrito Juan de Austria",
         "Corredor del Henares, Madrid",
         null,
         null,
         "Planta 3ª exterior",
         "95 m² construidos",
         "3 habitaciones",
         "1 baño",
         "False",
         "Segunda mano/buen estado",
         "True",
         null,
         "Calefacción individual: Gas natural",
         "False",
         "False",
         "Anuncio actualizado el 14 de abril",
         "https://www.idealista.com/inmueble/100934265/",
         "madrid",
         null,
         "True",
         "1",
         "False",
         "True",
         "False",
         "False",
         "Orientación oeste",
         "40.4553846",
         "-3.699145799999999",
         "2025-05-25 16:40:39.310000",
         "2025-05-26 17:19:33.677000",
         "Tetuán",
         "127.77"
        ],
        [
         "14",
         "100961223",
         "Piso en venta en calle de Antonio Leyva",
         "229000.0",
         "Calle de Antonio Leyva",
         "Barrio Comillas",
         "Madrid capital, Madrid",
         "icon-energy-c-f",
         "icon-energy-c-f",
         null,
         "63 m² construidos, 59 m² útiles",
         "2 habitaciones",
         "1 baño",
         "False",
         "Segunda mano/buen estado",
         "False",
         "Construido en 1955",
         "Calefacción individual: Gas natural",
         "False",
         "False",
         "Anuncio actualizado el 8 de abril",
         "https://www.idealista.com/inmueble/100961223/",
         "madrid",
         null,
         "True",
         "1",
         "False",
         "False",
         "False",
         "False",
         "Orientación este",
         "40.3933344",
         "-3.7154894",
         "2025-05-25 16:40:39.310000",
         "2025-05-26 17:19:33.930000",
         "Carabanchel",
         "103.17"
        ],
        [
         "15",
         "101086296",
         "Piso en venta en calle Fray Diego Ruiz",
         "169000.0",
         "Calle Fray Diego Ruiz",
         "Distrito La Alhóndiga",
         "Zona sur, Madrid",
         "icon-energy-c-e",
         "icon-energy-c-e",
         "Planta 3ª interior",
         "73 m² construidos, 69 m² útiles",
         "3 habitaciones",
         "1 baño",
         "False",
         "Segunda mano/para reformar",
         "True",
         "Construido en 1970",
         "No dispone de calefacción",
         "False",
         "False",
         "Anuncio actualizado el 11 de abril",
         "https://www.idealista.com/inmueble/101086296/",
         "madrid",
         "Alquilada",
         "True",
         "Not defined",
         "False",
         "True",
         "False",
         "False",
         "Orientación oeste",
         "40.3026829",
         "-3.7363112",
         "2025-05-25 16:40:39.310000",
         "2025-05-26 17:19:34.190000",
         "Not defined",
         null
        ],
        [
         "16",
         "101141691",
         "Piso en venta en calle de Villamanín",
         "259000.0",
         "Calle de Villamanín",
         "Barrio Lucero",
         "Madrid capital, Madrid",
         "icon-energy-c-e",
         "icon-energy-c-e",
         null,
         "72 m² construidos, 69 m² útiles",
         "3 habitaciones",
         "1 baño",
         "False",
         "Segunda mano/buen estado",
         "False",
         "Construido en 1966",
         "Calefacción individual: Gas natural",
         "False",
         "False",
         "Anuncio actualizado el 31 de marzo",
         "https://www.idealista.com/inmueble/101141691/",
         "madrid",
         null,
         "True",
         "Not defined",
         "False",
         "True",
         "False",
         "False",
         null,
         "40.404827",
         "-3.751464",
         "2025-05-25 16:40:39.310000",
         "2025-05-26 17:19:34.450000",
         "Latina",
         "114.49"
        ],
        [
         "17",
         "101156711",
         "Casa o chalet independiente en venta en Cadalso de los Vidrios",
         "150000.0",
         "Zona suroeste, Madrid",
         null,
         "Zona suroeste, Madrid",
         null,
         null,
         "1 planta",
         "160 m² construidos, 151 m² útiles",
         "5 habitaciones",
         "3 baños",
         "False",
         "Segunda mano/buen estado",
         "False",
         "Construido en 2005",
         "No dispone de calefacción",
         "False",
         "False",
         "Anuncio actualizado el 19 de marzo",
         "https://www.idealista.com/inmueble/101156711/",
         "madrid",
         null,
         "False",
         "Not defined",
         "False",
         "False",
         "False",
         "False",
         null,
         "40.41672790000001",
         "-3.7032905",
         "2025-05-25 16:40:39.310000",
         "2025-05-26 17:19:34.700000",
         "Centro",
         "221.05"
        ],
        [
         "18",
         "101158976",
         "Piso en venta en Los Villares",
         "240000.0",
         "Distrito Los Villares",
         "Arganda",
         "Zona sureste, Madrid",
         "icon-energy-c-f",
         "icon-energy-c-e",
         "Planta 3ª exterior",
         "69 m² construidos, 61 m² útiles",
         "2 habitaciones",
         "2 baños",
         "True",
         "Segunda mano/buen estado",
         "True",
         "Construido en 2008",
         "Calefacción individual: Gas natural",
         "True",
         "False",
         "Anuncio actualizado el 14 de abril",
         "https://www.idealista.com/inmueble/101158976/",
         "madrid",
         null,
         "True",
         "Not defined",
         "True",
         "True",
         "False",
         "False",
         null,
         "40.3142249",
         "-3.4510694",
         "2025-05-25 16:40:39.310000",
         "2025-05-26 17:19:34.977000",
         "Not defined",
         null
        ],
        [
         "19",
         "101203668",
         "Piso en venta en calle San Pantaleón",
         "220000.0",
         "Calle San Pantaleón",
         "Barrio Opañel",
         "Madrid capital, Madrid",
         null,
         null,
         "Planta 3ª exterior",
         "63 m² construidos",
         "3 habitaciones",
         "1 baño",
         "False",
         "Segunda mano/buen estado",
         "False",
         null,
         "Calefacción individual: Eléctrica",
         "False",
         "False",
         "Anuncio actualizado el 9 de abril",
         "https://www.idealista.com/inmueble/101203668/",
         "madrid",
         "Alquilada",
         "True",
         "Not defined",
         "False",
         "False",
         "False",
         "False",
         null,
         "40.3931138",
         "-3.7223536",
         "2025-05-25 16:40:39.310000",
         "2025-05-26 17:19:35.277000",
         "Carabanchel",
         "161.16"
        ],
        [
         "20",
         "101219531",
         "Piso en venta en escalonilla",
         "215000.0",
         "escalonilla",
         "Barrio Los Cármenes",
         "Madrid capital, Madrid",
         null,
         null,
         "Planta 5ª exterior",
         "Emisiones: \n65 kg CO2/m² año",
         "3 habitaciones",
         "1 baño",
         "False",
         "Segunda mano/buen estado",
         "False",
         "Construido en 1960",
         "Calefacción individual: Gas natural",
         "False",
         "False",
         "Anuncio actualizado el 5 de abril",
         "https://www.idealista.com/inmueble/101219531/",
         "madrid",
         null,
         "True",
         "Not defined",
         "False",
         "False",
         "False",
         "False",
         null,
         "40.3960458",
         "-3.7409373",
         "2025-05-25 16:40:39.310000",
         "2025-05-26 17:19:35.553000",
         "Latina",
         "114.49"
        ],
        [
         "21",
         "101244643",
         "Piso en venta en Goya",
         "850000.0",
         "Barrio Goya",
         "Distrito Barrio de Salamanca",
         "Madrid capital, Madrid",
         "icon-energy-c-e",
         "icon-energy-c-e",
         "Planta 2ª exterior",
         "149 m² construidos",
         "3 habitaciones",
         "2 baños",
         "False",
         "Segunda mano/buen estado",
         "False",
         "Construido en 1925",
         "Calefacción individual",
         "False",
         "False",
         "Anuncio actualizado el 14 de abril",
         "https://www.idealista.com/inmueble/101244643/",
         "madrid",
         null,
         "True",
         "Not defined",
         "False",
         "True",
         "False",
         "False",
         "Orientación sur",
         "40.42572089999999",
         "-3.6718503",
         "2025-05-25 16:40:39.310000",
         "2025-05-26 17:19:35.800000",
         "Salamanca",
         "187.28"
        ],
        [
         "22",
         "101290622",
         "Casa o chalet independiente en venta en paseo de Serbales",
         "3250000.0",
         "Paseo de Serbales",
         "Ciudalcampo",
         "Zona norte, Madrid",
         "icon-energy-c-a",
         "icon-energy-c-a",
         "4 plantas",
         "750 m² construidos",
         "4 habitaciones",
         "6 baños",
         "True",
         "Segunda mano/buen estado",
         "True",
         "Construido en 2018",
         "Calefacción individual",
         "True",
         "True",
         "Anuncio actualizado el 8 de abril",
         "https://www.idealista.com/inmueble/101290622/",
         "madrid",
         "Lujo",
         "False",
         "1",
         "False",
         "True",
         "False",
         "False",
         "Orientación norte, oeste",
         "40.6208629",
         "-3.617417",
         "2025-05-25 16:40:39.310000",
         "2025-05-26 17:19:36.033000",
         "Not defined",
         null
        ],
        [
         "23",
         "101350775",
         "Piso en venta en avenida de Loyola",
         "125000.0",
         "Avenida de Loyola",
         "Distrito Las Aves",
         "Zona sureste, Madrid",
         null,
         null,
         null,
         "73 m² construidos",
         "2 habitaciones",
         "1 baño",
         "False",
         "Segunda mano/buen estado",
         "False",
         "Construido en 1956",
         "Calefacción individual: Gas natural",
         "False",
         "False",
         "Anuncio actualizado el 3 de abril",
         "https://www.idealista.com/inmueble/101350775/",
         "madrid",
         null,
         "True",
         "Not defined",
         "False",
         "False",
         "False",
         "False",
         "Orientación oeste",
         "40.41672790000001",
         "-3.7032905",
         "2025-05-25 16:40:39.310000",
         "2025-05-26 17:19:36.343000",
         "Centro",
         "139.06"
        ],
        [
         "24",
         "101354054",
         "Casa o chalet independiente en venta en calle Oriente",
         "400000.0",
         "Calle Oriente",
         "Brunete",
         "Zona suroeste, Madrid",
         null,
         null,
         "1 planta",
         "Parcela de 5.100 m²",
         "3 habitaciones",
         "2 baños",
         "True",
         "Segunda mano/buen estado",
         "True",
         null,
         "Calefacción central: Gasoil",
         "True",
         "True",
         "Anuncio actualizado el 10 de abril",
         "https://www.idealista.com/inmueble/101354054/",
         "madrid",
         null,
         "False",
         "Not defined",
         "True",
         "True",
         "False",
         "False",
         null,
         "40.4044345",
         "-3.9992998",
         "2025-05-25 16:40:39.310000",
         "2025-05-26 17:19:36.637000",
         "Not defined",
         null
        ],
        [
         "25",
         "101385771",
         "Ático en venta en calle de Santa Engracia s/n",
         "269000.0",
         "Calle de Santa Engracia s/n",
         "Barrio Trafalgar",
         "Madrid capital, Madrid",
         "icon-energy-c-e",
         "icon-energy-c-e",
         "Planta 3ª interior",
         "30 m² construidos",
         "1 habitación",
         "1 baño",
         "False",
         "Segunda mano/buen estado",
         "False",
         null,
         "Calefacción individual: Eléctrica",
         "False",
         "False",
         "Anuncio actualizado el 21 de abril",
         "https://www.idealista.com/inmueble/101385771/",
         "madrid",
         null,
         "True",
         "Not defined",
         "False",
         "False",
         "False",
         "False",
         "Orientación este",
         "40.4334933",
         "-3.6981043",
         "2025-05-25 16:40:39.310000",
         "2025-05-26 17:19:36.900000",
         "Chamberí",
         "106.55"
        ],
        [
         "26",
         "101387881",
         "Casa o chalet independiente en venta en Puerto de navacerrada",
         "690000.0",
         "Puerto de navacerrada",
         "Distrito Puerto de Galapagar-Las Cuestas",
         "Zona noroeste, Madrid",
         "icon-energy-c-d",
         "icon-energy-c-d",
         "2 plantas",
         "Parcela de 1.070 m²",
         "6 habitaciones",
         "3 baños",
         "True",
         "Segunda mano/buen estado",
         "True",
         "Construido en 1974",
         "Calefacción individual",
         "True",
         "True",
         "Anuncio actualizado el 27 de marzo",
         "https://www.idealista.com/inmueble/101387881/",
         "madrid",
         "Alquilada",
         "False",
         "Not defined",
         "True",
         "True",
         "False",
         "False",
         "Orientación norte, sur, este, oeste",
         "40.52176619999999",
         "-3.984016",
         "2025-05-25 16:40:39.310000",
         "2025-05-26 17:19:37.223000",
         "Not defined",
         null
        ],
        [
         "27",
         "101391795",
         "Estudio en venta en calle de López de Hoyos, 62",
         "332000.0",
         "Calle de López de Hoyos, 62",
         "Barrio El Viso",
         "Madrid capital, Madrid",
         null,
         null,
         "Planta 1ª exterior",
         "43 m² construidos",
         "Sin habitación",
         "1 baño",
         "False",
         "Segunda mano/buen estado",
         "False",
         null,
         null,
         "False",
         "False",
         "Anuncio actualizado el 14 de abril",
         "https://www.idealista.com/inmueble/101391795/",
         "madrid",
         null,
         "True",
         "Not defined",
         "False",
         "False",
         "False",
         "False",
         null,
         "40.4406741",
         "-3.6796622",
         "2025-05-25 16:40:39.310000",
         "2025-05-26 17:19:37.503000",
         "Chamartín",
         "99.36"
        ],
        [
         "28",
         "101398974",
         "Dúplex en venta en calle Oslo, 52",
         "485000.0",
         "Calle Oslo, 52",
         "Barrio Parque oeste - Fuente Cisneros",
         "Zona sur, Madrid",
         "icon-energy-c-d",
         "icon-energy-c-d",
         "Planta 4ª exterior",
         "138 m² construidos",
         "3 habitaciones",
         "2 baños",
         "True",
         "Segunda mano/buen estado",
         "True",
         null,
         "Calefacción central: Gas",
         "True",
         "False",
         "Anuncio actualizado el 13 de abril",
         "https://www.idealista.com/inmueble/101398974/",
         "madrid",
         null,
         "True",
         "1",
         "True",
         "True",
         "False",
         "False",
         null,
         "40.41672790000001",
         "-3.7032905",
         "2025-05-25 16:40:39.310000",
         "2025-05-26 17:19:37.770000",
         "Centro",
         "190.30"
        ],
        [
         "29",
         "101434289",
         "Piso en venta en calle de la Princesa",
         "890000.0",
         "Calle de la Princesa",
         "Barrio Argüelles",
         "Madrid capital, Madrid",
         null,
         null,
         "Planta 1ª exterior",
         "100 m² construidos",
         "2 habitaciones",
         "2 baños",
         "False",
         "Segunda mano/buen estado",
         "True",
         null,
         "Calefacción individual",
         "False",
         "False",
         "Anuncio actualizado el 3 de abril",
         "https://www.idealista.com/inmueble/101434289/",
         "madrid",
         null,
         "True",
         "Not defined",
         "False",
         "True",
         "False",
         "False",
         "Orientación norte",
         "40.4292119",
         "-3.7151702",
         "2025-05-25 16:40:39.310000",
         "2025-05-26 17:19:38.023000",
         "Centro",
         "169.55"
        ],
        [
         "30",
         "101508544",
         "Piso en venta en Argüelles",
         "580000.0",
         "Barrio Argüelles",
         "Distrito Moncloa",
         "Madrid capital, Madrid",
         null,
         null,
         "Planta 4ª interior",
         "79 m² construidos, 75 m² útiles",
         "4 habitaciones",
         "3 baños",
         "False",
         "Segunda mano/buen estado",
         "False",
         "Construido en 1900",
         "Calefacción individual: Eléctrica",
         "False",
         "False",
         "Anuncio actualizado el 12 de abril",
         "https://www.idealista.com/inmueble/101508544/",
         "madrid",
         null,
         "True",
         "Not defined",
         "False",
         "False",
         "False",
         "False",
         "Orientación sur, oeste",
         "40.4349685",
         "-3.7188734",
         "2025-05-25 16:40:39.310000",
         "2025-05-26 17:19:38.313000",
         "Moncloa - Aravaca",
         "204.36"
        ],
        [
         "31",
         "101644709",
         "Piso en venta en paseo de los Jesuitas, 87",
         "439000.0",
         "Paseo de los Jesuitas, 87",
         "Barrio Puerta del Ángel",
         "Madrid capital, Madrid",
         null,
         null,
         null,
         "120 m² construidos, 110 m² útiles",
         "2 habitaciones",
         "2 baños",
         "False",
         "Segunda mano/buen estado",
         "True",
         "Construido en 2023",
         "Calefacción individual: Gas natural",
         "False",
         "False",
         "Anuncio actualizado el 23 de marzo",
         "https://www.idealista.com/inmueble/101644709/",
         "madrid",
         null,
         "True",
         "1",
         "True",
         "False",
         "True",
         "False",
         "Orientación oeste",
         "40.4064976",
         "-3.7353614",
         "2025-05-25 16:40:39.310000",
         "2025-05-26 17:19:38.580000",
         "Latina",
         "116.49"
        ],
        [
         "32",
         "101660973",
         "Piso en venta en calle de Caramuel",
         "320000.0",
         "Calle de Caramuel",
         "Barrio Puerta del Ángel",
         "Madrid capital, Madrid",
         "icon-energy-c-e",
         "icon-energy-c-e",
         "Entreplanta exterior",
         "80 m² construidos, 75 m² útiles",
         "3 habitaciones",
         "1 baño",
         "False",
         "Segunda mano/para reformar",
         "True",
         "Construido en 1962",
         "Calefacción individual: Eléctrica",
         "False",
         "False",
         "Anuncio actualizado el 31 de marzo",
         "https://www.idealista.com/inmueble/101660973/",
         "madrid",
         null,
         "True",
         "Not defined",
         "False",
         "True",
         "False",
         "False",
         "Orientación sur, este",
         "40.4087857",
         "-3.7290013",
         "2025-05-25 16:40:39.310000",
         "2025-05-26 17:19:38.853000",
         "Latina",
         "114.49"
        ],
        [
         "33",
         "101675288",
         "Ático en venta en San Bernardo, 126",
         "2550000.0",
         "San Bernardo, 126",
         "Barrio Trafalgar",
         "Madrid capital, Madrid",
         "icon-energy-c-a",
         "icon-energy-c-a",
         "Planta 7ª exterior",
         "172 m² construidos",
         "2 habitaciones",
         "3 baños",
         "True",
         null,
         "True",
         null,
         null,
         "True",
         "False",
         "Anuncio actualizado el 10 de abril",
         "https://www.idealista.com/inmueble/101675288/",
         "madrid",
         null,
         "True",
         "Not defined",
         "True",
         "True",
         "False",
         "False",
         null,
         "40.4324338",
         "-3.704525499999999",
         "2025-05-25 16:40:39.310000",
         "2025-05-26 17:19:39.187000",
         "Chamberí",
         "190.29"
        ],
        [
         "34",
         "101703668",
         "Piso en venta en calle de Galicia, 30",
         "200000.0",
         "Calle de Galicia, 30",
         "Distrito El Naranjo",
         "Zona sur, Madrid",
         null,
         null,
         "Planta 2ª exterior",
         "80 m² construidos",
         "3 habitaciones",
         "1 baño",
         "False",
         "Segunda mano/buen estado",
         "True",
         null,
         "Calefacción individual: Bomba de frío/calor",
         "True",
         "False",
         "Anuncio actualizado el 13 de abril",
         "https://www.idealista.com/inmueble/101703668/",
         "madrid",
         null,
         "True",
         "Not defined",
         "False",
         "False",
         "False",
         "False",
         "Orientación este",
         "22.5219072",
         "-99.325362",
         "2025-05-25 16:40:39.310000",
         "2025-05-26 17:19:39.493000",
         "Not defined",
         null
        ],
        [
         "35",
         "101738532",
         "Piso en venta en San Raimundo",
         "236000.0",
         "SAN RAIMUNDO",
         "Distrito Centro Urbano",
         "Zona norte, Madrid",
         null,
         null,
         "Planta 3ª exterior",
         "86 m² construidos",
         "3 habitaciones",
         "2 baños",
         "False",
         "Segunda mano/buen estado",
         "True",
         null,
         "Calefacción individual: Gas natural",
         "False",
         "False",
         "Anuncio actualizado el 9 de abril",
         "https://www.idealista.com/inmueble/101738532/",
         "madrid",
         null,
         "True",
         "1",
         "False",
         "True",
         "False",
         "False",
         "Orientación sur",
         "40.4517511",
         "-3.7067121",
         "2025-05-25 16:40:39.310000",
         "2025-05-26 17:19:39.750000",
         "Tetuán",
         "143.89"
        ],
        [
         "36",
         "101747079",
         "Piso en venta en La Avanzada - La Cueva",
         "154500.0",
         "Distrito La Avanzada - La Cueva",
         "Fuenlabrada",
         "Zona sur, Madrid",
         null,
         null,
         "Planta 8ª",
         "74 m² construidos",
         "3 habitaciones",
         "1 baño",
         "False",
         "Segunda mano/buen estado",
         "False",
         null,
         null,
         "False",
         "False",
         "Anuncio actualizado el 3 de abril",
         "https://www.idealista.com/inmueble/101747079/",
         "madrid",
         "Alquilada",
         "True",
         "Not defined",
         "False",
         "False",
         "False",
         "False",
         null,
         "40.2931561",
         "-3.7847062",
         "2025-05-25 16:40:39.310000",
         "2025-05-26 17:19:40.053000",
         "Not defined",
         null
        ],
        [
         "37",
         "101747887",
         "Piso en venta en Centro",
         "154500.0",
         "Distrito Centro",
         "Móstoles",
         "Zona sur, Madrid",
         null,
         null,
         "Planta 4ª",
         "62 m² construidos",
         "3 habitaciones",
         "1 baño",
         "False",
         "Segunda mano/buen estado",
         "False",
         null,
         null,
         "False",
         "False",
         "Anuncio actualizado el 12 de abril",
         "https://www.idealista.com/inmueble/101747887/",
         "madrid",
         "Alquilada",
         "False",
         "Not defined",
         "False",
         "False",
         "False",
         "False",
         null,
         "40.3232129",
         "-3.8676291",
         "2025-05-25 16:40:39.310000",
         "2025-05-26 17:19:40.363000",
         "Not defined",
         null
        ],
        [
         "38",
         "101748400",
         "Piso en venta en Noroeste",
         "161000.0",
         "Distrito Noroeste",
         "Torrejón de Ardoz",
         "Corredor del Henares, Madrid",
         null,
         null,
         "Planta 3ª",
         "75 m² construidos",
         "3 habitaciones",
         "1 baño",
         "False",
         "Segunda mano/buen estado",
         "False",
         null,
         null,
         "False",
         "False",
         "Anuncio actualizado el 12 de abril",
         "https://www.idealista.com/inmueble/101748400/",
         "madrid",
         "Alquilada",
         "False",
         "Not defined",
         "False",
         "False",
         "False",
         "False",
         null,
         "40.463595",
         "-3.4844262",
         "2025-05-25 16:40:39.310000",
         "2025-05-26 17:19:40.647000",
         "Not defined",
         null
        ],
        [
         "39",
         "101749260",
         "Piso en venta en Centro",
         "225500.0",
         "Distrito Centro",
         "Fuenlabrada",
         "Zona sur, Madrid",
         null,
         null,
         "Planta 4ª",
         "98 m² construidos",
         "4 habitaciones",
         "2 baños",
         "False",
         "Segunda mano/buen estado",
         "False",
         null,
         null,
         "False",
         "False",
         "Anuncio actualizado el 12 de abril",
         "https://www.idealista.com/inmueble/101749260/",
         "madrid",
         "Alquilada",
         "False",
         "Not defined",
         "False",
         "False",
         "False",
         "False",
         null,
         "40.4167234",
         "-3.7033851",
         "2025-05-25 16:40:39.310000",
         "2025-05-26 17:19:40.890000",
         "Centro",
         "213.10"
        ],
        [
         "40",
         "101780925",
         "Piso en venta en Centro Urbano",
         "274000.0",
         "Distrito Centro Urbano",
         "San Sebastián de los Reyes",
         "Zona norte, Madrid",
         null,
         null,
         "Planta 1ª",
         "78 m² construidos",
         "3 habitaciones",
         "1 baño",
         "False",
         "Segunda mano/buen estado",
         "False",
         null,
         null,
         "False",
         "False",
         "Anuncio actualizado el 12 de abril",
         "https://www.idealista.com/inmueble/101780925/",
         "madrid",
         "Alquilada",
         "False",
         "Not defined",
         "False",
         "False",
         "False",
         "False",
         null,
         "40.5589672",
         "-3.6261976",
         "2025-05-25 16:40:39.310000",
         "2025-05-26 17:19:41.153000",
         "Not defined",
         null
        ],
        [
         "41",
         "101781819",
         "Piso en venta en Valdeacederas",
         "391000.0",
         "Barrio Valdeacederas",
         "Distrito Tetuán",
         "Madrid capital, Madrid",
         null,
         null,
         "Planta 1ª",
         "96 m² construidos",
         "4 habitaciones",
         "1 baño",
         "False",
         "Segunda mano/buen estado",
         "False",
         null,
         null,
         "False",
         "False",
         "Anuncio actualizado el 12 de abril",
         "https://www.idealista.com/inmueble/101781819/",
         "madrid",
         "Alquilada",
         "False",
         "Not defined",
         "False",
         "False",
         "False",
         "False",
         null,
         "40.4671594",
         "-3.7056564",
         "2025-05-25 16:40:39.310000",
         "2025-05-26 17:19:41.430000",
         "Tetuán",
         "149.76"
        ],
        [
         "42",
         "101801887",
         "Casa o chalet independiente en venta en calle del Naranjo de Bulnes, 37",
         "8500000.0",
         "Calle del Naranjo de Bulnes, 37",
         "Urb. urbanización Ciudalcampo",
         "Zona norte, Madrid",
         "icon-energy-c-b",
         "icon-energy-c-b",
         "3 plantas",
         "Parcela de 4.400 m²",
         "8 habitaciones",
         "11 baños",
         "True",
         "Segunda mano/buen estado",
         "True",
         "Construido en 2015",
         "Calefacción individual",
         "True",
         "True",
         "Anuncio actualizado el 10 de abril",
         "https://www.idealista.com/inmueble/101801887/",
         "madrid",
         "Lujo",
         "False",
         "1",
         "True",
         "True",
         "False",
         "False",
         "Orientación norte, sur, este",
         "40.6307085",
         "-3.5983695",
         "2025-05-25 16:40:39.310000",
         "2025-05-26 17:19:41.717000",
         "Not defined",
         null
        ],
        [
         "43",
         "101876795",
         "Chalet adosado en venta en ronda de las Cuestas",
         "390000.0",
         "Ronda de las Cuestas",
         "Distrito Casco Urbano",
         "Zona norte, Madrid",
         "icon-energy-c-e",
         "icon-energy-c-e",
         "2 plantas",
         "Parcela de 1.053 m²",
         "5 habitaciones",
         "4 baños",
         "False",
         "Segunda mano/para reformar",
         "False",
         "Construido en 1958",
         null,
         "False",
         "True",
         "Anuncio actualizado el 7 de abril",
         "https://www.idealista.com/inmueble/101876795/",
         "madrid",
         null,
         "False",
         "Not defined",
         "False",
         "True",
         "False",
         "False",
         "Orientación oeste",
         "40.5054126",
         "-3.5331215",
         "2025-05-25 16:40:39.310000",
         "2025-05-26 17:19:42.003000",
         "Not defined",
         null
        ],
        [
         "44",
         "101921152",
         "Piso en venta en Malasaña-Universidad",
         "340000.0",
         "Barrio Malasaña-Universidad",
         "Distrito Centro",
         "Madrid capital, Madrid",
         "icon-energy-c-e",
         "icon-energy-c-e",
         "Planta 2ª interior",
         "34 m² construidos",
         "1 habitación",
         "1 baño",
         "False",
         "Segunda mano/buen estado",
         "False",
         null,
         null,
         "False",
         "False",
         "Anuncio actualizado el 13 de abril",
         "https://www.idealista.com/inmueble/101921152/",
         "madrid",
         "Alquilada",
         "True",
         "Not defined",
         "False",
         "False",
         "False",
         "False",
         null,
         "40.4233716",
         "-3.7077922",
         "2025-05-25 16:40:39.310000",
         "2025-05-26 17:19:42.287000",
         "Centro",
         "108.19"
        ],
        [
         "45",
         "101928781",
         "Piso en venta en Fuente del Berro",
         "870000.0",
         "Barrio Fuente del Berro",
         "Distrito Barrio de Salamanca",
         "Madrid capital, Madrid",
         "icon-energy-c-d",
         "icon-energy-c-c",
         "Planta 1ª exterior",
         "180 m² construidos, 155 m² útiles",
         "3 habitaciones",
         "3 baños",
         "False",
         "Segunda mano/buen estado",
         "True",
         null,
         "Calefacción individual: Gas natural",
         "False",
         "False",
         "Anuncio actualizado el 9 de abril",
         "https://www.idealista.com/inmueble/101928781/",
         "madrid",
         null,
         "True",
         "Not defined",
         "False",
         "True",
         "False",
         "False",
         "Orientación sur",
         "40.4253349",
         "-3.6669307",
         "2025-05-25 16:40:39.310000",
         "2025-05-26 17:19:42.580000",
         "Salamanca",
         "193.17"
        ],
        [
         "46",
         "101940139",
         "Piso en venta en Reyes",
         "138000.0",
         "Distrito Reyes",
         "Parla",
         "Zona sur, Madrid",
         null,
         null,
         "Planta 4ª",
         "71 m² construidos",
         "3 habitaciones",
         "1 baño",
         "False",
         "Segunda mano/buen estado",
         "False",
         null,
         null,
         "False",
         "False",
         "Anuncio actualizado el 2 de abril",
         "https://www.idealista.com/inmueble/101940139/",
         "madrid",
         "Ocupada ilegalmente",
         "False",
         "Not defined",
         "False",
         "False",
         "False",
         "False",
         null,
         "40.232367",
         "-3.768906",
         "2025-05-25 16:40:39.310000",
         "2025-05-26 17:19:42.833000",
         "Not defined",
         null
        ],
        [
         "47",
         "101980397",
         "Ático en venta en avenida de Menéndez Pelayo",
         "975000.0",
         "Avenida de Menéndez Pelayo",
         "Barrio Ibiza",
         "Madrid capital, Madrid",
         null,
         null,
         "Planta 8ª exterior",
         "64 m² construidos, 60 m² útiles",
         "1 habitación",
         "2 baños",
         "False",
         "Segunda mano/buen estado",
         "True",
         "Construido en 1913",
         "Calefacción central: Gas",
         "False",
         "False",
         "Anuncio actualizado el 9 de abril",
         "https://www.idealista.com/inmueble/101980397/",
         "madrid",
         null,
         "True",
         "Not defined",
         "False",
         "True",
         "False",
         "False",
         "Orientación oeste",
         "40.4137701",
         "-3.677148",
         "2025-05-25 16:40:39.310000",
         "2025-05-26 17:19:43.103000",
         "Retiro",
         "132.19"
        ],
        [
         "48",
         "101988925",
         "Piso en venta en salas barbadillo, 70",
         "245000.0",
         "salas barbadillo, 70",
         "Barrio Pueblo Nuevo",
         "Madrid capital, Madrid",
         null,
         null,
         "Planta 1ª exterior",
         "66 m² construidos, 61 m² útiles",
         "2 habitaciones",
         "1 baño",
         "False",
         "Segunda mano/buen estado",
         "False",
         "Construido en 1970",
         "Calefacción individual: Gas natural",
         "False",
         "False",
         "Anuncio actualizado el 9 de abril",
         "https://www.idealista.com/inmueble/101988925/",
         "madrid",
         "Alquilada",
         "True",
         "Not defined",
         "False",
         "True",
         "False",
         "False",
         null,
         "40.4272356",
         "-3.644741099999999",
         "2025-05-25 16:40:39.310000",
         "2025-05-26 17:19:43.390000",
         "Ciudad Lineal",
         "96.71"
        ],
        [
         "49",
         "101990288",
         "Piso en venta en calle de Manzanares",
         "599000.0",
         "Calle de Manzanares",
         "Barrio Imperial",
         "Madrid capital, Madrid",
         null,
         null,
         "Planta 1ª exterior",
         "Emisiones: \n23 kg CO2/m² año",
         "3 habitaciones",
         "2 baños",
         "False",
         "Segunda mano/para reformar",
         "False",
         "Construido en 1996",
         "Calefacción individual: Gas natural",
         "False",
         "False",
         "Anuncio actualizado el 11 de abril",
         "https://www.idealista.com/inmueble/101990288/",
         "madrid",
         null,
         "True",
         "Not defined",
         "False",
         "True",
         "False",
         "False",
         null,
         "40.4128599",
         "-3.7192906",
         "2025-05-25 16:40:39.310000",
         "2025-05-26 17:19:43.647000",
         "Arganzuela",
         "154.07"
        ]
       ],
       "shape": {
        "columns": 36,
        "rows": 8208
       }
      },
      "text/html": [
       "<div>\n",
       "<style scoped>\n",
       "    .dataframe tbody tr th:only-of-type {\n",
       "        vertical-align: middle;\n",
       "    }\n",
       "\n",
       "    .dataframe tbody tr th {\n",
       "        vertical-align: top;\n",
       "    }\n",
       "\n",
       "    .dataframe thead th {\n",
       "        text-align: right;\n",
       "    }\n",
       "</style>\n",
       "<table border=\"1\" class=\"dataframe\">\n",
       "  <thead>\n",
       "    <tr style=\"text-align: right;\">\n",
       "      <th></th>\n",
       "      <th>HOUSE_ID</th>\n",
       "      <th>TITLE</th>\n",
       "      <th>PRICE</th>\n",
       "      <th>ADDRESS1</th>\n",
       "      <th>ADDRESS2</th>\n",
       "      <th>CITY</th>\n",
       "      <th>ENERGY_CONSUME</th>\n",
       "      <th>ENERGY_EMISSION</th>\n",
       "      <th>PLANTA</th>\n",
       "      <th>SUPERFICIE</th>\n",
       "      <th>...</th>\n",
       "      <th>TERRAZA</th>\n",
       "      <th>BALCON</th>\n",
       "      <th>AIRE_ACOND</th>\n",
       "      <th>ORIENTACION</th>\n",
       "      <th>LATITUDE</th>\n",
       "      <th>LONGITUDE</th>\n",
       "      <th>CREATED_DATE</th>\n",
       "      <th>UPDATED_DATE</th>\n",
       "      <th>DISTRITO</th>\n",
       "      <th>PRICE_PER_NIGHT</th>\n",
       "    </tr>\n",
       "  </thead>\n",
       "  <tbody>\n",
       "    <tr>\n",
       "      <th>0</th>\n",
       "      <td>100053144</td>\n",
       "      <td>Piso en venta en calle de Saturno</td>\n",
       "      <td>142000.0</td>\n",
       "      <td>Calle de Saturno</td>\n",
       "      <td>Barrio Casco Histórico de Barajas</td>\n",
       "      <td>Madrid capital, Madrid</td>\n",
       "      <td>None</td>\n",
       "      <td>None</td>\n",
       "      <td>Planta 1ª</td>\n",
       "      <td>Consumo: \\n260 kWh/m² año</td>\n",
       "      <td>...</td>\n",
       "      <td>False</td>\n",
       "      <td>False</td>\n",
       "      <td>False</td>\n",
       "      <td>None</td>\n",
       "      <td>40.473428</td>\n",
       "      <td>-3.579610</td>\n",
       "      <td>2025-05-25 16:40:39.310</td>\n",
       "      <td>2025-05-26 16:59:12.613</td>\n",
       "      <td>Barajas</td>\n",
       "      <td>122.74</td>\n",
       "    </tr>\n",
       "    <tr>\n",
       "      <th>1</th>\n",
       "      <td>100225591</td>\n",
       "      <td>Casa o chalet independiente en venta en calle ...</td>\n",
       "      <td>439000.0</td>\n",
       "      <td>Calle Espliego, 17</td>\n",
       "      <td>Villalbilla</td>\n",
       "      <td>Corredor del Henares, Madrid</td>\n",
       "      <td>None</td>\n",
       "      <td>None</td>\n",
       "      <td>2 plantas</td>\n",
       "      <td>Parcela de 710 m²</td>\n",
       "      <td>...</td>\n",
       "      <td>True</td>\n",
       "      <td>False</td>\n",
       "      <td>False</td>\n",
       "      <td>Orientación sur</td>\n",
       "      <td>40.444625</td>\n",
       "      <td>-3.285052</td>\n",
       "      <td>2025-05-25 16:40:39.310</td>\n",
       "      <td>2025-05-26 16:59:23.887</td>\n",
       "      <td>Not defined</td>\n",
       "      <td>None</td>\n",
       "    </tr>\n",
       "    <tr>\n",
       "      <th>2</th>\n",
       "      <td>100281275</td>\n",
       "      <td>Chalet adosado en venta en Las Matas- Peñascales</td>\n",
       "      <td>280000.0</td>\n",
       "      <td>Barrio Las Matas- Peñascales</td>\n",
       "      <td>Distrito Las Matas- Peñascales</td>\n",
       "      <td>Zona noroeste, Madrid</td>\n",
       "      <td>None</td>\n",
       "      <td>None</td>\n",
       "      <td>2 plantas</td>\n",
       "      <td>Emisiones: \\n65,5 kg CO2/m² año</td>\n",
       "      <td>...</td>\n",
       "      <td>True</td>\n",
       "      <td>False</td>\n",
       "      <td>False</td>\n",
       "      <td>Orientación sur, este, oeste</td>\n",
       "      <td>40.416728</td>\n",
       "      <td>-3.703291</td>\n",
       "      <td>2025-05-25 16:40:39.310</td>\n",
       "      <td>2025-05-26 16:59:26.273</td>\n",
       "      <td>Centro</td>\n",
       "      <td>155.44</td>\n",
       "    </tr>\n",
       "    <tr>\n",
       "      <th>3</th>\n",
       "      <td>100445913</td>\n",
       "      <td>Piso en venta en calle Marcelo Usera</td>\n",
       "      <td>259000.0</td>\n",
       "      <td>Calle Marcelo Usera</td>\n",
       "      <td>Barrio Moscardó</td>\n",
       "      <td>Madrid capital, Madrid</td>\n",
       "      <td>icon-energy-c-f</td>\n",
       "      <td>icon-energy-c-f</td>\n",
       "      <td>None</td>\n",
       "      <td>73 m² construidos, 67 m² útiles</td>\n",
       "      <td>...</td>\n",
       "      <td>False</td>\n",
       "      <td>False</td>\n",
       "      <td>False</td>\n",
       "      <td>Orientación norte, sur</td>\n",
       "      <td>40.385695</td>\n",
       "      <td>-3.707122</td>\n",
       "      <td>2025-05-25 16:40:39.310</td>\n",
       "      <td>2025-05-26 17:19:30.850</td>\n",
       "      <td>Usera</td>\n",
       "      <td>128.58</td>\n",
       "    </tr>\n",
       "    <tr>\n",
       "      <th>4</th>\n",
       "      <td>100454896</td>\n",
       "      <td>Piso en venta en Fuentes s/n</td>\n",
       "      <td>139900.0</td>\n",
       "      <td>Fuentes s/n</td>\n",
       "      <td>Distrito Noroeste</td>\n",
       "      <td>Corredor del Henares, Madrid</td>\n",
       "      <td>None</td>\n",
       "      <td>None</td>\n",
       "      <td>Planta 5ª exterior</td>\n",
       "      <td>63 m² construidos</td>\n",
       "      <td>...</td>\n",
       "      <td>False</td>\n",
       "      <td>False</td>\n",
       "      <td>False</td>\n",
       "      <td>None</td>\n",
       "      <td>40.416731</td>\n",
       "      <td>-3.703297</td>\n",
       "      <td>2025-05-25 16:40:39.310</td>\n",
       "      <td>2025-05-26 17:19:31.137</td>\n",
       "      <td>Centro</td>\n",
       "      <td>155.44</td>\n",
       "    </tr>\n",
       "    <tr>\n",
       "      <th>...</th>\n",
       "      <td>...</td>\n",
       "      <td>...</td>\n",
       "      <td>...</td>\n",
       "      <td>...</td>\n",
       "      <td>...</td>\n",
       "      <td>...</td>\n",
       "      <td>...</td>\n",
       "      <td>...</td>\n",
       "      <td>...</td>\n",
       "      <td>...</td>\n",
       "      <td>...</td>\n",
       "      <td>...</td>\n",
       "      <td>...</td>\n",
       "      <td>...</td>\n",
       "      <td>...</td>\n",
       "      <td>...</td>\n",
       "      <td>...</td>\n",
       "      <td>...</td>\n",
       "      <td>...</td>\n",
       "      <td>...</td>\n",
       "      <td>...</td>\n",
       "    </tr>\n",
       "    <tr>\n",
       "      <th>8203</th>\n",
       "      <td>99447659</td>\n",
       "      <td>Piso en venta en calle de Ascao</td>\n",
       "      <td>518000.0</td>\n",
       "      <td>Calle de Ascao</td>\n",
       "      <td>Barrio Pueblo Nuevo</td>\n",
       "      <td>Madrid capital, Madrid</td>\n",
       "      <td>None</td>\n",
       "      <td>None</td>\n",
       "      <td>Planta 1ª</td>\n",
       "      <td>162 m² construidos, 128 m² útiles</td>\n",
       "      <td>...</td>\n",
       "      <td>True</td>\n",
       "      <td>False</td>\n",
       "      <td>False</td>\n",
       "      <td>None</td>\n",
       "      <td>40.431187</td>\n",
       "      <td>-3.638597</td>\n",
       "      <td>2025-05-25 16:40:39.310</td>\n",
       "      <td>2025-05-26 23:16:18.123</td>\n",
       "      <td>Ciudad Lineal</td>\n",
       "      <td>181.40</td>\n",
       "    </tr>\n",
       "    <tr>\n",
       "      <th>8204</th>\n",
       "      <td>99506799</td>\n",
       "      <td>Piso en venta en calle de las Margaritas, 7</td>\n",
       "      <td>230000.0</td>\n",
       "      <td>Calle de las Margaritas, 7</td>\n",
       "      <td>Becerril de la Sierra</td>\n",
       "      <td>Zona noroeste, Madrid</td>\n",
       "      <td>None</td>\n",
       "      <td>None</td>\n",
       "      <td>Planta 3ª exterior</td>\n",
       "      <td>110 m² construidos, 105 m² útiles</td>\n",
       "      <td>...</td>\n",
       "      <td>True</td>\n",
       "      <td>False</td>\n",
       "      <td>False</td>\n",
       "      <td>Orientación este</td>\n",
       "      <td>40.715172</td>\n",
       "      <td>-3.987483</td>\n",
       "      <td>2025-05-25 16:40:39.310</td>\n",
       "      <td>2025-05-26 23:16:18.410</td>\n",
       "      <td>Not defined</td>\n",
       "      <td>None</td>\n",
       "    </tr>\n",
       "    <tr>\n",
       "      <th>8205</th>\n",
       "      <td>99616898</td>\n",
       "      <td>Piso en venta en calle de Andrés Mellado, 18</td>\n",
       "      <td>480000.0</td>\n",
       "      <td>Calle de Andrés Mellado, 18</td>\n",
       "      <td>Barrio Gaztambide</td>\n",
       "      <td>Madrid capital, Madrid</td>\n",
       "      <td>None</td>\n",
       "      <td>None</td>\n",
       "      <td>Planta 4ª interior</td>\n",
       "      <td>40 m² construidos, 32 m² útiles</td>\n",
       "      <td>...</td>\n",
       "      <td>False</td>\n",
       "      <td>True</td>\n",
       "      <td>False</td>\n",
       "      <td>None</td>\n",
       "      <td>40.432178</td>\n",
       "      <td>-3.714310</td>\n",
       "      <td>2025-05-25 16:40:39.310</td>\n",
       "      <td>2025-05-26 23:16:18.690</td>\n",
       "      <td>Chamberí</td>\n",
       "      <td>106.55</td>\n",
       "    </tr>\n",
       "    <tr>\n",
       "      <th>8206</th>\n",
       "      <td>99904936</td>\n",
       "      <td>Piso en venta en Zaburdón - Monte Escorial</td>\n",
       "      <td>141000.0</td>\n",
       "      <td>Distrito Zaburdón - Monte Escorial</td>\n",
       "      <td>San Lorenzo de El Escorial</td>\n",
       "      <td>Zona noroeste, Madrid</td>\n",
       "      <td>None</td>\n",
       "      <td>None</td>\n",
       "      <td>None</td>\n",
       "      <td>408 m² construidos</td>\n",
       "      <td>...</td>\n",
       "      <td>False</td>\n",
       "      <td>False</td>\n",
       "      <td>False</td>\n",
       "      <td>None</td>\n",
       "      <td>40.602407</td>\n",
       "      <td>-4.127118</td>\n",
       "      <td>2025-05-25 16:40:39.310</td>\n",
       "      <td>2025-05-26 23:16:18.940</td>\n",
       "      <td>Not defined</td>\n",
       "      <td>None</td>\n",
       "    </tr>\n",
       "    <tr>\n",
       "      <th>8207</th>\n",
       "      <td>99951173</td>\n",
       "      <td>Piso en venta en Margaritas, 55</td>\n",
       "      <td>139000.0</td>\n",
       "      <td>Margaritas, 55</td>\n",
       "      <td>Barrio Berruguete</td>\n",
       "      <td>Madrid capital, Madrid</td>\n",
       "      <td>None</td>\n",
       "      <td>None</td>\n",
       "      <td>None</td>\n",
       "      <td>35 m² construidos, 30 m² útiles</td>\n",
       "      <td>...</td>\n",
       "      <td>False</td>\n",
       "      <td>False</td>\n",
       "      <td>False</td>\n",
       "      <td>Orientación este</td>\n",
       "      <td>40.459784</td>\n",
       "      <td>-3.708340</td>\n",
       "      <td>2025-05-25 16:40:39.310</td>\n",
       "      <td>2025-05-26 23:16:19.210</td>\n",
       "      <td>Tetuán</td>\n",
       "      <td>94.18</td>\n",
       "    </tr>\n",
       "  </tbody>\n",
       "</table>\n",
       "<p>8208 rows × 36 columns</p>\n",
       "</div>"
      ],
      "text/plain": [
       "       HOUSE_ID                                              TITLE     PRICE  \\\n",
       "0     100053144                  Piso en venta en calle de Saturno  142000.0   \n",
       "1     100225591  Casa o chalet independiente en venta en calle ...  439000.0   \n",
       "2     100281275   Chalet adosado en venta en Las Matas- Peñascales  280000.0   \n",
       "3     100445913               Piso en venta en calle Marcelo Usera  259000.0   \n",
       "4     100454896                       Piso en venta en Fuentes s/n  139900.0   \n",
       "...         ...                                                ...       ...   \n",
       "8203   99447659                    Piso en venta en calle de Ascao  518000.0   \n",
       "8204   99506799        Piso en venta en calle de las Margaritas, 7  230000.0   \n",
       "8205   99616898       Piso en venta en calle de Andrés Mellado, 18  480000.0   \n",
       "8206   99904936         Piso en venta en Zaburdón - Monte Escorial  141000.0   \n",
       "8207   99951173                    Piso en venta en Margaritas, 55  139000.0   \n",
       "\n",
       "                                ADDRESS1                           ADDRESS2  \\\n",
       "0                       Calle de Saturno  Barrio Casco Histórico de Barajas   \n",
       "1                     Calle Espliego, 17                        Villalbilla   \n",
       "2           Barrio Las Matas- Peñascales     Distrito Las Matas- Peñascales   \n",
       "3                    Calle Marcelo Usera                    Barrio Moscardó   \n",
       "4                            Fuentes s/n                  Distrito Noroeste   \n",
       "...                                  ...                                ...   \n",
       "8203                      Calle de Ascao                Barrio Pueblo Nuevo   \n",
       "8204          Calle de las Margaritas, 7              Becerril de la Sierra   \n",
       "8205         Calle de Andrés Mellado, 18                  Barrio Gaztambide   \n",
       "8206  Distrito Zaburdón - Monte Escorial         San Lorenzo de El Escorial   \n",
       "8207                      Margaritas, 55                  Barrio Berruguete   \n",
       "\n",
       "                              CITY   ENERGY_CONSUME  ENERGY_EMISSION  \\\n",
       "0           Madrid capital, Madrid             None             None   \n",
       "1     Corredor del Henares, Madrid             None             None   \n",
       "2            Zona noroeste, Madrid             None             None   \n",
       "3           Madrid capital, Madrid  icon-energy-c-f  icon-energy-c-f   \n",
       "4     Corredor del Henares, Madrid             None             None   \n",
       "...                            ...              ...              ...   \n",
       "8203        Madrid capital, Madrid             None             None   \n",
       "8204         Zona noroeste, Madrid             None             None   \n",
       "8205        Madrid capital, Madrid             None             None   \n",
       "8206         Zona noroeste, Madrid             None             None   \n",
       "8207        Madrid capital, Madrid             None             None   \n",
       "\n",
       "                  PLANTA                         SUPERFICIE  ... TERRAZA  \\\n",
       "0              Planta 1ª          Consumo: \\n260 kWh/m² año  ...   False   \n",
       "1              2 plantas                  Parcela de 710 m²  ...    True   \n",
       "2              2 plantas    Emisiones: \\n65,5 kg CO2/m² año  ...    True   \n",
       "3                   None    73 m² construidos, 67 m² útiles  ...   False   \n",
       "4     Planta 5ª exterior                  63 m² construidos  ...   False   \n",
       "...                  ...                                ...  ...     ...   \n",
       "8203           Planta 1ª  162 m² construidos, 128 m² útiles  ...    True   \n",
       "8204  Planta 3ª exterior  110 m² construidos, 105 m² útiles  ...    True   \n",
       "8205  Planta 4ª interior    40 m² construidos, 32 m² útiles  ...   False   \n",
       "8206                None                 408 m² construidos  ...   False   \n",
       "8207                None    35 m² construidos, 30 m² útiles  ...   False   \n",
       "\n",
       "     BALCON  AIRE_ACOND                   ORIENTACION   LATITUDE LONGITUDE  \\\n",
       "0     False       False                          None  40.473428 -3.579610   \n",
       "1     False       False               Orientación sur  40.444625 -3.285052   \n",
       "2     False       False  Orientación sur, este, oeste  40.416728 -3.703291   \n",
       "3     False       False        Orientación norte, sur  40.385695 -3.707122   \n",
       "4     False       False                          None  40.416731 -3.703297   \n",
       "...     ...         ...                           ...        ...       ...   \n",
       "8203  False       False                          None  40.431187 -3.638597   \n",
       "8204  False       False              Orientación este  40.715172 -3.987483   \n",
       "8205   True       False                          None  40.432178 -3.714310   \n",
       "8206  False       False                          None  40.602407 -4.127118   \n",
       "8207  False       False              Orientación este  40.459784 -3.708340   \n",
       "\n",
       "                CREATED_DATE            UPDATED_DATE       DISTRITO  \\\n",
       "0    2025-05-25 16:40:39.310 2025-05-26 16:59:12.613        Barajas   \n",
       "1    2025-05-25 16:40:39.310 2025-05-26 16:59:23.887    Not defined   \n",
       "2    2025-05-25 16:40:39.310 2025-05-26 16:59:26.273         Centro   \n",
       "3    2025-05-25 16:40:39.310 2025-05-26 17:19:30.850          Usera   \n",
       "4    2025-05-25 16:40:39.310 2025-05-26 17:19:31.137         Centro   \n",
       "...                      ...                     ...            ...   \n",
       "8203 2025-05-25 16:40:39.310 2025-05-26 23:16:18.123  Ciudad Lineal   \n",
       "8204 2025-05-25 16:40:39.310 2025-05-26 23:16:18.410    Not defined   \n",
       "8205 2025-05-25 16:40:39.310 2025-05-26 23:16:18.690       Chamberí   \n",
       "8206 2025-05-25 16:40:39.310 2025-05-26 23:16:18.940    Not defined   \n",
       "8207 2025-05-25 16:40:39.310 2025-05-26 23:16:19.210         Tetuán   \n",
       "\n",
       "     PRICE_PER_NIGHT  \n",
       "0             122.74  \n",
       "1               None  \n",
       "2             155.44  \n",
       "3             128.58  \n",
       "4             155.44  \n",
       "...              ...  \n",
       "8203          181.40  \n",
       "8204            None  \n",
       "8205          106.55  \n",
       "8206            None  \n",
       "8207           94.18  \n",
       "\n",
       "[8208 rows x 36 columns]"
      ]
     },
     "execution_count": 5,
     "metadata": {},
     "output_type": "execute_result"
    }
   ],
   "source": [
    "df_houses"
   ]
  },
  {
   "cell_type": "code",
   "execution_count": 6,
   "id": "2727be88",
   "metadata": {},
   "outputs": [],
   "source": [
    "columns_to_drop = [\"HOUSE_ID\",\n",
    "\"TITLE\",\n",
    "\"PRICE\",\n",
    "\"ADDRESS1\",\n",
    "\"ADDRESS2\",\n",
    "\"CITY\",\n",
    "\"ENERGY_CONSUME\",\n",
    "\"ENERGY_EMISSION\",\n",
    "\"PLANTA\",\n",
    "\"GARAJE\",\n",
    "\"ESTADO\",\n",
    "\"ARMARIOS_EMPOTRADOS\",\n",
    "\"ANO\",\n",
    "\"CALEFACCION\",\n",
    "\"PISCINA\",\n",
    "\"UPDATE_DATE\",\n",
    "\"URL\",\n",
    "\"MORE_INFO\",\n",
    "\"ASCENSOR\",\n",
    "\"MOVILIDAD_REDUCIDA\",\n",
    "\"TRASTERO\",\n",
    "\"AIRE_ACOND\",\n",
    "\"ORIENTACION\",\n",
    "\"ZONA\",\n",
    "\"CREATED_DATE\",\n",
    "\"UPDATED_DATE\",\n",
    "\"PRICE_PER_NIGHT\"]\n",
    "\n",
    "\n",
    "df_houses.drop(columns=columns_to_drop, inplace=True)"
   ]
  },
  {
   "cell_type": "code",
   "execution_count": 7,
   "id": "6d9091f3",
   "metadata": {},
   "outputs": [
    {
     "data": {
      "application/vnd.microsoft.datawrangler.viewer.v0+json": {
       "columns": [
        {
         "name": "index",
         "rawType": "int64",
         "type": "integer"
        },
        {
         "name": "SUPERFICIE",
         "rawType": "object",
         "type": "string"
        },
        {
         "name": "HABITACIONES",
         "rawType": "object",
         "type": "string"
        },
        {
         "name": "BANOS",
         "rawType": "object",
         "type": "string"
        },
        {
         "name": "JARDIN",
         "rawType": "bool",
         "type": "boolean"
        },
        {
         "name": "TERRAZA",
         "rawType": "bool",
         "type": "boolean"
        },
        {
         "name": "BALCON",
         "rawType": "bool",
         "type": "boolean"
        },
        {
         "name": "LATITUDE",
         "rawType": "float64",
         "type": "float"
        },
        {
         "name": "LONGITUDE",
         "rawType": "float64",
         "type": "float"
        },
        {
         "name": "DISTRITO",
         "rawType": "object",
         "type": "string"
        }
       ],
       "ref": "188da715-8604-42ea-9b0c-d4393c2cd418",
       "rows": [
        [
         "0",
         "Consumo: \n260 kWh/m² año",
         "3 habitaciones",
         "1 baño",
         "False",
         "False",
         "False",
         "40.4734285",
         "-3.5796101",
         "Barajas"
        ],
        [
         "1",
         "Parcela de 710 m²",
         "5 habitaciones",
         "3 baños",
         "True",
         "True",
         "False",
         "40.44462499999999",
         "-3.2850525",
         "Not defined"
        ],
        [
         "2",
         "Emisiones: \n65,5 kg CO2/m² año",
         "3 habitaciones",
         "1 baño",
         "False",
         "True",
         "False",
         "40.41672790000001",
         "-3.7032905",
         "Centro"
        ],
        [
         "3",
         "73 m² construidos, 67 m² útiles",
         "3 habitaciones",
         "1 baño",
         "False",
         "False",
         "False",
         "40.3856949",
         "-3.7071224",
         "Usera"
        ],
        [
         "4",
         "63 m² construidos",
         "3 habitaciones",
         "1 baño",
         "False",
         "False",
         "False",
         "40.4167307",
         "-3.7032972",
         "Centro"
        ]
       ],
       "shape": {
        "columns": 9,
        "rows": 5
       }
      },
      "text/html": [
       "<div>\n",
       "<style scoped>\n",
       "    .dataframe tbody tr th:only-of-type {\n",
       "        vertical-align: middle;\n",
       "    }\n",
       "\n",
       "    .dataframe tbody tr th {\n",
       "        vertical-align: top;\n",
       "    }\n",
       "\n",
       "    .dataframe thead th {\n",
       "        text-align: right;\n",
       "    }\n",
       "</style>\n",
       "<table border=\"1\" class=\"dataframe\">\n",
       "  <thead>\n",
       "    <tr style=\"text-align: right;\">\n",
       "      <th></th>\n",
       "      <th>SUPERFICIE</th>\n",
       "      <th>HABITACIONES</th>\n",
       "      <th>BANOS</th>\n",
       "      <th>JARDIN</th>\n",
       "      <th>TERRAZA</th>\n",
       "      <th>BALCON</th>\n",
       "      <th>LATITUDE</th>\n",
       "      <th>LONGITUDE</th>\n",
       "      <th>DISTRITO</th>\n",
       "    </tr>\n",
       "  </thead>\n",
       "  <tbody>\n",
       "    <tr>\n",
       "      <th>0</th>\n",
       "      <td>Consumo: \\n260 kWh/m² año</td>\n",
       "      <td>3 habitaciones</td>\n",
       "      <td>1 baño</td>\n",
       "      <td>False</td>\n",
       "      <td>False</td>\n",
       "      <td>False</td>\n",
       "      <td>40.473428</td>\n",
       "      <td>-3.579610</td>\n",
       "      <td>Barajas</td>\n",
       "    </tr>\n",
       "    <tr>\n",
       "      <th>1</th>\n",
       "      <td>Parcela de 710 m²</td>\n",
       "      <td>5 habitaciones</td>\n",
       "      <td>3 baños</td>\n",
       "      <td>True</td>\n",
       "      <td>True</td>\n",
       "      <td>False</td>\n",
       "      <td>40.444625</td>\n",
       "      <td>-3.285052</td>\n",
       "      <td>Not defined</td>\n",
       "    </tr>\n",
       "    <tr>\n",
       "      <th>2</th>\n",
       "      <td>Emisiones: \\n65,5 kg CO2/m² año</td>\n",
       "      <td>3 habitaciones</td>\n",
       "      <td>1 baño</td>\n",
       "      <td>False</td>\n",
       "      <td>True</td>\n",
       "      <td>False</td>\n",
       "      <td>40.416728</td>\n",
       "      <td>-3.703291</td>\n",
       "      <td>Centro</td>\n",
       "    </tr>\n",
       "    <tr>\n",
       "      <th>3</th>\n",
       "      <td>73 m² construidos, 67 m² útiles</td>\n",
       "      <td>3 habitaciones</td>\n",
       "      <td>1 baño</td>\n",
       "      <td>False</td>\n",
       "      <td>False</td>\n",
       "      <td>False</td>\n",
       "      <td>40.385695</td>\n",
       "      <td>-3.707122</td>\n",
       "      <td>Usera</td>\n",
       "    </tr>\n",
       "    <tr>\n",
       "      <th>4</th>\n",
       "      <td>63 m² construidos</td>\n",
       "      <td>3 habitaciones</td>\n",
       "      <td>1 baño</td>\n",
       "      <td>False</td>\n",
       "      <td>False</td>\n",
       "      <td>False</td>\n",
       "      <td>40.416731</td>\n",
       "      <td>-3.703297</td>\n",
       "      <td>Centro</td>\n",
       "    </tr>\n",
       "  </tbody>\n",
       "</table>\n",
       "</div>"
      ],
      "text/plain": [
       "                        SUPERFICIE    HABITACIONES    BANOS  JARDIN  TERRAZA  \\\n",
       "0        Consumo: \\n260 kWh/m² año  3 habitaciones   1 baño   False    False   \n",
       "1                Parcela de 710 m²  5 habitaciones  3 baños    True     True   \n",
       "2  Emisiones: \\n65,5 kg CO2/m² año  3 habitaciones   1 baño   False     True   \n",
       "3  73 m² construidos, 67 m² útiles  3 habitaciones   1 baño   False    False   \n",
       "4                63 m² construidos  3 habitaciones   1 baño   False    False   \n",
       "\n",
       "   BALCON   LATITUDE  LONGITUDE     DISTRITO  \n",
       "0   False  40.473428  -3.579610      Barajas  \n",
       "1   False  40.444625  -3.285052  Not defined  \n",
       "2   False  40.416728  -3.703291       Centro  \n",
       "3   False  40.385695  -3.707122        Usera  \n",
       "4   False  40.416731  -3.703297       Centro  "
      ]
     },
     "execution_count": 7,
     "metadata": {},
     "output_type": "execute_result"
    }
   ],
   "source": [
    "df_houses.head()"
   ]
  },
  {
   "cell_type": "code",
   "execution_count": 8,
   "id": "c13f4d9c",
   "metadata": {},
   "outputs": [
    {
     "data": {
      "application/vnd.microsoft.datawrangler.viewer.v0+json": {
       "columns": [
        {
         "name": "index",
         "rawType": "object",
         "type": "string"
        },
        {
         "name": "0",
         "rawType": "int64",
         "type": "integer"
        }
       ],
       "ref": "3c01b65f-f8ee-46f6-ae90-6632331ba642",
       "rows": [
        [
         "SUPERFICIE",
         "0"
        ],
        [
         "HABITACIONES",
         "0"
        ],
        [
         "BANOS",
         "0"
        ],
        [
         "JARDIN",
         "0"
        ],
        [
         "TERRAZA",
         "0"
        ],
        [
         "BALCON",
         "0"
        ],
        [
         "LATITUDE",
         "0"
        ],
        [
         "LONGITUDE",
         "0"
        ],
        [
         "DISTRITO",
         "0"
        ]
       ],
       "shape": {
        "columns": 1,
        "rows": 9
       }
      },
      "text/plain": [
       "SUPERFICIE      0\n",
       "HABITACIONES    0\n",
       "BANOS           0\n",
       "JARDIN          0\n",
       "TERRAZA         0\n",
       "BALCON          0\n",
       "LATITUDE        0\n",
       "LONGITUDE       0\n",
       "DISTRITO        0\n",
       "dtype: int64"
      ]
     },
     "execution_count": 8,
     "metadata": {},
     "output_type": "execute_result"
    }
   ],
   "source": [
    "df_houses.isnull().sum()"
   ]
  },
  {
   "cell_type": "markdown",
   "id": "f6489cc8",
   "metadata": {},
   "source": [
    "#### Banos"
   ]
  },
  {
   "cell_type": "code",
   "execution_count": 9,
   "id": "22394fc1",
   "metadata": {},
   "outputs": [
    {
     "data": {
      "text/plain": [
       "array(['1 baño', '3 baños', '5 baños', '2 baños', '6 baños', '11 baños',\n",
       "       '4 baños', '8 baños', 'Sin baños', '7 baños', '9 baños',\n",
       "       '10 baños', '30 baños', '16 baños', '12 baños'], dtype=object)"
      ]
     },
     "execution_count": 9,
     "metadata": {},
     "output_type": "execute_result"
    }
   ],
   "source": [
    "df_houses[\"BANOS\"].unique()"
   ]
  },
  {
   "cell_type": "code",
   "execution_count": 10,
   "id": "d521a9c3",
   "metadata": {},
   "outputs": [],
   "source": [
    "df_houses[\"BAÑOS\"] = [0 if x == 'Sin baños' else int(x.replace(\"baños\", \"\").replace(\"baño\", \"\").strip()) for x in df_houses[\"BANOS\"]]"
   ]
  },
  {
   "cell_type": "code",
   "execution_count": 11,
   "id": "5acb3f02",
   "metadata": {},
   "outputs": [
    {
     "data": {
      "text/plain": [
       "array([ 1,  3,  5,  2,  6, 11,  4,  8,  0,  7,  9, 10, 30, 16, 12])"
      ]
     },
     "execution_count": 11,
     "metadata": {},
     "output_type": "execute_result"
    }
   ],
   "source": [
    "df_houses[\"BAÑOS\"].unique()"
   ]
  },
  {
   "cell_type": "markdown",
   "id": "b1b458fd",
   "metadata": {},
   "source": [
    "#### Habitaciones"
   ]
  },
  {
   "cell_type": "code",
   "execution_count": 12,
   "id": "b344f1df",
   "metadata": {},
   "outputs": [
    {
     "data": {
      "text/plain": [
       "array(['3 habitaciones', '5 habitaciones', '4 habitaciones',\n",
       "       '2 habitaciones', '1 habitación', '6 habitaciones',\n",
       "       'Sin habitación', '8 habitaciones', '7 habitaciones',\n",
       "       '9 habitaciones', '11 habitaciones', '10 habitaciones',\n",
       "       '20 habitaciones', '14 habitaciones', '30 habitaciones',\n",
       "       '16 habitaciones', '12 habitaciones'], dtype=object)"
      ]
     },
     "execution_count": 12,
     "metadata": {},
     "output_type": "execute_result"
    }
   ],
   "source": [
    "df_houses[\"HABITACIONES\"].unique()"
   ]
  },
  {
   "cell_type": "code",
   "execution_count": 13,
   "id": "8408fa73",
   "metadata": {},
   "outputs": [],
   "source": [
    "df_houses[\"HABITACIONES\"] = [0 if x == 'Sin habitación' else int(x.replace(\"habitaciones\", \"\").replace(\"habitación\", \"\").strip()) for x in df_houses[\"HABITACIONES\"]]"
   ]
  },
  {
   "cell_type": "code",
   "execution_count": 14,
   "id": "ca768b7d",
   "metadata": {},
   "outputs": [
    {
     "data": {
      "text/plain": [
       "array([ 3,  5,  4,  2,  1,  6,  0,  8,  7,  9, 11, 10, 20, 14, 30, 16, 12])"
      ]
     },
     "execution_count": 14,
     "metadata": {},
     "output_type": "execute_result"
    }
   ],
   "source": [
    "df_houses[\"HABITACIONES\"].unique()"
   ]
  },
  {
   "cell_type": "markdown",
   "id": "539f41e5",
   "metadata": {},
   "source": [
    "Borramos las filas que no tengan ninguna ninguna habitacion o ningun baño"
   ]
  },
  {
   "cell_type": "code",
   "execution_count": 15,
   "id": "12e9b906",
   "metadata": {},
   "outputs": [],
   "source": [
    "df_houses = df_houses[df_houses[\"BANOS\"] != 0]\n",
    "df_houses = df_houses[df_houses[\"HABITACIONES\"] != 0]"
   ]
  },
  {
   "cell_type": "markdown",
   "id": "c8ce2075",
   "metadata": {},
   "source": [
    "#### Superficie"
   ]
  },
  {
   "cell_type": "code",
   "execution_count": 16,
   "id": "a28a7ca2",
   "metadata": {},
   "outputs": [
    {
     "data": {
      "text/plain": [
       "array(['Consumo: \\n260 kWh/m² año', 'Parcela de 710 m²',\n",
       "       'Emisiones: \\n65,5 kg CO2/m² año', ...,\n",
       "       '162 m² construidos, 128 m² útiles', '408 m² construidos',\n",
       "       '35 m² construidos, 30 m² útiles'], dtype=object)"
      ]
     },
     "execution_count": 16,
     "metadata": {},
     "output_type": "execute_result"
    }
   ],
   "source": [
    "df_houses[\"SUPERFICIE\"].unique()"
   ]
  },
  {
   "cell_type": "code",
   "execution_count": 17,
   "id": "022f45d0",
   "metadata": {},
   "outputs": [],
   "source": [
    "df_houses = df_houses[((df_houses[\"SUPERFICIE\"].str.contains(\"construidos\")) | (df_houses[\"SUPERFICIE\"].str.contains(\"Parcela\")))]"
   ]
  },
  {
   "cell_type": "code",
   "execution_count": 18,
   "id": "5d4c6b0a",
   "metadata": {},
   "outputs": [
    {
     "data": {
      "text/plain": [
       "array(['Parcela de 710 m²', '73 m² construidos, 67 m² útiles',\n",
       "       '63 m² construidos', ..., '162 m² construidos, 128 m² útiles',\n",
       "       '408 m² construidos', '35 m² construidos, 30 m² útiles'],\n",
       "      dtype=object)"
      ]
     },
     "execution_count": 18,
     "metadata": {},
     "output_type": "execute_result"
    }
   ],
   "source": [
    "df_houses[\"SUPERFICIE\"].unique()"
   ]
  },
  {
   "cell_type": "code",
   "execution_count": 19,
   "id": "02eea0e4",
   "metadata": {},
   "outputs": [
    {
     "data": {
      "text/plain": [
       "7487"
      ]
     },
     "execution_count": 19,
     "metadata": {},
     "output_type": "execute_result"
    }
   ],
   "source": [
    "len(df_houses)"
   ]
  },
  {
   "cell_type": "code",
   "execution_count": 20,
   "id": "c36055a7",
   "metadata": {},
   "outputs": [],
   "source": [
    "import re\n",
    "\n",
    "# Extract the numeric value (surface in m²) from the 'SUPERFICIE' column\n",
    "df_houses['SUPERFICIE_M2'] = df_houses['SUPERFICIE'].str.extract(r'(\\d+)\\s*m²')\n",
    "df_houses['SUPERFICIE_M2'] = df_houses['SUPERFICIE_M2'].astype(float)\n"
   ]
  },
  {
   "cell_type": "code",
   "execution_count": 21,
   "id": "d0da865a",
   "metadata": {},
   "outputs": [
    {
     "data": {
      "application/vnd.microsoft.datawrangler.viewer.v0+json": {
       "columns": [
        {
         "name": "index",
         "rawType": "int64",
         "type": "integer"
        },
        {
         "name": "SUPERFICIE",
         "rawType": "object",
         "type": "string"
        },
        {
         "name": "HABITACIONES",
         "rawType": "int64",
         "type": "integer"
        },
        {
         "name": "BANOS",
         "rawType": "object",
         "type": "string"
        },
        {
         "name": "JARDIN",
         "rawType": "bool",
         "type": "boolean"
        },
        {
         "name": "TERRAZA",
         "rawType": "bool",
         "type": "boolean"
        },
        {
         "name": "BALCON",
         "rawType": "bool",
         "type": "boolean"
        },
        {
         "name": "LATITUDE",
         "rawType": "float64",
         "type": "float"
        },
        {
         "name": "LONGITUDE",
         "rawType": "float64",
         "type": "float"
        },
        {
         "name": "DISTRITO",
         "rawType": "object",
         "type": "string"
        },
        {
         "name": "BAÑOS",
         "rawType": "int64",
         "type": "integer"
        },
        {
         "name": "SUPERFICIE_M2",
         "rawType": "float64",
         "type": "float"
        }
       ],
       "ref": "b634cabe-3291-46b9-bacb-b760b9dc9914",
       "rows": [
        [
         "1",
         "Parcela de 710 m²",
         "5",
         "3 baños",
         "True",
         "True",
         "False",
         "40.44462499999999",
         "-3.2850525",
         "Not defined",
         "3",
         "710.0"
        ],
        [
         "3",
         "73 m² construidos, 67 m² útiles",
         "3",
         "1 baño",
         "False",
         "False",
         "False",
         "40.3856949",
         "-3.7071224",
         "Usera",
         "1",
         "73.0"
        ],
        [
         "4",
         "63 m² construidos",
         "3",
         "1 baño",
         "False",
         "False",
         "False",
         "40.4167307",
         "-3.7032972",
         "Centro",
         "1",
         "63.0"
        ],
        [
         "5",
         "175 m² construidos",
         "3",
         "3 baños",
         "False",
         "True",
         "False",
         "40.4314969",
         "-3.723654",
         "Moncloa - Aravaca",
         "3",
         "175.0"
        ],
        [
         "6",
         "76 m² construidos",
         "3",
         "1 baño",
         "False",
         "False",
         "False",
         "-19.9952622",
         "23.4180769",
         "Not defined",
         "1",
         "76.0"
        ],
        [
         "7",
         "58 m² construidos",
         "3",
         "1 baño",
         "False",
         "False",
         "True",
         "40.3422257",
         "-3.6843119",
         "Villaverde",
         "1",
         "58.0"
        ],
        [
         "10",
         "Parcela de 106 m²",
         "5",
         "3 baños",
         "True",
         "False",
         "True",
         "40.465653",
         "-4.087426499999999",
         "Not defined",
         "3",
         "106.0"
        ],
        [
         "11",
         "265 m² construidos",
         "5",
         "5 baños",
         "False",
         "True",
         "False",
         "40.4391142",
         "-3.6849464",
         "Chamartín",
         "5",
         "265.0"
        ],
        [
         "12",
         "209 m² construidos",
         "4",
         "3 baños",
         "True",
         "True",
         "False",
         "40.4167088",
         "-3.5812692",
         "Vicálvaro",
         "3",
         "209.0"
        ],
        [
         "13",
         "95 m² construidos",
         "3",
         "1 baño",
         "False",
         "True",
         "False",
         "40.4553846",
         "-3.699145799999999",
         "Tetuán",
         "1",
         "95.0"
        ],
        [
         "14",
         "63 m² construidos, 59 m² útiles",
         "2",
         "1 baño",
         "False",
         "False",
         "False",
         "40.3933344",
         "-3.7154894",
         "Carabanchel",
         "1",
         "63.0"
        ],
        [
         "15",
         "73 m² construidos, 69 m² útiles",
         "3",
         "1 baño",
         "False",
         "True",
         "False",
         "40.3026829",
         "-3.7363112",
         "Not defined",
         "1",
         "73.0"
        ],
        [
         "16",
         "72 m² construidos, 69 m² útiles",
         "3",
         "1 baño",
         "False",
         "True",
         "False",
         "40.404827",
         "-3.751464",
         "Latina",
         "1",
         "72.0"
        ],
        [
         "17",
         "160 m² construidos, 151 m² útiles",
         "5",
         "3 baños",
         "False",
         "False",
         "False",
         "40.41672790000001",
         "-3.7032905",
         "Centro",
         "3",
         "160.0"
        ],
        [
         "18",
         "69 m² construidos, 61 m² útiles",
         "2",
         "2 baños",
         "False",
         "True",
         "False",
         "40.3142249",
         "-3.4510694",
         "Not defined",
         "2",
         "69.0"
        ],
        [
         "19",
         "63 m² construidos",
         "3",
         "1 baño",
         "False",
         "False",
         "False",
         "40.3931138",
         "-3.7223536",
         "Carabanchel",
         "1",
         "63.0"
        ],
        [
         "21",
         "149 m² construidos",
         "3",
         "2 baños",
         "False",
         "True",
         "False",
         "40.42572089999999",
         "-3.6718503",
         "Salamanca",
         "2",
         "149.0"
        ],
        [
         "22",
         "750 m² construidos",
         "4",
         "6 baños",
         "True",
         "True",
         "False",
         "40.6208629",
         "-3.617417",
         "Not defined",
         "6",
         "750.0"
        ],
        [
         "23",
         "73 m² construidos",
         "2",
         "1 baño",
         "False",
         "False",
         "False",
         "40.41672790000001",
         "-3.7032905",
         "Centro",
         "1",
         "73.0"
        ],
        [
         "24",
         "Parcela de 5.100 m²",
         "3",
         "2 baños",
         "True",
         "True",
         "False",
         "40.4044345",
         "-3.9992998",
         "Not defined",
         "2",
         "100.0"
        ],
        [
         "25",
         "30 m² construidos",
         "1",
         "1 baño",
         "False",
         "False",
         "False",
         "40.4334933",
         "-3.6981043",
         "Chamberí",
         "1",
         "30.0"
        ],
        [
         "26",
         "Parcela de 1.070 m²",
         "6",
         "3 baños",
         "True",
         "True",
         "False",
         "40.52176619999999",
         "-3.984016",
         "Not defined",
         "3",
         "70.0"
        ],
        [
         "28",
         "138 m² construidos",
         "3",
         "2 baños",
         "False",
         "True",
         "False",
         "40.41672790000001",
         "-3.7032905",
         "Centro",
         "2",
         "138.0"
        ],
        [
         "29",
         "100 m² construidos",
         "2",
         "2 baños",
         "False",
         "True",
         "False",
         "40.4292119",
         "-3.7151702",
         "Centro",
         "2",
         "100.0"
        ],
        [
         "30",
         "79 m² construidos, 75 m² útiles",
         "4",
         "3 baños",
         "False",
         "False",
         "False",
         "40.4349685",
         "-3.7188734",
         "Moncloa - Aravaca",
         "3",
         "79.0"
        ],
        [
         "31",
         "120 m² construidos, 110 m² útiles",
         "2",
         "2 baños",
         "False",
         "False",
         "True",
         "40.4064976",
         "-3.7353614",
         "Latina",
         "2",
         "120.0"
        ],
        [
         "32",
         "80 m² construidos, 75 m² útiles",
         "3",
         "1 baño",
         "False",
         "True",
         "False",
         "40.4087857",
         "-3.7290013",
         "Latina",
         "1",
         "80.0"
        ],
        [
         "33",
         "172 m² construidos",
         "2",
         "3 baños",
         "False",
         "True",
         "False",
         "40.4324338",
         "-3.704525499999999",
         "Chamberí",
         "3",
         "172.0"
        ],
        [
         "34",
         "80 m² construidos",
         "3",
         "1 baño",
         "False",
         "False",
         "False",
         "22.5219072",
         "-99.325362",
         "Not defined",
         "1",
         "80.0"
        ],
        [
         "35",
         "86 m² construidos",
         "3",
         "2 baños",
         "False",
         "True",
         "False",
         "40.4517511",
         "-3.7067121",
         "Tetuán",
         "2",
         "86.0"
        ],
        [
         "36",
         "74 m² construidos",
         "3",
         "1 baño",
         "False",
         "False",
         "False",
         "40.2931561",
         "-3.7847062",
         "Not defined",
         "1",
         "74.0"
        ],
        [
         "37",
         "62 m² construidos",
         "3",
         "1 baño",
         "False",
         "False",
         "False",
         "40.3232129",
         "-3.8676291",
         "Not defined",
         "1",
         "62.0"
        ],
        [
         "38",
         "75 m² construidos",
         "3",
         "1 baño",
         "False",
         "False",
         "False",
         "40.463595",
         "-3.4844262",
         "Not defined",
         "1",
         "75.0"
        ],
        [
         "39",
         "98 m² construidos",
         "4",
         "2 baños",
         "False",
         "False",
         "False",
         "40.4167234",
         "-3.7033851",
         "Centro",
         "2",
         "98.0"
        ],
        [
         "40",
         "78 m² construidos",
         "3",
         "1 baño",
         "False",
         "False",
         "False",
         "40.5589672",
         "-3.6261976",
         "Not defined",
         "1",
         "78.0"
        ],
        [
         "41",
         "96 m² construidos",
         "4",
         "1 baño",
         "False",
         "False",
         "False",
         "40.4671594",
         "-3.7056564",
         "Tetuán",
         "1",
         "96.0"
        ],
        [
         "42",
         "Parcela de 4.400 m²",
         "8",
         "11 baños",
         "True",
         "True",
         "False",
         "40.6307085",
         "-3.5983695",
         "Not defined",
         "11",
         "400.0"
        ],
        [
         "43",
         "Parcela de 1.053 m²",
         "5",
         "4 baños",
         "True",
         "True",
         "False",
         "40.5054126",
         "-3.5331215",
         "Not defined",
         "4",
         "53.0"
        ],
        [
         "44",
         "34 m² construidos",
         "1",
         "1 baño",
         "False",
         "False",
         "False",
         "40.4233716",
         "-3.7077922",
         "Centro",
         "1",
         "34.0"
        ],
        [
         "45",
         "180 m² construidos, 155 m² útiles",
         "3",
         "3 baños",
         "False",
         "True",
         "False",
         "40.4253349",
         "-3.6669307",
         "Salamanca",
         "3",
         "180.0"
        ],
        [
         "46",
         "71 m² construidos",
         "3",
         "1 baño",
         "False",
         "False",
         "False",
         "40.232367",
         "-3.768906",
         "Not defined",
         "1",
         "71.0"
        ],
        [
         "47",
         "64 m² construidos, 60 m² útiles",
         "1",
         "2 baños",
         "False",
         "True",
         "False",
         "40.4137701",
         "-3.677148",
         "Retiro",
         "2",
         "64.0"
        ],
        [
         "48",
         "66 m² construidos, 61 m² útiles",
         "2",
         "1 baño",
         "False",
         "True",
         "False",
         "40.4272356",
         "-3.644741099999999",
         "Ciudad Lineal",
         "1",
         "66.0"
        ],
        [
         "51",
         "62 m² construidos",
         "3",
         "1 baño",
         "False",
         "False",
         "False",
         "40.3811878",
         "-3.7414087",
         "Carabanchel",
         "1",
         "62.0"
        ],
        [
         "52",
         "70 m² construidos",
         "3",
         "1 baño",
         "False",
         "False",
         "False",
         "40.3460636",
         "-3.6768433",
         "Villaverde",
         "1",
         "70.0"
        ],
        [
         "53",
         "60 m² construidos",
         "3",
         "1 baño",
         "False",
         "False",
         "False",
         "40.3415647",
         "-3.688176",
         "Villaverde",
         "1",
         "60.0"
        ],
        [
         "54",
         "54 m² construidos",
         "2",
         "1 baño",
         "False",
         "False",
         "False",
         "40.3559387",
         "-3.6913423",
         "Villaverde",
         "1",
         "54.0"
        ],
        [
         "55",
         "62 m² construidos, 57 m² útiles",
         "3",
         "1 baño",
         "False",
         "False",
         "False",
         "40.3845593",
         "-3.731136",
         "Carabanchel",
         "1",
         "62.0"
        ],
        [
         "56",
         "Parcela de 1.002 m²",
         "6",
         "5 baños",
         "True",
         "True",
         "False",
         "40.6594174",
         "-4.0335697",
         "Not defined",
         "5",
         "2.0"
        ],
        [
         "57",
         "90 m² construidos",
         "2",
         "1 baño",
         "False",
         "True",
         "False",
         "40.2968089",
         "-3.7926138",
         "Not defined",
         "1",
         "90.0"
        ]
       ],
       "shape": {
        "columns": 11,
        "rows": 7487
       }
      },
      "text/html": [
       "<div>\n",
       "<style scoped>\n",
       "    .dataframe tbody tr th:only-of-type {\n",
       "        vertical-align: middle;\n",
       "    }\n",
       "\n",
       "    .dataframe tbody tr th {\n",
       "        vertical-align: top;\n",
       "    }\n",
       "\n",
       "    .dataframe thead th {\n",
       "        text-align: right;\n",
       "    }\n",
       "</style>\n",
       "<table border=\"1\" class=\"dataframe\">\n",
       "  <thead>\n",
       "    <tr style=\"text-align: right;\">\n",
       "      <th></th>\n",
       "      <th>SUPERFICIE</th>\n",
       "      <th>HABITACIONES</th>\n",
       "      <th>BANOS</th>\n",
       "      <th>JARDIN</th>\n",
       "      <th>TERRAZA</th>\n",
       "      <th>BALCON</th>\n",
       "      <th>LATITUDE</th>\n",
       "      <th>LONGITUDE</th>\n",
       "      <th>DISTRITO</th>\n",
       "      <th>BAÑOS</th>\n",
       "      <th>SUPERFICIE_M2</th>\n",
       "    </tr>\n",
       "  </thead>\n",
       "  <tbody>\n",
       "    <tr>\n",
       "      <th>1</th>\n",
       "      <td>Parcela de 710 m²</td>\n",
       "      <td>5</td>\n",
       "      <td>3 baños</td>\n",
       "      <td>True</td>\n",
       "      <td>True</td>\n",
       "      <td>False</td>\n",
       "      <td>40.444625</td>\n",
       "      <td>-3.285052</td>\n",
       "      <td>Not defined</td>\n",
       "      <td>3</td>\n",
       "      <td>710.0</td>\n",
       "    </tr>\n",
       "    <tr>\n",
       "      <th>3</th>\n",
       "      <td>73 m² construidos, 67 m² útiles</td>\n",
       "      <td>3</td>\n",
       "      <td>1 baño</td>\n",
       "      <td>False</td>\n",
       "      <td>False</td>\n",
       "      <td>False</td>\n",
       "      <td>40.385695</td>\n",
       "      <td>-3.707122</td>\n",
       "      <td>Usera</td>\n",
       "      <td>1</td>\n",
       "      <td>73.0</td>\n",
       "    </tr>\n",
       "    <tr>\n",
       "      <th>4</th>\n",
       "      <td>63 m² construidos</td>\n",
       "      <td>3</td>\n",
       "      <td>1 baño</td>\n",
       "      <td>False</td>\n",
       "      <td>False</td>\n",
       "      <td>False</td>\n",
       "      <td>40.416731</td>\n",
       "      <td>-3.703297</td>\n",
       "      <td>Centro</td>\n",
       "      <td>1</td>\n",
       "      <td>63.0</td>\n",
       "    </tr>\n",
       "    <tr>\n",
       "      <th>5</th>\n",
       "      <td>175 m² construidos</td>\n",
       "      <td>3</td>\n",
       "      <td>3 baños</td>\n",
       "      <td>False</td>\n",
       "      <td>True</td>\n",
       "      <td>False</td>\n",
       "      <td>40.431497</td>\n",
       "      <td>-3.723654</td>\n",
       "      <td>Moncloa - Aravaca</td>\n",
       "      <td>3</td>\n",
       "      <td>175.0</td>\n",
       "    </tr>\n",
       "    <tr>\n",
       "      <th>6</th>\n",
       "      <td>76 m² construidos</td>\n",
       "      <td>3</td>\n",
       "      <td>1 baño</td>\n",
       "      <td>False</td>\n",
       "      <td>False</td>\n",
       "      <td>False</td>\n",
       "      <td>-19.995262</td>\n",
       "      <td>23.418077</td>\n",
       "      <td>Not defined</td>\n",
       "      <td>1</td>\n",
       "      <td>76.0</td>\n",
       "    </tr>\n",
       "    <tr>\n",
       "      <th>...</th>\n",
       "      <td>...</td>\n",
       "      <td>...</td>\n",
       "      <td>...</td>\n",
       "      <td>...</td>\n",
       "      <td>...</td>\n",
       "      <td>...</td>\n",
       "      <td>...</td>\n",
       "      <td>...</td>\n",
       "      <td>...</td>\n",
       "      <td>...</td>\n",
       "      <td>...</td>\n",
       "    </tr>\n",
       "    <tr>\n",
       "      <th>8203</th>\n",
       "      <td>162 m² construidos, 128 m² útiles</td>\n",
       "      <td>4</td>\n",
       "      <td>2 baños</td>\n",
       "      <td>False</td>\n",
       "      <td>True</td>\n",
       "      <td>False</td>\n",
       "      <td>40.431187</td>\n",
       "      <td>-3.638597</td>\n",
       "      <td>Ciudad Lineal</td>\n",
       "      <td>2</td>\n",
       "      <td>162.0</td>\n",
       "    </tr>\n",
       "    <tr>\n",
       "      <th>8204</th>\n",
       "      <td>110 m² construidos, 105 m² útiles</td>\n",
       "      <td>3</td>\n",
       "      <td>2 baños</td>\n",
       "      <td>False</td>\n",
       "      <td>True</td>\n",
       "      <td>False</td>\n",
       "      <td>40.715172</td>\n",
       "      <td>-3.987483</td>\n",
       "      <td>Not defined</td>\n",
       "      <td>2</td>\n",
       "      <td>110.0</td>\n",
       "    </tr>\n",
       "    <tr>\n",
       "      <th>8205</th>\n",
       "      <td>40 m² construidos, 32 m² útiles</td>\n",
       "      <td>1</td>\n",
       "      <td>1 baño</td>\n",
       "      <td>False</td>\n",
       "      <td>False</td>\n",
       "      <td>True</td>\n",
       "      <td>40.432178</td>\n",
       "      <td>-3.714310</td>\n",
       "      <td>Chamberí</td>\n",
       "      <td>1</td>\n",
       "      <td>40.0</td>\n",
       "    </tr>\n",
       "    <tr>\n",
       "      <th>8206</th>\n",
       "      <td>408 m² construidos</td>\n",
       "      <td>1</td>\n",
       "      <td>1 baño</td>\n",
       "      <td>False</td>\n",
       "      <td>False</td>\n",
       "      <td>False</td>\n",
       "      <td>40.602407</td>\n",
       "      <td>-4.127118</td>\n",
       "      <td>Not defined</td>\n",
       "      <td>1</td>\n",
       "      <td>408.0</td>\n",
       "    </tr>\n",
       "    <tr>\n",
       "      <th>8207</th>\n",
       "      <td>35 m² construidos, 30 m² útiles</td>\n",
       "      <td>1</td>\n",
       "      <td>1 baño</td>\n",
       "      <td>False</td>\n",
       "      <td>False</td>\n",
       "      <td>False</td>\n",
       "      <td>40.459784</td>\n",
       "      <td>-3.708340</td>\n",
       "      <td>Tetuán</td>\n",
       "      <td>1</td>\n",
       "      <td>35.0</td>\n",
       "    </tr>\n",
       "  </tbody>\n",
       "</table>\n",
       "<p>7487 rows × 11 columns</p>\n",
       "</div>"
      ],
      "text/plain": [
       "                             SUPERFICIE  HABITACIONES    BANOS  JARDIN  \\\n",
       "1                     Parcela de 710 m²             5  3 baños    True   \n",
       "3       73 m² construidos, 67 m² útiles             3   1 baño   False   \n",
       "4                     63 m² construidos             3   1 baño   False   \n",
       "5                    175 m² construidos             3  3 baños   False   \n",
       "6                     76 m² construidos             3   1 baño   False   \n",
       "...                                 ...           ...      ...     ...   \n",
       "8203  162 m² construidos, 128 m² útiles             4  2 baños   False   \n",
       "8204  110 m² construidos, 105 m² útiles             3  2 baños   False   \n",
       "8205    40 m² construidos, 32 m² útiles             1   1 baño   False   \n",
       "8206                 408 m² construidos             1   1 baño   False   \n",
       "8207    35 m² construidos, 30 m² útiles             1   1 baño   False   \n",
       "\n",
       "      TERRAZA  BALCON   LATITUDE  LONGITUDE           DISTRITO  BAÑOS  \\\n",
       "1        True   False  40.444625  -3.285052        Not defined      3   \n",
       "3       False   False  40.385695  -3.707122              Usera      1   \n",
       "4       False   False  40.416731  -3.703297             Centro      1   \n",
       "5        True   False  40.431497  -3.723654  Moncloa - Aravaca      3   \n",
       "6       False   False -19.995262  23.418077        Not defined      1   \n",
       "...       ...     ...        ...        ...                ...    ...   \n",
       "8203     True   False  40.431187  -3.638597      Ciudad Lineal      2   \n",
       "8204     True   False  40.715172  -3.987483        Not defined      2   \n",
       "8205    False    True  40.432178  -3.714310           Chamberí      1   \n",
       "8206    False   False  40.602407  -4.127118        Not defined      1   \n",
       "8207    False   False  40.459784  -3.708340             Tetuán      1   \n",
       "\n",
       "      SUPERFICIE_M2  \n",
       "1             710.0  \n",
       "3              73.0  \n",
       "4              63.0  \n",
       "5             175.0  \n",
       "6              76.0  \n",
       "...             ...  \n",
       "8203          162.0  \n",
       "8204          110.0  \n",
       "8205           40.0  \n",
       "8206          408.0  \n",
       "8207           35.0  \n",
       "\n",
       "[7487 rows x 11 columns]"
      ]
     },
     "execution_count": 21,
     "metadata": {},
     "output_type": "execute_result"
    }
   ],
   "source": [
    "df_houses"
   ]
  },
  {
   "cell_type": "code",
   "execution_count": 22,
   "id": "e20f631a",
   "metadata": {},
   "outputs": [
    {
     "data": {
      "application/vnd.microsoft.datawrangler.viewer.v0+json": {
       "columns": [
        {
         "name": "SUPERFICIE_M2",
         "rawType": "float64",
         "type": "float"
        },
        {
         "name": "count",
         "rawType": "int64",
         "type": "integer"
        }
       ],
       "ref": "4ea0a30f-b702-44ee-937d-9b96fa66b10b",
       "rows": [
        [
         "60.0",
         "157"
        ],
        [
         "80.0",
         "152"
        ],
        [
         "70.0",
         "128"
        ],
        [
         "90.0",
         "120"
        ],
        [
         "100.0",
         "117"
        ],
        [
         "50.0",
         "110"
        ],
        [
         "85.0",
         "110"
        ],
        [
         "75.0",
         "109"
        ],
        [
         "65.0",
         "93"
        ],
        [
         "55.0",
         "80"
        ],
        [
         "120.0",
         "79"
        ],
        [
         "110.0",
         "76"
        ],
        [
         "150.0",
         "72"
        ],
        [
         "95.0",
         "68"
        ],
        [
         "84.0",
         "63"
        ],
        [
         "140.0",
         "62"
        ],
        [
         "52.0",
         "62"
        ],
        [
         "130.0",
         "61"
        ],
        [
         "59.0",
         "61"
        ],
        [
         "78.0",
         "60"
        ],
        [
         "63.0",
         "60"
        ],
        [
         "82.0",
         "59"
        ],
        [
         "72.0",
         "58"
        ],
        [
         "500.0",
         "58"
        ],
        [
         "45.0",
         "57"
        ],
        [
         "86.0",
         "57"
        ],
        [
         "125.0",
         "56"
        ],
        [
         "73.0",
         "56"
        ],
        [
         "40.0",
         "56"
        ],
        [
         "115.0",
         "56"
        ],
        [
         "61.0",
         "56"
        ],
        [
         "105.0",
         "55"
        ],
        [
         "58.0",
         "55"
        ],
        [
         "76.0",
         "55"
        ],
        [
         "74.0",
         "54"
        ],
        [
         "0.0",
         "54"
        ],
        [
         "200.0",
         "52"
        ],
        [
         "68.0",
         "52"
        ],
        [
         "79.0",
         "51"
        ],
        [
         "101.0",
         "50"
        ],
        [
         "300.0",
         "50"
        ],
        [
         "53.0",
         "49"
        ],
        [
         "91.0",
         "49"
        ],
        [
         "102.0",
         "49"
        ],
        [
         "57.0",
         "49"
        ],
        [
         "88.0",
         "49"
        ],
        [
         "66.0",
         "49"
        ],
        [
         "56.0",
         "49"
        ],
        [
         "69.0",
         "47"
        ],
        [
         "77.0",
         "46"
        ]
       ],
       "shape": {
        "columns": 1,
        "rows": 616
       }
      },
      "text/plain": [
       "SUPERFICIE_M2\n",
       "60.0     157\n",
       "80.0     152\n",
       "70.0     128\n",
       "90.0     120\n",
       "100.0    117\n",
       "        ... \n",
       "601.0      1\n",
       "7.0        1\n",
       "694.0      1\n",
       "424.0      1\n",
       "408.0      1\n",
       "Name: count, Length: 616, dtype: int64"
      ]
     },
     "execution_count": 22,
     "metadata": {},
     "output_type": "execute_result"
    }
   ],
   "source": [
    "df_houses[\"SUPERFICIE_M2\"].value_counts()"
   ]
  },
  {
   "cell_type": "code",
   "execution_count": 23,
   "id": "5736425a",
   "metadata": {},
   "outputs": [],
   "source": [
    "df = df_houses.copy()"
   ]
  },
  {
   "cell_type": "markdown",
   "id": "899ae5be",
   "metadata": {},
   "source": [
    "## MODELO PREDICCION METROS CUADRADOS"
   ]
  },
  {
   "cell_type": "markdown",
   "id": "5736cf42",
   "metadata": {},
   "source": [
    "### Clasificacion KNN"
   ]
  },
  {
   "cell_type": "code",
   "execution_count": 24,
   "id": "c3368724",
   "metadata": {},
   "outputs": [],
   "source": [
    "df_houses = df.copy()"
   ]
  },
  {
   "cell_type": "code",
   "execution_count": 25,
   "id": "17e68dc7",
   "metadata": {},
   "outputs": [
    {
     "data": {
      "application/vnd.microsoft.datawrangler.viewer.v0+json": {
       "columns": [
        {
         "name": "index",
         "rawType": "object",
         "type": "string"
        },
        {
         "name": "0",
         "rawType": "object",
         "type": "unknown"
        }
       ],
       "ref": "6a5c4fbc-e3f1-49d6-a080-5565d654869b",
       "rows": [
        [
         "SUPERFICIE",
         "object"
        ],
        [
         "HABITACIONES",
         "int64"
        ],
        [
         "BANOS",
         "object"
        ],
        [
         "JARDIN",
         "bool"
        ],
        [
         "TERRAZA",
         "bool"
        ],
        [
         "BALCON",
         "bool"
        ],
        [
         "LATITUDE",
         "float64"
        ],
        [
         "LONGITUDE",
         "float64"
        ],
        [
         "DISTRITO",
         "object"
        ],
        [
         "BAÑOS",
         "int64"
        ],
        [
         "SUPERFICIE_M2",
         "float64"
        ]
       ],
       "shape": {
        "columns": 1,
        "rows": 11
       }
      },
      "text/plain": [
       "SUPERFICIE        object\n",
       "HABITACIONES       int64\n",
       "BANOS             object\n",
       "JARDIN              bool\n",
       "TERRAZA             bool\n",
       "BALCON              bool\n",
       "LATITUDE         float64\n",
       "LONGITUDE        float64\n",
       "DISTRITO          object\n",
       "BAÑOS              int64\n",
       "SUPERFICIE_M2    float64\n",
       "dtype: object"
      ]
     },
     "execution_count": 25,
     "metadata": {},
     "output_type": "execute_result"
    }
   ],
   "source": [
    "df_houses.dtypes"
   ]
  },
  {
   "cell_type": "code",
   "execution_count": 26,
   "id": "03600c90",
   "metadata": {},
   "outputs": [
    {
     "data": {
      "text/plain": [
       "0"
      ]
     },
     "execution_count": 26,
     "metadata": {},
     "output_type": "execute_result"
    }
   ],
   "source": [
    "df_houses[\"SUPERFICIE_M2\"].isnull().sum()"
   ]
  },
  {
   "cell_type": "code",
   "execution_count": 27,
   "id": "57d48891",
   "metadata": {},
   "outputs": [],
   "source": [
    "def get_range_meters(meters):\n",
    "    match meters:\n",
    "        # case m if m < 50:\n",
    "        #     return \"<50\"\n",
    "        # case m if 50 <= m < 60:\n",
    "        #     return \"50-60\"\n",
    "        # case m if 60 <= m < 70:\n",
    "        #     return \"60-70\"\n",
    "        # case m if 70 <= m < 80:\n",
    "        #     return \"70-80\"\n",
    "        # case m if 80 <= m < 90:\n",
    "        #     return \"80-90\"\n",
    "        # case m if 90 <= m < 100:\n",
    "        #     return \"90-100\"\n",
    "        # case m if 100 <= m < 110:\n",
    "        #     return \"100-110\"\n",
    "        # case m if 110 <= m < 120:\n",
    "        #     return \"110-120\"\n",
    "        # case m if 120 <= m < 130:\n",
    "        #     return \"120-130\"\n",
    "        # case m if 130 <= m < 140:\n",
    "        #     return \"130-140\"\n",
    "        # case m if 140 <= m < 150:\n",
    "        #     return \"140-150\"\n",
    "        # case _:\n",
    "        #     return \">150\" \n",
    "        \n",
    "        case m if m < 60:\n",
    "            return \"<60\"\n",
    "        case m if 60 <= m < 80:\n",
    "            return \"60-80\"\n",
    "        case m if 80 <= m < 100:\n",
    "            return \"80-100\"\n",
    "        case m if 100 <= m < 120:\n",
    "            return \"100-120\"\n",
    "        case m if 120 <= m < 150:\n",
    "            return \"100-150\"\n",
    "        case _:\n",
    "             return \">150\" "
   ]
  },
  {
   "cell_type": "code",
   "execution_count": 28,
   "id": "cef873af",
   "metadata": {},
   "outputs": [],
   "source": [
    "df_houses[\"range_meters\"] = df_houses[\"SUPERFICIE_M2\"].apply(lambda x: get_range_meters(x))"
   ]
  },
  {
   "cell_type": "code",
   "execution_count": 29,
   "id": "dc088005",
   "metadata": {},
   "outputs": [
    {
     "data": {
      "text/plain": [
       "<Axes: xlabel='range_meters'>"
      ]
     },
     "execution_count": 29,
     "metadata": {},
     "output_type": "execute_result"
    },
    {
     "data": {
      "image/png": "[encoded data removed]",
      "text/plain": [
       "<Figure size 640x480 with 1 Axes>"
      ]
     },
     "metadata": {},
     "output_type": "display_data"
    }
   ],
   "source": [
    "df_houses[\"range_meters\"].value_counts().plot.bar()"
   ]
  },
  {
   "cell_type": "code",
   "execution_count": 30,
   "id": "fd1a8ba4",
   "metadata": {},
   "outputs": [
    {
     "data": {
      "application/vnd.microsoft.datawrangler.viewer.v0+json": {
       "columns": [
        {
         "name": "range_meters",
         "rawType": "object",
         "type": "string"
        },
        {
         "name": "count",
         "rawType": "int64",
         "type": "integer"
        }
       ],
       "ref": "b4d895ab-6a3d-4c9c-a25d-fc37e67bdd8c",
       "rows": [
        [
         ">150",
         "2246"
        ],
        [
         "60-80",
         "1298"
        ],
        [
         "<60",
         "1188"
        ],
        [
         "80-100",
         "1178"
        ],
        [
         "100-120",
         "828"
        ],
        [
         "100-150",
         "749"
        ]
       ],
       "shape": {
        "columns": 1,
        "rows": 6
       }
      },
      "text/plain": [
       "range_meters\n",
       ">150       2246\n",
       "60-80      1298\n",
       "<60        1188\n",
       "80-100     1178\n",
       "100-120     828\n",
       "100-150     749\n",
       "Name: count, dtype: int64"
      ]
     },
     "execution_count": 30,
     "metadata": {},
     "output_type": "execute_result"
    }
   ],
   "source": [
    "df_houses[\"range_meters\"].value_counts()"
   ]
  },
  {
   "cell_type": "code",
   "execution_count": 31,
   "id": "5a88777e",
   "metadata": {},
   "outputs": [],
   "source": [
    "center_lat, center_lon = 40.4168, -3.7038\n",
    "\n",
    "# Create distance to city center\n",
    "df_houses['distance_to_center'] = np.sqrt((df_houses['LATITUDE'] - center_lat)**2 + (df_houses['LONGITUDE'] - center_lon)**2)"
   ]
  },
  {
   "cell_type": "code",
   "execution_count": 32,
   "id": "0ee46ecd",
   "metadata": {},
   "outputs": [
    {
     "data": {
      "application/vnd.microsoft.datawrangler.viewer.v0+json": {
       "columns": [
        {
         "name": "index",
         "rawType": "object",
         "type": "string"
        },
        {
         "name": "0",
         "rawType": "object",
         "type": "unknown"
        }
       ],
       "ref": "95c94acc-4662-4f76-872a-606365a47cb9",
       "rows": [
        [
         "SUPERFICIE",
         "object"
        ],
        [
         "HABITACIONES",
         "int64"
        ],
        [
         "BANOS",
         "object"
        ],
        [
         "JARDIN",
         "bool"
        ],
        [
         "TERRAZA",
         "bool"
        ],
        [
         "BALCON",
         "bool"
        ],
        [
         "LATITUDE",
         "float64"
        ],
        [
         "LONGITUDE",
         "float64"
        ],
        [
         "DISTRITO",
         "object"
        ],
        [
         "BAÑOS",
         "int64"
        ],
        [
         "SUPERFICIE_M2",
         "float64"
        ],
        [
         "range_meters",
         "object"
        ],
        [
         "distance_to_center",
         "float64"
        ]
       ],
       "shape": {
        "columns": 1,
        "rows": 13
       }
      },
      "text/plain": [
       "SUPERFICIE             object\n",
       "HABITACIONES            int64\n",
       "BANOS                  object\n",
       "JARDIN                   bool\n",
       "TERRAZA                  bool\n",
       "BALCON                   bool\n",
       "LATITUDE              float64\n",
       "LONGITUDE             float64\n",
       "DISTRITO               object\n",
       "BAÑOS                   int64\n",
       "SUPERFICIE_M2         float64\n",
       "range_meters           object\n",
       "distance_to_center    float64\n",
       "dtype: object"
      ]
     },
     "execution_count": 32,
     "metadata": {},
     "output_type": "execute_result"
    }
   ],
   "source": [
    "df_houses.dtypes"
   ]
  },
  {
   "cell_type": "code",
   "execution_count": 33,
   "id": "1459b0bc",
   "metadata": {},
   "outputs": [],
   "source": [
    "df_houses.drop(columns=[\"SUPERFICIE\",\"SUPERFICIE_M2\",\"LATITUDE\",\"LONGITUDE\",\"DISTRITO\",\"BANOS\",\"JARDIN\"],inplace=True)"
   ]
  },
  {
   "cell_type": "code",
   "execution_count": 34,
   "id": "fa241135",
   "metadata": {},
   "outputs": [
    {
     "data": {
      "application/vnd.microsoft.datawrangler.viewer.v0+json": {
       "columns": [
        {
         "name": "index",
         "rawType": "int64",
         "type": "integer"
        },
        {
         "name": "HABITACIONES",
         "rawType": "int64",
         "type": "integer"
        },
        {
         "name": "TERRAZA",
         "rawType": "bool",
         "type": "boolean"
        },
        {
         "name": "BALCON",
         "rawType": "bool",
         "type": "boolean"
        },
        {
         "name": "BAÑOS",
         "rawType": "int64",
         "type": "integer"
        },
        {
         "name": "range_meters",
         "rawType": "object",
         "type": "string"
        },
        {
         "name": "distance_to_center",
         "rawType": "float64",
         "type": "float"
        }
       ],
       "ref": "10a41025-ade3-42b5-a27f-826b8f5ebf0f",
       "rows": [
        [
         "1",
         "5",
         "True",
         "False",
         "3",
         ">150",
         "0.4196709417880269"
        ],
        [
         "3",
         "3",
         "False",
         "False",
         "1",
         "60-80",
         "0.0312820329865292"
        ],
        [
         "4",
         "3",
         "False",
         "False",
         "1",
         "60-80",
         "0.0005075532779915835"
        ],
        [
         "5",
         "3",
         "True",
         "False",
         "3",
         ">150",
         "0.024701825552171163"
        ],
        [
         "6",
         "3",
         "False",
         "False",
         "1",
         "60-80",
         "66.22094431398138"
        ],
        [
         "7",
         "3",
         "False",
         "True",
         "1",
         "<60",
         "0.0770786109248233"
        ],
        [
         "10",
         "5",
         "False",
         "True",
         "3",
         "100-120",
         "0.386724588190678"
        ],
        [
         "11",
         "5",
         "True",
         "False",
         "5",
         ">150",
         "0.029212698516225228"
        ],
        [
         "12",
         "4",
         "True",
         "False",
         "3",
         ">150",
         "0.12253083394019673"
        ],
        [
         "13",
         "3",
         "True",
         "False",
         "1",
         "80-100",
         "0.038864288682542734"
        ],
        [
         "14",
         "2",
         "False",
         "False",
         "1",
         "60-80",
         "0.026215958035518527"
        ],
        [
         "15",
         "3",
         "True",
         "False",
         "1",
         "60-80",
         "0.11865787221187771"
        ],
        [
         "16",
         "3",
         "True",
         "False",
         "1",
         "60-80",
         "0.04914478227645417"
        ],
        [
         "17",
         "5",
         "False",
         "False",
         "3",
         ">150",
         "0.0005145761945511196"
        ],
        [
         "18",
         "2",
         "True",
         "False",
         "2",
         "60-80",
         "0.2727533818605566"
        ],
        [
         "19",
         "3",
         "False",
         "False",
         "1",
         "60-80",
         "0.030087740749348394"
        ],
        [
         "21",
         "3",
         "True",
         "False",
         "2",
         "100-150",
         "0.03317176189019439"
        ],
        [
         "22",
         "4",
         "True",
         "False",
         "6",
         ">150",
         "0.22159352392479495"
        ],
        [
         "23",
         "2",
         "False",
         "False",
         "1",
         "60-80",
         "0.0005145761945511196"
        ],
        [
         "24",
         "3",
         "True",
         "False",
         "2",
         "100-120",
         "0.29575841051488294"
        ],
        [
         "25",
         "1",
         "False",
         "False",
         "1",
         "<60",
         "0.017638233000502216"
        ],
        [
         "26",
         "6",
         "True",
         "False",
         "3",
         "60-80",
         "0.29923052952270235"
        ],
        [
         "28",
         "3",
         "True",
         "False",
         "2",
         "100-150",
         "0.0005145761945511196"
        ],
        [
         "29",
         "2",
         "True",
         "False",
         "2",
         "100-120",
         "0.016832608521851644"
        ],
        [
         "30",
         "4",
         "False",
         "False",
         "3",
         "60-80",
         "0.023607239987126757"
        ],
        [
         "31",
         "2",
         "False",
         "True",
         "2",
         "100-150",
         "0.033200322524336925"
        ],
        [
         "32",
         "3",
         "True",
         "False",
         "1",
         "80-100",
         "0.026444933847147113"
        ],
        [
         "33",
         "2",
         "True",
         "False",
         "3",
         ">150",
         "0.015650624674110655"
        ],
        [
         "34",
         "3",
         "False",
         "False",
         "1",
         "80-100",
         "97.2816031305166"
        ],
        [
         "35",
         "3",
         "True",
         "False",
         "2",
         "80-100",
         "0.03507220719629783"
        ],
        [
         "36",
         "3",
         "False",
         "False",
         "1",
         "60-80",
         "0.14776206280927162"
        ],
        [
         "37",
         "3",
         "False",
         "False",
         "1",
         "60-80",
         "0.1886756987352107"
        ],
        [
         "38",
         "3",
         "False",
         "False",
         "1",
         "60-80",
         "0.22430924223366197"
        ],
        [
         "39",
         "4",
         "False",
         "False",
         "2",
         "80-100",
         "0.00042191180357982027"
        ],
        [
         "40",
         "3",
         "False",
         "False",
         "1",
         "60-80",
         "0.16196803771608423"
        ],
        [
         "41",
         "4",
         "False",
         "False",
         "1",
         "80-100",
         "0.05039360464701629"
        ],
        [
         "42",
         "8",
         "True",
         "False",
         "11",
         ">150",
         "0.23847942616187667"
        ],
        [
         "43",
         "5",
         "True",
         "False",
         "4",
         "<60",
         "0.19231053855940822"
        ],
        [
         "44",
         "1",
         "False",
         "False",
         "1",
         "<60",
         "0.00768918639389181"
        ],
        [
         "45",
         "3",
         "True",
         "False",
         "3",
         ">150",
         "0.03784428359078857"
        ],
        [
         "46",
         "3",
         "False",
         "False",
         "1",
         "60-80",
         "0.19558712310630116"
        ],
        [
         "47",
         "1",
         "True",
         "False",
         "2",
         "60-80",
         "0.02682367234384633"
        ],
        [
         "48",
         "2",
         "True",
         "False",
         "1",
         "60-80",
         "0.05997378941312731"
        ],
        [
         "51",
         "3",
         "False",
         "False",
         "1",
         "60-80",
         "0.05179423814026212"
        ],
        [
         "52",
         "3",
         "False",
         "False",
         "1",
         "60-80",
         "0.07569875798089555"
        ],
        [
         "53",
         "3",
         "False",
         "False",
         "1",
         "60-80",
         "0.07684048244311346"
        ],
        [
         "54",
         "2",
         "False",
         "False",
         "1",
         "<60",
         "0.06212320119713645"
        ],
        [
         "55",
         "3",
         "False",
         "False",
         "1",
         "60-80",
         "0.04226960648610476"
        ],
        [
         "56",
         "6",
         "True",
         "False",
         "5",
         "<60",
         "0.4094035390917501"
        ],
        [
         "57",
         "2",
         "True",
         "False",
         "1",
         "80-100",
         "0.14928414232479595"
        ]
       ],
       "shape": {
        "columns": 6,
        "rows": 7487
       }
      },
      "text/html": [
       "<div>\n",
       "<style scoped>\n",
       "    .dataframe tbody tr th:only-of-type {\n",
       "        vertical-align: middle;\n",
       "    }\n",
       "\n",
       "    .dataframe tbody tr th {\n",
       "        vertical-align: top;\n",
       "    }\n",
       "\n",
       "    .dataframe thead th {\n",
       "        text-align: right;\n",
       "    }\n",
       "</style>\n",
       "<table border=\"1\" class=\"dataframe\">\n",
       "  <thead>\n",
       "    <tr style=\"text-align: right;\">\n",
       "      <th></th>\n",
       "      <th>HABITACIONES</th>\n",
       "      <th>TERRAZA</th>\n",
       "      <th>BALCON</th>\n",
       "      <th>BAÑOS</th>\n",
       "      <th>range_meters</th>\n",
       "      <th>distance_to_center</th>\n",
       "    </tr>\n",
       "  </thead>\n",
       "  <tbody>\n",
       "    <tr>\n",
       "      <th>1</th>\n",
       "      <td>5</td>\n",
       "      <td>True</td>\n",
       "      <td>False</td>\n",
       "      <td>3</td>\n",
       "      <td>&gt;150</td>\n",
       "      <td>0.419671</td>\n",
       "    </tr>\n",
       "    <tr>\n",
       "      <th>3</th>\n",
       "      <td>3</td>\n",
       "      <td>False</td>\n",
       "      <td>False</td>\n",
       "      <td>1</td>\n",
       "      <td>60-80</td>\n",
       "      <td>0.031282</td>\n",
       "    </tr>\n",
       "    <tr>\n",
       "      <th>4</th>\n",
       "      <td>3</td>\n",
       "      <td>False</td>\n",
       "      <td>False</td>\n",
       "      <td>1</td>\n",
       "      <td>60-80</td>\n",
       "      <td>0.000508</td>\n",
       "    </tr>\n",
       "    <tr>\n",
       "      <th>5</th>\n",
       "      <td>3</td>\n",
       "      <td>True</td>\n",
       "      <td>False</td>\n",
       "      <td>3</td>\n",
       "      <td>&gt;150</td>\n",
       "      <td>0.024702</td>\n",
       "    </tr>\n",
       "    <tr>\n",
       "      <th>6</th>\n",
       "      <td>3</td>\n",
       "      <td>False</td>\n",
       "      <td>False</td>\n",
       "      <td>1</td>\n",
       "      <td>60-80</td>\n",
       "      <td>66.220944</td>\n",
       "    </tr>\n",
       "    <tr>\n",
       "      <th>...</th>\n",
       "      <td>...</td>\n",
       "      <td>...</td>\n",
       "      <td>...</td>\n",
       "      <td>...</td>\n",
       "      <td>...</td>\n",
       "      <td>...</td>\n",
       "    </tr>\n",
       "    <tr>\n",
       "      <th>8203</th>\n",
       "      <td>4</td>\n",
       "      <td>True</td>\n",
       "      <td>False</td>\n",
       "      <td>2</td>\n",
       "      <td>&gt;150</td>\n",
       "      <td>0.066771</td>\n",
       "    </tr>\n",
       "    <tr>\n",
       "      <th>8204</th>\n",
       "      <td>3</td>\n",
       "      <td>True</td>\n",
       "      <td>False</td>\n",
       "      <td>2</td>\n",
       "      <td>100-120</td>\n",
       "      <td>0.411706</td>\n",
       "    </tr>\n",
       "    <tr>\n",
       "      <th>8205</th>\n",
       "      <td>1</td>\n",
       "      <td>False</td>\n",
       "      <td>True</td>\n",
       "      <td>1</td>\n",
       "      <td>&lt;60</td>\n",
       "      <td>0.018627</td>\n",
       "    </tr>\n",
       "    <tr>\n",
       "      <th>8206</th>\n",
       "      <td>1</td>\n",
       "      <td>False</td>\n",
       "      <td>False</td>\n",
       "      <td>1</td>\n",
       "      <td>&gt;150</td>\n",
       "      <td>0.462221</td>\n",
       "    </tr>\n",
       "    <tr>\n",
       "      <th>8207</th>\n",
       "      <td>1</td>\n",
       "      <td>False</td>\n",
       "      <td>False</td>\n",
       "      <td>1</td>\n",
       "      <td>&lt;60</td>\n",
       "      <td>0.043223</td>\n",
       "    </tr>\n",
       "  </tbody>\n",
       "</table>\n",
       "<p>7487 rows × 6 columns</p>\n",
       "</div>"
      ],
      "text/plain": [
       "      HABITACIONES  TERRAZA  BALCON  BAÑOS range_meters  distance_to_center\n",
       "1                5     True   False      3         >150            0.419671\n",
       "3                3    False   False      1        60-80            0.031282\n",
       "4                3    False   False      1        60-80            0.000508\n",
       "5                3     True   False      3         >150            0.024702\n",
       "6                3    False   False      1        60-80           66.220944\n",
       "...            ...      ...     ...    ...          ...                 ...\n",
       "8203             4     True   False      2         >150            0.066771\n",
       "8204             3     True   False      2      100-120            0.411706\n",
       "8205             1    False    True      1          <60            0.018627\n",
       "8206             1    False   False      1         >150            0.462221\n",
       "8207             1    False   False      1          <60            0.043223\n",
       "\n",
       "[7487 rows x 6 columns]"
      ]
     },
     "execution_count": 34,
     "metadata": {},
     "output_type": "execute_result"
    }
   ],
   "source": [
    "df_houses"
   ]
  },
  {
   "cell_type": "code",
   "execution_count": 35,
   "id": "86514a34",
   "metadata": {},
   "outputs": [
    {
     "name": "stdout",
     "output_type": "stream",
     "text": [
      "Acierto en el conjunto de entrenamiento: 54.94%\n",
      "Acierto en el conjunto de test: 54.78%\n"
     ]
    }
   ],
   "source": [
    "from sklearn.model_selection import train_test_split\n",
    "\n",
    "target = \"range_meters\"\n",
    "y,X =df_houses[target], df_houses.drop(target,axis=\"columns\")\n",
    "\n",
    "\n",
    "x_train, x_test, y_train, y_test = train_test_split(X, # observaciones\n",
    "                                                    y, # targets alineados con las observaciones\n",
    "                                                    test_size=0.3, # ratio de observaciones que se van al conjunto de test,\n",
    "                                                    random_state=42) # estado del generador de números aleatorios\n",
    "\n",
    "\n",
    "from sklearn.neighbors import KNeighborsClassifier\n",
    "\n",
    "n_neighbors = 70\n",
    "knn = KNeighborsClassifier(n_neighbors=n_neighbors) # instanciar el objeto con hiperparámetros\n",
    "knn.fit(x_train, y_train) # entrenar\n",
    "acierto_entrenamiento = knn.score(x_train, y_train)\n",
    "acierto_test = knn.score(x_test, y_test) # evaluar el modelo entrenado\n",
    "print(\"Acierto en el conjunto de entrenamiento: {0:.2f}%\".format(acierto_entrenamiento*100.))\n",
    "print(\"Acierto en el conjunto de test: {0:.2f}%\".format(acierto_test*100.))"
   ]
  },
  {
   "cell_type": "code",
   "execution_count": 36,
   "id": "a88ff21d",
   "metadata": {},
   "outputs": [],
   "source": [
    "v_nn = [1,2,3,4,5,6,7,8,9,10,20,30,40,50,60,70,80,90,100]\n",
    "ac_entr = np.empty(len(v_nn))\n",
    "ac_test = np.empty(len(v_nn))\n",
    "for inn, n_neighbors in enumerate(v_nn):\n",
    "    knn = KNeighborsClassifier(n_neighbors=n_neighbors)\n",
    "    knn.fit(x_train, y_train)\n",
    "    ac_entr[inn] = knn.score(x_train, y_train)\n",
    "    ac_test[inn] = knn.score(x_test, y_test)"
   ]
  },
  {
   "cell_type": "code",
   "execution_count": 37,
   "id": "b0f629d9",
   "metadata": {},
   "outputs": [
    {
     "data": {
      "image/png": "[encoded data removed]",
      "text/plain": [
       "<Figure size 800x600 with 1 Axes>"
      ]
     },
     "metadata": {},
     "output_type": "display_data"
    }
   ],
   "source": [
    "plt.figure(figsize=(8,6))\n",
    "plt.plot(v_nn, ac_entr*100, linewidth=2, label='acierto entrenamiento')\n",
    "plt.plot(v_nn, ac_test*100, linewidth=2,label='acierto test')\n",
    "_ = plt.xlabel('Num vecinos')\n",
    "_ = plt.ylabel('Acierto (%)')\n",
    "_ = plt.legend()\n",
    "plt.grid()"
   ]
  },
  {
   "cell_type": "code",
   "execution_count": 38,
   "id": "e9385f3a",
   "metadata": {},
   "outputs": [
    {
     "name": "stdout",
     "output_type": "stream",
     "text": [
      "El numero de vecinos que da el mejor resultado en test es 40, acierto del  55.18%\n"
     ]
    }
   ],
   "source": [
    "best_k = v_nn[np.argmax(ac_test)]\n",
    "print(\"El numero de vecinos que da el mejor resultado en test es {0:d}, acierto del  {1:.2f}%\".format(best_k, 100.*np.max(ac_test)))\n",
    "acierto_spam_knn = 100.*np.max(ac_test)"
   ]
  },
  {
   "cell_type": "code",
   "execution_count": 39,
   "id": "42ce08d1",
   "metadata": {},
   "outputs": [],
   "source": [
    "ac_entr_w = np.empty(len(v_nn))\n",
    "ac_test_w = np.empty(len(v_nn))\n",
    "for inn, n_neighbors in enumerate(v_nn):\n",
    "    knn = KNeighborsClassifier(n_neighbors=n_neighbors, weights='distance')\n",
    "    knn.fit(x_train, y_train)\n",
    "    ac_entr_w[inn] = knn.score(x_train, y_train)\n",
    "    ac_test_w[inn] = knn.score(x_test, y_test)"
   ]
  },
  {
   "cell_type": "code",
   "execution_count": 40,
   "id": "1f8d5206",
   "metadata": {},
   "outputs": [
    {
     "data": {
      "image/png": "[encoded data removed]",
      "text/plain": [
       "<Figure size 800x600 with 1 Axes>"
      ]
     },
     "metadata": {},
     "output_type": "display_data"
    }
   ],
   "source": [
    "plt.figure(figsize=(8,6))\n",
    "plt.plot(v_nn, ac_entr_w*100, linewidth=2, label='acierto entrenamiento')\n",
    "plt.plot(v_nn, ac_test_w*100, linewidth=2,label='acierto test')\n",
    "_ = plt.xlabel('Num vecinos')\n",
    "_ = plt.ylabel('Acierto (%)')\n",
    "_ = plt.legend()\n",
    "plt.grid()"
   ]
  },
  {
   "cell_type": "code",
   "execution_count": 41,
   "id": "580a6d28",
   "metadata": {},
   "outputs": [
    {
     "name": "stdout",
     "output_type": "stream",
     "text": [
      "El número de vecinos que da el mejor resultado en test si ponderamos por distancias es 80, acierto del 53.18%\n"
     ]
    }
   ],
   "source": [
    "best_k = v_nn[np.argmax(ac_test_w)]\n",
    "print(\"El número de vecinos que da el mejor resultado en test si ponderamos por distancias es {0:d}, acierto del {1:.2f}%\".format(best_k, 100.*np.max(ac_test_w)))\n",
    "acierto_spam_knn_w = 100.*np.max(ac_test_w)"
   ]
  },
  {
   "cell_type": "code",
   "execution_count": 42,
   "id": "42221506",
   "metadata": {},
   "outputs": [],
   "source": [
    "def pinta_ejemplo(x,y,xt,ax):\n",
    "  ax.scatter(x[y==0,0],x[y==0,1],color='blue',marker='o')\n",
    "  ax.scatter(x[y==1,0],x[y==1,1],color='red',marker='x')\n",
    "  ax.scatter(xt[0], xt[1], marker='s', color='green')\n",
    "\n",
    "def pinta_radios(c,x,ax):\n",
    "  for ii in range(len(x)):\n",
    "    ax.plot([c[0],x[ii,0]],\n",
    "            [c[1],x[ii,1]],\n",
    "            linestyle=':',\n",
    "            linewidth=2)\n",
    "    \n",
    "def pinta_votos(clase, peso, ax):\n",
    "  labels = ['unitario', 'ponderado']\n",
    "  k = len(clase)\n",
    "  bottom = np.zeros(2)\n",
    "  width = 0.5\n",
    "  for ii in range(k):\n",
    "    if clase[ii] == 1:\n",
    "      color = 'red'\n",
    "    else:\n",
    "      color = 'blue'\n",
    "    ax.bar(labels, [1./k, peso[ii]], \n",
    "           width=width, \n",
    "           label='vecino {0:d}'.format(ii+1),\n",
    "           bottom = bottom,\n",
    "           edgecolor='black',\n",
    "           color=color)\n",
    "    bottom += np.array([1./k, peso[ii]])"
   ]
  },
  {
   "cell_type": "code",
   "execution_count": 43,
   "id": "d3b0e420",
   "metadata": {},
   "outputs": [],
   "source": [
    "from sklearn.neighbors import RadiusNeighborsClassifier\n",
    "from sklearn.metrics import pairwise_distances \n",
    "bins=50\n",
    "A = pairwise_distances(x_test, x_train,'euclidean') \n",
    "sorted_A = 1e-6+np.sort(A, axis=1) # distancias a los vecinos ¿qué tan lejos está el vecino k-ésimo?\n",
    "radios = sorted_A[:, 1]\n",
    "logbins = np.logspace(0,np.log10(np.max(radios)+1),(bins))\n",
    "rad_ac_entr = np.empty(bins)\n",
    "rad_ac_test = np.empty(bins)\n",
    "for ir, radius in enumerate(logbins):\n",
    "    rknn = RadiusNeighborsClassifier(radius=radius,  outlier_label='most_frequent')\n",
    "    rknn.fit(x_train, y_train)\n",
    "    rad_ac_entr[ir] = rknn.score(x_train, y_train)\n",
    "    rad_ac_test[ir] = rknn.score(x_test, y_test)\n",
    "\n"
   ]
  },
  {
   "cell_type": "code",
   "execution_count": 44,
   "id": "b41ac998",
   "metadata": {},
   "outputs": [
    {
     "data": {
      "image/png": "[encoded data removed]",
      "text/plain": [
       "<Figure size 800x600 with 1 Axes>"
      ]
     },
     "metadata": {},
     "output_type": "display_data"
    }
   ],
   "source": [
    "plt.figure(figsize=(8,6))\n",
    "plt.plot(logbins, rad_ac_entr*100, lw=2, label='acierto entrenamiento')\n",
    "plt.plot(logbins, rad_ac_test*100, lw=2,label='acierto test')\n",
    "plt.xscale('log')\n",
    "_ = plt.xlabel('Radio vecindad')\n",
    "_ = plt.ylabel('Acierto (%)')\n",
    "_ = plt.legend()\n",
    "plt.grid()"
   ]
  },
  {
   "cell_type": "markdown",
   "id": "53887f08",
   "metadata": {},
   "source": [
    "### Regression KNN"
   ]
  },
  {
   "cell_type": "code",
   "execution_count": 45,
   "id": "91bb376f",
   "metadata": {},
   "outputs": [],
   "source": [
    "df_houses = df.copy()"
   ]
  },
  {
   "cell_type": "code",
   "execution_count": 46,
   "id": "599d5e10",
   "metadata": {},
   "outputs": [
    {
     "data": {
      "application/vnd.microsoft.datawrangler.viewer.v0+json": {
       "columns": [
        {
         "name": "index",
         "rawType": "object",
         "type": "string"
        },
        {
         "name": "0",
         "rawType": "object",
         "type": "unknown"
        }
       ],
       "ref": "fbdd4353-ec73-441b-95a4-70e2700bd486",
       "rows": [
        [
         "SUPERFICIE",
         "object"
        ],
        [
         "HABITACIONES",
         "int64"
        ],
        [
         "BANOS",
         "object"
        ],
        [
         "JARDIN",
         "bool"
        ],
        [
         "TERRAZA",
         "bool"
        ],
        [
         "BALCON",
         "bool"
        ],
        [
         "LATITUDE",
         "float64"
        ],
        [
         "LONGITUDE",
         "float64"
        ],
        [
         "DISTRITO",
         "object"
        ],
        [
         "BAÑOS",
         "int64"
        ],
        [
         "SUPERFICIE_M2",
         "float64"
        ]
       ],
       "shape": {
        "columns": 1,
        "rows": 11
       }
      },
      "text/plain": [
       "SUPERFICIE        object\n",
       "HABITACIONES       int64\n",
       "BANOS             object\n",
       "JARDIN              bool\n",
       "TERRAZA             bool\n",
       "BALCON              bool\n",
       "LATITUDE         float64\n",
       "LONGITUDE        float64\n",
       "DISTRITO          object\n",
       "BAÑOS              int64\n",
       "SUPERFICIE_M2    float64\n",
       "dtype: object"
      ]
     },
     "execution_count": 46,
     "metadata": {},
     "output_type": "execute_result"
    }
   ],
   "source": [
    "df_houses.dtypes"
   ]
  },
  {
   "cell_type": "code",
   "execution_count": 47,
   "id": "4e70151f",
   "metadata": {},
   "outputs": [
    {
     "data": {
      "text/plain": [
       "0"
      ]
     },
     "execution_count": 47,
     "metadata": {},
     "output_type": "execute_result"
    }
   ],
   "source": [
    "df_houses[\"SUPERFICIE_M2\"].isnull().sum()"
   ]
  },
  {
   "cell_type": "code",
   "execution_count": 48,
   "id": "4f339ed3",
   "metadata": {},
   "outputs": [],
   "source": [
    "center_lat, center_lon = 40.4168, -3.7038\n",
    "\n",
    "# Create distance to city center\n",
    "df_houses['distance_to_center'] = np.sqrt((df_houses['LATITUDE'] - center_lat)**2 + (df_houses['LONGITUDE'] - center_lon)**2)"
   ]
  },
  {
   "cell_type": "code",
   "execution_count": 49,
   "id": "faa1b0f6",
   "metadata": {},
   "outputs": [
    {
     "data": {
      "application/vnd.microsoft.datawrangler.viewer.v0+json": {
       "columns": [
        {
         "name": "index",
         "rawType": "object",
         "type": "string"
        },
        {
         "name": "0",
         "rawType": "object",
         "type": "unknown"
        }
       ],
       "ref": "0cb16038-c4dc-46e9-85cc-3a4a6fec8fd2",
       "rows": [
        [
         "SUPERFICIE",
         "object"
        ],
        [
         "HABITACIONES",
         "int64"
        ],
        [
         "BANOS",
         "object"
        ],
        [
         "JARDIN",
         "bool"
        ],
        [
         "TERRAZA",
         "bool"
        ],
        [
         "BALCON",
         "bool"
        ],
        [
         "LATITUDE",
         "float64"
        ],
        [
         "LONGITUDE",
         "float64"
        ],
        [
         "DISTRITO",
         "object"
        ],
        [
         "BAÑOS",
         "int64"
        ],
        [
         "SUPERFICIE_M2",
         "float64"
        ],
        [
         "distance_to_center",
         "float64"
        ]
       ],
       "shape": {
        "columns": 1,
        "rows": 12
       }
      },
      "text/plain": [
       "SUPERFICIE             object\n",
       "HABITACIONES            int64\n",
       "BANOS                  object\n",
       "JARDIN                   bool\n",
       "TERRAZA                  bool\n",
       "BALCON                   bool\n",
       "LATITUDE              float64\n",
       "LONGITUDE             float64\n",
       "DISTRITO               object\n",
       "BAÑOS                   int64\n",
       "SUPERFICIE_M2         float64\n",
       "distance_to_center    float64\n",
       "dtype: object"
      ]
     },
     "execution_count": 49,
     "metadata": {},
     "output_type": "execute_result"
    }
   ],
   "source": [
    "df_houses.dtypes"
   ]
  },
  {
   "cell_type": "code",
   "execution_count": 50,
   "id": "a547551c",
   "metadata": {},
   "outputs": [],
   "source": [
    "df_houses.drop(columns=[\"SUPERFICIE\",\"LATITUDE\",\"LONGITUDE\",\"DISTRITO\",\"BANOS\",\"JARDIN\"],inplace=True)"
   ]
  },
  {
   "cell_type": "code",
   "execution_count": 51,
   "id": "e6b615ed",
   "metadata": {},
   "outputs": [
    {
     "data": {
      "application/vnd.microsoft.datawrangler.viewer.v0+json": {
       "columns": [
        {
         "name": "index",
         "rawType": "int64",
         "type": "integer"
        },
        {
         "name": "HABITACIONES",
         "rawType": "int64",
         "type": "integer"
        },
        {
         "name": "TERRAZA",
         "rawType": "bool",
         "type": "boolean"
        },
        {
         "name": "BALCON",
         "rawType": "bool",
         "type": "boolean"
        },
        {
         "name": "BAÑOS",
         "rawType": "int64",
         "type": "integer"
        },
        {
         "name": "SUPERFICIE_M2",
         "rawType": "float64",
         "type": "float"
        },
        {
         "name": "distance_to_center",
         "rawType": "float64",
         "type": "float"
        }
       ],
       "ref": "b1031787-bab8-4593-a2f4-2d09c26fe806",
       "rows": [
        [
         "1",
         "5",
         "True",
         "False",
         "3",
         "710.0",
         "0.4196709417880269"
        ],
        [
         "3",
         "3",
         "False",
         "False",
         "1",
         "73.0",
         "0.0312820329865292"
        ],
        [
         "4",
         "3",
         "False",
         "False",
         "1",
         "63.0",
         "0.0005075532779915835"
        ],
        [
         "5",
         "3",
         "True",
         "False",
         "3",
         "175.0",
         "0.024701825552171163"
        ],
        [
         "6",
         "3",
         "False",
         "False",
         "1",
         "76.0",
         "66.22094431398138"
        ],
        [
         "7",
         "3",
         "False",
         "True",
         "1",
         "58.0",
         "0.0770786109248233"
        ],
        [
         "10",
         "5",
         "False",
         "True",
         "3",
         "106.0",
         "0.386724588190678"
        ],
        [
         "11",
         "5",
         "True",
         "False",
         "5",
         "265.0",
         "0.029212698516225228"
        ],
        [
         "12",
         "4",
         "True",
         "False",
         "3",
         "209.0",
         "0.12253083394019673"
        ],
        [
         "13",
         "3",
         "True",
         "False",
         "1",
         "95.0",
         "0.038864288682542734"
        ],
        [
         "14",
         "2",
         "False",
         "False",
         "1",
         "63.0",
         "0.026215958035518527"
        ],
        [
         "15",
         "3",
         "True",
         "False",
         "1",
         "73.0",
         "0.11865787221187771"
        ],
        [
         "16",
         "3",
         "True",
         "False",
         "1",
         "72.0",
         "0.04914478227645417"
        ],
        [
         "17",
         "5",
         "False",
         "False",
         "3",
         "160.0",
         "0.0005145761945511196"
        ],
        [
         "18",
         "2",
         "True",
         "False",
         "2",
         "69.0",
         "0.2727533818605566"
        ],
        [
         "19",
         "3",
         "False",
         "False",
         "1",
         "63.0",
         "0.030087740749348394"
        ],
        [
         "21",
         "3",
         "True",
         "False",
         "2",
         "149.0",
         "0.03317176189019439"
        ],
        [
         "22",
         "4",
         "True",
         "False",
         "6",
         "750.0",
         "0.22159352392479495"
        ],
        [
         "23",
         "2",
         "False",
         "False",
         "1",
         "73.0",
         "0.0005145761945511196"
        ],
        [
         "24",
         "3",
         "True",
         "False",
         "2",
         "100.0",
         "0.29575841051488294"
        ],
        [
         "25",
         "1",
         "False",
         "False",
         "1",
         "30.0",
         "0.017638233000502216"
        ],
        [
         "26",
         "6",
         "True",
         "False",
         "3",
         "70.0",
         "0.29923052952270235"
        ],
        [
         "28",
         "3",
         "True",
         "False",
         "2",
         "138.0",
         "0.0005145761945511196"
        ],
        [
         "29",
         "2",
         "True",
         "False",
         "2",
         "100.0",
         "0.016832608521851644"
        ],
        [
         "30",
         "4",
         "False",
         "False",
         "3",
         "79.0",
         "0.023607239987126757"
        ],
        [
         "31",
         "2",
         "False",
         "True",
         "2",
         "120.0",
         "0.033200322524336925"
        ],
        [
         "32",
         "3",
         "True",
         "False",
         "1",
         "80.0",
         "0.026444933847147113"
        ],
        [
         "33",
         "2",
         "True",
         "False",
         "3",
         "172.0",
         "0.015650624674110655"
        ],
        [
         "34",
         "3",
         "False",
         "False",
         "1",
         "80.0",
         "97.2816031305166"
        ],
        [
         "35",
         "3",
         "True",
         "False",
         "2",
         "86.0",
         "0.03507220719629783"
        ],
        [
         "36",
         "3",
         "False",
         "False",
         "1",
         "74.0",
         "0.14776206280927162"
        ],
        [
         "37",
         "3",
         "False",
         "False",
         "1",
         "62.0",
         "0.1886756987352107"
        ],
        [
         "38",
         "3",
         "False",
         "False",
         "1",
         "75.0",
         "0.22430924223366197"
        ],
        [
         "39",
         "4",
         "False",
         "False",
         "2",
         "98.0",
         "0.00042191180357982027"
        ],
        [
         "40",
         "3",
         "False",
         "False",
         "1",
         "78.0",
         "0.16196803771608423"
        ],
        [
         "41",
         "4",
         "False",
         "False",
         "1",
         "96.0",
         "0.05039360464701629"
        ],
        [
         "42",
         "8",
         "True",
         "False",
         "11",
         "400.0",
         "0.23847942616187667"
        ],
        [
         "43",
         "5",
         "True",
         "False",
         "4",
         "53.0",
         "0.19231053855940822"
        ],
        [
         "44",
         "1",
         "False",
         "False",
         "1",
         "34.0",
         "0.00768918639389181"
        ],
        [
         "45",
         "3",
         "True",
         "False",
         "3",
         "180.0",
         "0.03784428359078857"
        ],
        [
         "46",
         "3",
         "False",
         "False",
         "1",
         "71.0",
         "0.19558712310630116"
        ],
        [
         "47",
         "1",
         "True",
         "False",
         "2",
         "64.0",
         "0.02682367234384633"
        ],
        [
         "48",
         "2",
         "True",
         "False",
         "1",
         "66.0",
         "0.05997378941312731"
        ],
        [
         "51",
         "3",
         "False",
         "False",
         "1",
         "62.0",
         "0.05179423814026212"
        ],
        [
         "52",
         "3",
         "False",
         "False",
         "1",
         "70.0",
         "0.07569875798089555"
        ],
        [
         "53",
         "3",
         "False",
         "False",
         "1",
         "60.0",
         "0.07684048244311346"
        ],
        [
         "54",
         "2",
         "False",
         "False",
         "1",
         "54.0",
         "0.06212320119713645"
        ],
        [
         "55",
         "3",
         "False",
         "False",
         "1",
         "62.0",
         "0.04226960648610476"
        ],
        [
         "56",
         "6",
         "True",
         "False",
         "5",
         "2.0",
         "0.4094035390917501"
        ],
        [
         "57",
         "2",
         "True",
         "False",
         "1",
         "90.0",
         "0.14928414232479595"
        ]
       ],
       "shape": {
        "columns": 6,
        "rows": 7487
       }
      },
      "text/html": [
       "<div>\n",
       "<style scoped>\n",
       "    .dataframe tbody tr th:only-of-type {\n",
       "        vertical-align: middle;\n",
       "    }\n",
       "\n",
       "    .dataframe tbody tr th {\n",
       "        vertical-align: top;\n",
       "    }\n",
       "\n",
       "    .dataframe thead th {\n",
       "        text-align: right;\n",
       "    }\n",
       "</style>\n",
       "<table border=\"1\" class=\"dataframe\">\n",
       "  <thead>\n",
       "    <tr style=\"text-align: right;\">\n",
       "      <th></th>\n",
       "      <th>HABITACIONES</th>\n",
       "      <th>TERRAZA</th>\n",
       "      <th>BALCON</th>\n",
       "      <th>BAÑOS</th>\n",
       "      <th>SUPERFICIE_M2</th>\n",
       "      <th>distance_to_center</th>\n",
       "    </tr>\n",
       "  </thead>\n",
       "  <tbody>\n",
       "    <tr>\n",
       "      <th>1</th>\n",
       "      <td>5</td>\n",
       "      <td>True</td>\n",
       "      <td>False</td>\n",
       "      <td>3</td>\n",
       "      <td>710.0</td>\n",
       "      <td>0.419671</td>\n",
       "    </tr>\n",
       "    <tr>\n",
       "      <th>3</th>\n",
       "      <td>3</td>\n",
       "      <td>False</td>\n",
       "      <td>False</td>\n",
       "      <td>1</td>\n",
       "      <td>73.0</td>\n",
       "      <td>0.031282</td>\n",
       "    </tr>\n",
       "    <tr>\n",
       "      <th>4</th>\n",
       "      <td>3</td>\n",
       "      <td>False</td>\n",
       "      <td>False</td>\n",
       "      <td>1</td>\n",
       "      <td>63.0</td>\n",
       "      <td>0.000508</td>\n",
       "    </tr>\n",
       "    <tr>\n",
       "      <th>5</th>\n",
       "      <td>3</td>\n",
       "      <td>True</td>\n",
       "      <td>False</td>\n",
       "      <td>3</td>\n",
       "      <td>175.0</td>\n",
       "      <td>0.024702</td>\n",
       "    </tr>\n",
       "    <tr>\n",
       "      <th>6</th>\n",
       "      <td>3</td>\n",
       "      <td>False</td>\n",
       "      <td>False</td>\n",
       "      <td>1</td>\n",
       "      <td>76.0</td>\n",
       "      <td>66.220944</td>\n",
       "    </tr>\n",
       "    <tr>\n",
       "      <th>...</th>\n",
       "      <td>...</td>\n",
       "      <td>...</td>\n",
       "      <td>...</td>\n",
       "      <td>...</td>\n",
       "      <td>...</td>\n",
       "      <td>...</td>\n",
       "    </tr>\n",
       "    <tr>\n",
       "      <th>8203</th>\n",
       "      <td>4</td>\n",
       "      <td>True</td>\n",
       "      <td>False</td>\n",
       "      <td>2</td>\n",
       "      <td>162.0</td>\n",
       "      <td>0.066771</td>\n",
       "    </tr>\n",
       "    <tr>\n",
       "      <th>8204</th>\n",
       "      <td>3</td>\n",
       "      <td>True</td>\n",
       "      <td>False</td>\n",
       "      <td>2</td>\n",
       "      <td>110.0</td>\n",
       "      <td>0.411706</td>\n",
       "    </tr>\n",
       "    <tr>\n",
       "      <th>8205</th>\n",
       "      <td>1</td>\n",
       "      <td>False</td>\n",
       "      <td>True</td>\n",
       "      <td>1</td>\n",
       "      <td>40.0</td>\n",
       "      <td>0.018627</td>\n",
       "    </tr>\n",
       "    <tr>\n",
       "      <th>8206</th>\n",
       "      <td>1</td>\n",
       "      <td>False</td>\n",
       "      <td>False</td>\n",
       "      <td>1</td>\n",
       "      <td>408.0</td>\n",
       "      <td>0.462221</td>\n",
       "    </tr>\n",
       "    <tr>\n",
       "      <th>8207</th>\n",
       "      <td>1</td>\n",
       "      <td>False</td>\n",
       "      <td>False</td>\n",
       "      <td>1</td>\n",
       "      <td>35.0</td>\n",
       "      <td>0.043223</td>\n",
       "    </tr>\n",
       "  </tbody>\n",
       "</table>\n",
       "<p>7487 rows × 6 columns</p>\n",
       "</div>"
      ],
      "text/plain": [
       "      HABITACIONES  TERRAZA  BALCON  BAÑOS  SUPERFICIE_M2  distance_to_center\n",
       "1                5     True   False      3          710.0            0.419671\n",
       "3                3    False   False      1           73.0            0.031282\n",
       "4                3    False   False      1           63.0            0.000508\n",
       "5                3     True   False      3          175.0            0.024702\n",
       "6                3    False   False      1           76.0           66.220944\n",
       "...            ...      ...     ...    ...            ...                 ...\n",
       "8203             4     True   False      2          162.0            0.066771\n",
       "8204             3     True   False      2          110.0            0.411706\n",
       "8205             1    False    True      1           40.0            0.018627\n",
       "8206             1    False   False      1          408.0            0.462221\n",
       "8207             1    False   False      1           35.0            0.043223\n",
       "\n",
       "[7487 rows x 6 columns]"
      ]
     },
     "execution_count": 51,
     "metadata": {},
     "output_type": "execute_result"
    }
   ],
   "source": [
    "df_houses"
   ]
  },
  {
   "cell_type": "code",
   "execution_count": 52,
   "id": "ad0379af",
   "metadata": {},
   "outputs": [
    {
     "name": "stdout",
     "output_type": "stream",
     "text": [
      "R^2 en el conjunto de entrenamiento: 0.61\n",
      "R^2 en el conjunto de test: 0.28\n"
     ]
    }
   ],
   "source": [
    "from sklearn.model_selection import train_test_split\n",
    "\n",
    "target = \"SUPERFICIE_M2\"\n",
    "y,X =df_houses[target], df_houses.drop(target,axis=\"columns\")\n",
    "\n",
    "\n",
    "x_train, x_test, y_train, y_test = train_test_split(X, # observaciones\n",
    "                                                    y, # targets alineados con las observaciones\n",
    "                                                    test_size=0.3, # ratio de observaciones que se van al conjunto de test,\n",
    "                                                    random_state=42) # estado del generador de números aleatorios\n",
    "\n",
    "\n",
    "from sklearn.neighbors import KNeighborsRegressor\n",
    "\n",
    "n_neighbors = 3\n",
    "knn = KNeighborsRegressor(n_neighbors=n_neighbors)\n",
    "knn.fit(x_train, y_train)\n",
    "riesgo_entrenamiento = knn.score(x_train, y_train)\n",
    "riego_test = knn.score(x_test, y_test)\n",
    "print(\"R^2 en el conjunto de entrenamiento: {0:.2f}\".format(riesgo_entrenamiento))\n",
    "print(\"R^2 en el conjunto de test: {0:.2f}\".format(riego_test))"
   ]
  },
  {
   "cell_type": "code",
   "execution_count": 53,
   "id": "16b09155",
   "metadata": {},
   "outputs": [],
   "source": [
    "from sklearn.metrics import r2_score\n",
    "v_nn = [1,2,3,4,5,6,7,8,9,10,20,30,40,50,60,70,80,90,100,200,350]\n",
    "r2_entr = np.empty(len(v_nn))\n",
    "r2_test = np.empty(len(v_nn))\n",
    "for inn, n_neighbors in enumerate(v_nn):\n",
    "    knn = KNeighborsRegressor(n_neighbors=n_neighbors)\n",
    "    knn.fit(x_train, y_train)\n",
    "    r2_entr[inn] = knn.score(x_train, y_train)\n",
    "    r2_test[inn] = knn.score(x_test, y_test)"
   ]
  },
  {
   "cell_type": "code",
   "execution_count": 54,
   "id": "af537d3f",
   "metadata": {},
   "outputs": [
    {
     "data": {
      "image/png": "[encoded data removed]",
      "text/plain": [
       "<Figure size 800x600 with 1 Axes>"
      ]
     },
     "metadata": {},
     "output_type": "display_data"
    },
    {
     "name": "stdout",
     "output_type": "stream",
     "text": [
      "El número de vecinos que da el mejor resultado en test es 200, R^2 del  0.43\n"
     ]
    }
   ],
   "source": [
    "plt.figure(figsize=(8,6))\n",
    "plt.plot(v_nn, r2_entr, lw=2,label='$R^2$ entrenamiento')\n",
    "plt.plot(v_nn, r2_test, lw=2,label='$R^2$ test')\n",
    "plt.plot(v_nn, r2_score(y_test,np.ones(len(y_test))*np.mean(y_train))*np.ones(len(v_nn)), lw=2, label='baseline')\n",
    "_ = plt.xlabel('Num vecinos')\n",
    "_ = plt.ylabel('$R^2$')\n",
    "_ = plt.legend()\n",
    "\n",
    "plt.grid()\n",
    "best_k = v_nn[np.argmax(r2_test)]\n",
    "plt.show()\n",
    "print(\"El número de vecinos que da el mejor resultado en test es {0:d}, R^2 del  {1:.2f}\".format(best_k, np.max(r2_test)))\n",
    "acierto_housing_knn = np.max(r2_test)"
   ]
  },
  {
   "cell_type": "code",
   "execution_count": 55,
   "id": "0d792456",
   "metadata": {},
   "outputs": [
    {
     "name": "stderr",
     "output_type": "stream",
     "text": [
      "/Users/jayarza/.local/lib/python3.11/site-packages/sklearn/model_selection/_split.py:737: UserWarning: The least populated class in y has only 1 members, which is less than n_splits=5.\n",
      "  warnings.warn(\n"
     ]
    },
    {
     "ename": "ValueError",
     "evalue": "Invalid parameter 'svc' for estimator SVC(). Valid parameters are: ['C', 'break_ties', 'cache_size', 'class_weight', 'coef0', 'decision_function_shape', 'degree', 'gamma', 'kernel', 'max_iter', 'probability', 'random_state', 'shrinking', 'tol', 'verbose'].",
     "output_type": "error",
     "traceback": [
      "\u001b[0;31m---------------------------------------------------------------------------\u001b[0m",
      "\u001b[0;31mValueError\u001b[0m                                Traceback (most recent call last)",
      "File \u001b[0;32m<timed eval>:1\u001b[0m\n",
      "File \u001b[0;32m~/.local/lib/python3.11/site-packages/sklearn/base.py:1474\u001b[0m, in \u001b[0;36m_fit_context.<locals>.decorator.<locals>.wrapper\u001b[0;34m(estimator, *args, **kwargs)\u001b[0m\n\u001b[1;32m   1467\u001b[0m     estimator\u001b[38;5;241m.\u001b[39m_validate_params()\n\u001b[1;32m   1469\u001b[0m \u001b[38;5;28;01mwith\u001b[39;00m config_context(\n\u001b[1;32m   1470\u001b[0m     skip_parameter_validation\u001b[38;5;241m=\u001b[39m(\n\u001b[1;32m   1471\u001b[0m         prefer_skip_nested_validation \u001b[38;5;129;01mor\u001b[39;00m global_skip_validation\n\u001b[1;32m   1472\u001b[0m     )\n\u001b[1;32m   1473\u001b[0m ):\n\u001b[0;32m-> 1474\u001b[0m     \u001b[38;5;28;01mreturn\u001b[39;00m \u001b[43mfit_method\u001b[49m\u001b[43m(\u001b[49m\u001b[43mestimator\u001b[49m\u001b[43m,\u001b[49m\u001b[43m \u001b[49m\u001b[38;5;241;43m*\u001b[39;49m\u001b[43margs\u001b[49m\u001b[43m,\u001b[49m\u001b[43m \u001b[49m\u001b[38;5;241;43m*\u001b[39;49m\u001b[38;5;241;43m*\u001b[39;49m\u001b[43mkwargs\u001b[49m\u001b[43m)\u001b[49m\n",
      "File \u001b[0;32m~/.local/lib/python3.11/site-packages/sklearn/model_selection/_search.py:970\u001b[0m, in \u001b[0;36mBaseSearchCV.fit\u001b[0;34m(self, X, y, **params)\u001b[0m\n\u001b[1;32m    964\u001b[0m     results \u001b[38;5;241m=\u001b[39m \u001b[38;5;28mself\u001b[39m\u001b[38;5;241m.\u001b[39m_format_results(\n\u001b[1;32m    965\u001b[0m         all_candidate_params, n_splits, all_out, all_more_results\n\u001b[1;32m    966\u001b[0m     )\n\u001b[1;32m    968\u001b[0m     \u001b[38;5;28;01mreturn\u001b[39;00m results\n\u001b[0;32m--> 970\u001b[0m \u001b[38;5;28;43mself\u001b[39;49m\u001b[38;5;241;43m.\u001b[39;49m\u001b[43m_run_search\u001b[49m\u001b[43m(\u001b[49m\u001b[43mevaluate_candidates\u001b[49m\u001b[43m)\u001b[49m\n\u001b[1;32m    972\u001b[0m \u001b[38;5;66;03m# multimetric is determined here because in the case of a callable\u001b[39;00m\n\u001b[1;32m    973\u001b[0m \u001b[38;5;66;03m# self.scoring the return type is only known after calling\u001b[39;00m\n\u001b[1;32m    974\u001b[0m first_test_score \u001b[38;5;241m=\u001b[39m all_out[\u001b[38;5;241m0\u001b[39m][\u001b[38;5;124m\"\u001b[39m\u001b[38;5;124mtest_scores\u001b[39m\u001b[38;5;124m\"\u001b[39m]\n",
      "File \u001b[0;32m~/.local/lib/python3.11/site-packages/sklearn/model_selection/_search.py:1527\u001b[0m, in \u001b[0;36mGridSearchCV._run_search\u001b[0;34m(self, evaluate_candidates)\u001b[0m\n\u001b[1;32m   1525\u001b[0m \u001b[38;5;28;01mdef\u001b[39;00m\u001b[38;5;250m \u001b[39m\u001b[38;5;21m_run_search\u001b[39m(\u001b[38;5;28mself\u001b[39m, evaluate_candidates):\n\u001b[1;32m   1526\u001b[0m \u001b[38;5;250m    \u001b[39m\u001b[38;5;124;03m\"\"\"Search all candidates in param_grid\"\"\"\u001b[39;00m\n\u001b[0;32m-> 1527\u001b[0m     \u001b[43mevaluate_candidates\u001b[49m\u001b[43m(\u001b[49m\u001b[43mParameterGrid\u001b[49m\u001b[43m(\u001b[49m\u001b[38;5;28;43mself\u001b[39;49m\u001b[38;5;241;43m.\u001b[39;49m\u001b[43mparam_grid\u001b[49m\u001b[43m)\u001b[49m\u001b[43m)\u001b[49m\n",
      "File \u001b[0;32m~/.local/lib/python3.11/site-packages/sklearn/model_selection/_search.py:916\u001b[0m, in \u001b[0;36mBaseSearchCV.fit.<locals>.evaluate_candidates\u001b[0;34m(candidate_params, cv, more_results)\u001b[0m\n\u001b[1;32m    908\u001b[0m \u001b[38;5;28;01mif\u001b[39;00m \u001b[38;5;28mself\u001b[39m\u001b[38;5;241m.\u001b[39mverbose \u001b[38;5;241m>\u001b[39m \u001b[38;5;241m0\u001b[39m:\n\u001b[1;32m    909\u001b[0m     \u001b[38;5;28mprint\u001b[39m(\n\u001b[1;32m    910\u001b[0m         \u001b[38;5;124m\"\u001b[39m\u001b[38;5;124mFitting \u001b[39m\u001b[38;5;132;01m{0}\u001b[39;00m\u001b[38;5;124m folds for each of \u001b[39m\u001b[38;5;132;01m{1}\u001b[39;00m\u001b[38;5;124m candidates,\u001b[39m\u001b[38;5;124m\"\u001b[39m\n\u001b[1;32m    911\u001b[0m         \u001b[38;5;124m\"\u001b[39m\u001b[38;5;124m totalling \u001b[39m\u001b[38;5;132;01m{2}\u001b[39;00m\u001b[38;5;124m fits\u001b[39m\u001b[38;5;124m\"\u001b[39m\u001b[38;5;241m.\u001b[39mformat(\n\u001b[1;32m    912\u001b[0m             n_splits, n_candidates, n_candidates \u001b[38;5;241m*\u001b[39m n_splits\n\u001b[1;32m    913\u001b[0m         )\n\u001b[1;32m    914\u001b[0m     )\n\u001b[0;32m--> 916\u001b[0m out \u001b[38;5;241m=\u001b[39m \u001b[43mparallel\u001b[49m\u001b[43m(\u001b[49m\n\u001b[1;32m    917\u001b[0m \u001b[43m    \u001b[49m\u001b[43mdelayed\u001b[49m\u001b[43m(\u001b[49m\u001b[43m_fit_and_score\u001b[49m\u001b[43m)\u001b[49m\u001b[43m(\u001b[49m\n\u001b[1;32m    918\u001b[0m \u001b[43m        \u001b[49m\u001b[43mclone\u001b[49m\u001b[43m(\u001b[49m\u001b[43mbase_estimator\u001b[49m\u001b[43m)\u001b[49m\u001b[43m,\u001b[49m\n\u001b[1;32m    919\u001b[0m \u001b[43m        \u001b[49m\u001b[43mX\u001b[49m\u001b[43m,\u001b[49m\n\u001b[1;32m    920\u001b[0m \u001b[43m        \u001b[49m\u001b[43my\u001b[49m\u001b[43m,\u001b[49m\n\u001b[1;32m    921\u001b[0m \u001b[43m        \u001b[49m\u001b[43mtrain\u001b[49m\u001b[38;5;241;43m=\u001b[39;49m\u001b[43mtrain\u001b[49m\u001b[43m,\u001b[49m\n\u001b[1;32m    922\u001b[0m \u001b[43m        \u001b[49m\u001b[43mtest\u001b[49m\u001b[38;5;241;43m=\u001b[39;49m\u001b[43mtest\u001b[49m\u001b[43m,\u001b[49m\n\u001b[1;32m    923\u001b[0m \u001b[43m        \u001b[49m\u001b[43mparameters\u001b[49m\u001b[38;5;241;43m=\u001b[39;49m\u001b[43mparameters\u001b[49m\u001b[43m,\u001b[49m\n\u001b[1;32m    924\u001b[0m \u001b[43m        \u001b[49m\u001b[43msplit_progress\u001b[49m\u001b[38;5;241;43m=\u001b[39;49m\u001b[43m(\u001b[49m\u001b[43msplit_idx\u001b[49m\u001b[43m,\u001b[49m\u001b[43m \u001b[49m\u001b[43mn_splits\u001b[49m\u001b[43m)\u001b[49m\u001b[43m,\u001b[49m\n\u001b[1;32m    925\u001b[0m \u001b[43m        \u001b[49m\u001b[43mcandidate_progress\u001b[49m\u001b[38;5;241;43m=\u001b[39;49m\u001b[43m(\u001b[49m\u001b[43mcand_idx\u001b[49m\u001b[43m,\u001b[49m\u001b[43m \u001b[49m\u001b[43mn_candidates\u001b[49m\u001b[43m)\u001b[49m\u001b[43m,\u001b[49m\n\u001b[1;32m    926\u001b[0m \u001b[43m        \u001b[49m\u001b[38;5;241;43m*\u001b[39;49m\u001b[38;5;241;43m*\u001b[39;49m\u001b[43mfit_and_score_kwargs\u001b[49m\u001b[43m,\u001b[49m\n\u001b[1;32m    927\u001b[0m \u001b[43m    \u001b[49m\u001b[43m)\u001b[49m\n\u001b[1;32m    928\u001b[0m \u001b[43m    \u001b[49m\u001b[38;5;28;43;01mfor\u001b[39;49;00m\u001b[43m \u001b[49m\u001b[43m(\u001b[49m\u001b[43mcand_idx\u001b[49m\u001b[43m,\u001b[49m\u001b[43m \u001b[49m\u001b[43mparameters\u001b[49m\u001b[43m)\u001b[49m\u001b[43m,\u001b[49m\u001b[43m \u001b[49m\u001b[43m(\u001b[49m\u001b[43msplit_idx\u001b[49m\u001b[43m,\u001b[49m\u001b[43m \u001b[49m\u001b[43m(\u001b[49m\u001b[43mtrain\u001b[49m\u001b[43m,\u001b[49m\u001b[43m \u001b[49m\u001b[43mtest\u001b[49m\u001b[43m)\u001b[49m\u001b[43m)\u001b[49m\u001b[43m \u001b[49m\u001b[38;5;129;43;01min\u001b[39;49;00m\u001b[43m \u001b[49m\u001b[43mproduct\u001b[49m\u001b[43m(\u001b[49m\n\u001b[1;32m    929\u001b[0m \u001b[43m        \u001b[49m\u001b[38;5;28;43menumerate\u001b[39;49m\u001b[43m(\u001b[49m\u001b[43mcandidate_params\u001b[49m\u001b[43m)\u001b[49m\u001b[43m,\u001b[49m\n\u001b[1;32m    930\u001b[0m \u001b[43m        \u001b[49m\u001b[38;5;28;43menumerate\u001b[39;49m\u001b[43m(\u001b[49m\u001b[43mcv\u001b[49m\u001b[38;5;241;43m.\u001b[39;49m\u001b[43msplit\u001b[49m\u001b[43m(\u001b[49m\u001b[43mX\u001b[49m\u001b[43m,\u001b[49m\u001b[43m \u001b[49m\u001b[43my\u001b[49m\u001b[43m,\u001b[49m\u001b[43m \u001b[49m\u001b[38;5;241;43m*\u001b[39;49m\u001b[38;5;241;43m*\u001b[39;49m\u001b[43mrouted_params\u001b[49m\u001b[38;5;241;43m.\u001b[39;49m\u001b[43msplitter\u001b[49m\u001b[38;5;241;43m.\u001b[39;49m\u001b[43msplit\u001b[49m\u001b[43m)\u001b[49m\u001b[43m)\u001b[49m\u001b[43m,\u001b[49m\n\u001b[1;32m    931\u001b[0m \u001b[43m    \u001b[49m\u001b[43m)\u001b[49m\n\u001b[1;32m    932\u001b[0m \u001b[43m\u001b[49m\u001b[43m)\u001b[49m\n\u001b[1;32m    934\u001b[0m \u001b[38;5;28;01mif\u001b[39;00m \u001b[38;5;28mlen\u001b[39m(out) \u001b[38;5;241m<\u001b[39m \u001b[38;5;241m1\u001b[39m:\n\u001b[1;32m    935\u001b[0m     \u001b[38;5;28;01mraise\u001b[39;00m \u001b[38;5;167;01mValueError\u001b[39;00m(\n\u001b[1;32m    936\u001b[0m         \u001b[38;5;124m\"\u001b[39m\u001b[38;5;124mNo fits were performed. \u001b[39m\u001b[38;5;124m\"\u001b[39m\n\u001b[1;32m    937\u001b[0m         \u001b[38;5;124m\"\u001b[39m\u001b[38;5;124mWas the CV iterator empty? \u001b[39m\u001b[38;5;124m\"\u001b[39m\n\u001b[1;32m    938\u001b[0m         \u001b[38;5;124m\"\u001b[39m\u001b[38;5;124mWere there no candidates?\u001b[39m\u001b[38;5;124m\"\u001b[39m\n\u001b[1;32m    939\u001b[0m     )\n",
      "File \u001b[0;32m~/.local/lib/python3.11/site-packages/sklearn/utils/parallel.py:67\u001b[0m, in \u001b[0;36mParallel.__call__\u001b[0;34m(self, iterable)\u001b[0m\n\u001b[1;32m     62\u001b[0m config \u001b[38;5;241m=\u001b[39m get_config()\n\u001b[1;32m     63\u001b[0m iterable_with_config \u001b[38;5;241m=\u001b[39m (\n\u001b[1;32m     64\u001b[0m     (_with_config(delayed_func, config), args, kwargs)\n\u001b[1;32m     65\u001b[0m     \u001b[38;5;28;01mfor\u001b[39;00m delayed_func, args, kwargs \u001b[38;5;129;01min\u001b[39;00m iterable\n\u001b[1;32m     66\u001b[0m )\n\u001b[0;32m---> 67\u001b[0m \u001b[38;5;28;01mreturn\u001b[39;00m \u001b[38;5;28;43msuper\u001b[39;49m\u001b[43m(\u001b[49m\u001b[43m)\u001b[49m\u001b[38;5;241;43m.\u001b[39;49m\u001b[38;5;21;43m__call__\u001b[39;49m\u001b[43m(\u001b[49m\u001b[43miterable_with_config\u001b[49m\u001b[43m)\u001b[49m\n",
      "File \u001b[0;32m~/.local/lib/python3.11/site-packages/joblib/parallel.py:1863\u001b[0m, in \u001b[0;36mParallel.__call__\u001b[0;34m(self, iterable)\u001b[0m\n\u001b[1;32m   1861\u001b[0m     output \u001b[38;5;241m=\u001b[39m \u001b[38;5;28mself\u001b[39m\u001b[38;5;241m.\u001b[39m_get_sequential_output(iterable)\n\u001b[1;32m   1862\u001b[0m     \u001b[38;5;28mnext\u001b[39m(output)\n\u001b[0;32m-> 1863\u001b[0m     \u001b[38;5;28;01mreturn\u001b[39;00m output \u001b[38;5;28;01mif\u001b[39;00m \u001b[38;5;28mself\u001b[39m\u001b[38;5;241m.\u001b[39mreturn_generator \u001b[38;5;28;01melse\u001b[39;00m \u001b[38;5;28mlist\u001b[39m(output)\n\u001b[1;32m   1865\u001b[0m \u001b[38;5;66;03m# Let's create an ID that uniquely identifies the current call. If the\u001b[39;00m\n\u001b[1;32m   1866\u001b[0m \u001b[38;5;66;03m# call is interrupted early and that the same instance is immediately\u001b[39;00m\n\u001b[1;32m   1867\u001b[0m \u001b[38;5;66;03m# re-used, this id will be used to prevent workers that were\u001b[39;00m\n\u001b[1;32m   1868\u001b[0m \u001b[38;5;66;03m# concurrently finalizing a task from the previous call to run the\u001b[39;00m\n\u001b[1;32m   1869\u001b[0m \u001b[38;5;66;03m# callback.\u001b[39;00m\n\u001b[1;32m   1870\u001b[0m \u001b[38;5;28;01mwith\u001b[39;00m \u001b[38;5;28mself\u001b[39m\u001b[38;5;241m.\u001b[39m_lock:\n",
      "File \u001b[0;32m~/.local/lib/python3.11/site-packages/joblib/parallel.py:1792\u001b[0m, in \u001b[0;36mParallel._get_sequential_output\u001b[0;34m(self, iterable)\u001b[0m\n\u001b[1;32m   1790\u001b[0m \u001b[38;5;28mself\u001b[39m\u001b[38;5;241m.\u001b[39mn_dispatched_batches \u001b[38;5;241m+\u001b[39m\u001b[38;5;241m=\u001b[39m \u001b[38;5;241m1\u001b[39m\n\u001b[1;32m   1791\u001b[0m \u001b[38;5;28mself\u001b[39m\u001b[38;5;241m.\u001b[39mn_dispatched_tasks \u001b[38;5;241m+\u001b[39m\u001b[38;5;241m=\u001b[39m \u001b[38;5;241m1\u001b[39m\n\u001b[0;32m-> 1792\u001b[0m res \u001b[38;5;241m=\u001b[39m \u001b[43mfunc\u001b[49m\u001b[43m(\u001b[49m\u001b[38;5;241;43m*\u001b[39;49m\u001b[43margs\u001b[49m\u001b[43m,\u001b[49m\u001b[43m \u001b[49m\u001b[38;5;241;43m*\u001b[39;49m\u001b[38;5;241;43m*\u001b[39;49m\u001b[43mkwargs\u001b[49m\u001b[43m)\u001b[49m\n\u001b[1;32m   1793\u001b[0m \u001b[38;5;28mself\u001b[39m\u001b[38;5;241m.\u001b[39mn_completed_tasks \u001b[38;5;241m+\u001b[39m\u001b[38;5;241m=\u001b[39m \u001b[38;5;241m1\u001b[39m\n\u001b[1;32m   1794\u001b[0m \u001b[38;5;28mself\u001b[39m\u001b[38;5;241m.\u001b[39mprint_progress()\n",
      "File \u001b[0;32m~/.local/lib/python3.11/site-packages/sklearn/utils/parallel.py:129\u001b[0m, in \u001b[0;36m_FuncWrapper.__call__\u001b[0;34m(self, *args, **kwargs)\u001b[0m\n\u001b[1;32m    127\u001b[0m     config \u001b[38;5;241m=\u001b[39m {}\n\u001b[1;32m    128\u001b[0m \u001b[38;5;28;01mwith\u001b[39;00m config_context(\u001b[38;5;241m*\u001b[39m\u001b[38;5;241m*\u001b[39mconfig):\n\u001b[0;32m--> 129\u001b[0m     \u001b[38;5;28;01mreturn\u001b[39;00m \u001b[38;5;28;43mself\u001b[39;49m\u001b[38;5;241;43m.\u001b[39;49m\u001b[43mfunction\u001b[49m\u001b[43m(\u001b[49m\u001b[38;5;241;43m*\u001b[39;49m\u001b[43margs\u001b[49m\u001b[43m,\u001b[49m\u001b[43m \u001b[49m\u001b[38;5;241;43m*\u001b[39;49m\u001b[38;5;241;43m*\u001b[39;49m\u001b[43mkwargs\u001b[49m\u001b[43m)\u001b[49m\n",
      "File \u001b[0;32m~/.local/lib/python3.11/site-packages/sklearn/model_selection/_validation.py:883\u001b[0m, in \u001b[0;36m_fit_and_score\u001b[0;34m(estimator, X, y, scorer, train, test, verbose, parameters, fit_params, score_params, return_train_score, return_parameters, return_n_test_samples, return_times, return_estimator, split_progress, candidate_progress, error_score)\u001b[0m\n\u001b[1;32m    876\u001b[0m score_params_test \u001b[38;5;241m=\u001b[39m _check_method_params(X, params\u001b[38;5;241m=\u001b[39mscore_params, indices\u001b[38;5;241m=\u001b[39mtest)\n\u001b[1;32m    878\u001b[0m \u001b[38;5;28;01mif\u001b[39;00m parameters \u001b[38;5;129;01mis\u001b[39;00m \u001b[38;5;129;01mnot\u001b[39;00m \u001b[38;5;28;01mNone\u001b[39;00m:\n\u001b[1;32m    879\u001b[0m     \u001b[38;5;66;03m# here we clone the parameters, since sometimes the parameters\u001b[39;00m\n\u001b[1;32m    880\u001b[0m     \u001b[38;5;66;03m# themselves might be estimators, e.g. when we search over different\u001b[39;00m\n\u001b[1;32m    881\u001b[0m     \u001b[38;5;66;03m# estimators in a pipeline.\u001b[39;00m\n\u001b[1;32m    882\u001b[0m     \u001b[38;5;66;03m# ref: https://github.com/scikit-learn/scikit-learn/pull/26786\u001b[39;00m\n\u001b[0;32m--> 883\u001b[0m     estimator \u001b[38;5;241m=\u001b[39m \u001b[43mestimator\u001b[49m\u001b[38;5;241;43m.\u001b[39;49m\u001b[43mset_params\u001b[49m\u001b[43m(\u001b[49m\u001b[38;5;241;43m*\u001b[39;49m\u001b[38;5;241;43m*\u001b[39;49m\u001b[43mclone\u001b[49m\u001b[43m(\u001b[49m\u001b[43mparameters\u001b[49m\u001b[43m,\u001b[49m\u001b[43m \u001b[49m\u001b[43msafe\u001b[49m\u001b[38;5;241;43m=\u001b[39;49m\u001b[38;5;28;43;01mFalse\u001b[39;49;00m\u001b[43m)\u001b[49m\u001b[43m)\u001b[49m\n\u001b[1;32m    885\u001b[0m start_time \u001b[38;5;241m=\u001b[39m time\u001b[38;5;241m.\u001b[39mtime()\n\u001b[1;32m    887\u001b[0m X_train, y_train \u001b[38;5;241m=\u001b[39m _safe_split(estimator, X, y, train)\n",
      "File \u001b[0;32m~/.local/lib/python3.11/site-packages/sklearn/base.py:279\u001b[0m, in \u001b[0;36mBaseEstimator.set_params\u001b[0;34m(self, **params)\u001b[0m\n\u001b[1;32m    277\u001b[0m \u001b[38;5;28;01mif\u001b[39;00m key \u001b[38;5;129;01mnot\u001b[39;00m \u001b[38;5;129;01min\u001b[39;00m valid_params:\n\u001b[1;32m    278\u001b[0m     local_valid_params \u001b[38;5;241m=\u001b[39m \u001b[38;5;28mself\u001b[39m\u001b[38;5;241m.\u001b[39m_get_param_names()\n\u001b[0;32m--> 279\u001b[0m     \u001b[38;5;28;01mraise\u001b[39;00m \u001b[38;5;167;01mValueError\u001b[39;00m(\n\u001b[1;32m    280\u001b[0m         \u001b[38;5;124mf\u001b[39m\u001b[38;5;124m\"\u001b[39m\u001b[38;5;124mInvalid parameter \u001b[39m\u001b[38;5;132;01m{\u001b[39;00mkey\u001b[38;5;132;01m!r}\u001b[39;00m\u001b[38;5;124m for estimator \u001b[39m\u001b[38;5;132;01m{\u001b[39;00m\u001b[38;5;28mself\u001b[39m\u001b[38;5;132;01m}\u001b[39;00m\u001b[38;5;124m. \u001b[39m\u001b[38;5;124m\"\u001b[39m\n\u001b[1;32m    281\u001b[0m         \u001b[38;5;124mf\u001b[39m\u001b[38;5;124m\"\u001b[39m\u001b[38;5;124mValid parameters are: \u001b[39m\u001b[38;5;132;01m{\u001b[39;00mlocal_valid_params\u001b[38;5;132;01m!r}\u001b[39;00m\u001b[38;5;124m.\u001b[39m\u001b[38;5;124m\"\u001b[39m\n\u001b[1;32m    282\u001b[0m     )\n\u001b[1;32m    284\u001b[0m \u001b[38;5;28;01mif\u001b[39;00m delim:\n\u001b[1;32m    285\u001b[0m     nested_params[key][sub_key] \u001b[38;5;241m=\u001b[39m value\n",
      "\u001b[0;31mValueError\u001b[0m: Invalid parameter 'svc' for estimator SVC(). Valid parameters are: ['C', 'break_ties', 'cache_size', 'class_weight', 'coef0', 'decision_function_shape', 'degree', 'gamma', 'kernel', 'max_iter', 'probability', 'random_state', 'shrinking', 'tol', 'verbose']."
     ]
    }
   ],
   "source": [
    "from sklearn.svm import SVC\n",
    "from sklearn.decomposition import PCA\n",
    "from sklearn.pipeline import make_pipeline\n",
    "\n",
    "svc = SVC(kernel='rbf')\n",
    "\n",
    "\n",
    "from sklearn.model_selection import train_test_split\n",
    "Xtrain, Xtest, ytrain, ytest = train_test_split(X, y, random_state=42)\n",
    "\n",
    "from sklearn.model_selection import GridSearchCV\n",
    "#param_grid = {'svc__C': [1, 5, 10], 'svc__gamma': [0.0001, 0.001, 0.005]}\n",
    "param_grid = {'svc__C': [1, 5, 10], 'svc__gamma': [0.0001, 0.001, 0.005], 'svc__kernel': ['rbf', 'poly', 'sigmoid']}\n",
    "# param_grid = {'svc__C': [1], 'svc__gamma': [0.0001], 'svc__kernel': ['rbf', 'poly']}\n",
    "grid = GridSearchCV(svc, param_grid)\n",
    "\n",
    "%time grid.fit(Xtrain, ytrain)\n"
   ]
  },
  {
   "cell_type": "markdown",
   "id": "022c2ae4",
   "metadata": {},
   "source": [
    "### Clasificacion SVM"
   ]
  },
  {
   "cell_type": "code",
   "execution_count": 56,
   "id": "725ddaa1",
   "metadata": {},
   "outputs": [
    {
     "data": {
      "image/png": "[encoded data removed]",
      "text/plain": [
       "<Figure size 640x480 with 1 Axes>"
      ]
     },
     "metadata": {},
     "output_type": "display_data"
    }
   ],
   "source": [
    "### Clasificacion KNN\n",
    "df_houses = df.copy()\n",
    "df_houses.dtypes\n",
    "df_houses[\"SUPERFICIE_M2\"].isnull().sum()\n",
    "def get_range_meters(meters):\n",
    "    match meters:\n",
    "        # case m if m < 50:\n",
    "        #     return \"<50\"\n",
    "        # case m if 50 <= m < 60:\n",
    "        #     return \"50-60\"\n",
    "        # case m if 60 <= m < 70:\n",
    "        #     return \"60-70\"\n",
    "        # case m if 70 <= m < 80:\n",
    "        #     return \"70-80\"\n",
    "        # case m if 80 <= m < 90:\n",
    "        #     return \"80-90\"\n",
    "        # case m if 90 <= m < 100:\n",
    "        #     return \"90-100\"\n",
    "        # case m if 100 <= m < 110:\n",
    "        #     return \"100-110\"\n",
    "        # case m if 110 <= m < 120:\n",
    "        #     return \"110-120\"\n",
    "        # case m if 120 <= m < 130:\n",
    "        #     return \"120-130\"\n",
    "        # case m if 130 <= m < 140:\n",
    "        #     return \"130-140\"\n",
    "        # case m if 140 <= m < 150:\n",
    "        #     return \"140-150\"\n",
    "        # case _:\n",
    "        #     return \">150\" \n",
    "        \n",
    "        case m if m < 60:\n",
    "            return \"<60\"\n",
    "        case m if 60 <= m < 80:\n",
    "            return \"60-80\"\n",
    "        case m if 80 <= m < 100:\n",
    "            return \"80-100\"\n",
    "        case m if 100 <= m < 120:\n",
    "            return \"100-120\"\n",
    "        case m if 120 <= m < 150:\n",
    "            return \"100-150\"\n",
    "        case _:\n",
    "             return \">150\" \n",
    "df_houses[\"range_meters\"] = df_houses[\"SUPERFICIE_M2\"].apply(lambda x: get_range_meters(x))\n",
    "df_houses[\"range_meters\"].value_counts().plot.bar()\n",
    "df_houses[\"range_meters\"].value_counts()\n",
    "center_lat, center_lon = 40.4168, -3.7038\n",
    "\n",
    "# Create distance to city center\n",
    "df_houses['distance_to_center'] = np.sqrt((df_houses['LATITUDE'] - center_lat)**2 + (df_houses['LONGITUDE'] - center_lon)**2)\n",
    "df_houses.dtypes\n",
    "df_houses.drop(columns=[\"SUPERFICIE\",\"SUPERFICIE_M2\",\"LATITUDE\",\"LONGITUDE\",\"DISTRITO\",\"BANOS\",\"JARDIN\"],inplace=True)\n",
    "df_houses\n",
    "from sklearn.model_selection import train_test_split\n",
    "\n",
    "target = \"range_meters\"\n",
    "y,X =df_houses[target], df_houses.drop(target,axis=\"columns\")\n",
    "\n",
    "\n",
    "x_train, x_test, y_train, y_test = train_test_split(X, # observaciones\n",
    "                                                    y, # targets alineados con las observaciones\n",
    "                                                    test_size=0.3, # ratio de observaciones que se van al conjunto de test,\n",
    "                                                    random_state=42) # estado del generador de números aleatorios\n",
    "\n"
   ]
  },
  {
   "cell_type": "code",
   "execution_count": 58,
   "id": "84e05cc4",
   "metadata": {},
   "outputs": [
    {
     "name": "stdout",
     "output_type": "stream",
     "text": [
      "Accuracy: 52.83%\n"
     ]
    }
   ],
   "source": [
    "\n",
    "from sklearn.svm import SVC\n",
    "\n",
    "\n",
    "model = SVC(kernel='rbf', C=1, gamma='scale')\n",
    "model.fit(x_train, y_train)\n",
    "y_pred = model.predict(x_test)\n",
    "from sklearn.metrics import accuracy_score\n",
    "accuracy = accuracy_score(y_test, y_pred)\n",
    "print(f\"Accuracy: {accuracy * 100:.2f}%\")"
   ]
  }
 ],
 "metadata": {
  "kernelspec": {
   "display_name": "ML_Kschool",
   "language": "python",
   "name": "python3"
  },
  "language_info": {
   "codemirror_mode": {
    "name": "ipython",
    "version": 3
   },
   "file_extension": ".py",
   "mimetype": "text/x-python",
   "name": "python",
   "nbconvert_exporter": "python",
   "pygments_lexer": "ipython3",
   "version": "3.11.11"
  }
 },
 "nbformat": 4,
 "nbformat_minor": 5
}
