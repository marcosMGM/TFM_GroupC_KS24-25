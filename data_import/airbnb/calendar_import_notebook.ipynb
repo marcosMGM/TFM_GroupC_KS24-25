{
 "cells": [
  {
   "cell_type": "code",
   "execution_count": 3,
   "id": "262e5017",
   "metadata": {},
   "outputs": [
    {
     "name": "stdout",
     "output_type": "stream",
     "text": [
      "Archivo data\\calendar.csv.gz descomprimido como data\\TEMP\\calendar.csv\n"
     ]
    }
   ],
   "source": [
    "\"\"\" \n",
    "Importación de ficheros de AIRBNB. Preprocesado y cargado a la base de datos \n",
    "\n",
    "Obtenemos los datos desde https://insideairbnb.com/get-the-data/\n",
    "\n",
    "Podríamos hacer scraping, obtener la fecha de la última actualización de Madrid y generar el enlace para descargarlo, pero no es necesario por que se actualiza cada mucho tiempo y no es necesario tener la última versión. Podemos cambiar la info procesable en la carpeta data manualmente.\n",
    "\n",
    "\"\"\"\n",
    "import os\n",
    "import pandas as pd\n",
    "import numpy as np\n",
    "import datetime\n",
    "from config_bd import *\n",
    "import requests\n",
    "import sys\n",
    "import gzip\n",
    "import shutil\n",
    "\n",
    "DATA_DIR = os.path.join('data')\n",
    "# DATA_DIR = os.path.join(os.path.dirname(__file__), 'data')\n",
    "TEMP_DIR = os.path.join(DATA_DIR, 'TEMP')\n",
    "\n",
    "\n",
    "\"\"\" Comprobamos que existe el directorio de datos \"\"\"\n",
    "\n",
    "if not os.path.exists(DATA_DIR):\n",
    "    print(f\"El directorio {DATA_DIR} no existe. No es posible continuar...\")\n",
    "    sys.exit()\n",
    "\n",
    "\"\"\" Descomprimimos el archivo de calendario \"\"\"\n",
    "\n",
    "if not os.path.exists(TEMP_DIR):\n",
    "    os.makedirs(TEMP_DIR)\n",
    "\n",
    "\n",
    "gz_file_path = os.path.join(DATA_DIR, 'calendar.csv.gz')\n",
    "output_file_path = os.path.join(TEMP_DIR, os.path.splitext(os.path.basename(gz_file_path))[0])\n",
    "\n",
    "if os.path.exists(gz_file_path):\n",
    "    try:\n",
    "        with gzip.open(gz_file_path, 'rb') as f_in:\n",
    "            with open(output_file_path, 'wb') as f_out:\n",
    "                shutil.copyfileobj(f_in, f_out)\n",
    "        print(f\"Archivo {gz_file_path} descomprimido como {output_file_path}\")\n",
    "    except Exception as e:\n",
    "        print(f\"Error al descomprimir el archivo {gz_file_path}: {e}\")\n",
    "        sys.exit()\n",
    "else:\n",
    "    print(f\"El archivo {gz_file_path} no existe. No es posible continuar...\")\n",
    "    sys.exit()\n"
   ]
  },
  {
   "cell_type": "code",
   "execution_count": 33,
   "id": "634ce57f",
   "metadata": {},
   "outputs": [
    {
     "data": {
      "application/vnd.microsoft.datawrangler.viewer.v0+json": {
       "columns": [
        {
         "name": "index",
         "rawType": "object",
         "type": "string"
        },
        {
         "name": "count",
         "rawType": "float64",
         "type": "float"
        },
        {
         "name": "mean",
         "rawType": "float64",
         "type": "float"
        },
        {
         "name": "std",
         "rawType": "float64",
         "type": "float"
        },
        {
         "name": "min",
         "rawType": "float64",
         "type": "float"
        },
        {
         "name": "25%",
         "rawType": "float64",
         "type": "float"
        },
        {
         "name": "50%",
         "rawType": "float64",
         "type": "float"
        },
        {
         "name": "75%",
         "rawType": "float64",
         "type": "float"
        },
        {
         "name": "max",
         "rawType": "float64",
         "type": "float"
        }
       ],
       "conversionMethod": "pd.DataFrame",
       "ref": "ac976fe8-b87c-4258-a7c5-dbb4dcb4a676",
       "rows": [
        [
         "listing_id",
         "9236806.0",
         "6.438997692859624e+17",
         "5.357870110099012e+17",
         "21853.0",
         "36760070.0",
         "8.115292958806481e+17",
         "1.1425656914511631e+18",
         "1.3691794111764242e+18"
        ],
        [
         "available",
         "9236806.0",
         "0.4376800811882376",
         "0.49610105257342885",
         "0.0",
         "0.0",
         "0.0",
         "1.0",
         "1.0"
        ],
        [
         "price",
         "9236806.0",
         "211.61779888740762",
         "639.6717701881597",
         "8.0",
         "55.0",
         "92.0",
         "160.0",
         "21000.0"
        ],
        [
         "minimum_nights",
         "9236806.0",
         "10.1683312391751",
         "30.810965221511893",
         "1.0",
         "1.0",
         "3.0",
         "6.0",
         "1125.0"
        ],
        [
         "maximum_nights",
         "9236806.0",
         "614.4267362549349",
         "447.4724962357057",
         "1.0",
         "364.0",
         "365.0",
         "1125.0",
         "11111.0"
        ]
       ],
       "shape": {
        "columns": 8,
        "rows": 5
       }
      },
      "text/html": [
       "<div>\n",
       "<style scoped>\n",
       "    .dataframe tbody tr th:only-of-type {\n",
       "        vertical-align: middle;\n",
       "    }\n",
       "\n",
       "    .dataframe tbody tr th {\n",
       "        vertical-align: top;\n",
       "    }\n",
       "\n",
       "    .dataframe thead th {\n",
       "        text-align: right;\n",
       "    }\n",
       "</style>\n",
       "<table border=\"1\" class=\"dataframe\">\n",
       "  <thead>\n",
       "    <tr style=\"text-align: right;\">\n",
       "      <th></th>\n",
       "      <th>count</th>\n",
       "      <th>mean</th>\n",
       "      <th>std</th>\n",
       "      <th>min</th>\n",
       "      <th>25%</th>\n",
       "      <th>50%</th>\n",
       "      <th>75%</th>\n",
       "      <th>max</th>\n",
       "    </tr>\n",
       "  </thead>\n",
       "  <tbody>\n",
       "    <tr>\n",
       "      <th>listing_id</th>\n",
       "      <td>9236806.0</td>\n",
       "      <td>6.438998e+17</td>\n",
       "      <td>5.357870e+17</td>\n",
       "      <td>21853.0</td>\n",
       "      <td>36760070.0</td>\n",
       "      <td>8.115293e+17</td>\n",
       "      <td>1.142566e+18</td>\n",
       "      <td>1.369179e+18</td>\n",
       "    </tr>\n",
       "    <tr>\n",
       "      <th>available</th>\n",
       "      <td>9236806.0</td>\n",
       "      <td>4.376801e-01</td>\n",
       "      <td>4.961011e-01</td>\n",
       "      <td>0.0</td>\n",
       "      <td>0.0</td>\n",
       "      <td>0.000000e+00</td>\n",
       "      <td>1.000000e+00</td>\n",
       "      <td>1.000000e+00</td>\n",
       "    </tr>\n",
       "    <tr>\n",
       "      <th>price</th>\n",
       "      <td>9236806.0</td>\n",
       "      <td>2.116178e+02</td>\n",
       "      <td>6.396718e+02</td>\n",
       "      <td>8.0</td>\n",
       "      <td>55.0</td>\n",
       "      <td>9.200000e+01</td>\n",
       "      <td>1.600000e+02</td>\n",
       "      <td>2.100000e+04</td>\n",
       "    </tr>\n",
       "    <tr>\n",
       "      <th>minimum_nights</th>\n",
       "      <td>9236806.0</td>\n",
       "      <td>1.016833e+01</td>\n",
       "      <td>3.081097e+01</td>\n",
       "      <td>1.0</td>\n",
       "      <td>1.0</td>\n",
       "      <td>3.000000e+00</td>\n",
       "      <td>6.000000e+00</td>\n",
       "      <td>1.125000e+03</td>\n",
       "    </tr>\n",
       "    <tr>\n",
       "      <th>maximum_nights</th>\n",
       "      <td>9236806.0</td>\n",
       "      <td>6.144267e+02</td>\n",
       "      <td>4.474725e+02</td>\n",
       "      <td>1.0</td>\n",
       "      <td>364.0</td>\n",
       "      <td>3.650000e+02</td>\n",
       "      <td>1.125000e+03</td>\n",
       "      <td>1.111100e+04</td>\n",
       "    </tr>\n",
       "  </tbody>\n",
       "</table>\n",
       "</div>"
      ],
      "text/plain": [
       "                    count          mean           std      min         25%  \\\n",
       "listing_id      9236806.0  6.438998e+17  5.357870e+17  21853.0  36760070.0   \n",
       "available       9236806.0  4.376801e-01  4.961011e-01      0.0         0.0   \n",
       "price           9236806.0  2.116178e+02  6.396718e+02      8.0        55.0   \n",
       "minimum_nights  9236806.0  1.016833e+01  3.081097e+01      1.0         1.0   \n",
       "maximum_nights  9236806.0  6.144267e+02  4.474725e+02      1.0       364.0   \n",
       "\n",
       "                         50%           75%           max  \n",
       "listing_id      8.115293e+17  1.142566e+18  1.369179e+18  \n",
       "available       0.000000e+00  1.000000e+00  1.000000e+00  \n",
       "price           9.200000e+01  1.600000e+02  2.100000e+04  \n",
       "minimum_nights  3.000000e+00  6.000000e+00  1.125000e+03  \n",
       "maximum_nights  3.650000e+02  1.125000e+03  1.111100e+04  "
      ]
     },
     "execution_count": 33,
     "metadata": {},
     "output_type": "execute_result"
    }
   ],
   "source": [
    "df.describe().T"
   ]
  },
  {
   "cell_type": "code",
   "execution_count": 34,
   "id": "1bb399fc",
   "metadata": {},
   "outputs": [
    {
     "name": "stderr",
     "output_type": "stream",
     "text": [
      "C:\\Users\\dsantamaria\\AppData\\Local\\Temp\\ipykernel_15528\\3835538855.py:4: FutureWarning: Downcasting behavior in `replace` is deprecated and will be removed in a future version. To retain the old behavior, explicitly call `result.infer_objects(copy=False)`. To opt-in to the future behavior, set `pd.set_option('future.no_silent_downcasting', True)`\n",
      "  df['available'] = df['available'].replace({'t': 1, 'f': 0})\n"
     ]
    }
   ],
   "source": [
    "df = pd.read_csv(output_file_path, low_memory=False)\n",
    "df['price'] = df['price'].replace({'\\$': '', ',': ''}, regex=True).astype(float)\n",
    "df['price'] = df['price'].fillna(0)\n",
    "df['available'] = df['available'].replace({'t': 1, 'f': 0})\n",
    "df['minimum_nights'] = df['minimum_nights'].fillna(df['minimum_nights'].median()).astype(int)\n",
    "df['maximum_nights'] = df['maximum_nights'].fillna(df['maximum_nights'].median()).astype(int)"
   ]
  },
  {
   "cell_type": "code",
   "execution_count": null,
   "id": "4926efce",
   "metadata": {},
   "outputs": [
    {
     "data": {
      "application/vnd.microsoft.datawrangler.viewer.v0+json": {
       "columns": [
        {
         "name": "index",
         "rawType": "object",
         "type": "string"
        },
        {
         "name": "count",
         "rawType": "float64",
         "type": "float"
        },
        {
         "name": "mean",
         "rawType": "float64",
         "type": "float"
        },
        {
         "name": "std",
         "rawType": "float64",
         "type": "float"
        },
        {
         "name": "min",
         "rawType": "float64",
         "type": "float"
        },
        {
         "name": "25%",
         "rawType": "float64",
         "type": "float"
        },
        {
         "name": "50%",
         "rawType": "float64",
         "type": "float"
        },
        {
         "name": "75%",
         "rawType": "float64",
         "type": "float"
        },
        {
         "name": "max",
         "rawType": "float64",
         "type": "float"
        }
       ],
       "conversionMethod": "pd.DataFrame",
       "ref": "ac976fe8-b87c-4258-a7c5-dbb4dcb4a676",
       "rows": [
        [
         "listing_id",
         "9236806.0",
         "6.438997692859624e+17",
         "5.357870110099012e+17",
         "21853.0",
         "36760070.0",
         "8.115292958806481e+17",
         "1.1425656914511631e+18",
         "1.3691794111764242e+18"
        ],
        [
         "available",
         "9236806.0",
         "0.4376800811882376",
         "0.49610105257342885",
         "0.0",
         "0.0",
         "0.0",
         "1.0",
         "1.0"
        ],
        [
         "price",
         "9236806.0",
         "211.61779888740762",
         "639.6717701881597",
         "8.0",
         "55.0",
         "92.0",
         "160.0",
         "21000.0"
        ],
        [
         "minimum_nights",
         "9236806.0",
         "10.1683312391751",
         "30.810965221511893",
         "1.0",
         "1.0",
         "3.0",
         "6.0",
         "1125.0"
        ],
        [
         "maximum_nights",
         "9236806.0",
         "614.4267362549349",
         "447.4724962357057",
         "1.0",
         "364.0",
         "365.0",
         "1125.0",
         "11111.0"
        ]
       ],
       "shape": {
        "columns": 8,
        "rows": 5
       }
      },
      "text/html": [
       "<div>\n",
       "<style scoped>\n",
       "    .dataframe tbody tr th:only-of-type {\n",
       "        vertical-align: middle;\n",
       "    }\n",
       "\n",
       "    .dataframe tbody tr th {\n",
       "        vertical-align: top;\n",
       "    }\n",
       "\n",
       "    .dataframe thead th {\n",
       "        text-align: right;\n",
       "    }\n",
       "</style>\n",
       "<table border=\"1\" class=\"dataframe\">\n",
       "  <thead>\n",
       "    <tr style=\"text-align: right;\">\n",
       "      <th></th>\n",
       "      <th>count</th>\n",
       "      <th>mean</th>\n",
       "      <th>std</th>\n",
       "      <th>min</th>\n",
       "      <th>25%</th>\n",
       "      <th>50%</th>\n",
       "      <th>75%</th>\n",
       "      <th>max</th>\n",
       "    </tr>\n",
       "  </thead>\n",
       "  <tbody>\n",
       "    <tr>\n",
       "      <th>listing_id</th>\n",
       "      <td>9236806.0</td>\n",
       "      <td>6.438998e+17</td>\n",
       "      <td>5.357870e+17</td>\n",
       "      <td>21853.0</td>\n",
       "      <td>36760070.0</td>\n",
       "      <td>8.115293e+17</td>\n",
       "      <td>1.142566e+18</td>\n",
       "      <td>1.369179e+18</td>\n",
       "    </tr>\n",
       "    <tr>\n",
       "      <th>available</th>\n",
       "      <td>9236806.0</td>\n",
       "      <td>4.376801e-01</td>\n",
       "      <td>4.961011e-01</td>\n",
       "      <td>0.0</td>\n",
       "      <td>0.0</td>\n",
       "      <td>0.000000e+00</td>\n",
       "      <td>1.000000e+00</td>\n",
       "      <td>1.000000e+00</td>\n",
       "    </tr>\n",
       "    <tr>\n",
       "      <th>price</th>\n",
       "      <td>9236806.0</td>\n",
       "      <td>2.116178e+02</td>\n",
       "      <td>6.396718e+02</td>\n",
       "      <td>8.0</td>\n",
       "      <td>55.0</td>\n",
       "      <td>9.200000e+01</td>\n",
       "      <td>1.600000e+02</td>\n",
       "      <td>2.100000e+04</td>\n",
       "    </tr>\n",
       "    <tr>\n",
       "      <th>minimum_nights</th>\n",
       "      <td>9236806.0</td>\n",
       "      <td>1.016833e+01</td>\n",
       "      <td>3.081097e+01</td>\n",
       "      <td>1.0</td>\n",
       "      <td>1.0</td>\n",
       "      <td>3.000000e+00</td>\n",
       "      <td>6.000000e+00</td>\n",
       "      <td>1.125000e+03</td>\n",
       "    </tr>\n",
       "    <tr>\n",
       "      <th>maximum_nights</th>\n",
       "      <td>9236806.0</td>\n",
       "      <td>6.144267e+02</td>\n",
       "      <td>4.474725e+02</td>\n",
       "      <td>1.0</td>\n",
       "      <td>364.0</td>\n",
       "      <td>3.650000e+02</td>\n",
       "      <td>1.125000e+03</td>\n",
       "      <td>1.111100e+04</td>\n",
       "    </tr>\n",
       "  </tbody>\n",
       "</table>\n",
       "</div>"
      ],
      "text/plain": [
       "                    count          mean           std      min         25%  \\\n",
       "listing_id      9236806.0  6.438998e+17  5.357870e+17  21853.0  36760070.0   \n",
       "available       9236806.0  4.376801e-01  4.961011e-01      0.0         0.0   \n",
       "price           9236806.0  2.116178e+02  6.396718e+02      8.0        55.0   \n",
       "minimum_nights  9236806.0  1.016833e+01  3.081097e+01      1.0         1.0   \n",
       "maximum_nights  9236806.0  6.144267e+02  4.474725e+02      1.0       364.0   \n",
       "\n",
       "                         50%           75%           max  \n",
       "listing_id      8.115293e+17  1.142566e+18  1.369179e+18  \n",
       "available       0.000000e+00  1.000000e+00  1.000000e+00  \n",
       "price           9.200000e+01  1.600000e+02  2.100000e+04  \n",
       "minimum_nights  3.000000e+00  6.000000e+00  1.125000e+03  \n",
       "maximum_nights  3.650000e+02  1.125000e+03  1.111100e+04  "
      ]
     },
     "metadata": {},
     "output_type": "display_data"
    }
   ],
   "source": [
    "df.describe().T"
   ]
  },
  {
   "cell_type": "code",
   "execution_count": 27,
   "id": "b56f095a",
   "metadata": {},
   "outputs": [
    {
     "name": "stdout",
     "output_type": "stream",
     "text": [
      "<class 'pandas.core.frame.DataFrame'>\n",
      "RangeIndex: 9236806 entries, 0 to 9236805\n",
      "Data columns (total 7 columns):\n",
      " #   Column          Dtype  \n",
      "---  ------          -----  \n",
      " 0   listing_id      int64  \n",
      " 1   date            object \n",
      " 2   available       int64  \n",
      " 3   price           float64\n",
      " 4   adjusted_price  object \n",
      " 5   minimum_nights  float64\n",
      " 6   maximum_nights  float64\n",
      "dtypes: float64(3), int64(2), object(2)\n",
      "memory usage: 493.3+ MB\n"
     ]
    }
   ],
   "source": [
    "df.info()"
   ]
  },
  {
   "cell_type": "code",
   "execution_count": 22,
   "id": "14bc1202",
   "metadata": {},
   "outputs": [
    {
     "data": {
      "application/vnd.microsoft.datawrangler.viewer.v0+json": {
       "columns": [
        {
         "name": "index",
         "rawType": "int64",
         "type": "integer"
        },
        {
         "name": "listing_id",
         "rawType": "int64",
         "type": "integer"
        },
        {
         "name": "date",
         "rawType": "object",
         "type": "string"
        },
        {
         "name": "available",
         "rawType": "object",
         "type": "string"
        },
        {
         "name": "price",
         "rawType": "float64",
         "type": "float"
        },
        {
         "name": "adjusted_price",
         "rawType": "object",
         "type": "unknown"
        },
        {
         "name": "minimum_nights",
         "rawType": "float64",
         "type": "float"
        },
        {
         "name": "maximum_nights",
         "rawType": "float64",
         "type": "float"
        }
       ],
       "conversionMethod": "pd.DataFrame",
       "ref": "b333bae3-f409-457e-8159-fcc91ac00164",
       "rows": [
        [
         "3683834",
         "598291878293746299",
         "2025-10-23",
         "t",
         "156.0",
         null,
         "2.0",
         "1125.0"
        ],
        [
         "8868318",
         "1342619174581220181",
         "2026-02-24",
         "t",
         "142.0",
         null,
         "30.0",
         "75.0"
        ],
        [
         "4858914",
         "862099228513582123",
         "2025-12-07",
         "f",
         "69.0",
         null,
         "32.0",
         "341.0"
        ],
        [
         "9059051",
         "1355765170985479049",
         "2026-01-10",
         "f",
         "100.0",
         null,
         "1.0",
         "4.0"
        ],
        [
         "5870535",
         "1005526626276873625",
         "2025-06-23",
         "t",
         "153.0",
         null,
         "5.0",
         "365.0"
        ],
        [
         "4263650",
         "732304230728454849",
         "2025-11-17",
         "t",
         "71.0",
         null,
         "30.0",
         "180.0"
        ],
        [
         "9079944",
         "1356367271797102260",
         "2025-08-04",
         "t",
         "100.0",
         null,
         "1.0",
         "365.0"
        ],
        [
         "4761311",
         "841776009395434553",
         "2025-06-30",
         "t",
         "75.0",
         null,
         "2.0",
         "31.0"
        ],
        [
         "786354",
         "16464496",
         "2025-12-13",
         "t",
         "140.0",
         null,
         "29.0",
         "1125.0"
        ],
        [
         "5720663",
         "984201333970039034",
         "2025-03-25",
         "f",
         "150.0",
         null,
         "4.0",
         "10.0"
        ]
       ],
       "shape": {
        "columns": 7,
        "rows": 10
       }
      },
      "text/html": [
       "<div>\n",
       "<style scoped>\n",
       "    .dataframe tbody tr th:only-of-type {\n",
       "        vertical-align: middle;\n",
       "    }\n",
       "\n",
       "    .dataframe tbody tr th {\n",
       "        vertical-align: top;\n",
       "    }\n",
       "\n",
       "    .dataframe thead th {\n",
       "        text-align: right;\n",
       "    }\n",
       "</style>\n",
       "<table border=\"1\" class=\"dataframe\">\n",
       "  <thead>\n",
       "    <tr style=\"text-align: right;\">\n",
       "      <th></th>\n",
       "      <th>listing_id</th>\n",
       "      <th>date</th>\n",
       "      <th>available</th>\n",
       "      <th>price</th>\n",
       "      <th>adjusted_price</th>\n",
       "      <th>minimum_nights</th>\n",
       "      <th>maximum_nights</th>\n",
       "    </tr>\n",
       "  </thead>\n",
       "  <tbody>\n",
       "    <tr>\n",
       "      <th>3683834</th>\n",
       "      <td>598291878293746299</td>\n",
       "      <td>2025-10-23</td>\n",
       "      <td>t</td>\n",
       "      <td>156.0</td>\n",
       "      <td>NaN</td>\n",
       "      <td>2.0</td>\n",
       "      <td>1125.0</td>\n",
       "    </tr>\n",
       "    <tr>\n",
       "      <th>8868318</th>\n",
       "      <td>1342619174581220181</td>\n",
       "      <td>2026-02-24</td>\n",
       "      <td>t</td>\n",
       "      <td>142.0</td>\n",
       "      <td>NaN</td>\n",
       "      <td>30.0</td>\n",
       "      <td>75.0</td>\n",
       "    </tr>\n",
       "    <tr>\n",
       "      <th>4858914</th>\n",
       "      <td>862099228513582123</td>\n",
       "      <td>2025-12-07</td>\n",
       "      <td>f</td>\n",
       "      <td>69.0</td>\n",
       "      <td>NaN</td>\n",
       "      <td>32.0</td>\n",
       "      <td>341.0</td>\n",
       "    </tr>\n",
       "    <tr>\n",
       "      <th>9059051</th>\n",
       "      <td>1355765170985479049</td>\n",
       "      <td>2026-01-10</td>\n",
       "      <td>f</td>\n",
       "      <td>100.0</td>\n",
       "      <td>NaN</td>\n",
       "      <td>1.0</td>\n",
       "      <td>4.0</td>\n",
       "    </tr>\n",
       "    <tr>\n",
       "      <th>5870535</th>\n",
       "      <td>1005526626276873625</td>\n",
       "      <td>2025-06-23</td>\n",
       "      <td>t</td>\n",
       "      <td>153.0</td>\n",
       "      <td>NaN</td>\n",
       "      <td>5.0</td>\n",
       "      <td>365.0</td>\n",
       "    </tr>\n",
       "    <tr>\n",
       "      <th>4263650</th>\n",
       "      <td>732304230728454849</td>\n",
       "      <td>2025-11-17</td>\n",
       "      <td>t</td>\n",
       "      <td>71.0</td>\n",
       "      <td>NaN</td>\n",
       "      <td>30.0</td>\n",
       "      <td>180.0</td>\n",
       "    </tr>\n",
       "    <tr>\n",
       "      <th>9079944</th>\n",
       "      <td>1356367271797102260</td>\n",
       "      <td>2025-08-04</td>\n",
       "      <td>t</td>\n",
       "      <td>100.0</td>\n",
       "      <td>NaN</td>\n",
       "      <td>1.0</td>\n",
       "      <td>365.0</td>\n",
       "    </tr>\n",
       "    <tr>\n",
       "      <th>4761311</th>\n",
       "      <td>841776009395434553</td>\n",
       "      <td>2025-06-30</td>\n",
       "      <td>t</td>\n",
       "      <td>75.0</td>\n",
       "      <td>NaN</td>\n",
       "      <td>2.0</td>\n",
       "      <td>31.0</td>\n",
       "    </tr>\n",
       "    <tr>\n",
       "      <th>786354</th>\n",
       "      <td>16464496</td>\n",
       "      <td>2025-12-13</td>\n",
       "      <td>t</td>\n",
       "      <td>140.0</td>\n",
       "      <td>NaN</td>\n",
       "      <td>29.0</td>\n",
       "      <td>1125.0</td>\n",
       "    </tr>\n",
       "    <tr>\n",
       "      <th>5720663</th>\n",
       "      <td>984201333970039034</td>\n",
       "      <td>2025-03-25</td>\n",
       "      <td>f</td>\n",
       "      <td>150.0</td>\n",
       "      <td>NaN</td>\n",
       "      <td>4.0</td>\n",
       "      <td>10.0</td>\n",
       "    </tr>\n",
       "  </tbody>\n",
       "</table>\n",
       "</div>"
      ],
      "text/plain": [
       "                  listing_id        date available  price adjusted_price  \\\n",
       "3683834   598291878293746299  2025-10-23         t  156.0            NaN   \n",
       "8868318  1342619174581220181  2026-02-24         t  142.0            NaN   \n",
       "4858914   862099228513582123  2025-12-07         f   69.0            NaN   \n",
       "9059051  1355765170985479049  2026-01-10         f  100.0            NaN   \n",
       "5870535  1005526626276873625  2025-06-23         t  153.0            NaN   \n",
       "4263650   732304230728454849  2025-11-17         t   71.0            NaN   \n",
       "9079944  1356367271797102260  2025-08-04         t  100.0            NaN   \n",
       "4761311   841776009395434553  2025-06-30         t   75.0            NaN   \n",
       "786354              16464496  2025-12-13         t  140.0            NaN   \n",
       "5720663   984201333970039034  2025-03-25         f  150.0            NaN   \n",
       "\n",
       "         minimum_nights  maximum_nights  \n",
       "3683834             2.0          1125.0  \n",
       "8868318            30.0            75.0  \n",
       "4858914            32.0           341.0  \n",
       "9059051             1.0             4.0  \n",
       "5870535             5.0           365.0  \n",
       "4263650            30.0           180.0  \n",
       "9079944             1.0           365.0  \n",
       "4761311             2.0            31.0  \n",
       "786354             29.0          1125.0  \n",
       "5720663             4.0            10.0  "
      ]
     },
     "execution_count": 22,
     "metadata": {},
     "output_type": "execute_result"
    }
   ],
   "source": [
    "df.sample(10)"
   ]
  }
 ],
 "metadata": {
  "kernelspec": {
   "display_name": "tfm",
   "language": "python",
   "name": "python3"
  },
  "language_info": {
   "codemirror_mode": {
    "name": "ipython",
    "version": 3
   },
   "file_extension": ".py",
   "mimetype": "text/x-python",
   "name": "python",
   "nbconvert_exporter": "python",
   "pygments_lexer": "ipython3",
   "version": "3.9.21"
  }
 },
 "nbformat": 4,
 "nbformat_minor": 5
}
