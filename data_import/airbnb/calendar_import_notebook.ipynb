{
 "cells": [
  {
   "cell_type": "markdown",
   "id": "a22819f3",
   "metadata": {},
   "source": [
    "# <span style=\"background-color:white;color:red;\"> ⌛⌛ EN PROGRESO. NO ES ÚTIL⌛⌛</span>"
   ]
  },
  {
   "cell_type": "markdown",
   "id": "3c752874",
   "metadata": {},
   "source": [
    "## Bloque I\n",
    "Descomprimir el csv en formato gz"
   ]
  },
  {
   "cell_type": "code",
   "execution_count": 4,
   "id": "262e5017",
   "metadata": {},
   "outputs": [
    {
     "name": "stdout",
     "output_type": "stream",
     "text": [
      "Archivo data\\calendar.csv.gz descomprimido como data\\TEMP\\calendar.csv\n"
     ]
    }
   ],
   "source": [
    "\"\"\"  \n",
    "Importación de ficheros de AIRBNB. Preprocesado y cargado a la base de datos \n",
    "\n",
    "Obtenemos los datos desde https://insideairbnb.com/get-the-data/\n",
    "\n",
    "Podríamos hacer scraping, obtener la fecha de la última actualización de Madrid y generar el enlace para descargarlo, pero no es necesario por que se actualiza cada mucho tiempo y no es necesario tener la última versión. Podemos cambiar la info procesable en la carpeta data manualmente.\n",
    "\n",
    "\"\"\"\n",
    "import os\n",
    "import pandas as pd\n",
    "import numpy as np\n",
    "import datetime\n",
    "from config_bd import *\n",
    "import requests\n",
    "import sys\n",
    "import gzip\n",
    "import shutil\n",
    "\n",
    "DATA_DIR = os.path.join('data')\n",
    "# DATA_DIR = os.path.join(os.path.dirname(__file__), 'data')\n",
    "TEMP_DIR = os.path.join(DATA_DIR, 'TEMP')\n",
    "\n",
    "\n",
    "\"\"\" Comprobamos que existe el directorio de datos \"\"\"\n",
    "\n",
    "if not os.path.exists(DATA_DIR):\n",
    "    print(f\"El directorio {DATA_DIR} no existe. No es posible continuar...\")\n",
    "    sys.exit()\n",
    "\n",
    "\"\"\" Descomprimimos el archivo de calendario \"\"\"\n",
    "\n",
    "if not os.path.exists(TEMP_DIR):\n",
    "    os.makedirs(TEMP_DIR)\n",
    "\n",
    "\n",
    "gz_file_path = os.path.join(DATA_DIR, 'calendar.csv.gz')\n",
    "output_file_path = os.path.join(TEMP_DIR, os.path.splitext(os.path.basename(gz_file_path))[0])\n",
    "\n",
    "if os.path.exists(gz_file_path):\n",
    "    try:\n",
    "        with gzip.open(gz_file_path, 'rb') as f_in:\n",
    "            with open(output_file_path, 'wb') as f_out:\n",
    "                shutil.copyfileobj(f_in, f_out)\n",
    "        print(f\"Archivo {gz_file_path} descomprimido como {output_file_path}\")\n",
    "    except Exception as e:\n",
    "        print(f\"Error al descomprimir el archivo {gz_file_path}: {e}\")\n",
    "        sys.exit()\n",
    "else:\n",
    "    print(f\"El archivo {gz_file_path} no existe. No es posible continuar...\")\n",
    "    sys.exit()\n"
   ]
  },
  {
   "cell_type": "markdown",
   "id": "a3a46f5f",
   "metadata": {},
   "source": [
    "## Bloque II\n",
    "Carga del csv en pandas. Cambios de tipos e imputación"
   ]
  },
  {
   "cell_type": "markdown",
   "id": "d97d03e1",
   "metadata": {},
   "source": [
    "Estos son lo pasos seguidos:\n",
    "\n",
    "<ul>\n",
    "<li>Elimino el simbolo de la moneda y lo convierto a float.</li>\n",
    "<li>Convierto la disponibilidad de string a bool (0,1)</li>\n",
    "<li>Convierto las max y min nigths a enteros. Imputo los faltantas con las medianas de cada una.</li>\n",
    "<li>Elimino el precio ajustado.</li>\n",
    "<li>Renombro el listing_id a property_id</li>\n",
    "</ul>"
   ]
  },
  {
   "cell_type": "code",
   "execution_count": 5,
   "id": "2203c114",
   "metadata": {},
   "outputs": [],
   "source": [
    "df = pd.read_csv(output_file_path, low_memory=False)"
   ]
  },
  {
   "cell_type": "code",
   "execution_count": 6,
   "id": "1bb399fc",
   "metadata": {},
   "outputs": [
    {
     "name": "stderr",
     "output_type": "stream",
     "text": [
      "C:\\Users\\dsantamaria\\AppData\\Local\\Temp\\ipykernel_12100\\1973130110.py:3: FutureWarning: Downcasting behavior in `replace` is deprecated and will be removed in a future version. To retain the old behavior, explicitly call `result.infer_objects(copy=False)`. To opt-in to the future behavior, set `pd.set_option('future.no_silent_downcasting', True)`\n",
      "  df['available'] = df['available'].replace({'t': 1, 'f': 0})\n"
     ]
    }
   ],
   "source": [
    "df['price'] = df['price'].replace({'\\$': '', ',': ''}, regex=True).astype(float)\n",
    "df['price'] = df['price'].fillna(0)\n",
    "df['available'] = df['available'].replace({'t': 1, 'f': 0})\n",
    "df['minimum_nights'] = df['minimum_nights'].fillna(df['minimum_nights'].median()).astype(int)\n",
    "df['maximum_nights'] = df['maximum_nights'].fillna(df['maximum_nights'].median()).astype(int)\n",
    "df = df.drop(columns=['adjusted_price'])\n",
    "df = df.rename(columns={'listing_id': 'property_id'})\n",
    "# df['fecha'] = pd.to_datetime(df['fecha'], format='%Y-%m-%d')"
   ]
  },
  {
   "cell_type": "code",
   "execution_count": 7,
   "id": "4926efce",
   "metadata": {},
   "outputs": [
    {
     "data": {
      "application/vnd.microsoft.datawrangler.viewer.v0+json": {
       "columns": [
        {
         "name": "index",
         "rawType": "object",
         "type": "string"
        },
        {
         "name": "count",
         "rawType": "float64",
         "type": "float"
        },
        {
         "name": "mean",
         "rawType": "float64",
         "type": "float"
        },
        {
         "name": "std",
         "rawType": "float64",
         "type": "float"
        },
        {
         "name": "min",
         "rawType": "float64",
         "type": "float"
        },
        {
         "name": "25%",
         "rawType": "float64",
         "type": "float"
        },
        {
         "name": "50%",
         "rawType": "float64",
         "type": "float"
        },
        {
         "name": "75%",
         "rawType": "float64",
         "type": "float"
        },
        {
         "name": "max",
         "rawType": "float64",
         "type": "float"
        }
       ],
       "conversionMethod": "pd.DataFrame",
       "ref": "b126bf24-0147-4fdc-935c-1d3ac2303997",
       "rows": [
        [
         "property_id",
         "9236806.0",
         "6.438997692859624e+17",
         "5.357870110099012e+17",
         "21853.0",
         "36760070.0",
         "8.115292958806481e+17",
         "1.1425656914511631e+18",
         "1.3691794111764242e+18"
        ],
        [
         "available",
         "9236806.0",
         "0.4376800811882376",
         "0.49610105257342885",
         "0.0",
         "0.0",
         "0.0",
         "1.0",
         "1.0"
        ],
        [
         "price",
         "9236806.0",
         "211.61779888740762",
         "639.6717701881597",
         "8.0",
         "55.0",
         "92.0",
         "160.0",
         "21000.0"
        ],
        [
         "minimum_nights",
         "9236806.0",
         "10.16236467454226",
         "30.811771833541187",
         "1.0",
         "1.0",
         "2.0",
         "6.0",
         "1125.0"
        ],
        [
         "maximum_nights",
         "9236806.0",
         "614.2410269307378",
         "447.5243016016096",
         "1.0",
         "364.0",
         "365.0",
         "1125.0",
         "11111.0"
        ]
       ],
       "shape": {
        "columns": 8,
        "rows": 5
       }
      },
      "text/html": [
       "<div>\n",
       "<style scoped>\n",
       "    .dataframe tbody tr th:only-of-type {\n",
       "        vertical-align: middle;\n",
       "    }\n",
       "\n",
       "    .dataframe tbody tr th {\n",
       "        vertical-align: top;\n",
       "    }\n",
       "\n",
       "    .dataframe thead th {\n",
       "        text-align: right;\n",
       "    }\n",
       "</style>\n",
       "<table border=\"1\" class=\"dataframe\">\n",
       "  <thead>\n",
       "    <tr style=\"text-align: right;\">\n",
       "      <th></th>\n",
       "      <th>count</th>\n",
       "      <th>mean</th>\n",
       "      <th>std</th>\n",
       "      <th>min</th>\n",
       "      <th>25%</th>\n",
       "      <th>50%</th>\n",
       "      <th>75%</th>\n",
       "      <th>max</th>\n",
       "    </tr>\n",
       "  </thead>\n",
       "  <tbody>\n",
       "    <tr>\n",
       "      <th>property_id</th>\n",
       "      <td>9236806.0</td>\n",
       "      <td>6.438998e+17</td>\n",
       "      <td>5.357870e+17</td>\n",
       "      <td>21853.0</td>\n",
       "      <td>36760070.0</td>\n",
       "      <td>8.115293e+17</td>\n",
       "      <td>1.142566e+18</td>\n",
       "      <td>1.369179e+18</td>\n",
       "    </tr>\n",
       "    <tr>\n",
       "      <th>available</th>\n",
       "      <td>9236806.0</td>\n",
       "      <td>4.376801e-01</td>\n",
       "      <td>4.961011e-01</td>\n",
       "      <td>0.0</td>\n",
       "      <td>0.0</td>\n",
       "      <td>0.000000e+00</td>\n",
       "      <td>1.000000e+00</td>\n",
       "      <td>1.000000e+00</td>\n",
       "    </tr>\n",
       "    <tr>\n",
       "      <th>price</th>\n",
       "      <td>9236806.0</td>\n",
       "      <td>2.116178e+02</td>\n",
       "      <td>6.396718e+02</td>\n",
       "      <td>8.0</td>\n",
       "      <td>55.0</td>\n",
       "      <td>9.200000e+01</td>\n",
       "      <td>1.600000e+02</td>\n",
       "      <td>2.100000e+04</td>\n",
       "    </tr>\n",
       "    <tr>\n",
       "      <th>minimum_nights</th>\n",
       "      <td>9236806.0</td>\n",
       "      <td>1.016236e+01</td>\n",
       "      <td>3.081177e+01</td>\n",
       "      <td>1.0</td>\n",
       "      <td>1.0</td>\n",
       "      <td>2.000000e+00</td>\n",
       "      <td>6.000000e+00</td>\n",
       "      <td>1.125000e+03</td>\n",
       "    </tr>\n",
       "    <tr>\n",
       "      <th>maximum_nights</th>\n",
       "      <td>9236806.0</td>\n",
       "      <td>6.142410e+02</td>\n",
       "      <td>4.475243e+02</td>\n",
       "      <td>1.0</td>\n",
       "      <td>364.0</td>\n",
       "      <td>3.650000e+02</td>\n",
       "      <td>1.125000e+03</td>\n",
       "      <td>1.111100e+04</td>\n",
       "    </tr>\n",
       "  </tbody>\n",
       "</table>\n",
       "</div>"
      ],
      "text/plain": [
       "                    count          mean           std      min         25%  \\\n",
       "property_id     9236806.0  6.438998e+17  5.357870e+17  21853.0  36760070.0   \n",
       "available       9236806.0  4.376801e-01  4.961011e-01      0.0         0.0   \n",
       "price           9236806.0  2.116178e+02  6.396718e+02      8.0        55.0   \n",
       "minimum_nights  9236806.0  1.016236e+01  3.081177e+01      1.0         1.0   \n",
       "maximum_nights  9236806.0  6.142410e+02  4.475243e+02      1.0       364.0   \n",
       "\n",
       "                         50%           75%           max  \n",
       "property_id     8.115293e+17  1.142566e+18  1.369179e+18  \n",
       "available       0.000000e+00  1.000000e+00  1.000000e+00  \n",
       "price           9.200000e+01  1.600000e+02  2.100000e+04  \n",
       "minimum_nights  2.000000e+00  6.000000e+00  1.125000e+03  \n",
       "maximum_nights  3.650000e+02  1.125000e+03  1.111100e+04  "
      ]
     },
     "execution_count": 7,
     "metadata": {},
     "output_type": "execute_result"
    }
   ],
   "source": [
    "df.describe().T"
   ]
  },
  {
   "cell_type": "code",
   "execution_count": 8,
   "id": "14bc1202",
   "metadata": {},
   "outputs": [
    {
     "data": {
      "application/vnd.microsoft.datawrangler.viewer.v0+json": {
       "columns": [
        {
         "name": "index",
         "rawType": "int64",
         "type": "integer"
        },
        {
         "name": "property_id",
         "rawType": "int64",
         "type": "integer"
        },
        {
         "name": "date",
         "rawType": "object",
         "type": "string"
        },
        {
         "name": "available",
         "rawType": "int64",
         "type": "integer"
        },
        {
         "name": "price",
         "rawType": "float64",
         "type": "float"
        },
        {
         "name": "minimum_nights",
         "rawType": "int64",
         "type": "integer"
        },
        {
         "name": "maximum_nights",
         "rawType": "int64",
         "type": "integer"
        }
       ],
       "conversionMethod": "pd.DataFrame",
       "ref": "1f736818-f926-4524-8f11-bacd4a768f34",
       "rows": [
        [
         "2768671",
         "42986180",
         "2025-04-28",
         "1",
         "500.0",
         "4",
         "1125"
        ],
        [
         "9081265",
         "1357979122503430399",
         "2026-02-20",
         "0",
         "160.0",
         "4",
         "365"
        ],
        [
         "8376057",
         "1296632865931017797",
         "2025-09-27",
         "0",
         "70.0",
         "2",
         "365"
        ],
        [
         "1057933",
         "19804684",
         "2026-01-09",
         "1",
         "50.0",
         "2",
         "1125"
        ],
        [
         "3907963",
         "654080915562183035",
         "2025-04-08",
         "0",
         "146.0",
         "30",
         "1125"
        ],
        [
         "5343093",
         "930822032761074701",
         "2025-04-04",
         "1",
         "45.0",
         "3",
         "365"
        ],
        [
         "3414716",
         "53397401",
         "2025-05-15",
         "1",
         "80.0",
         "5",
         "1125"
        ],
        [
         "220987",
         "4604059",
         "2025-09-12",
         "0",
         "35.0",
         "2",
         "1125"
        ],
        [
         "750532",
         "16204754",
         "2025-04-20",
         "1",
         "85.0",
         "24",
         "1125"
        ],
        [
         "907785",
         "18305543",
         "2025-10-01",
         "0",
         "92.0",
         "2",
         "1125"
        ]
       ],
       "shape": {
        "columns": 6,
        "rows": 10
       }
      },
      "text/html": [
       "<div>\n",
       "<style scoped>\n",
       "    .dataframe tbody tr th:only-of-type {\n",
       "        vertical-align: middle;\n",
       "    }\n",
       "\n",
       "    .dataframe tbody tr th {\n",
       "        vertical-align: top;\n",
       "    }\n",
       "\n",
       "    .dataframe thead th {\n",
       "        text-align: right;\n",
       "    }\n",
       "</style>\n",
       "<table border=\"1\" class=\"dataframe\">\n",
       "  <thead>\n",
       "    <tr style=\"text-align: right;\">\n",
       "      <th></th>\n",
       "      <th>property_id</th>\n",
       "      <th>date</th>\n",
       "      <th>available</th>\n",
       "      <th>price</th>\n",
       "      <th>minimum_nights</th>\n",
       "      <th>maximum_nights</th>\n",
       "    </tr>\n",
       "  </thead>\n",
       "  <tbody>\n",
       "    <tr>\n",
       "      <th>2768671</th>\n",
       "      <td>42986180</td>\n",
       "      <td>2025-04-28</td>\n",
       "      <td>1</td>\n",
       "      <td>500.0</td>\n",
       "      <td>4</td>\n",
       "      <td>1125</td>\n",
       "    </tr>\n",
       "    <tr>\n",
       "      <th>9081265</th>\n",
       "      <td>1357979122503430399</td>\n",
       "      <td>2026-02-20</td>\n",
       "      <td>0</td>\n",
       "      <td>160.0</td>\n",
       "      <td>4</td>\n",
       "      <td>365</td>\n",
       "    </tr>\n",
       "    <tr>\n",
       "      <th>8376057</th>\n",
       "      <td>1296632865931017797</td>\n",
       "      <td>2025-09-27</td>\n",
       "      <td>0</td>\n",
       "      <td>70.0</td>\n",
       "      <td>2</td>\n",
       "      <td>365</td>\n",
       "    </tr>\n",
       "    <tr>\n",
       "      <th>1057933</th>\n",
       "      <td>19804684</td>\n",
       "      <td>2026-01-09</td>\n",
       "      <td>1</td>\n",
       "      <td>50.0</td>\n",
       "      <td>2</td>\n",
       "      <td>1125</td>\n",
       "    </tr>\n",
       "    <tr>\n",
       "      <th>3907963</th>\n",
       "      <td>654080915562183035</td>\n",
       "      <td>2025-04-08</td>\n",
       "      <td>0</td>\n",
       "      <td>146.0</td>\n",
       "      <td>30</td>\n",
       "      <td>1125</td>\n",
       "    </tr>\n",
       "    <tr>\n",
       "      <th>5343093</th>\n",
       "      <td>930822032761074701</td>\n",
       "      <td>2025-04-04</td>\n",
       "      <td>1</td>\n",
       "      <td>45.0</td>\n",
       "      <td>3</td>\n",
       "      <td>365</td>\n",
       "    </tr>\n",
       "    <tr>\n",
       "      <th>3414716</th>\n",
       "      <td>53397401</td>\n",
       "      <td>2025-05-15</td>\n",
       "      <td>1</td>\n",
       "      <td>80.0</td>\n",
       "      <td>5</td>\n",
       "      <td>1125</td>\n",
       "    </tr>\n",
       "    <tr>\n",
       "      <th>220987</th>\n",
       "      <td>4604059</td>\n",
       "      <td>2025-09-12</td>\n",
       "      <td>0</td>\n",
       "      <td>35.0</td>\n",
       "      <td>2</td>\n",
       "      <td>1125</td>\n",
       "    </tr>\n",
       "    <tr>\n",
       "      <th>750532</th>\n",
       "      <td>16204754</td>\n",
       "      <td>2025-04-20</td>\n",
       "      <td>1</td>\n",
       "      <td>85.0</td>\n",
       "      <td>24</td>\n",
       "      <td>1125</td>\n",
       "    </tr>\n",
       "    <tr>\n",
       "      <th>907785</th>\n",
       "      <td>18305543</td>\n",
       "      <td>2025-10-01</td>\n",
       "      <td>0</td>\n",
       "      <td>92.0</td>\n",
       "      <td>2</td>\n",
       "      <td>1125</td>\n",
       "    </tr>\n",
       "  </tbody>\n",
       "</table>\n",
       "</div>"
      ],
      "text/plain": [
       "                 property_id        date  available  price  minimum_nights  \\\n",
       "2768671             42986180  2025-04-28          1  500.0               4   \n",
       "9081265  1357979122503430399  2026-02-20          0  160.0               4   \n",
       "8376057  1296632865931017797  2025-09-27          0   70.0               2   \n",
       "1057933             19804684  2026-01-09          1   50.0               2   \n",
       "3907963   654080915562183035  2025-04-08          0  146.0              30   \n",
       "5343093   930822032761074701  2025-04-04          1   45.0               3   \n",
       "3414716             53397401  2025-05-15          1   80.0               5   \n",
       "220987               4604059  2025-09-12          0   35.0               2   \n",
       "750532              16204754  2025-04-20          1   85.0              24   \n",
       "907785              18305543  2025-10-01          0   92.0               2   \n",
       "\n",
       "         maximum_nights  \n",
       "2768671            1125  \n",
       "9081265             365  \n",
       "8376057             365  \n",
       "1057933            1125  \n",
       "3907963            1125  \n",
       "5343093             365  \n",
       "3414716            1125  \n",
       "220987             1125  \n",
       "750532             1125  \n",
       "907785             1125  "
      ]
     },
     "execution_count": 8,
     "metadata": {},
     "output_type": "execute_result"
    }
   ],
   "source": [
    "df.sample(10)"
   ]
  },
  {
   "cell_type": "code",
   "execution_count": 9,
   "id": "4c4b5809",
   "metadata": {},
   "outputs": [
    {
     "data": {
      "application/vnd.microsoft.datawrangler.viewer.v0+json": {
       "columns": [
        {
         "name": "index",
         "rawType": "object",
         "type": "string"
        },
        {
         "name": "property_id",
         "rawType": "float64",
         "type": "float"
        },
        {
         "name": "available",
         "rawType": "float64",
         "type": "float"
        },
        {
         "name": "price",
         "rawType": "float64",
         "type": "float"
        },
        {
         "name": "minimum_nights",
         "rawType": "float64",
         "type": "float"
        },
        {
         "name": "maximum_nights",
         "rawType": "float64",
         "type": "float"
        }
       ],
       "conversionMethod": "pd.DataFrame",
       "ref": "23379c8f-2c11-487e-aba3-a9f832a46352",
       "rows": [
        [
         "count",
         "9236806.0",
         "9236806.0",
         "9236806.0",
         "9236806.0",
         "9236806.0"
        ],
        [
         "mean",
         "6.438997692859624e+17",
         "0.4376800811882376",
         "211.61779888740762",
         "10.16236467454226",
         "614.2410269307378"
        ],
        [
         "std",
         "5.357870110099012e+17",
         "0.49610105257342885",
         "639.6717701881597",
         "30.811771833541187",
         "447.5243016016096"
        ],
        [
         "min",
         "21853.0",
         "0.0",
         "8.0",
         "1.0",
         "1.0"
        ],
        [
         "25%",
         "36760070.0",
         "0.0",
         "55.0",
         "1.0",
         "364.0"
        ],
        [
         "50%",
         "8.115292958806481e+17",
         "0.0",
         "92.0",
         "2.0",
         "365.0"
        ],
        [
         "75%",
         "1.1425656914511631e+18",
         "1.0",
         "160.0",
         "6.0",
         "1125.0"
        ],
        [
         "max",
         "1.3691794111764242e+18",
         "1.0",
         "21000.0",
         "1125.0",
         "11111.0"
        ]
       ],
       "shape": {
        "columns": 5,
        "rows": 8
       }
      },
      "text/html": [
       "<div>\n",
       "<style scoped>\n",
       "    .dataframe tbody tr th:only-of-type {\n",
       "        vertical-align: middle;\n",
       "    }\n",
       "\n",
       "    .dataframe tbody tr th {\n",
       "        vertical-align: top;\n",
       "    }\n",
       "\n",
       "    .dataframe thead th {\n",
       "        text-align: right;\n",
       "    }\n",
       "</style>\n",
       "<table border=\"1\" class=\"dataframe\">\n",
       "  <thead>\n",
       "    <tr style=\"text-align: right;\">\n",
       "      <th></th>\n",
       "      <th>property_id</th>\n",
       "      <th>available</th>\n",
       "      <th>price</th>\n",
       "      <th>minimum_nights</th>\n",
       "      <th>maximum_nights</th>\n",
       "    </tr>\n",
       "  </thead>\n",
       "  <tbody>\n",
       "    <tr>\n",
       "      <th>count</th>\n",
       "      <td>9.236806e+06</td>\n",
       "      <td>9.236806e+06</td>\n",
       "      <td>9.236806e+06</td>\n",
       "      <td>9.236806e+06</td>\n",
       "      <td>9.236806e+06</td>\n",
       "    </tr>\n",
       "    <tr>\n",
       "      <th>mean</th>\n",
       "      <td>6.438998e+17</td>\n",
       "      <td>4.376801e-01</td>\n",
       "      <td>2.116178e+02</td>\n",
       "      <td>1.016236e+01</td>\n",
       "      <td>6.142410e+02</td>\n",
       "    </tr>\n",
       "    <tr>\n",
       "      <th>std</th>\n",
       "      <td>5.357870e+17</td>\n",
       "      <td>4.961011e-01</td>\n",
       "      <td>6.396718e+02</td>\n",
       "      <td>3.081177e+01</td>\n",
       "      <td>4.475243e+02</td>\n",
       "    </tr>\n",
       "    <tr>\n",
       "      <th>min</th>\n",
       "      <td>2.185300e+04</td>\n",
       "      <td>0.000000e+00</td>\n",
       "      <td>8.000000e+00</td>\n",
       "      <td>1.000000e+00</td>\n",
       "      <td>1.000000e+00</td>\n",
       "    </tr>\n",
       "    <tr>\n",
       "      <th>25%</th>\n",
       "      <td>3.676007e+07</td>\n",
       "      <td>0.000000e+00</td>\n",
       "      <td>5.500000e+01</td>\n",
       "      <td>1.000000e+00</td>\n",
       "      <td>3.640000e+02</td>\n",
       "    </tr>\n",
       "    <tr>\n",
       "      <th>50%</th>\n",
       "      <td>8.115293e+17</td>\n",
       "      <td>0.000000e+00</td>\n",
       "      <td>9.200000e+01</td>\n",
       "      <td>2.000000e+00</td>\n",
       "      <td>3.650000e+02</td>\n",
       "    </tr>\n",
       "    <tr>\n",
       "      <th>75%</th>\n",
       "      <td>1.142566e+18</td>\n",
       "      <td>1.000000e+00</td>\n",
       "      <td>1.600000e+02</td>\n",
       "      <td>6.000000e+00</td>\n",
       "      <td>1.125000e+03</td>\n",
       "    </tr>\n",
       "    <tr>\n",
       "      <th>max</th>\n",
       "      <td>1.369179e+18</td>\n",
       "      <td>1.000000e+00</td>\n",
       "      <td>2.100000e+04</td>\n",
       "      <td>1.125000e+03</td>\n",
       "      <td>1.111100e+04</td>\n",
       "    </tr>\n",
       "  </tbody>\n",
       "</table>\n",
       "</div>"
      ],
      "text/plain": [
       "        property_id     available         price  minimum_nights  \\\n",
       "count  9.236806e+06  9.236806e+06  9.236806e+06    9.236806e+06   \n",
       "mean   6.438998e+17  4.376801e-01  2.116178e+02    1.016236e+01   \n",
       "std    5.357870e+17  4.961011e-01  6.396718e+02    3.081177e+01   \n",
       "min    2.185300e+04  0.000000e+00  8.000000e+00    1.000000e+00   \n",
       "25%    3.676007e+07  0.000000e+00  5.500000e+01    1.000000e+00   \n",
       "50%    8.115293e+17  0.000000e+00  9.200000e+01    2.000000e+00   \n",
       "75%    1.142566e+18  1.000000e+00  1.600000e+02    6.000000e+00   \n",
       "max    1.369179e+18  1.000000e+00  2.100000e+04    1.125000e+03   \n",
       "\n",
       "       maximum_nights  \n",
       "count    9.236806e+06  \n",
       "mean     6.142410e+02  \n",
       "std      4.475243e+02  \n",
       "min      1.000000e+00  \n",
       "25%      3.640000e+02  \n",
       "50%      3.650000e+02  \n",
       "75%      1.125000e+03  \n",
       "max      1.111100e+04  "
      ]
     },
     "execution_count": 9,
     "metadata": {},
     "output_type": "execute_result"
    }
   ],
   "source": [
    "df.describe()"
   ]
  },
  {
   "cell_type": "markdown",
   "id": "9d9db15b",
   "metadata": {},
   "source": [
    "## Bloque III\n",
    "Importamos a la base de datos. \n",
    "**Requiere haber creado la tabla** <code>01_CREATE TABLE bnb_calendar.sql</code>"
   ]
  },
  {
   "cell_type": "code",
   "execution_count": 10,
   "id": "f7f5e8d3",
   "metadata": {},
   "outputs": [],
   "source": [
    "from config_bd import get_connection"
   ]
  },
  {
   "cell_type": "code",
   "execution_count": 11,
   "id": "d6b130ab",
   "metadata": {},
   "outputs": [],
   "source": [
    "df.to_csv(os.path.join(TEMP_DIR,'transform_calendar.csv'), index=False)"
   ]
  },
  {
   "cell_type": "code",
   "execution_count": 14,
   "id": "c391fd3d",
   "metadata": {},
   "outputs": [
    {
     "name": "stdout",
     "output_type": "stream",
     "text": [
      "<class 'pandas.core.frame.DataFrame'>\n",
      "RangeIndex: 9236806 entries, 0 to 9236805\n",
      "Data columns (total 6 columns):\n",
      " #   Column          Dtype  \n",
      "---  ------          -----  \n",
      " 0   property_id     int64  \n",
      " 1   date            object \n",
      " 2   available       int64  \n",
      " 3   price           float64\n",
      " 4   minimum_nights  int64  \n",
      " 5   maximum_nights  int64  \n",
      "dtypes: float64(1), int64(4), object(1)\n",
      "memory usage: 422.8+ MB\n"
     ]
    }
   ],
   "source": [
    "df.info()"
   ]
  },
  {
   "cell_type": "code",
   "execution_count": 41,
   "id": "a53d4582",
   "metadata": {},
   "outputs": [
    {
     "name": "stderr",
     "output_type": "stream",
     "text": [
      "0 filas [00:00, ? filas/s]"
     ]
    },
    {
     "name": "stderr",
     "output_type": "stream",
     "text": [
      "9300000 filas [08:31, 18174.81 filas/s]\n"
     ]
    }
   ],
   "source": [
    "from tqdm import tqdm\n",
    "# from time import sleep\n",
    "\n",
    "with get_connection() as conn:\n",
    "    cursor = conn.cursor()\n",
    "    cursor.fast_executemany = True \n",
    "\n",
    "    CHUNKSIZE = 100000\n",
    "    for chunk in tqdm(\n",
    "        pd.read_csv(os.path.join(TEMP_DIR, 'transform_calendar.csv'), chunksize=CHUNKSIZE),\n",
    "        unit_scale=CHUNKSIZE, unit=\" filas\"\n",
    "    ):\n",
    "\n",
    "        insert_sql = \"\"\"\n",
    "        INSERT INTO dbo.bnb_calendar\n",
    "            (property_id, [date], available, price,\n",
    "            minimum_nights, maximum_nights)\n",
    "        VALUES (?,?,?,?,?,?)\n",
    "        \"\"\"\n",
    "        cursor.executemany(insert_sql, chunk.values.tolist())\n",
    "        conn.commit()        \n",
    "\n",
    "\n"
   ]
  },
  {
   "cell_type": "markdown",
   "id": "01226f75",
   "metadata": {},
   "source": [
    "Elimino el fichero para no dejar duplicado el csv"
   ]
  },
  {
   "cell_type": "code",
   "execution_count": 42,
   "id": "3f712a80",
   "metadata": {},
   "outputs": [],
   "source": [
    "os.remove(os.path.join(TEMP_DIR,'transform_calendar.csv'))"
   ]
  }
 ],
 "metadata": {
  "kernelspec": {
   "display_name": "tfm",
   "language": "python",
   "name": "python3"
  },
  "language_info": {
   "codemirror_mode": {
    "name": "ipython",
    "version": 3
   },
   "file_extension": ".py",
   "mimetype": "text/x-python",
   "name": "python",
   "nbconvert_exporter": "python",
   "pygments_lexer": "ipython3",
   "version": "3.9.21"
  }
 },
 "nbformat": 4,
 "nbformat_minor": 5
}
