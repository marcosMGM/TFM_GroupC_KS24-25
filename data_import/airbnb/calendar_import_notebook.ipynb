{
 "cells": [
  {
   "cell_type": "code",
   "execution_count": 3,
   "id": "262e5017",
   "metadata": {},
   "outputs": [
    {
     "name": "stdout",
     "output_type": "stream",
     "text": [
      "Archivo data\\calendar.csv.gz descomprimido como data\\TEMP\\calendar.csv\n"
     ]
    }
   ],
   "source": [
    "\"\"\" \n",
    "Importación de ficheros de AIRBNB. Preprocesado y cargado a la base de datos \n",
    "\n",
    "Obtenemos los datos desde https://insideairbnb.com/get-the-data/\n",
    "\n",
    "Podríamos hacer scraping, obtener la fecha de la última actualización de Madrid y generar el enlace para descargarlo, pero no es necesario por que se actualiza cada mucho tiempo y no es necesario tener la última versión. Podemos cambiar la info procesable en la carpeta data manualmente.\n",
    "\n",
    "\"\"\"\n",
    "import os\n",
    "import pandas as pd\n",
    "import numpy as np\n",
    "import datetime\n",
    "from config_bd import *\n",
    "import requests\n",
    "import sys\n",
    "import gzip\n",
    "import shutil\n",
    "\n",
    "DATA_DIR = os.path.join('data')\n",
    "# DATA_DIR = os.path.join(os.path.dirname(__file__), 'data')\n",
    "TEMP_DIR = os.path.join(DATA_DIR, 'TEMP')\n",
    "\n",
    "\n",
    "\"\"\" Comprobamos que existe el directorio de datos \"\"\"\n",
    "\n",
    "if not os.path.exists(DATA_DIR):\n",
    "    print(f\"El directorio {DATA_DIR} no existe. No es posible continuar...\")\n",
    "    sys.exit()\n",
    "\n",
    "\"\"\" Descomprimimos el archivo de calendario \"\"\"\n",
    "\n",
    "if not os.path.exists(TEMP_DIR):\n",
    "    os.makedirs(TEMP_DIR)\n",
    "\n",
    "\n",
    "gz_file_path = os.path.join(DATA_DIR, 'calendar.csv.gz')\n",
    "output_file_path = os.path.join(TEMP_DIR, os.path.splitext(os.path.basename(gz_file_path))[0])\n",
    "\n",
    "if os.path.exists(gz_file_path):\n",
    "    try:\n",
    "        with gzip.open(gz_file_path, 'rb') as f_in:\n",
    "            with open(output_file_path, 'wb') as f_out:\n",
    "                shutil.copyfileobj(f_in, f_out)\n",
    "        print(f\"Archivo {gz_file_path} descomprimido como {output_file_path}\")\n",
    "    except Exception as e:\n",
    "        print(f\"Error al descomprimir el archivo {gz_file_path}: {e}\")\n",
    "        sys.exit()\n",
    "else:\n",
    "    print(f\"El archivo {gz_file_path} no existe. No es posible continuar...\")\n",
    "    sys.exit()\n",
    "\n",
    "\n",
    "\n",
    "\n",
    "\n"
   ]
  },
  {
   "cell_type": "code",
   "execution_count": 15,
   "id": "1bb399fc",
   "metadata": {},
   "outputs": [],
   "source": [
    "df = pd.read_csv(output_file_path, low_memory=False)\n",
    "df['price'] = df['price'].replace({'\\$': '', ',': ''}, regex=True).astype(float)\n",
    "df['price'] = df['price'].fillna(0)"
   ]
  },
  {
   "cell_type": "code",
   "execution_count": 16,
   "id": "24b8b4f2",
   "metadata": {},
   "outputs": [
    {
     "data": {
      "application/vnd.microsoft.datawrangler.viewer.v0+json": {
       "columns": [
        {
         "name": "index",
         "rawType": "object",
         "type": "string"
        },
        {
         "name": "listing_id",
         "rawType": "float64",
         "type": "float"
        },
        {
         "name": "price",
         "rawType": "float64",
         "type": "float"
        },
        {
         "name": "minimum_nights",
         "rawType": "float64",
         "type": "float"
        },
        {
         "name": "maximum_nights",
         "rawType": "float64",
         "type": "float"
        }
       ],
       "conversionMethod": "pd.DataFrame",
       "ref": "699927fa-4f0e-4df1-aa0c-f68e86604598",
       "rows": [
        [
         "count",
         "9236806.0",
         "9236806.0",
         "9229917.0",
         "9229917.0"
        ],
        [
         "mean",
         "6.438997692859624e+17",
         "211.61779888740762",
         "10.16845687778124",
         "614.4270547611642"
        ],
        [
         "std",
         "5.357870110099012e+17",
         "639.6717701881597",
         "30.8224610363397",
         "447.6394565977368"
        ],
        [
         "min",
         "21853.0",
         "8.0",
         "1.0",
         "1.0"
        ],
        [
         "25%",
         "36760070.0",
         "55.0",
         "1.0",
         "364.0"
        ],
        [
         "50%",
         "8.115292958806481e+17",
         "92.0",
         "2.0",
         "365.0"
        ],
        [
         "75%",
         "1.1425656914511631e+18",
         "160.0",
         "6.0",
         "1125.0"
        ],
        [
         "max",
         "1.3691794111764242e+18",
         "21000.0",
         "1125.0",
         "11111.0"
        ]
       ],
       "shape": {
        "columns": 4,
        "rows": 8
       }
      },
      "text/html": [
       "<div>\n",
       "<style scoped>\n",
       "    .dataframe tbody tr th:only-of-type {\n",
       "        vertical-align: middle;\n",
       "    }\n",
       "\n",
       "    .dataframe tbody tr th {\n",
       "        vertical-align: top;\n",
       "    }\n",
       "\n",
       "    .dataframe thead th {\n",
       "        text-align: right;\n",
       "    }\n",
       "</style>\n",
       "<table border=\"1\" class=\"dataframe\">\n",
       "  <thead>\n",
       "    <tr style=\"text-align: right;\">\n",
       "      <th></th>\n",
       "      <th>listing_id</th>\n",
       "      <th>price</th>\n",
       "      <th>minimum_nights</th>\n",
       "      <th>maximum_nights</th>\n",
       "    </tr>\n",
       "  </thead>\n",
       "  <tbody>\n",
       "    <tr>\n",
       "      <th>count</th>\n",
       "      <td>9.236806e+06</td>\n",
       "      <td>9.236806e+06</td>\n",
       "      <td>9.229917e+06</td>\n",
       "      <td>9.229917e+06</td>\n",
       "    </tr>\n",
       "    <tr>\n",
       "      <th>mean</th>\n",
       "      <td>6.438998e+17</td>\n",
       "      <td>2.116178e+02</td>\n",
       "      <td>1.016846e+01</td>\n",
       "      <td>6.144271e+02</td>\n",
       "    </tr>\n",
       "    <tr>\n",
       "      <th>std</th>\n",
       "      <td>5.357870e+17</td>\n",
       "      <td>6.396718e+02</td>\n",
       "      <td>3.082246e+01</td>\n",
       "      <td>4.476395e+02</td>\n",
       "    </tr>\n",
       "    <tr>\n",
       "      <th>min</th>\n",
       "      <td>2.185300e+04</td>\n",
       "      <td>8.000000e+00</td>\n",
       "      <td>1.000000e+00</td>\n",
       "      <td>1.000000e+00</td>\n",
       "    </tr>\n",
       "    <tr>\n",
       "      <th>25%</th>\n",
       "      <td>3.676007e+07</td>\n",
       "      <td>5.500000e+01</td>\n",
       "      <td>1.000000e+00</td>\n",
       "      <td>3.640000e+02</td>\n",
       "    </tr>\n",
       "    <tr>\n",
       "      <th>50%</th>\n",
       "      <td>8.115293e+17</td>\n",
       "      <td>9.200000e+01</td>\n",
       "      <td>2.000000e+00</td>\n",
       "      <td>3.650000e+02</td>\n",
       "    </tr>\n",
       "    <tr>\n",
       "      <th>75%</th>\n",
       "      <td>1.142566e+18</td>\n",
       "      <td>1.600000e+02</td>\n",
       "      <td>6.000000e+00</td>\n",
       "      <td>1.125000e+03</td>\n",
       "    </tr>\n",
       "    <tr>\n",
       "      <th>max</th>\n",
       "      <td>1.369179e+18</td>\n",
       "      <td>2.100000e+04</td>\n",
       "      <td>1.125000e+03</td>\n",
       "      <td>1.111100e+04</td>\n",
       "    </tr>\n",
       "  </tbody>\n",
       "</table>\n",
       "</div>"
      ],
      "text/plain": [
       "         listing_id         price  minimum_nights  maximum_nights\n",
       "count  9.236806e+06  9.236806e+06    9.229917e+06    9.229917e+06\n",
       "mean   6.438998e+17  2.116178e+02    1.016846e+01    6.144271e+02\n",
       "std    5.357870e+17  6.396718e+02    3.082246e+01    4.476395e+02\n",
       "min    2.185300e+04  8.000000e+00    1.000000e+00    1.000000e+00\n",
       "25%    3.676007e+07  5.500000e+01    1.000000e+00    3.640000e+02\n",
       "50%    8.115293e+17  9.200000e+01    2.000000e+00    3.650000e+02\n",
       "75%    1.142566e+18  1.600000e+02    6.000000e+00    1.125000e+03\n",
       "max    1.369179e+18  2.100000e+04    1.125000e+03    1.111100e+04"
      ]
     },
     "execution_count": 16,
     "metadata": {},
     "output_type": "execute_result"
    }
   ],
   "source": [
    "df.describe()\n"
   ]
  },
  {
   "cell_type": "code",
   "execution_count": 20,
   "id": "de961f73",
   "metadata": {},
   "outputs": [
    {
     "data": {
      "text/plain": [
       "25288"
      ]
     },
     "execution_count": 20,
     "metadata": {},
     "output_type": "execute_result"
    }
   ],
   "source": [
    "len(df['listing_id'].unique())"
   ]
  },
  {
   "cell_type": "code",
   "execution_count": 19,
   "id": "338ecbcc",
   "metadata": {},
   "outputs": [
    {
     "data": {
      "text/plain": [
       "372"
      ]
     },
     "execution_count": 19,
     "metadata": {},
     "output_type": "execute_result"
    }
   ],
   "source": [
    "len(df['date'].unique())"
   ]
  }
 ],
 "metadata": {
  "kernelspec": {
   "display_name": "tfm",
   "language": "python",
   "name": "python3"
  },
  "language_info": {
   "codemirror_mode": {
    "name": "ipython",
    "version": 3
   },
   "file_extension": ".py",
   "mimetype": "text/x-python",
   "name": "python",
   "nbconvert_exporter": "python",
   "pygments_lexer": "ipython3",
   "version": "3.9.21"
  }
 },
 "nbformat": 4,
 "nbformat_minor": 5
}
