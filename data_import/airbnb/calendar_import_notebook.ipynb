{
 "cells": [
  {
   "cell_type": "markdown",
   "id": "a22819f3",
   "metadata": {},
   "source": [
    "# <span style=\"background-color:white;color:red;\"> ⌛⌛ EN PROGRESO. NO ES ÚTIL⌛⌛</span>"
   ]
  },
  {
   "cell_type": "markdown",
   "id": "3c752874",
   "metadata": {},
   "source": [
    "## Bloque I\n",
    "Descomprimir el csv en formato gz"
   ]
  },
  {
   "cell_type": "code",
   "execution_count": null,
   "id": "262e5017",
   "metadata": {},
   "outputs": [],
   "source": [
    "\"\"\"  \n",
    "Importación de ficheros de AIRBNB. Preprocesado y cargado a la base de datos \n",
    "\n",
    "Obtenemos los datos desde https://insideairbnb.com/get-the-data/\n",
    "\n",
    "Podríamos hacer scraping, obtener la fecha de la última actualización de Madrid y generar el enlace para descargarlo, pero no es necesario por que se actualiza cada mucho tiempo y no es necesario tener la última versión. Podemos cambiar la info procesable en la carpeta data manualmente.\n",
    "\n",
    "\"\"\"\n",
    "import os\n",
    "import pandas as pd\n",
    "import numpy as np\n",
    "import datetime\n",
    "from config_bd import *\n",
    "import requests\n",
    "import sys\n",
    "import gzip\n",
    "import shutil\n",
    "\n",
    "DATA_DIR = os.path.join('data')\n",
    "# DATA_DIR = os.path.join(os.path.dirname(__file__), 'data')\n",
    "TEMP_DIR = os.path.join(DATA_DIR, 'TEMP')\n",
    "\n",
    "\n",
    "\"\"\" Comprobamos que existe el directorio de datos \"\"\"\n",
    "\n",
    "if not os.path.exists(DATA_DIR):\n",
    "    print(f\"El directorio {DATA_DIR} no existe. No es posible continuar...\")\n",
    "    sys.exit()\n",
    "\n",
    "\"\"\" Descomprimimos el archivo de calendario \"\"\"\n",
    "\n",
    "if not os.path.exists(TEMP_DIR):\n",
    "    os.makedirs(TEMP_DIR)\n",
    "\n",
    "\n",
    "gz_file_path = os.path.join(DATA_DIR, 'calendar.csv.gz')\n",
    "output_file_path = os.path.join(TEMP_DIR, os.path.splitext(os.path.basename(gz_file_path))[0])\n",
    "\n",
    "if os.path.exists(gz_file_path):\n",
    "    try:\n",
    "        with gzip.open(gz_file_path, 'rb') as f_in:\n",
    "            with open(output_file_path, 'wb') as f_out:\n",
    "                shutil.copyfileobj(f_in, f_out)\n",
    "        print(f\"Archivo {gz_file_path} descomprimido como {output_file_path}\")\n",
    "    except Exception as e:\n",
    "        print(f\"Error al descomprimir el archivo {gz_file_path}: {e}\")\n",
    "        sys.exit()\n",
    "else:\n",
    "    print(f\"El archivo {gz_file_path} no existe. No es posible continuar...\")\n",
    "    sys.exit()\n"
   ]
  },
  {
   "cell_type": "markdown",
   "id": "a3a46f5f",
   "metadata": {},
   "source": [
    "## Bloque II\n",
    "Carga del csv en pandas. Cambios de tipos e imputación"
   ]
  },
  {
   "cell_type": "code",
   "execution_count": null,
   "id": "2203c114",
   "metadata": {},
   "outputs": [],
   "source": [
    "df = pd.read_csv(output_file_path, low_memory=False)"
   ]
  },
  {
   "cell_type": "code",
   "execution_count": 25,
   "id": "1bb399fc",
   "metadata": {},
   "outputs": [
    {
     "name": "stderr",
     "output_type": "stream",
     "text": [
      "C:\\Users\\dsantamaria\\AppData\\Local\\Temp\\ipykernel_8836\\1973130110.py:3: FutureWarning: Downcasting behavior in `replace` is deprecated and will be removed in a future version. To retain the old behavior, explicitly call `result.infer_objects(copy=False)`. To opt-in to the future behavior, set `pd.set_option('future.no_silent_downcasting', True)`\n",
      "  df['available'] = df['available'].replace({'t': 1, 'f': 0})\n"
     ]
    }
   ],
   "source": [
    "df['price'] = df['price'].replace({'\\$': '', ',': ''}, regex=True).astype(float)\n",
    "df['price'] = df['price'].fillna(0)\n",
    "df['available'] = df['available'].replace({'t': 1, 'f': 0})\n",
    "df['minimum_nights'] = df['minimum_nights'].fillna(df['minimum_nights'].median()).astype(int)\n",
    "df['maximum_nights'] = df['maximum_nights'].fillna(df['maximum_nights'].median()).astype(int)\n",
    "df = df.drop(columns=['adjusted_price'])\n",
    "df = df.rename(columns={'listing_id': 'property_id'})\n",
    "# df['fecha'] = pd.to_datetime(df['fecha'], format='%Y-%m-%d')"
   ]
  },
  {
   "cell_type": "code",
   "execution_count": 26,
   "id": "4926efce",
   "metadata": {},
   "outputs": [
    {
     "data": {
      "application/vnd.microsoft.datawrangler.viewer.v0+json": {
       "columns": [
        {
         "name": "index",
         "rawType": "object",
         "type": "string"
        },
        {
         "name": "count",
         "rawType": "float64",
         "type": "float"
        },
        {
         "name": "mean",
         "rawType": "float64",
         "type": "float"
        },
        {
         "name": "std",
         "rawType": "float64",
         "type": "float"
        },
        {
         "name": "min",
         "rawType": "float64",
         "type": "float"
        },
        {
         "name": "25%",
         "rawType": "float64",
         "type": "float"
        },
        {
         "name": "50%",
         "rawType": "float64",
         "type": "float"
        },
        {
         "name": "75%",
         "rawType": "float64",
         "type": "float"
        },
        {
         "name": "max",
         "rawType": "float64",
         "type": "float"
        }
       ],
       "conversionMethod": "pd.DataFrame",
       "ref": "8a1c55c2-e002-44f2-b182-3b8a12e832a0",
       "rows": [
        [
         "property_id",
         "9236806.0",
         "6.438997692859624e+17",
         "5.357870110099012e+17",
         "21853.0",
         "36760070.0",
         "8.115292958806481e+17",
         "1.1425656914511631e+18",
         "1.3691794111764242e+18"
        ],
        [
         "available",
         "9236806.0",
         "0.4376800811882376",
         "0.49610105257342885",
         "0.0",
         "0.0",
         "0.0",
         "1.0",
         "1.0"
        ],
        [
         "price",
         "9236806.0",
         "211.61779888740762",
         "639.6717701881597",
         "8.0",
         "55.0",
         "92.0",
         "160.0",
         "21000.0"
        ],
        [
         "minimum_nights",
         "9236806.0",
         "10.16236467454226",
         "30.811771833541187",
         "1.0",
         "1.0",
         "2.0",
         "6.0",
         "1125.0"
        ],
        [
         "maximum_nights",
         "9236806.0",
         "614.2410269307378",
         "447.5243016016096",
         "1.0",
         "364.0",
         "365.0",
         "1125.0",
         "11111.0"
        ]
       ],
       "shape": {
        "columns": 8,
        "rows": 5
       }
      },
      "text/html": [
       "<div>\n",
       "<style scoped>\n",
       "    .dataframe tbody tr th:only-of-type {\n",
       "        vertical-align: middle;\n",
       "    }\n",
       "\n",
       "    .dataframe tbody tr th {\n",
       "        vertical-align: top;\n",
       "    }\n",
       "\n",
       "    .dataframe thead th {\n",
       "        text-align: right;\n",
       "    }\n",
       "</style>\n",
       "<table border=\"1\" class=\"dataframe\">\n",
       "  <thead>\n",
       "    <tr style=\"text-align: right;\">\n",
       "      <th></th>\n",
       "      <th>count</th>\n",
       "      <th>mean</th>\n",
       "      <th>std</th>\n",
       "      <th>min</th>\n",
       "      <th>25%</th>\n",
       "      <th>50%</th>\n",
       "      <th>75%</th>\n",
       "      <th>max</th>\n",
       "    </tr>\n",
       "  </thead>\n",
       "  <tbody>\n",
       "    <tr>\n",
       "      <th>property_id</th>\n",
       "      <td>9236806.0</td>\n",
       "      <td>6.438998e+17</td>\n",
       "      <td>5.357870e+17</td>\n",
       "      <td>21853.0</td>\n",
       "      <td>36760070.0</td>\n",
       "      <td>8.115293e+17</td>\n",
       "      <td>1.142566e+18</td>\n",
       "      <td>1.369179e+18</td>\n",
       "    </tr>\n",
       "    <tr>\n",
       "      <th>available</th>\n",
       "      <td>9236806.0</td>\n",
       "      <td>4.376801e-01</td>\n",
       "      <td>4.961011e-01</td>\n",
       "      <td>0.0</td>\n",
       "      <td>0.0</td>\n",
       "      <td>0.000000e+00</td>\n",
       "      <td>1.000000e+00</td>\n",
       "      <td>1.000000e+00</td>\n",
       "    </tr>\n",
       "    <tr>\n",
       "      <th>price</th>\n",
       "      <td>9236806.0</td>\n",
       "      <td>2.116178e+02</td>\n",
       "      <td>6.396718e+02</td>\n",
       "      <td>8.0</td>\n",
       "      <td>55.0</td>\n",
       "      <td>9.200000e+01</td>\n",
       "      <td>1.600000e+02</td>\n",
       "      <td>2.100000e+04</td>\n",
       "    </tr>\n",
       "    <tr>\n",
       "      <th>minimum_nights</th>\n",
       "      <td>9236806.0</td>\n",
       "      <td>1.016236e+01</td>\n",
       "      <td>3.081177e+01</td>\n",
       "      <td>1.0</td>\n",
       "      <td>1.0</td>\n",
       "      <td>2.000000e+00</td>\n",
       "      <td>6.000000e+00</td>\n",
       "      <td>1.125000e+03</td>\n",
       "    </tr>\n",
       "    <tr>\n",
       "      <th>maximum_nights</th>\n",
       "      <td>9236806.0</td>\n",
       "      <td>6.142410e+02</td>\n",
       "      <td>4.475243e+02</td>\n",
       "      <td>1.0</td>\n",
       "      <td>364.0</td>\n",
       "      <td>3.650000e+02</td>\n",
       "      <td>1.125000e+03</td>\n",
       "      <td>1.111100e+04</td>\n",
       "    </tr>\n",
       "  </tbody>\n",
       "</table>\n",
       "</div>"
      ],
      "text/plain": [
       "                    count          mean           std      min         25%  \\\n",
       "property_id     9236806.0  6.438998e+17  5.357870e+17  21853.0  36760070.0   \n",
       "available       9236806.0  4.376801e-01  4.961011e-01      0.0         0.0   \n",
       "price           9236806.0  2.116178e+02  6.396718e+02      8.0        55.0   \n",
       "minimum_nights  9236806.0  1.016236e+01  3.081177e+01      1.0         1.0   \n",
       "maximum_nights  9236806.0  6.142410e+02  4.475243e+02      1.0       364.0   \n",
       "\n",
       "                         50%           75%           max  \n",
       "property_id     8.115293e+17  1.142566e+18  1.369179e+18  \n",
       "available       0.000000e+00  1.000000e+00  1.000000e+00  \n",
       "price           9.200000e+01  1.600000e+02  2.100000e+04  \n",
       "minimum_nights  2.000000e+00  6.000000e+00  1.125000e+03  \n",
       "maximum_nights  3.650000e+02  1.125000e+03  1.111100e+04  "
      ]
     },
     "execution_count": 26,
     "metadata": {},
     "output_type": "execute_result"
    }
   ],
   "source": [
    "df.describe().T"
   ]
  },
  {
   "cell_type": "code",
   "execution_count": 27,
   "id": "14bc1202",
   "metadata": {},
   "outputs": [
    {
     "data": {
      "application/vnd.microsoft.datawrangler.viewer.v0+json": {
       "columns": [
        {
         "name": "index",
         "rawType": "int64",
         "type": "integer"
        },
        {
         "name": "property_id",
         "rawType": "int64",
         "type": "integer"
        },
        {
         "name": "date",
         "rawType": "object",
         "type": "string"
        },
        {
         "name": "available",
         "rawType": "int64",
         "type": "integer"
        },
        {
         "name": "price",
         "rawType": "float64",
         "type": "float"
        },
        {
         "name": "minimum_nights",
         "rawType": "int64",
         "type": "integer"
        },
        {
         "name": "maximum_nights",
         "rawType": "int64",
         "type": "integer"
        }
       ],
       "conversionMethod": "pd.DataFrame",
       "ref": "460d0430-3efe-4174-896b-fd4d79df5754",
       "rows": [
        [
         "4189440",
         "711969127406978948",
         "2025-11-04",
         "1",
         "188.0",
         "5",
         "365"
        ],
        [
         "4425800",
         "766763084848115873",
         "2025-04-24",
         "0",
         "37.0",
         "7",
         "1125"
        ],
        [
         "4117709",
         "695618682919157245",
         "2025-06-22",
         "0",
         "34.0",
         "1",
         "3"
        ],
        [
         "1871779",
         "32395622",
         "2025-08-01",
         "0",
         "57.0",
         "2",
         "1125"
        ],
        [
         "8005313",
         "1252912175206179125",
         "2025-04-28",
         "1",
         "95.0",
         "2",
         "365"
        ],
        [
         "4077089",
         "685136472962266675",
         "2025-08-10",
         "0",
         "64.0",
         "30",
         "180"
        ],
        [
         "3683215",
         "592430604419656586",
         "2026-01-11",
         "1",
         "337.0",
         "99",
         "1125"
        ],
        [
         "7504126",
         "1193971208893539280",
         "2025-05-02",
         "1",
         "65.0",
         "4",
         "365"
        ],
        [
         "5452600",
         "939773237829340665",
         "2025-04-02",
         "1",
         "136.0",
         "30",
         "365"
        ],
        [
         "2848291",
         "44394920",
         "2025-03-16",
         "0",
         "55.0",
         "31",
         "330"
        ]
       ],
       "shape": {
        "columns": 6,
        "rows": 10
       }
      },
      "text/html": [
       "<div>\n",
       "<style scoped>\n",
       "    .dataframe tbody tr th:only-of-type {\n",
       "        vertical-align: middle;\n",
       "    }\n",
       "\n",
       "    .dataframe tbody tr th {\n",
       "        vertical-align: top;\n",
       "    }\n",
       "\n",
       "    .dataframe thead th {\n",
       "        text-align: right;\n",
       "    }\n",
       "</style>\n",
       "<table border=\"1\" class=\"dataframe\">\n",
       "  <thead>\n",
       "    <tr style=\"text-align: right;\">\n",
       "      <th></th>\n",
       "      <th>property_id</th>\n",
       "      <th>date</th>\n",
       "      <th>available</th>\n",
       "      <th>price</th>\n",
       "      <th>minimum_nights</th>\n",
       "      <th>maximum_nights</th>\n",
       "    </tr>\n",
       "  </thead>\n",
       "  <tbody>\n",
       "    <tr>\n",
       "      <th>4189440</th>\n",
       "      <td>711969127406978948</td>\n",
       "      <td>2025-11-04</td>\n",
       "      <td>1</td>\n",
       "      <td>188.0</td>\n",
       "      <td>5</td>\n",
       "      <td>365</td>\n",
       "    </tr>\n",
       "    <tr>\n",
       "      <th>4425800</th>\n",
       "      <td>766763084848115873</td>\n",
       "      <td>2025-04-24</td>\n",
       "      <td>0</td>\n",
       "      <td>37.0</td>\n",
       "      <td>7</td>\n",
       "      <td>1125</td>\n",
       "    </tr>\n",
       "    <tr>\n",
       "      <th>4117709</th>\n",
       "      <td>695618682919157245</td>\n",
       "      <td>2025-06-22</td>\n",
       "      <td>0</td>\n",
       "      <td>34.0</td>\n",
       "      <td>1</td>\n",
       "      <td>3</td>\n",
       "    </tr>\n",
       "    <tr>\n",
       "      <th>1871779</th>\n",
       "      <td>32395622</td>\n",
       "      <td>2025-08-01</td>\n",
       "      <td>0</td>\n",
       "      <td>57.0</td>\n",
       "      <td>2</td>\n",
       "      <td>1125</td>\n",
       "    </tr>\n",
       "    <tr>\n",
       "      <th>8005313</th>\n",
       "      <td>1252912175206179125</td>\n",
       "      <td>2025-04-28</td>\n",
       "      <td>1</td>\n",
       "      <td>95.0</td>\n",
       "      <td>2</td>\n",
       "      <td>365</td>\n",
       "    </tr>\n",
       "    <tr>\n",
       "      <th>4077089</th>\n",
       "      <td>685136472962266675</td>\n",
       "      <td>2025-08-10</td>\n",
       "      <td>0</td>\n",
       "      <td>64.0</td>\n",
       "      <td>30</td>\n",
       "      <td>180</td>\n",
       "    </tr>\n",
       "    <tr>\n",
       "      <th>3683215</th>\n",
       "      <td>592430604419656586</td>\n",
       "      <td>2026-01-11</td>\n",
       "      <td>1</td>\n",
       "      <td>337.0</td>\n",
       "      <td>99</td>\n",
       "      <td>1125</td>\n",
       "    </tr>\n",
       "    <tr>\n",
       "      <th>7504126</th>\n",
       "      <td>1193971208893539280</td>\n",
       "      <td>2025-05-02</td>\n",
       "      <td>1</td>\n",
       "      <td>65.0</td>\n",
       "      <td>4</td>\n",
       "      <td>365</td>\n",
       "    </tr>\n",
       "    <tr>\n",
       "      <th>5452600</th>\n",
       "      <td>939773237829340665</td>\n",
       "      <td>2025-04-02</td>\n",
       "      <td>1</td>\n",
       "      <td>136.0</td>\n",
       "      <td>30</td>\n",
       "      <td>365</td>\n",
       "    </tr>\n",
       "    <tr>\n",
       "      <th>2848291</th>\n",
       "      <td>44394920</td>\n",
       "      <td>2025-03-16</td>\n",
       "      <td>0</td>\n",
       "      <td>55.0</td>\n",
       "      <td>31</td>\n",
       "      <td>330</td>\n",
       "    </tr>\n",
       "  </tbody>\n",
       "</table>\n",
       "</div>"
      ],
      "text/plain": [
       "                 property_id        date  available  price  minimum_nights  \\\n",
       "4189440   711969127406978948  2025-11-04          1  188.0               5   \n",
       "4425800   766763084848115873  2025-04-24          0   37.0               7   \n",
       "4117709   695618682919157245  2025-06-22          0   34.0               1   \n",
       "1871779             32395622  2025-08-01          0   57.0               2   \n",
       "8005313  1252912175206179125  2025-04-28          1   95.0               2   \n",
       "4077089   685136472962266675  2025-08-10          0   64.0              30   \n",
       "3683215   592430604419656586  2026-01-11          1  337.0              99   \n",
       "7504126  1193971208893539280  2025-05-02          1   65.0               4   \n",
       "5452600   939773237829340665  2025-04-02          1  136.0              30   \n",
       "2848291             44394920  2025-03-16          0   55.0              31   \n",
       "\n",
       "         maximum_nights  \n",
       "4189440             365  \n",
       "4425800            1125  \n",
       "4117709               3  \n",
       "1871779            1125  \n",
       "8005313             365  \n",
       "4077089             180  \n",
       "3683215            1125  \n",
       "7504126             365  \n",
       "5452600             365  \n",
       "2848291             330  "
      ]
     },
     "execution_count": 27,
     "metadata": {},
     "output_type": "execute_result"
    }
   ],
   "source": [
    "df.sample(10)"
   ]
  },
  {
   "cell_type": "code",
   "execution_count": 28,
   "id": "4c4b5809",
   "metadata": {},
   "outputs": [
    {
     "data": {
      "application/vnd.microsoft.datawrangler.viewer.v0+json": {
       "columns": [
        {
         "name": "index",
         "rawType": "object",
         "type": "string"
        },
        {
         "name": "property_id",
         "rawType": "float64",
         "type": "float"
        },
        {
         "name": "available",
         "rawType": "float64",
         "type": "float"
        },
        {
         "name": "price",
         "rawType": "float64",
         "type": "float"
        },
        {
         "name": "minimum_nights",
         "rawType": "float64",
         "type": "float"
        },
        {
         "name": "maximum_nights",
         "rawType": "float64",
         "type": "float"
        }
       ],
       "conversionMethod": "pd.DataFrame",
       "ref": "54f37530-9d1c-4f30-aeb9-7da27895cf12",
       "rows": [
        [
         "count",
         "9236806.0",
         "9236806.0",
         "9236806.0",
         "9236806.0",
         "9236806.0"
        ],
        [
         "mean",
         "6.438997692859624e+17",
         "0.4376800811882376",
         "211.61779888740762",
         "10.16236467454226",
         "614.2410269307378"
        ],
        [
         "std",
         "5.357870110099012e+17",
         "0.49610105257342885",
         "639.6717701881597",
         "30.811771833541187",
         "447.5243016016096"
        ],
        [
         "min",
         "21853.0",
         "0.0",
         "8.0",
         "1.0",
         "1.0"
        ],
        [
         "25%",
         "36760070.0",
         "0.0",
         "55.0",
         "1.0",
         "364.0"
        ],
        [
         "50%",
         "8.115292958806481e+17",
         "0.0",
         "92.0",
         "2.0",
         "365.0"
        ],
        [
         "75%",
         "1.1425656914511631e+18",
         "1.0",
         "160.0",
         "6.0",
         "1125.0"
        ],
        [
         "max",
         "1.3691794111764242e+18",
         "1.0",
         "21000.0",
         "1125.0",
         "11111.0"
        ]
       ],
       "shape": {
        "columns": 5,
        "rows": 8
       }
      },
      "text/html": [
       "<div>\n",
       "<style scoped>\n",
       "    .dataframe tbody tr th:only-of-type {\n",
       "        vertical-align: middle;\n",
       "    }\n",
       "\n",
       "    .dataframe tbody tr th {\n",
       "        vertical-align: top;\n",
       "    }\n",
       "\n",
       "    .dataframe thead th {\n",
       "        text-align: right;\n",
       "    }\n",
       "</style>\n",
       "<table border=\"1\" class=\"dataframe\">\n",
       "  <thead>\n",
       "    <tr style=\"text-align: right;\">\n",
       "      <th></th>\n",
       "      <th>property_id</th>\n",
       "      <th>available</th>\n",
       "      <th>price</th>\n",
       "      <th>minimum_nights</th>\n",
       "      <th>maximum_nights</th>\n",
       "    </tr>\n",
       "  </thead>\n",
       "  <tbody>\n",
       "    <tr>\n",
       "      <th>count</th>\n",
       "      <td>9.236806e+06</td>\n",
       "      <td>9.236806e+06</td>\n",
       "      <td>9.236806e+06</td>\n",
       "      <td>9.236806e+06</td>\n",
       "      <td>9.236806e+06</td>\n",
       "    </tr>\n",
       "    <tr>\n",
       "      <th>mean</th>\n",
       "      <td>6.438998e+17</td>\n",
       "      <td>4.376801e-01</td>\n",
       "      <td>2.116178e+02</td>\n",
       "      <td>1.016236e+01</td>\n",
       "      <td>6.142410e+02</td>\n",
       "    </tr>\n",
       "    <tr>\n",
       "      <th>std</th>\n",
       "      <td>5.357870e+17</td>\n",
       "      <td>4.961011e-01</td>\n",
       "      <td>6.396718e+02</td>\n",
       "      <td>3.081177e+01</td>\n",
       "      <td>4.475243e+02</td>\n",
       "    </tr>\n",
       "    <tr>\n",
       "      <th>min</th>\n",
       "      <td>2.185300e+04</td>\n",
       "      <td>0.000000e+00</td>\n",
       "      <td>8.000000e+00</td>\n",
       "      <td>1.000000e+00</td>\n",
       "      <td>1.000000e+00</td>\n",
       "    </tr>\n",
       "    <tr>\n",
       "      <th>25%</th>\n",
       "      <td>3.676007e+07</td>\n",
       "      <td>0.000000e+00</td>\n",
       "      <td>5.500000e+01</td>\n",
       "      <td>1.000000e+00</td>\n",
       "      <td>3.640000e+02</td>\n",
       "    </tr>\n",
       "    <tr>\n",
       "      <th>50%</th>\n",
       "      <td>8.115293e+17</td>\n",
       "      <td>0.000000e+00</td>\n",
       "      <td>9.200000e+01</td>\n",
       "      <td>2.000000e+00</td>\n",
       "      <td>3.650000e+02</td>\n",
       "    </tr>\n",
       "    <tr>\n",
       "      <th>75%</th>\n",
       "      <td>1.142566e+18</td>\n",
       "      <td>1.000000e+00</td>\n",
       "      <td>1.600000e+02</td>\n",
       "      <td>6.000000e+00</td>\n",
       "      <td>1.125000e+03</td>\n",
       "    </tr>\n",
       "    <tr>\n",
       "      <th>max</th>\n",
       "      <td>1.369179e+18</td>\n",
       "      <td>1.000000e+00</td>\n",
       "      <td>2.100000e+04</td>\n",
       "      <td>1.125000e+03</td>\n",
       "      <td>1.111100e+04</td>\n",
       "    </tr>\n",
       "  </tbody>\n",
       "</table>\n",
       "</div>"
      ],
      "text/plain": [
       "        property_id     available         price  minimum_nights  \\\n",
       "count  9.236806e+06  9.236806e+06  9.236806e+06    9.236806e+06   \n",
       "mean   6.438998e+17  4.376801e-01  2.116178e+02    1.016236e+01   \n",
       "std    5.357870e+17  4.961011e-01  6.396718e+02    3.081177e+01   \n",
       "min    2.185300e+04  0.000000e+00  8.000000e+00    1.000000e+00   \n",
       "25%    3.676007e+07  0.000000e+00  5.500000e+01    1.000000e+00   \n",
       "50%    8.115293e+17  0.000000e+00  9.200000e+01    2.000000e+00   \n",
       "75%    1.142566e+18  1.000000e+00  1.600000e+02    6.000000e+00   \n",
       "max    1.369179e+18  1.000000e+00  2.100000e+04    1.125000e+03   \n",
       "\n",
       "       maximum_nights  \n",
       "count    9.236806e+06  \n",
       "mean     6.142410e+02  \n",
       "std      4.475243e+02  \n",
       "min      1.000000e+00  \n",
       "25%      3.640000e+02  \n",
       "50%      3.650000e+02  \n",
       "75%      1.125000e+03  \n",
       "max      1.111100e+04  "
      ]
     },
     "execution_count": 28,
     "metadata": {},
     "output_type": "execute_result"
    }
   ],
   "source": [
    "df.describe()"
   ]
  },
  {
   "cell_type": "markdown",
   "id": "9d9db15b",
   "metadata": {},
   "source": [
    "## Bloque III\n",
    "Importamos a la base de datos. \n",
    "**Requiere haber creado la tabla** <code>01_CREATE TABLE bnb_calendar.sql</code>"
   ]
  },
  {
   "cell_type": "code",
   "execution_count": 29,
   "id": "f7f5e8d3",
   "metadata": {},
   "outputs": [],
   "source": [
    "from config_bd import get_connection"
   ]
  },
  {
   "cell_type": "code",
   "execution_count": 30,
   "id": "d6b130ab",
   "metadata": {},
   "outputs": [],
   "source": [
    "df.to_csv(os.path.join(TEMP_DIR,'transform_calendar.csv'), index=False)"
   ]
  },
  {
   "cell_type": "code",
   "execution_count": null,
   "id": "a53d4582",
   "metadata": {},
   "outputs": [
    {
     "name": "stderr",
     "output_type": "stream",
     "text": [
      "1700000 filas [01:30, 18697.33 filas/s]\n"
     ]
    },
    {
     "ename": "KeyboardInterrupt",
     "evalue": "",
     "output_type": "error",
     "traceback": [
      "\u001b[1;31m---------------------------------------------------------------------------\u001b[0m",
      "\u001b[1;31mKeyboardInterrupt\u001b[0m                         Traceback (most recent call last)",
      "Cell \u001b[1;32mIn[31], line 9\u001b[0m\n\u001b[0;32m      4\u001b[0m CHUNKSIZE \u001b[38;5;241m=\u001b[39m \u001b[38;5;241m100000\u001b[39m\n\u001b[0;32m      5\u001b[0m \u001b[38;5;28;01mfor\u001b[39;00m chunk \u001b[38;5;129;01min\u001b[39;00m tqdm(\n\u001b[0;32m      6\u001b[0m     pd\u001b[38;5;241m.\u001b[39mread_csv(os\u001b[38;5;241m.\u001b[39mpath\u001b[38;5;241m.\u001b[39mjoin(TEMP_DIR, \u001b[38;5;124m'\u001b[39m\u001b[38;5;124mtransform_calendar.csv\u001b[39m\u001b[38;5;124m'\u001b[39m), chunksize\u001b[38;5;241m=\u001b[39mCHUNKSIZE, dtype\u001b[38;5;241m=\u001b[39m\u001b[38;5;28mstr\u001b[39m),\n\u001b[0;32m      7\u001b[0m     unit_scale\u001b[38;5;241m=\u001b[39mCHUNKSIZE, unit\u001b[38;5;241m=\u001b[39m\u001b[38;5;124m\"\u001b[39m\u001b[38;5;124m filas\u001b[39m\u001b[38;5;124m\"\u001b[39m\n\u001b[0;32m      8\u001b[0m ):\n\u001b[1;32m----> 9\u001b[0m     \u001b[43msleep\u001b[49m\u001b[43m(\u001b[49m\u001b[38;5;241;43m5\u001b[39;49m\u001b[43m)\u001b[49m\n",
      "\u001b[1;31mKeyboardInterrupt\u001b[0m: "
     ]
    }
   ],
   "source": [
    "from tqdm import tqdm\n",
    "from time import sleep\n",
    "\n",
    "CHUNKSIZE = 10000\n",
    "for chunk in tqdm(\n",
    "    pd.read_csv(os.path.join(TEMP_DIR, 'transform_calendar.csv'), chunksize=CHUNKSIZE, dtype=str),\n",
    "    unit_scale=CHUNKSIZE, unit=\" filas\"\n",
    "):\n",
    "    sleep(5)\n",
    "\n",
    "\n"
   ]
  },
  {
   "cell_type": "markdown",
   "id": "01226f75",
   "metadata": {},
   "source": [
    "Elimino el fichero para no dejar duplicado el csv"
   ]
  },
  {
   "cell_type": "code",
   "execution_count": null,
   "id": "3f712a80",
   "metadata": {},
   "outputs": [],
   "source": [
    "os.remove(os.path.join(TEMP_DIR,'transform_calendar.csv'))"
   ]
  }
 ],
 "metadata": {
  "kernelspec": {
   "display_name": "tfm",
   "language": "python",
   "name": "python3"
  },
  "language_info": {
   "codemirror_mode": {
    "name": "ipython",
    "version": 3
   },
   "file_extension": ".py",
   "mimetype": "text/x-python",
   "name": "python",
   "nbconvert_exporter": "python",
   "pygments_lexer": "ipython3",
   "version": "3.9.21"
  }
 },
 "nbformat": 4,
 "nbformat_minor": 5
}
