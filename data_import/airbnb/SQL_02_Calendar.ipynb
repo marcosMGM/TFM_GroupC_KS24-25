{
 "cells": [
  {
   "cell_type": "markdown",
   "id": "58fab76c",
   "metadata": {},
   "source": [
    "Con este script trabajaremos en pandas los datos almacenados en la base de datos sql server (servidor remoto). Tarda un minuto aprox en cargar el pandas."
   ]
  },
  {
   "cell_type": "code",
   "execution_count": 1,
   "id": "4bf9001a",
   "metadata": {},
   "outputs": [],
   "source": [
    "import pandas as pd\n",
    "import numpy as np\n",
    "import os, sys, time\n",
    "from config_bd import get_connection"
   ]
  },
  {
   "cell_type": "code",
   "execution_count": 2,
   "id": "154ac1b3",
   "metadata": {},
   "outputs": [
    {
     "name": "stderr",
     "output_type": "stream",
     "text": [
      "C:\\Users\\dsantamaria\\AppData\\Local\\Temp\\ipykernel_5192\\598123916.py:5: UserWarning: pandas only supports SQLAlchemy connectable (engine/connection) or database string URI or sqlite3 DBAPI2 connection. Other DBAPI2 objects are not tested. Please consider using SQLAlchemy.\n",
      "  df = pd.read_sql(query, conn)\n"
     ]
    }
   ],
   "source": [
    "with get_connection() as conn:\n",
    "    query = \"\"\"\n",
    "    SELECT * FROM bnb_calendar\n",
    "    \"\"\"\n",
    "    df = pd.read_sql(query, conn)"
   ]
  },
  {
   "cell_type": "code",
   "execution_count": 3,
   "id": "beb064ec",
   "metadata": {},
   "outputs": [
    {
     "data": {
      "application/vnd.microsoft.datawrangler.viewer.v0+json": {
       "columns": [
        {
         "name": "index",
         "rawType": "int64",
         "type": "integer"
        },
        {
         "name": "property_id",
         "rawType": "int64",
         "type": "integer"
        },
        {
         "name": "date",
         "rawType": "object",
         "type": "string"
        },
        {
         "name": "available",
         "rawType": "bool",
         "type": "boolean"
        },
        {
         "name": "price",
         "rawType": "float64",
         "type": "float"
        },
        {
         "name": "minimum_nights",
         "rawType": "int64",
         "type": "integer"
        },
        {
         "name": "maximum_nights",
         "rawType": "int64",
         "type": "integer"
        }
       ],
       "ref": "df4e494c-a364-4783-9c75-2fa4bf40a5b7",
       "rows": [
        [
         "0",
         "30320",
         "2025-03-10",
         "False",
         "65.0",
         "5",
         "180"
        ],
        [
         "1",
         "30320",
         "2025-03-11",
         "False",
         "65.0",
         "5",
         "180"
        ],
        [
         "2",
         "30320",
         "2025-03-12",
         "False",
         "65.0",
         "5",
         "180"
        ],
        [
         "3",
         "30320",
         "2025-03-13",
         "False",
         "65.0",
         "5",
         "180"
        ],
        [
         "4",
         "30320",
         "2025-03-14",
         "False",
         "65.0",
         "5",
         "180"
        ],
        [
         "5",
         "30320",
         "2025-03-15",
         "False",
         "65.0",
         "5",
         "180"
        ],
        [
         "6",
         "30320",
         "2025-03-16",
         "False",
         "65.0",
         "5",
         "180"
        ],
        [
         "7",
         "30320",
         "2025-03-17",
         "False",
         "65.0",
         "5",
         "180"
        ],
        [
         "8",
         "30320",
         "2025-03-18",
         "False",
         "65.0",
         "5",
         "180"
        ],
        [
         "9",
         "30320",
         "2025-03-19",
         "False",
         "65.0",
         "5",
         "180"
        ],
        [
         "10",
         "30320",
         "2025-03-20",
         "False",
         "65.0",
         "5",
         "180"
        ],
        [
         "11",
         "30320",
         "2025-03-21",
         "False",
         "65.0",
         "5",
         "180"
        ],
        [
         "12",
         "30320",
         "2025-03-22",
         "False",
         "65.0",
         "5",
         "180"
        ],
        [
         "13",
         "30320",
         "2025-03-23",
         "False",
         "65.0",
         "5",
         "180"
        ],
        [
         "14",
         "30320",
         "2025-03-24",
         "False",
         "65.0",
         "5",
         "180"
        ],
        [
         "15",
         "30320",
         "2025-03-25",
         "False",
         "65.0",
         "5",
         "180"
        ],
        [
         "16",
         "30320",
         "2025-03-26",
         "False",
         "65.0",
         "5",
         "180"
        ],
        [
         "17",
         "30320",
         "2025-03-27",
         "False",
         "65.0",
         "5",
         "180"
        ],
        [
         "18",
         "30320",
         "2025-03-28",
         "False",
         "65.0",
         "5",
         "180"
        ],
        [
         "19",
         "30320",
         "2025-03-29",
         "False",
         "65.0",
         "5",
         "180"
        ],
        [
         "20",
         "30320",
         "2025-03-30",
         "False",
         "65.0",
         "5",
         "180"
        ],
        [
         "21",
         "30320",
         "2025-03-31",
         "False",
         "65.0",
         "5",
         "180"
        ],
        [
         "22",
         "30320",
         "2025-04-01",
         "False",
         "65.0",
         "5",
         "180"
        ],
        [
         "23",
         "30320",
         "2025-04-02",
         "False",
         "65.0",
         "5",
         "180"
        ],
        [
         "24",
         "30320",
         "2025-04-03",
         "False",
         "65.0",
         "5",
         "180"
        ],
        [
         "25",
         "30320",
         "2025-04-04",
         "False",
         "65.0",
         "5",
         "180"
        ],
        [
         "26",
         "30320",
         "2025-04-05",
         "False",
         "65.0",
         "5",
         "180"
        ],
        [
         "27",
         "30320",
         "2025-04-06",
         "False",
         "65.0",
         "5",
         "180"
        ],
        [
         "28",
         "30320",
         "2025-04-07",
         "False",
         "65.0",
         "5",
         "180"
        ],
        [
         "29",
         "30320",
         "2025-04-08",
         "False",
         "65.0",
         "5",
         "180"
        ],
        [
         "30",
         "30320",
         "2025-04-09",
         "False",
         "65.0",
         "5",
         "180"
        ],
        [
         "31",
         "30320",
         "2025-04-10",
         "False",
         "65.0",
         "5",
         "180"
        ],
        [
         "32",
         "30320",
         "2025-04-11",
         "False",
         "65.0",
         "5",
         "180"
        ],
        [
         "33",
         "30320",
         "2025-04-12",
         "False",
         "65.0",
         "5",
         "180"
        ],
        [
         "34",
         "30320",
         "2025-04-13",
         "False",
         "65.0",
         "5",
         "180"
        ],
        [
         "35",
         "30320",
         "2025-04-14",
         "False",
         "65.0",
         "5",
         "180"
        ],
        [
         "36",
         "30320",
         "2025-04-15",
         "False",
         "65.0",
         "5",
         "180"
        ],
        [
         "37",
         "30320",
         "2025-04-16",
         "False",
         "65.0",
         "5",
         "180"
        ],
        [
         "38",
         "30320",
         "2025-04-17",
         "False",
         "65.0",
         "5",
         "180"
        ],
        [
         "39",
         "30320",
         "2025-04-18",
         "False",
         "65.0",
         "5",
         "180"
        ],
        [
         "40",
         "30320",
         "2025-04-19",
         "False",
         "65.0",
         "5",
         "180"
        ],
        [
         "41",
         "30320",
         "2025-04-20",
         "False",
         "65.0",
         "5",
         "180"
        ],
        [
         "42",
         "30320",
         "2025-04-21",
         "False",
         "65.0",
         "5",
         "180"
        ],
        [
         "43",
         "30320",
         "2025-04-22",
         "False",
         "65.0",
         "5",
         "180"
        ],
        [
         "44",
         "30320",
         "2025-04-23",
         "False",
         "65.0",
         "5",
         "180"
        ],
        [
         "45",
         "30320",
         "2025-04-24",
         "False",
         "65.0",
         "5",
         "180"
        ],
        [
         "46",
         "30320",
         "2025-04-25",
         "False",
         "65.0",
         "5",
         "180"
        ],
        [
         "47",
         "30320",
         "2025-04-26",
         "False",
         "65.0",
         "5",
         "180"
        ],
        [
         "48",
         "30320",
         "2025-04-27",
         "False",
         "65.0",
         "5",
         "180"
        ],
        [
         "49",
         "30320",
         "2025-04-28",
         "False",
         "65.0",
         "5",
         "180"
        ]
       ],
       "shape": {
        "columns": 6,
        "rows": 6138575
       }
      },
      "text/html": [
       "<div>\n",
       "<style scoped>\n",
       "    .dataframe tbody tr th:only-of-type {\n",
       "        vertical-align: middle;\n",
       "    }\n",
       "\n",
       "    .dataframe tbody tr th {\n",
       "        vertical-align: top;\n",
       "    }\n",
       "\n",
       "    .dataframe thead th {\n",
       "        text-align: right;\n",
       "    }\n",
       "</style>\n",
       "<table border=\"1\" class=\"dataframe\">\n",
       "  <thead>\n",
       "    <tr style=\"text-align: right;\">\n",
       "      <th></th>\n",
       "      <th>property_id</th>\n",
       "      <th>date</th>\n",
       "      <th>available</th>\n",
       "      <th>price</th>\n",
       "      <th>minimum_nights</th>\n",
       "      <th>maximum_nights</th>\n",
       "    </tr>\n",
       "  </thead>\n",
       "  <tbody>\n",
       "    <tr>\n",
       "      <th>0</th>\n",
       "      <td>30320</td>\n",
       "      <td>2025-03-10</td>\n",
       "      <td>False</td>\n",
       "      <td>65.0</td>\n",
       "      <td>5</td>\n",
       "      <td>180</td>\n",
       "    </tr>\n",
       "    <tr>\n",
       "      <th>1</th>\n",
       "      <td>30320</td>\n",
       "      <td>2025-03-11</td>\n",
       "      <td>False</td>\n",
       "      <td>65.0</td>\n",
       "      <td>5</td>\n",
       "      <td>180</td>\n",
       "    </tr>\n",
       "    <tr>\n",
       "      <th>2</th>\n",
       "      <td>30320</td>\n",
       "      <td>2025-03-12</td>\n",
       "      <td>False</td>\n",
       "      <td>65.0</td>\n",
       "      <td>5</td>\n",
       "      <td>180</td>\n",
       "    </tr>\n",
       "    <tr>\n",
       "      <th>3</th>\n",
       "      <td>30320</td>\n",
       "      <td>2025-03-13</td>\n",
       "      <td>False</td>\n",
       "      <td>65.0</td>\n",
       "      <td>5</td>\n",
       "      <td>180</td>\n",
       "    </tr>\n",
       "    <tr>\n",
       "      <th>4</th>\n",
       "      <td>30320</td>\n",
       "      <td>2025-03-14</td>\n",
       "      <td>False</td>\n",
       "      <td>65.0</td>\n",
       "      <td>5</td>\n",
       "      <td>180</td>\n",
       "    </tr>\n",
       "    <tr>\n",
       "      <th>...</th>\n",
       "      <td>...</td>\n",
       "      <td>...</td>\n",
       "      <td>...</td>\n",
       "      <td>...</td>\n",
       "      <td>...</td>\n",
       "      <td>...</td>\n",
       "    </tr>\n",
       "    <tr>\n",
       "      <th>6138570</th>\n",
       "      <td>1368991577357063431</td>\n",
       "      <td>2026-03-05</td>\n",
       "      <td>True</td>\n",
       "      <td>75.0</td>\n",
       "      <td>5</td>\n",
       "      <td>365</td>\n",
       "    </tr>\n",
       "    <tr>\n",
       "      <th>6138571</th>\n",
       "      <td>1368991577357063431</td>\n",
       "      <td>2026-03-06</td>\n",
       "      <td>True</td>\n",
       "      <td>75.0</td>\n",
       "      <td>5</td>\n",
       "      <td>365</td>\n",
       "    </tr>\n",
       "    <tr>\n",
       "      <th>6138572</th>\n",
       "      <td>1368991577357063431</td>\n",
       "      <td>2026-03-07</td>\n",
       "      <td>True</td>\n",
       "      <td>75.0</td>\n",
       "      <td>5</td>\n",
       "      <td>365</td>\n",
       "    </tr>\n",
       "    <tr>\n",
       "      <th>6138573</th>\n",
       "      <td>1368991577357063431</td>\n",
       "      <td>2026-03-08</td>\n",
       "      <td>True</td>\n",
       "      <td>75.0</td>\n",
       "      <td>5</td>\n",
       "      <td>365</td>\n",
       "    </tr>\n",
       "    <tr>\n",
       "      <th>6138574</th>\n",
       "      <td>1368991577357063431</td>\n",
       "      <td>2026-03-09</td>\n",
       "      <td>True</td>\n",
       "      <td>75.0</td>\n",
       "      <td>5</td>\n",
       "      <td>365</td>\n",
       "    </tr>\n",
       "  </tbody>\n",
       "</table>\n",
       "<p>6138575 rows × 6 columns</p>\n",
       "</div>"
      ],
      "text/plain": [
       "                 property_id        date  available  price  minimum_nights  \\\n",
       "0                      30320  2025-03-10      False   65.0               5   \n",
       "1                      30320  2025-03-11      False   65.0               5   \n",
       "2                      30320  2025-03-12      False   65.0               5   \n",
       "3                      30320  2025-03-13      False   65.0               5   \n",
       "4                      30320  2025-03-14      False   65.0               5   \n",
       "...                      ...         ...        ...    ...             ...   \n",
       "6138570  1368991577357063431  2026-03-05       True   75.0               5   \n",
       "6138571  1368991577357063431  2026-03-06       True   75.0               5   \n",
       "6138572  1368991577357063431  2026-03-07       True   75.0               5   \n",
       "6138573  1368991577357063431  2026-03-08       True   75.0               5   \n",
       "6138574  1368991577357063431  2026-03-09       True   75.0               5   \n",
       "\n",
       "         maximum_nights  \n",
       "0                   180  \n",
       "1                   180  \n",
       "2                   180  \n",
       "3                   180  \n",
       "4                   180  \n",
       "...                 ...  \n",
       "6138570             365  \n",
       "6138571             365  \n",
       "6138572             365  \n",
       "6138573             365  \n",
       "6138574             365  \n",
       "\n",
       "[6138575 rows x 6 columns]"
      ]
     },
     "execution_count": 3,
     "metadata": {},
     "output_type": "execute_result"
    }
   ],
   "source": [
    "df"
   ]
  }
 ],
 "metadata": {
  "kernelspec": {
   "display_name": "tfm",
   "language": "python",
   "name": "python3"
  },
  "language_info": {
   "codemirror_mode": {
    "name": "ipython",
    "version": 3
   },
   "file_extension": ".py",
   "mimetype": "text/x-python",
   "name": "python",
   "nbconvert_exporter": "python",
   "pygments_lexer": "ipython3",
   "version": "3.9.21"
  }
 },
 "nbformat": 4,
 "nbformat_minor": 5
}
