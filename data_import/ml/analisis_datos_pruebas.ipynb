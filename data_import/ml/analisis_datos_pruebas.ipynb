{
 "cells": [
  {
   "cell_type": "markdown",
   "id": "c2acc801",
   "metadata": {},
   "source": [
    "# Pruebas análisis de datos"
   ]
  },
  {
   "cell_type": "markdown",
   "id": "b8e4c90c",
   "metadata": {},
   "source": [
    "En el presente documentos se hace una síntesis del análisis que se ha llevado a cabo sobre los datos de AirBnB y las diferentes pruebas que se han hecho sobre estos para utilizarlos para el entrenamiento del modelo."
   ]
  },
  {
   "cell_type": "code",
   "execution_count": 123,
   "id": "53fada33",
   "metadata": {},
   "outputs": [],
   "source": [
    "## Librerías básicas\n",
    "import pandas as pd\n",
    "import numpy as np\n",
    "import matplotlib.pyplot as plt\n",
    "import re # Para obtener la superficie de la descripción de los apartamentos"
   ]
  },
  {
   "cell_type": "markdown",
   "id": "25ce981a",
   "metadata": {},
   "source": [
    "## Análisis de los datos iniciales"
   ]
  },
  {
   "cell_type": "markdown",
   "id": "8052d58d",
   "metadata": {},
   "source": [
    "A continuación, se presentan los diferentes análisis realizados sobre los datos presentes en el _data-set_ de AirBnB."
   ]
  },
  {
   "cell_type": "code",
   "execution_count": 124,
   "id": "c7c4a240",
   "metadata": {},
   "outputs": [],
   "source": [
    "df = pd.read_csv('../data/listings.csv')"
   ]
  },
  {
   "cell_type": "code",
   "execution_count": 125,
   "id": "a01f89bd",
   "metadata": {},
   "outputs": [
    {
     "name": "stdout",
     "output_type": "stream",
     "text": [
      "<class 'pandas.core.frame.DataFrame'>\n",
      "RangeIndex: 25288 entries, 0 to 25287\n",
      "Data columns (total 79 columns):\n",
      " #   Column                                        Non-Null Count  Dtype  \n",
      "---  ------                                        --------------  -----  \n",
      " 0   id                                            25288 non-null  int64  \n",
      " 1   listing_url                                   25288 non-null  object \n",
      " 2   scrape_id                                     25288 non-null  int64  \n",
      " 3   last_scraped                                  25288 non-null  object \n",
      " 4   source                                        25288 non-null  object \n",
      " 5   name                                          25288 non-null  object \n",
      " 6   description                                   24375 non-null  object \n",
      " 7   neighborhood_overview                         11218 non-null  object \n",
      " 8   picture_url                                   25287 non-null  object \n",
      " 9   host_id                                       25288 non-null  int64  \n",
      " 10  host_url                                      25288 non-null  object \n",
      " 11  host_name                                     25269 non-null  object \n",
      " 12  host_since                                    25269 non-null  object \n",
      " 13  host_location                                 17669 non-null  object \n",
      " 14  host_about                                    12763 non-null  object \n",
      " 15  host_response_time                            19995 non-null  object \n",
      " 16  host_response_rate                            19995 non-null  object \n",
      " 17  host_acceptance_rate                          21240 non-null  object \n",
      " 18  host_is_superhost                             24496 non-null  object \n",
      " 19  host_thumbnail_url                            25269 non-null  object \n",
      " 20  host_picture_url                              25269 non-null  object \n",
      " 21  host_neighbourhood                            8588 non-null   object \n",
      " 22  host_listings_count                           25269 non-null  float64\n",
      " 23  host_total_listings_count                     25269 non-null  float64\n",
      " 24  host_verifications                            25269 non-null  object \n",
      " 25  host_has_profile_pic                          25269 non-null  object \n",
      " 26  host_identity_verified                        25269 non-null  object \n",
      " 27  neighbourhood                                 11218 non-null  object \n",
      " 28  neighbourhood_cleansed                        25288 non-null  object \n",
      " 29  neighbourhood_group_cleansed                  25288 non-null  object \n",
      " 30  latitude                                      25288 non-null  float64\n",
      " 31  longitude                                     25288 non-null  float64\n",
      " 32  property_type                                 25288 non-null  object \n",
      " 33  room_type                                     25288 non-null  object \n",
      " 34  accommodates                                  25288 non-null  int64  \n",
      " 35  bathrooms                                     19270 non-null  float64\n",
      " 36  bathrooms_text                                25263 non-null  object \n",
      " 37  bedrooms                                      22737 non-null  float64\n",
      " 38  beds                                          19262 non-null  float64\n",
      " 39  amenities                                     25288 non-null  object \n",
      " 40  price                                         19274 non-null  object \n",
      " 41  minimum_nights                                25288 non-null  int64  \n",
      " 42  maximum_nights                                25288 non-null  int64  \n",
      " 43  minimum_minimum_nights                        25288 non-null  int64  \n",
      " 44  maximum_minimum_nights                        25288 non-null  int64  \n",
      " 45  minimum_maximum_nights                        25288 non-null  int64  \n",
      " 46  maximum_maximum_nights                        25288 non-null  int64  \n",
      " 47  minimum_nights_avg_ntm                        25288 non-null  float64\n",
      " 48  maximum_nights_avg_ntm                        25288 non-null  float64\n",
      " 49  calendar_updated                              0 non-null      float64\n",
      " 50  has_availability                              23811 non-null  object \n",
      " 51  availability_30                               25288 non-null  int64  \n",
      " 52  availability_60                               25288 non-null  int64  \n",
      " 53  availability_90                               25288 non-null  int64  \n",
      " 54  availability_365                              25288 non-null  int64  \n",
      " 55  calendar_last_scraped                         25288 non-null  object \n",
      " 56  number_of_reviews                             25288 non-null  int64  \n",
      " 57  number_of_reviews_ltm                         25288 non-null  int64  \n",
      " 58  number_of_reviews_l30d                        25288 non-null  int64  \n",
      " 59  availability_eoy                              25288 non-null  int64  \n",
      " 60  number_of_reviews_ly                          25288 non-null  int64  \n",
      " 61  estimated_occupancy_l365d                     25288 non-null  int64  \n",
      " 62  estimated_revenue_l365d                       19274 non-null  float64\n",
      " 63  first_review                                  20091 non-null  object \n",
      " 64  last_review                                   20091 non-null  object \n",
      " 65  review_scores_rating                          20091 non-null  float64\n",
      " 66  review_scores_accuracy                        20091 non-null  float64\n",
      " 67  review_scores_cleanliness                     20090 non-null  float64\n",
      " 68  review_scores_checkin                         20090 non-null  float64\n",
      " 69  review_scores_communication                   20091 non-null  float64\n",
      " 70  review_scores_location                        20088 non-null  float64\n",
      " 71  review_scores_value                           20087 non-null  float64\n",
      " 72  license                                       2978 non-null   object \n",
      " 73  instant_bookable                              25288 non-null  object \n",
      " 74  calculated_host_listings_count                25288 non-null  int64  \n",
      " 75  calculated_host_listings_count_entire_homes   25288 non-null  int64  \n",
      " 76  calculated_host_listings_count_private_rooms  25288 non-null  int64  \n",
      " 77  calculated_host_listings_count_shared_rooms   25288 non-null  int64  \n",
      " 78  reviews_per_month                             20091 non-null  float64\n",
      "dtypes: float64(19), int64(24), object(36)\n",
      "memory usage: 15.2+ MB\n"
     ]
    }
   ],
   "source": [
    "df.info()"
   ]
  },
  {
   "cell_type": "code",
   "execution_count": 126,
   "id": "18b40c6d",
   "metadata": {},
   "outputs": [
    {
     "data": {
      "application/vnd.microsoft.datawrangler.viewer.v0+json": {
       "columns": [
        {
         "name": "index",
         "rawType": "object",
         "type": "string"
        },
        {
         "name": "id",
         "rawType": "float64",
         "type": "float"
        },
        {
         "name": "scrape_id",
         "rawType": "float64",
         "type": "float"
        },
        {
         "name": "host_id",
         "rawType": "float64",
         "type": "float"
        },
        {
         "name": "host_listings_count",
         "rawType": "float64",
         "type": "float"
        },
        {
         "name": "host_total_listings_count",
         "rawType": "float64",
         "type": "float"
        },
        {
         "name": "latitude",
         "rawType": "float64",
         "type": "float"
        },
        {
         "name": "longitude",
         "rawType": "float64",
         "type": "float"
        },
        {
         "name": "accommodates",
         "rawType": "float64",
         "type": "float"
        },
        {
         "name": "bathrooms",
         "rawType": "float64",
         "type": "float"
        },
        {
         "name": "bedrooms",
         "rawType": "float64",
         "type": "float"
        },
        {
         "name": "beds",
         "rawType": "float64",
         "type": "float"
        },
        {
         "name": "minimum_nights",
         "rawType": "float64",
         "type": "float"
        },
        {
         "name": "maximum_nights",
         "rawType": "float64",
         "type": "float"
        },
        {
         "name": "minimum_minimum_nights",
         "rawType": "float64",
         "type": "float"
        },
        {
         "name": "maximum_minimum_nights",
         "rawType": "float64",
         "type": "float"
        },
        {
         "name": "minimum_maximum_nights",
         "rawType": "float64",
         "type": "float"
        },
        {
         "name": "maximum_maximum_nights",
         "rawType": "float64",
         "type": "float"
        },
        {
         "name": "minimum_nights_avg_ntm",
         "rawType": "float64",
         "type": "float"
        },
        {
         "name": "maximum_nights_avg_ntm",
         "rawType": "float64",
         "type": "float"
        },
        {
         "name": "calendar_updated",
         "rawType": "float64",
         "type": "float"
        },
        {
         "name": "availability_30",
         "rawType": "float64",
         "type": "float"
        },
        {
         "name": "availability_60",
         "rawType": "float64",
         "type": "float"
        },
        {
         "name": "availability_90",
         "rawType": "float64",
         "type": "float"
        },
        {
         "name": "availability_365",
         "rawType": "float64",
         "type": "float"
        },
        {
         "name": "number_of_reviews",
         "rawType": "float64",
         "type": "float"
        },
        {
         "name": "number_of_reviews_ltm",
         "rawType": "float64",
         "type": "float"
        },
        {
         "name": "number_of_reviews_l30d",
         "rawType": "float64",
         "type": "float"
        },
        {
         "name": "availability_eoy",
         "rawType": "float64",
         "type": "float"
        },
        {
         "name": "number_of_reviews_ly",
         "rawType": "float64",
         "type": "float"
        },
        {
         "name": "estimated_occupancy_l365d",
         "rawType": "float64",
         "type": "float"
        },
        {
         "name": "estimated_revenue_l365d",
         "rawType": "float64",
         "type": "float"
        },
        {
         "name": "review_scores_rating",
         "rawType": "float64",
         "type": "float"
        },
        {
         "name": "review_scores_accuracy",
         "rawType": "float64",
         "type": "float"
        },
        {
         "name": "review_scores_cleanliness",
         "rawType": "float64",
         "type": "float"
        },
        {
         "name": "review_scores_checkin",
         "rawType": "float64",
         "type": "float"
        },
        {
         "name": "review_scores_communication",
         "rawType": "float64",
         "type": "float"
        },
        {
         "name": "review_scores_location",
         "rawType": "float64",
         "type": "float"
        },
        {
         "name": "review_scores_value",
         "rawType": "float64",
         "type": "float"
        },
        {
         "name": "calculated_host_listings_count",
         "rawType": "float64",
         "type": "float"
        },
        {
         "name": "calculated_host_listings_count_entire_homes",
         "rawType": "float64",
         "type": "float"
        },
        {
         "name": "calculated_host_listings_count_private_rooms",
         "rawType": "float64",
         "type": "float"
        },
        {
         "name": "calculated_host_listings_count_shared_rooms",
         "rawType": "float64",
         "type": "float"
        },
        {
         "name": "reviews_per_month",
         "rawType": "float64",
         "type": "float"
        }
       ],
       "ref": "e9492c0c-5f26-4739-a263-9f3af1ba3af6",
       "rows": [
        [
         "count",
         "25288.0",
         "25288.0",
         "25288.0",
         "25269.0",
         "25269.0",
         "25288.0",
         "25288.0",
         "25288.0",
         "19270.0",
         "22737.0",
         "19262.0",
         "25288.0",
         "25288.0",
         "25288.0",
         "25288.0",
         "25288.0",
         "25288.0",
         "25288.0",
         "25288.0",
         "0.0",
         "25288.0",
         "25288.0",
         "25288.0",
         "25288.0",
         "25288.0",
         "25288.0",
         "25288.0",
         "25288.0",
         "25288.0",
         "25288.0",
         "19274.0",
         "20091.0",
         "20091.0",
         "20090.0",
         "20090.0",
         "20091.0",
         "20088.0",
         "20087.0",
         "25288.0",
         "25288.0",
         "25288.0",
         "25288.0",
         "20091.0"
        ],
        [
         "mean",
         "6.439292539326747e+17",
         "20250305023340.0",
         "258353031.67862228",
         "53.92939965966204",
         "63.88016937749812",
         "40.42157192200981",
         "-3.6938506653159173",
         "3.159205947484973",
         "1.2868967306694343",
         "1.4371728900030787",
         "1.9844252933236424",
         "8.828060740272067",
         "521.178701360329",
         "8.020365390699146",
         "14.76672730148687",
         "591.75",
         "640.2353685542549",
         "10.17223584308763",
         "614.3627807655805",
         null,
         "7.935977538753559",
         "17.53199145839924",
         "29.739837076874405",
         "137.97738057576717",
         "47.68850838342297",
         "14.2868158810503",
         "0.9789623536855425",
         "116.71990667510282",
         "13.807576716229041",
         "82.95420752926289",
         "11716.009857839577",
         "4.645258075755313",
         "4.699044845950923",
         "4.678302140368342",
         "4.7424793429566945",
         "4.747868199691404",
         "4.747256073277579",
         "4.549965649425001",
         "36.22026257513445",
         "32.31176842771275",
         "3.8369582410629546",
         "0.042035748180955394",
         "1.7781509133442837"
        ],
        [
         "std",
         "5.357949426982987e+17",
         "0.0",
         "208311817.13789082",
         "144.35762684420447",
         "193.13412760043093",
         "0.023440970244077722",
         "0.027971572451937116",
         "1.9056836982328689",
         "0.6288570403941662",
         "0.9953379511179458",
         "1.4566281677294124",
         "31.799012906338515",
         "423.0550056014073",
         "28.937627168406376",
         "43.95258076572468",
         "451.0063700414987",
         "443.9485488638239",
         "30.127837876783126",
         "441.5851502555507",
         null,
         "9.654799016639146",
         "19.994146451215588",
         "31.473079405362423",
         "132.86263662015995",
         "89.27262729661358",
         "21.84609026623986",
         "1.7908032364684803",
         "110.81351145931293",
         "21.888801099381457",
         "96.83619419433717",
         "29295.869430723047",
         "0.4893522570726541",
         "0.45440646449221483",
         "0.45613719124807356",
         "0.4483465457819502",
         "0.47467119399516916",
         "0.3831828820045804",
         "0.518817939148965",
         "81.2393985922726",
         "80.20342212093004",
         "16.249608600897517",
         "0.5894605636238006",
         "1.9141695737615625"
        ],
        [
         "min",
         "21853.0",
         "20250305023340.0",
         "7952.0",
         "1.0",
         "1.0",
         "40.3314",
         "-3.88399",
         "1.0",
         "0.0",
         "0.0",
         "0.0",
         "1.0",
         "1.0",
         "1.0",
         "1.0",
         "1.0",
         "1.0",
         "1.0",
         "1.0",
         null,
         "0.0",
         "0.0",
         "0.0",
         "0.0",
         "0.0",
         "0.0",
         "0.0",
         "0.0",
         "0.0",
         "0.0",
         "0.0",
         "1.0",
         "1.0",
         "1.0",
         "1.0",
         "1.0",
         "1.0",
         "1.0",
         "1.0",
         "0.0",
         "0.0",
         "0.0",
         "0.01"
        ],
        [
         "25%",
         "36760947.5",
         "20250305023340.0",
         "51685130.0",
         "1.0",
         "2.0",
         "40.409288",
         "-3.7074203546958007",
         "2.0",
         "1.0",
         "1.0",
         "1.0",
         "1.0",
         "330.0",
         "1.0",
         "2.0",
         "330.0",
         "365.0",
         "1.3",
         "364.0",
         null,
         "0.0",
         "0.0",
         "0.0",
         "0.0",
         "1.0",
         "0.0",
         "0.0",
         "0.0",
         "0.0",
         "0.0",
         "516.0",
         "4.55",
         "4.63",
         "4.59",
         "4.7",
         "4.72",
         "4.67",
         "4.44",
         "1.0",
         "0.0",
         "0.0",
         "0.0",
         "0.36"
        ],
        [
         "50%",
         "8.115618698841133e+17",
         "20250305023340.0",
         "222860203.0",
         "4.0",
         "5.0",
         "40.4203816600283",
         "-3.7009325",
         "2.0",
         "1.0",
         "1.0",
         "2.0",
         "2.0",
         "365.0",
         "2.0",
         "3.0",
         "365.0",
         "365.0",
         "2.7",
         "365.0",
         null,
         "3.0",
         "9.0",
         "19.0",
         "96.0",
         "10.0",
         "4.0",
         "0.0",
         "90.0",
         "3.0",
         "36.0",
         "5568.0",
         "4.76",
         "4.82",
         "4.8",
         "4.86",
         "4.89",
         "4.87",
         "4.67",
         "3.0",
         "1.0",
         "0.0",
         "0.0",
         "1.13"
        ],
        [
         "75%",
         "1.1425737828867845e+18",
         "20250305023340.0",
         "448890645.0",
         "25.0",
         "33.0",
         "40.431617",
         "-3.684770902653991",
         "4.0",
         "1.5",
         "2.0",
         "2.0",
         "4.0",
         "1125.0",
         "3.0",
         "7.0",
         "1125.0",
         "1125.0",
         "6.6",
         "1125.0",
         null,
         "14.0",
         "32.0",
         "56.0",
         "268.0",
         "53.0",
         "21.0",
         "1.0",
         "228.0",
         "20.0",
         "162.0",
         "17340.0",
         "4.93",
         "4.95",
         "4.95",
         "4.99",
         "5.0",
         "4.98",
         "4.84",
         "19.0",
         "12.0",
         "1.0",
         "0.0",
         "2.63"
        ],
        [
         "max",
         "1.3691794111764242e+18",
         "20250305023340.0",
         "682175911.0",
         "3311.0",
         "8554.0",
         "40.57729",
         "-3.5459040932605648",
         "16.0",
         "15.0",
         "25.0",
         "40.0",
         "1125.0",
         "11111.0",
         "1125.0",
         "1125.0",
         "11111.0",
         "11111.0",
         "1125.0",
         "11111.0",
         null,
         "30.0",
         "60.0",
         "90.0",
         "365.0",
         "1080.0",
         "263.0",
         "33.0",
         "302.0",
         "229.0",
         "255.0",
         "2636136.0",
         "5.0",
         "5.0",
         "5.0",
         "5.0",
         "5.0",
         "5.0",
         "5.0",
         "341.0",
         "341.0",
         "168.0",
         "12.0",
         "28.57"
        ]
       ],
       "shape": {
        "columns": 43,
        "rows": 8
       }
      },
      "text/html": [
       "<div>\n",
       "<style scoped>\n",
       "    .dataframe tbody tr th:only-of-type {\n",
       "        vertical-align: middle;\n",
       "    }\n",
       "\n",
       "    .dataframe tbody tr th {\n",
       "        vertical-align: top;\n",
       "    }\n",
       "\n",
       "    .dataframe thead th {\n",
       "        text-align: right;\n",
       "    }\n",
       "</style>\n",
       "<table border=\"1\" class=\"dataframe\">\n",
       "  <thead>\n",
       "    <tr style=\"text-align: right;\">\n",
       "      <th></th>\n",
       "      <th>id</th>\n",
       "      <th>scrape_id</th>\n",
       "      <th>host_id</th>\n",
       "      <th>host_listings_count</th>\n",
       "      <th>host_total_listings_count</th>\n",
       "      <th>latitude</th>\n",
       "      <th>longitude</th>\n",
       "      <th>accommodates</th>\n",
       "      <th>bathrooms</th>\n",
       "      <th>bedrooms</th>\n",
       "      <th>...</th>\n",
       "      <th>review_scores_cleanliness</th>\n",
       "      <th>review_scores_checkin</th>\n",
       "      <th>review_scores_communication</th>\n",
       "      <th>review_scores_location</th>\n",
       "      <th>review_scores_value</th>\n",
       "      <th>calculated_host_listings_count</th>\n",
       "      <th>calculated_host_listings_count_entire_homes</th>\n",
       "      <th>calculated_host_listings_count_private_rooms</th>\n",
       "      <th>calculated_host_listings_count_shared_rooms</th>\n",
       "      <th>reviews_per_month</th>\n",
       "    </tr>\n",
       "  </thead>\n",
       "  <tbody>\n",
       "    <tr>\n",
       "      <th>count</th>\n",
       "      <td>2.528800e+04</td>\n",
       "      <td>2.528800e+04</td>\n",
       "      <td>2.528800e+04</td>\n",
       "      <td>25269.000000</td>\n",
       "      <td>25269.000000</td>\n",
       "      <td>25288.000000</td>\n",
       "      <td>25288.000000</td>\n",
       "      <td>25288.000000</td>\n",
       "      <td>19270.000000</td>\n",
       "      <td>22737.000000</td>\n",
       "      <td>...</td>\n",
       "      <td>20090.000000</td>\n",
       "      <td>20090.000000</td>\n",
       "      <td>20091.000000</td>\n",
       "      <td>20088.000000</td>\n",
       "      <td>20087.000000</td>\n",
       "      <td>25288.000000</td>\n",
       "      <td>25288.000000</td>\n",
       "      <td>25288.000000</td>\n",
       "      <td>25288.000000</td>\n",
       "      <td>20091.000000</td>\n",
       "    </tr>\n",
       "    <tr>\n",
       "      <th>mean</th>\n",
       "      <td>6.439293e+17</td>\n",
       "      <td>2.025031e+13</td>\n",
       "      <td>2.583530e+08</td>\n",
       "      <td>53.929400</td>\n",
       "      <td>63.880169</td>\n",
       "      <td>40.421572</td>\n",
       "      <td>-3.693851</td>\n",
       "      <td>3.159206</td>\n",
       "      <td>1.286897</td>\n",
       "      <td>1.437173</td>\n",
       "      <td>...</td>\n",
       "      <td>4.678302</td>\n",
       "      <td>4.742479</td>\n",
       "      <td>4.747868</td>\n",
       "      <td>4.747256</td>\n",
       "      <td>4.549966</td>\n",
       "      <td>36.220263</td>\n",
       "      <td>32.311768</td>\n",
       "      <td>3.836958</td>\n",
       "      <td>0.042036</td>\n",
       "      <td>1.778151</td>\n",
       "    </tr>\n",
       "    <tr>\n",
       "      <th>std</th>\n",
       "      <td>5.357949e+17</td>\n",
       "      <td>0.000000e+00</td>\n",
       "      <td>2.083118e+08</td>\n",
       "      <td>144.357627</td>\n",
       "      <td>193.134128</td>\n",
       "      <td>0.023441</td>\n",
       "      <td>0.027972</td>\n",
       "      <td>1.905684</td>\n",
       "      <td>0.628857</td>\n",
       "      <td>0.995338</td>\n",
       "      <td>...</td>\n",
       "      <td>0.456137</td>\n",
       "      <td>0.448347</td>\n",
       "      <td>0.474671</td>\n",
       "      <td>0.383183</td>\n",
       "      <td>0.518818</td>\n",
       "      <td>81.239399</td>\n",
       "      <td>80.203422</td>\n",
       "      <td>16.249609</td>\n",
       "      <td>0.589461</td>\n",
       "      <td>1.914170</td>\n",
       "    </tr>\n",
       "    <tr>\n",
       "      <th>min</th>\n",
       "      <td>2.185300e+04</td>\n",
       "      <td>2.025031e+13</td>\n",
       "      <td>7.952000e+03</td>\n",
       "      <td>1.000000</td>\n",
       "      <td>1.000000</td>\n",
       "      <td>40.331400</td>\n",
       "      <td>-3.883990</td>\n",
       "      <td>1.000000</td>\n",
       "      <td>0.000000</td>\n",
       "      <td>0.000000</td>\n",
       "      <td>...</td>\n",
       "      <td>1.000000</td>\n",
       "      <td>1.000000</td>\n",
       "      <td>1.000000</td>\n",
       "      <td>1.000000</td>\n",
       "      <td>1.000000</td>\n",
       "      <td>1.000000</td>\n",
       "      <td>0.000000</td>\n",
       "      <td>0.000000</td>\n",
       "      <td>0.000000</td>\n",
       "      <td>0.010000</td>\n",
       "    </tr>\n",
       "    <tr>\n",
       "      <th>25%</th>\n",
       "      <td>3.676095e+07</td>\n",
       "      <td>2.025031e+13</td>\n",
       "      <td>5.168513e+07</td>\n",
       "      <td>1.000000</td>\n",
       "      <td>2.000000</td>\n",
       "      <td>40.409288</td>\n",
       "      <td>-3.707420</td>\n",
       "      <td>2.000000</td>\n",
       "      <td>1.000000</td>\n",
       "      <td>1.000000</td>\n",
       "      <td>...</td>\n",
       "      <td>4.590000</td>\n",
       "      <td>4.700000</td>\n",
       "      <td>4.720000</td>\n",
       "      <td>4.670000</td>\n",
       "      <td>4.440000</td>\n",
       "      <td>1.000000</td>\n",
       "      <td>0.000000</td>\n",
       "      <td>0.000000</td>\n",
       "      <td>0.000000</td>\n",
       "      <td>0.360000</td>\n",
       "    </tr>\n",
       "    <tr>\n",
       "      <th>50%</th>\n",
       "      <td>8.115619e+17</td>\n",
       "      <td>2.025031e+13</td>\n",
       "      <td>2.228602e+08</td>\n",
       "      <td>4.000000</td>\n",
       "      <td>5.000000</td>\n",
       "      <td>40.420382</td>\n",
       "      <td>-3.700932</td>\n",
       "      <td>2.000000</td>\n",
       "      <td>1.000000</td>\n",
       "      <td>1.000000</td>\n",
       "      <td>...</td>\n",
       "      <td>4.800000</td>\n",
       "      <td>4.860000</td>\n",
       "      <td>4.890000</td>\n",
       "      <td>4.870000</td>\n",
       "      <td>4.670000</td>\n",
       "      <td>3.000000</td>\n",
       "      <td>1.000000</td>\n",
       "      <td>0.000000</td>\n",
       "      <td>0.000000</td>\n",
       "      <td>1.130000</td>\n",
       "    </tr>\n",
       "    <tr>\n",
       "      <th>75%</th>\n",
       "      <td>1.142574e+18</td>\n",
       "      <td>2.025031e+13</td>\n",
       "      <td>4.488906e+08</td>\n",
       "      <td>25.000000</td>\n",
       "      <td>33.000000</td>\n",
       "      <td>40.431617</td>\n",
       "      <td>-3.684771</td>\n",
       "      <td>4.000000</td>\n",
       "      <td>1.500000</td>\n",
       "      <td>2.000000</td>\n",
       "      <td>...</td>\n",
       "      <td>4.950000</td>\n",
       "      <td>4.990000</td>\n",
       "      <td>5.000000</td>\n",
       "      <td>4.980000</td>\n",
       "      <td>4.840000</td>\n",
       "      <td>19.000000</td>\n",
       "      <td>12.000000</td>\n",
       "      <td>1.000000</td>\n",
       "      <td>0.000000</td>\n",
       "      <td>2.630000</td>\n",
       "    </tr>\n",
       "    <tr>\n",
       "      <th>max</th>\n",
       "      <td>1.369179e+18</td>\n",
       "      <td>2.025031e+13</td>\n",
       "      <td>6.821759e+08</td>\n",
       "      <td>3311.000000</td>\n",
       "      <td>8554.000000</td>\n",
       "      <td>40.577290</td>\n",
       "      <td>-3.545904</td>\n",
       "      <td>16.000000</td>\n",
       "      <td>15.000000</td>\n",
       "      <td>25.000000</td>\n",
       "      <td>...</td>\n",
       "      <td>5.000000</td>\n",
       "      <td>5.000000</td>\n",
       "      <td>5.000000</td>\n",
       "      <td>5.000000</td>\n",
       "      <td>5.000000</td>\n",
       "      <td>341.000000</td>\n",
       "      <td>341.000000</td>\n",
       "      <td>168.000000</td>\n",
       "      <td>12.000000</td>\n",
       "      <td>28.570000</td>\n",
       "    </tr>\n",
       "  </tbody>\n",
       "</table>\n",
       "<p>8 rows × 43 columns</p>\n",
       "</div>"
      ],
      "text/plain": [
       "                 id     scrape_id       host_id  host_listings_count  \\\n",
       "count  2.528800e+04  2.528800e+04  2.528800e+04         25269.000000   \n",
       "mean   6.439293e+17  2.025031e+13  2.583530e+08            53.929400   \n",
       "std    5.357949e+17  0.000000e+00  2.083118e+08           144.357627   \n",
       "min    2.185300e+04  2.025031e+13  7.952000e+03             1.000000   \n",
       "25%    3.676095e+07  2.025031e+13  5.168513e+07             1.000000   \n",
       "50%    8.115619e+17  2.025031e+13  2.228602e+08             4.000000   \n",
       "75%    1.142574e+18  2.025031e+13  4.488906e+08            25.000000   \n",
       "max    1.369179e+18  2.025031e+13  6.821759e+08          3311.000000   \n",
       "\n",
       "       host_total_listings_count      latitude     longitude  accommodates  \\\n",
       "count               25269.000000  25288.000000  25288.000000  25288.000000   \n",
       "mean                   63.880169     40.421572     -3.693851      3.159206   \n",
       "std                   193.134128      0.023441      0.027972      1.905684   \n",
       "min                     1.000000     40.331400     -3.883990      1.000000   \n",
       "25%                     2.000000     40.409288     -3.707420      2.000000   \n",
       "50%                     5.000000     40.420382     -3.700932      2.000000   \n",
       "75%                    33.000000     40.431617     -3.684771      4.000000   \n",
       "max                  8554.000000     40.577290     -3.545904     16.000000   \n",
       "\n",
       "          bathrooms      bedrooms  ...  review_scores_cleanliness  \\\n",
       "count  19270.000000  22737.000000  ...               20090.000000   \n",
       "mean       1.286897      1.437173  ...                   4.678302   \n",
       "std        0.628857      0.995338  ...                   0.456137   \n",
       "min        0.000000      0.000000  ...                   1.000000   \n",
       "25%        1.000000      1.000000  ...                   4.590000   \n",
       "50%        1.000000      1.000000  ...                   4.800000   \n",
       "75%        1.500000      2.000000  ...                   4.950000   \n",
       "max       15.000000     25.000000  ...                   5.000000   \n",
       "\n",
       "       review_scores_checkin  review_scores_communication  \\\n",
       "count           20090.000000                 20091.000000   \n",
       "mean                4.742479                     4.747868   \n",
       "std                 0.448347                     0.474671   \n",
       "min                 1.000000                     1.000000   \n",
       "25%                 4.700000                     4.720000   \n",
       "50%                 4.860000                     4.890000   \n",
       "75%                 4.990000                     5.000000   \n",
       "max                 5.000000                     5.000000   \n",
       "\n",
       "       review_scores_location  review_scores_value  \\\n",
       "count            20088.000000         20087.000000   \n",
       "mean                 4.747256             4.549966   \n",
       "std                  0.383183             0.518818   \n",
       "min                  1.000000             1.000000   \n",
       "25%                  4.670000             4.440000   \n",
       "50%                  4.870000             4.670000   \n",
       "75%                  4.980000             4.840000   \n",
       "max                  5.000000             5.000000   \n",
       "\n",
       "       calculated_host_listings_count  \\\n",
       "count                    25288.000000   \n",
       "mean                        36.220263   \n",
       "std                         81.239399   \n",
       "min                          1.000000   \n",
       "25%                          1.000000   \n",
       "50%                          3.000000   \n",
       "75%                         19.000000   \n",
       "max                        341.000000   \n",
       "\n",
       "       calculated_host_listings_count_entire_homes  \\\n",
       "count                                 25288.000000   \n",
       "mean                                     32.311768   \n",
       "std                                      80.203422   \n",
       "min                                       0.000000   \n",
       "25%                                       0.000000   \n",
       "50%                                       1.000000   \n",
       "75%                                      12.000000   \n",
       "max                                     341.000000   \n",
       "\n",
       "       calculated_host_listings_count_private_rooms  \\\n",
       "count                                  25288.000000   \n",
       "mean                                       3.836958   \n",
       "std                                       16.249609   \n",
       "min                                        0.000000   \n",
       "25%                                        0.000000   \n",
       "50%                                        0.000000   \n",
       "75%                                        1.000000   \n",
       "max                                      168.000000   \n",
       "\n",
       "       calculated_host_listings_count_shared_rooms  reviews_per_month  \n",
       "count                                 25288.000000       20091.000000  \n",
       "mean                                      0.042036           1.778151  \n",
       "std                                       0.589461           1.914170  \n",
       "min                                       0.000000           0.010000  \n",
       "25%                                       0.000000           0.360000  \n",
       "50%                                       0.000000           1.130000  \n",
       "75%                                       0.000000           2.630000  \n",
       "max                                      12.000000          28.570000  \n",
       "\n",
       "[8 rows x 43 columns]"
      ]
     },
     "execution_count": 126,
     "metadata": {},
     "output_type": "execute_result"
    }
   ],
   "source": [
    "df.describe()"
   ]
  },
  {
   "cell_type": "markdown",
   "id": "73e32c2e",
   "metadata": {},
   "source": [
    "### Limpieza inicial de datos"
   ]
  },
  {
   "cell_type": "markdown",
   "id": "aed50df9",
   "metadata": {},
   "source": [
    "#### Datos inútiles"
   ]
  },
  {
   "cell_type": "markdown",
   "id": "63eb9323",
   "metadata": {},
   "source": [
    "A primera vista ya se ve que hay una gran cantidad de datos que, aunque puedan afectar al precio, no existen dentro del _data-set_ de Idealista.\n",
    "\n",
    "Procedemos a hacer una primera limpiaeza borrando dichos valores."
   ]
  },
  {
   "cell_type": "code",
   "execution_count": 127,
   "id": "140b2a9a",
   "metadata": {},
   "outputs": [],
   "source": [
    "dropping_cols = [\"scrape_id\", \n",
    "                 \"last_scraped\", \n",
    "                 \"source\", # Datos sobre scrapping innecesarios\n",
    "                 \"neighborhood_overview\", # Descripción de la zona por el propietario con muchos valores nulos\n",
    "                 \"picture_url\", # Imagen del apartamento\n",
    "                 \"host_id\",\n",
    "                 \"host_url\", \n",
    "                 \"host_name\", \n",
    "                 \"host_since\", \n",
    "                 \"host_location\", \n",
    "                 \"host_about\", \n",
    "                 \"host_thumbnail_url\", \n",
    "                 \"host_response_time\",\n",
    "                 \"host_response_rate\",\n",
    "                 \"host_acceptance_rate\",\n",
    "                 \"host_is_superhost\",\n",
    "                 \"host_picture_url\", \n",
    "                 \"host_neighbourhood\", \n",
    "                 \"host_listings_count\", \n",
    "                 \"host_total_listings_count\", \n",
    "                 \"host_verifications\", \n",
    "                 \"host_has_profile_pic\", \n",
    "                 \"host_identity_verified\", # Datos del propietario inútiles para el entrenamiento del model\n",
    "                 \"neighbourhood\", # Etiquelas con poco valor, repetidas en su mayoría de diferentes formas\n",
    "                 \"neighbourhood_cleansed\", # Etiquetas con las que no contamos en data-set de Idealista. Con coordenadas y neighbourhood_group_cleansed tenemos toda la información sobre localización necesaria\n",
    "                 \"bathrooms_text\", # En data-set de Idealista solo tenemos la cantidad de baños, no su descripción\n",
    "                 \"beds\", # Número de habitaciones de mayor utilidad\n",
    "                 \"minimum_nights\",\n",
    "                 \"maximum_nights\",\n",
    "                 \"minimum_minimum_nights\",\n",
    "                 \"minimum_maximum_nights\",\n",
    "                 \"maximum_minimum_nights\",\n",
    "                 \"maximum_maximum_nights\",\n",
    "                 \"minimum_nights_avg_ntm\",\n",
    "                 \"maximum_nights_avg_ntm\", # Datos dependientes de los propietarios, no de las viviendas\n",
    "                 \"calendar_updated\",\n",
    "                 \"has_availability\",\n",
    "                 \"availability_30\",\n",
    "                 \"availability_60\",\n",
    "                 \"availability_90\",\n",
    "                 \"availability_365\", \n",
    "                 \"calendar_last_scraped\", # Datos sobre disponibilidad. Sin utilidad para el modelo\n",
    "                 \"number_of_reviews\",\n",
    "                 \"number_of_reviews_ltm\",\n",
    "                 \"number_of_reviews_l30d\",\n",
    "                 \"availability_eoy\",\n",
    "                 \"number_of_reviews_ly\",\n",
    "                 \"estimated_revenue_l365d\",\n",
    "                 \"estimated_occupancy_l365d\", # Estimaciones que no tenemos claro de dónde salen ni cómo las han calculado. Por lo quue no lo utilizamos\n",
    "                 \"first_review\",\n",
    "                 \"last_review\",\n",
    "                 \"review_scores_rating\",\n",
    "                 \"review_scores_accuracy\",\n",
    "                 \"review_scores_cleanliness\",\n",
    "                 \"review_scores_checkin\",\n",
    "                 \"review_scores_communication\",\n",
    "                 \"review_scores_location\",\n",
    "                 \"review_scores_value\", # Datos sobre reviews, pueden afectar al precio pero no son últiles para el entrenamiento del modelo\n",
    "                 \"license\", # Datos de licencia inútiles\n",
    "                 \"instant_bookable\",\n",
    "                 \"calculated_host_listings_count\",\n",
    "                 \"calculated_host_listings_count_entire_homes\",\n",
    "                 \"calculated_host_listings_count_private_rooms\",\n",
    "                 \"calculated_host_listings_count_shared_rooms\",\n",
    "                 \"reviews_per_month\"] # Información sobre los anuncios en sí y los propietarios que no afectan al precio por noche de los apartamentos\n",
    "\n",
    "df = df.drop(dropping_cols, axis=1)"
   ]
  },
  {
   "cell_type": "code",
   "execution_count": 128,
   "id": "4f9394f9",
   "metadata": {},
   "outputs": [
    {
     "name": "stdout",
     "output_type": "stream",
     "text": [
      "<class 'pandas.core.frame.DataFrame'>\n",
      "RangeIndex: 25288 entries, 0 to 25287\n",
      "Data columns (total 14 columns):\n",
      " #   Column                        Non-Null Count  Dtype  \n",
      "---  ------                        --------------  -----  \n",
      " 0   id                            25288 non-null  int64  \n",
      " 1   listing_url                   25288 non-null  object \n",
      " 2   name                          25288 non-null  object \n",
      " 3   description                   24375 non-null  object \n",
      " 4   neighbourhood_group_cleansed  25288 non-null  object \n",
      " 5   latitude                      25288 non-null  float64\n",
      " 6   longitude                     25288 non-null  float64\n",
      " 7   property_type                 25288 non-null  object \n",
      " 8   room_type                     25288 non-null  object \n",
      " 9   accommodates                  25288 non-null  int64  \n",
      " 10  bathrooms                     19270 non-null  float64\n",
      " 11  bedrooms                      22737 non-null  float64\n",
      " 12  amenities                     25288 non-null  object \n",
      " 13  price                         19274 non-null  object \n",
      "dtypes: float64(4), int64(2), object(8)\n",
      "memory usage: 2.7+ MB\n"
     ]
    }
   ],
   "source": [
    "df.info()"
   ]
  },
  {
   "cell_type": "markdown",
   "id": "23abf6dd",
   "metadata": {},
   "source": [
    "#### Anuncios sin precio"
   ]
  },
  {
   "cell_type": "markdown",
   "id": "b7e93ed0",
   "metadata": {},
   "source": [
    "El valor _target_ que utilizaremos para el modelo será el precio, por lo que borraremos todos aquellos anuncios que no tengan datos sobre el precio."
   ]
  },
  {
   "cell_type": "code",
   "execution_count": 129,
   "id": "41c6f81a",
   "metadata": {},
   "outputs": [],
   "source": [
    "df = df.dropna(subset='price')"
   ]
  },
  {
   "cell_type": "markdown",
   "id": "237c0c2e",
   "metadata": {},
   "source": [
    "#### Anuncios repetidos"
   ]
  },
  {
   "cell_type": "markdown",
   "id": "4f24d40b",
   "metadata": {},
   "source": [
    "También hay que borrar todos los anuncios que se encentren duplicados. Para ello, utilizaremos las columnas de _name_ y _description_."
   ]
  },
  {
   "cell_type": "code",
   "execution_count": 130,
   "id": "c4c5442d",
   "metadata": {},
   "outputs": [
    {
     "data": {
      "application/vnd.microsoft.datawrangler.viewer.v0+json": {
       "columns": [
        {
         "name": "name_description",
         "rawType": "object",
         "type": "string"
        },
        {
         "name": "name_description",
         "rawType": "int64",
         "type": "integer"
        }
       ],
       "ref": "b07f1c27-195f-41f1-9083-1184df5378cf",
       "rows": [
        [
         "fantastic residence ``funway´´ north zone madrid and modern and bright space in the financial district of madrid, only 20 minutes away from the city center.<br />perfectly communicated with lines 1 (tetuan) and 10 ( cuzco ) of metro and various bus lines.<br />very near to chamartín and nuevos ministerios stations.",
         "18"
        ],
        [
         "flamenco style apartment | palacio real, la latina and wonderful apartment located just above one of the oldest flamenco tablao in madrid, the corral de la morería, recently renovated opting for quality and comfort, offering an incredible rest. located in one of the most central areas of madrid that offers a multitude of restaurants, leisure and culture a few steps from the nerve center of the city. it has a bedroom with a queen size bed, a sofa bed, complete kitchen and a bathroom. whether for leisure or work, enjoy your apartment!",
         "14"
        ],
        [
         "home art madrid estudio estándar and this studio apartment has impeccable interior design. its modern style makes it one of the most practical. everything is paid to attention to every last detail. due to its unbeatable location and interior care, it is perfect to enjoy one of the most sought-after areas in madrid.",
         "10"
        ],
        [
         "bright spacious family apartment and this large, comfortable apartment is just a 10 minute walk from puerta del sol, located right in a trendy area between the lively central madrid districts: malasaña and chueca.",
         "8"
        ],
        [
         "habitación en piso compartido and rooms for rent in a shared apartment in the heart of glorieta de bilbao, in one of the best areas of madrid. the house has 11 bedrooms, 3 bathrooms, a large common area, and a fully stocked kitchen. the price includes all expenses: utilities, internet, and weekly cleaning of common areas and bathrooms. excellent location, with immediate access to the subway and surrounded by shops and restaurants. ideal for students or young professionals. check availability!",
         "8"
        ],
        [
         "nuevo apartamento a 2 calles de gran vía street and renovated and cozy apartment in the center of madrid, located on calle valverde, one of the main streets of the mythical malasaña neighborhood, exactly 3 blocks from gran vía madrileña, (metro gran vía).<br /><br />its excellent location, surrounded by calle fuencarral, calle colón and calle barco, is complemented by being in one of the quietest streets that you can find in the area, surrounded by shops, bars, restaurants, leisure sites and the main monuments of madrid.",
         "7"
        ],
        [
         "habitación en piso compartido and room is rented in shared flat on orense street, on a seventh floor overlooking the park and picasso tower. the house has 6 rooms and 3 bathrooms, one of which is an en-suite. the price includes all expenses: supplies, internet and weekly cleaning of common areas and bathrooms. unbeatable location, in a well-connected area and surrounded by shops and services. ideal for students or young professionals. check availability!",
         "6"
        ],
        [
         "atocha city centre wifi-a/c-smarttv and bright and fully renewed studio at the very historical city center.full equipped with hi speed wifi, air conditioning, central heating, smarttv, fridge, induction kitchen, hair dryer, etc.25m2<br />located in front of atocha station, reina sofia museum and retiro parkyou will be at the very city center but you will not ear any noise, the studio is brand new, built with best quality soundproof windows.terraces, cafeterias, theatres, museums…all inside the neighborhood!",
         "6"
        ],
        [
         "v3 - acogedor estudio and this modern and comfortable studio is designed to offer you everything you need for an enjoyable stay in madrid. with 1.35 double bed, bed linen and towels, kitchen equipped with microwave, coffee maker, refrigerator, toaster, and kitchenware, you can enjoy a practical and functional space. in addition, the studio has air conditioning (hot/cold), high speed wifi, tv, washing machine and dryer.",
         "6"
        ],
        [
         "v3 - acogedor estudio and this modern and comfortable studio is designed to offer you everything you need for a pleasant stay in madrid. with 1.35 double bed, bed linen and towels, kitchen equipped with microwave, coffee maker, refrigerator, toaster, and kitchenware, you can enjoy a practical and functional space. in addition, the studio has air conditioning (hot/cold), high speed wifi, tv, washing machine and dryer.",
         "6"
        ],
        [
         "beautiful flat arturo soria 1 bedroom-4people. d1 and nice 1 bedroom flat (45m2) and a sofa bed in the living room. located in one of the most exclusive and residential areas of madrid (arturo soria). <br />ideal for medium and long stays, if you are looking for a relaxed place to sleep, with free parking on the street. <br />the flat is located on the first floor without lift.<br />bed linen and towels, tv, wifi, air conditioning, heating by heat pump and hot water by thermos flask will be provided.<br />for more information, please read the description below :)",
         "5"
        ],
        [
         "apartment in castellana 2 bedrooms by sharing co and discover the charm of living in this fully furnished and equipped 2-bedroom apartment, presented by sharing co. accommodating up to 4 people, this space perfectly combines modern elegance with functionality. its 2 full bathrooms, one with a shower and the other with a bathtub, ensure comfort and convenience for all occupants. the two spacious bedrooms offer a relaxing retreat. <br><br>",
         "5"
        ],
        [
         "centric creative rooms and reformed in february 2024, this airbnb is a space that mixes the concept and experience of art gallery and home. <br /><br />we have designed every corner of the house with paintings by local contemporary painters to make the stay even more enjoyable. <br /><br />the complete accommodation consists of five bedrooms, a kitchen and two shared complete bathrooms. each room has its own key. we have carefully designed each room to offer maximum privacy and intimacy and to...",
         "5"
        ],
        [
         "habitación en piso compartido and a room is rented in a spacious apartment with 6 bedrooms, 3 bathrooms, a kitchen and a living room, ideal for those looking for a comfortable and well-located space in madrid.<br /><br />the price includes all expenses: supplies, internet, and a weekly cleaning service for common areas and bathrooms. a central location, with excellent transport connections and all services nearby. ready to move in.",
         "5"
        ],
        [
         "habitación en atocha junto al metro y la renfe and we are in front of one of the best locations in the city of madrid, less than 3 minutes walk from the metro and renfe de delicias, next to numerous bus lines, you can reach any point of the city in less than 30 minutes and downtown in less than 15 minutes.<br /><br />when you arrive, you will find yourself in a quiet residential neighborhood, but at the same time with all amenities less than a 5 minute walk, the room is spacious, with tv and high speed internet connection.",
         "5"
        ],
        [
         "la latina-city centre-wifi-a/c-smarttv and cozy and bright apartment in the center of madrid, historic district. it features high-speed wifi, air conditioning, heating, smarttv, refrigerator, and a hairdryer. <br />located just 100 meters from the puerta de toledo metro station. you'll be right in the heart of madrid, with terraces, cafes, theaters, museums, all in the historic center of the city. a 10-minute walk from the royal palace and the almudena.",
         "5"
        ],
        [
         "piso calle toledo and discover the essence of madrid in my charming studio on calle toledo, just steps away from the vibrant plaza cascorro and tirso de molina, in the heart of la latina. this cozy space blends design and comfort.<br />immerse yourself in the hustle and bustle of the mercado del rastro and enjoy the authentic madrid lifestyle.   your perfect home to explore the city!<br />managed by a professional property management company.",
         "5"
        ],
        [
         "habitación en piso compartido and room is rented on a bright outdoor apartment on the 8th floor with incredible views. the house has 2 baths and 1 toilet shared between 6 people. expenses included: supplies, internet and weekly cleaning service in common areas and bathrooms. unbeatable location in one of the best areas in madrid. ideal for those looking for comfort and a good atmosphere. ready to move in!",
         "5"
        ],
        [
         "habitación en piso compartido and a room is rented in a spacious apartment with 5 bedrooms, 2 bathrooms, a dining room and a separate living room, ideal for those looking for comfort and space in the heart of madrid.<br /><br />the price includes all expenses: utilities, internet, and weekly cleaning service for common areas and bathrooms. excellent location, well connected and with all services nearby. ready to move in.",
         "4"
        ],
        [
         "cozy studio in arturo soria ci md-anderson and cosy studio with sofa bed and 1 bathroom of 16m2 located in one of the most exclusive areas of madrid (arturo soria). <br />ideal for short stays of 2-7 days if you are looking for a relaxed place to sleep.<br />the flat is located on the first floor without lift.<br />bed linen and towels will be provided, as well as wi-fi, heating by electric radiator and hot water by electric boiler.<br />for more information, please read the detailed description below :)",
         "4"
        ],
        [
         "habitación en piso compartido and a room for rent in a shared apartment in the center of madrid, just a 1-minute walk from plaza de bilbao. the apartment has 4 bedrooms, 2 bathrooms, an equipped kitchen, a dining room, and a small interior patio. the rent includes all expenses: utilities, internet, and weekly cleaning of common areas and bathrooms. unbeatable location, well connected and surrounded by shops and public transport. ideal for students or young professionals. check availability!",
         "4"
        ],
        [
         "beautiful and cosy flat la latina-rastro and welcome to the loft in the heart of madrid's rastro, a space with a unique style and decoration. it is perfect for those looking for an authentic madrid experience. it is important to note that this space may not be suitable for people sensitive to noise, as it is located in a very lively and bustling area. a wifi connection, a coffee machine and bed linen and towels will be provided. for more information, please read the detailed description below:)",
         "4"
        ],
        [
         "1 bedroom apartment in la castellana and welcome to our charming apartment on dr. fleming street, offered by sharing co! this cozy one-bedroom apartment is designed to provide you with a comfortable and convenient stay during your visit.<br><br>with a prime location on dr. fleming street, you'll be surrounded by local amenities and attractions, allowing you to make the most of your stay in the city.<br><br>the apartment has a double bedroom perfectly furnished to guarantee your rest and comfort.",
         "4"
        ],
        [
         "apartamento a 15 min del centro en cuatro caminos and we are waiting for you by the gazebo of cuatro caminos, in the barrio de chamberí, ideal if what you are looking for is an area with the metro nearby as it is located at the door of the accommodation literally.<br /><br />the apartment is located in a set of 5 apartments within a residential building, you will enjoy all the comforts and what is necessary to recharge the batteries.<br /><br />with the cuatro caminos metro at the door you make sure you can reach the center in less than 15 minutes.",
         "4"
        ],
        [
         "catrachos rooms -cama doble, baño compartido and located next to gran via, it is a shared place where there are several rooms with shared bathrooms not suitable for children.",
         "4"
        ],
        [
         "cozy apartment. arturo soria-md anderson cc and nice 1 bedroom flat with sofa bed in the living room (45m2) located in one of the most exclusive and residential areas of madrid (arturo soria). <br />ideal for medium and long stays, if you are looking for a relaxed place to sleep, with free parking in the street. <br />the flat is located on the first floor without lift.<br />bed linen and towels will be provided. wi-fi, italian coffee machine, heating (electric radiator) and air conditioning.<br />for more information, please read the description below :)",
         "4"
        ],
        [
         "cozy studio (14m2) in arturo soria area and cozy studio with a 14m2 sofa bed and a bathroom located in one of the most exclusive areas of madrid (arturo soria). <br />ideal for short stays of 2-7 days, if you are looking for a relaxed place to sleep.<br />the flat is located on the first floor without lift.<br />bed linen and towels, wi-fi, coffee machine, electric radiator (heating) and air conditioning will be provided.<br />for more information, please read the detailed description below :)",
         "4"
        ],
        [
         "fantastic flat arturo soria d2 and nice flat with private terrace with 2 bedrooms (75m2) and sofa bed in the living room located in one of the most exclusive and residential areas of madrid (arturo soria). <br />ideal for medium and long stays, if you are looking for a relaxed place to sleep, with free parking on the street. <br />the flat is located on the first floor without lift.<br />bed linen and towels, wi-fi, heating with radiators by boiler and air conditioning will be provided.<br />for more information, please read on :)",
         "4"
        ],
        [
         "cuarto de lujo junto a gran via and enjoy this beautiful room with a window and a view of the street located in the heart of downtown.<br /><br />you can move to all the tourist sites on foot and rest perfectly when in a quiet area.<br /><br />there is also parking service 50 meters from the property and 20€/day. reservando we will give you access to central madrid.<br /><br />check-in is automated and you can do it 24h.<br /><br />there are expenses per stay of €10/person not included in the cost.",
         "4"
        ],
        [
         "spectacular penthouse in arturo soria and nice flat with private terrace with 1 bedroom, two sofa beds and a bathroom (75m2) located in one of the most exclusive and residential areas of madrid (arturo soria). <br />ideal for medium and long stays, with free parking on the street. <br />the flat is located on the fourth floor without lift.<br />bed linen and towels, wi-fi, italian coffee machine, air conditioning, heating (electric radiator) and hot water by thermos flask will be provided.<br />for more information, read on :)",
         "4"
        ],
        [
         "habitación privada sol and cozy room in a tourist area of madrid.<br />enjoy a comfortable stay in the heart of madrid, a few minutes from the main tourist attractions such as puerta del sol, plaza mayor, and palacio real. ideal for all types of people looking for a quiet and conveniently located place.<br />the room is equipped with tv, coffee maker, canapé, closet, desk and wi-fi. <br />perfect for those who want to explore madrid, with the comfort of a quiet and safe environment.<br />we're waiting for you!",
         "4"
        ],
        [
         "habitación en piso compartido and rent a room in a spacious and modern shared apartment in sor ángela de la cruz. the house has 7 rooms and 4 bathrooms, ideal for young professionals or students. comfortable and well equipped common spaces. all expenses are included (water, electricity, wifi and cleaning of common areas). great location with public transportation, shops and amenities within walking distance. book now and live worry-free!",
         "4"
        ],
        [
         "rfv and thanks to the central location of this home, you and yours will have everything at your fingertips.",
         "4"
        ],
        [
         "spacious modern & fully equipped and this large, comfortable apartment is just a 10 minute walk from puerta del sol, located right in a trendy area between the lively central madrid districts: malasana and chueca.",
         "4"
        ],
        [
         "habitación de un piso en sol and enjoy a luxury experience at this centrally-located home.",
         "4"
        ],
        [
         "lena suites hotel. privado y acceso independiente. and private suite opportunity with separate entrance, ideal for exploring the secrets of madrid.<br />it is not shared housing, it is a private home, you are not going to cross with other people, the host does not live there.<br />check-in is automatic, accessed with the codes we will send you.<br />you will be close to the center, at the cheapest price and 100% private. <br /> <br />> 10 minutes from downtown by car <br /> <br />the area is quiet and safe.<br /><br />yes, the available dates are usually sold out in a few hours.",
         "4"
        ],
        [
         "habitación con baño centromadrid and enjoy the minimalism of this room with private bathroom and air conditioning in one of the best neighborhoods in downtown madrid. the communication by metro and bus is very good, although you can go to any point of interest on foot without the need for public transport. the home is located in an area with a lot of bars and restaurants. close to atocha station.",
         "4"
        ],
        [
         "habitación and enjoy the simplicity of this quiet and central accommodation.",
         "4"
        ],
        [
         "nuevo loft/studio a 2 calles de gran vía street and new and renovated studio in the middle of downtown madrid, on calle valverde, exactly 2 streets from gran vía madrileña (metro gran vía) <br />it is an ideal option for 2 people or a low cost alternative for 4 people.<br /><br />its excellent location next to calle fuencarral, in malasaña, is complemented by being in one of the quietest streets that you can find in the area, surrounded by shops, bars, supermarkets, restaurants and a short walk from all the main monuments of madrid.",
         "4"
        ],
        [
         "habitación en piso compartido and enjoy this cozy room with a double bed in an unbeatable location, close to the royal palace and the plaza mayor. the apartment features a small dining room, two shared bathrooms, and a fully-equipped kitchen. includes wi-fi, heating and weekly cleaning service in common areas. ideal for medium stays in the heart of madrid, surrounded by history, culture and a vibrant local life. book now and make yourself at home!",
         "3"
        ],
        [
         "habitación en calle santa teresa and enjoy the simplicity of this quiet and central accommodation.",
         "3"
        ],
        [
         "habitación en piso compartido and a large room with a double bed and sofa bed is available in a modern and fully equipped apartment. the house has a kitchen with all appliances and a quiet and cozy atmosphere. it includes all expenses: utilities, internet, and weekly cleaning service for common areas and bathrooms. unbeatable location, with the metro and buses right at the door. ready to move in.",
         "3"
        ],
        [
         "habitación doble puerta del sol and enjoy the simplicity of this quiet and central place.",
         "3"
        ],
        [
         "bright studio and very well connected in bernabéu and this cozy and wonderful 21m2 apartment is located at calle del general cabrera 21, in madrid.<br /><br />the apartment is in a residential area very well located and full of life where there is also:<br /><br />- 7 min from the santiago bernabéu metro stop<br /><br />- 3 min from the azca area<br /><br />- 11 min walk from the plaza de cuzco<br /><br />with capacity for up to 2 guests, here you will find all the basics to have a good stay.",
         "3"
        ],
        [
         "cama en habitación compartida 4 literas and shared room. <br />with the essentials for a basic rest after exploring madrid.  <br /><br />- bunk room<br />- rules: only registered guests; no invited guests allowed.  <br /><br />accessible and functional space, ideal for short stays and tight budgets. <br /><br />remember, we are a innkeeper, not a hotel.",
         "3"
        ],
        [
         "apartamento reformado en madrid rio and the <b>apartment in madrid</b> has capacity for 4 people. <br>accommodation of 40 m². <br>the accommodation is equipped with the following items: lift, washing machine, iron, internet (wi-fi), hair dryer, heat pump, air-conditioned, covered parking in near the building, 1 tv.<br>the open plan kitchen, of induction, is equipped with refrigerator, microwave, freezer, dishwasher, dishes/cutlery, kitchen utensils, coffee machine, toaster, kettle and juicer.",
         "3"
        ],
        [
         "apartamento en centro madrid and this listing has a strategic location - it will be very easy to plan your visit!",
         "3"
        ],
        [
         "1 bedroom apartment in la castellana sharing co. and welcome to our charming apartment on dr. fleming street, offered by sharing co! this cozy one-bedroom apartment is designed to provide you with a comfortable and convenient stay during your visit.<br><br>with a prime location on dr. fleming street, you'll be surrounded by local amenities and attractions, allowing you to make the most of your stay in the city.<br><br>the apartment has a double bedroom perfectly furnished to guarantee your rest and comfort.",
         "3"
        ],
        [
         "coliving en calle santa teresa and enjoy the simplicity of this quiet and central accommodation.",
         "3"
        ],
        [
         "coliving madrid centro (retiro) and perfect room for students and active professionals looking for a dynamic coliving. this fully furnished room offers a cozy and modern atmosphere, ideal for living with young comrades. with amenities included and a central location, it is the perfect place to immerse yourself in madrid city life while building meaningful connections. welcome to your home in the heart of the action!",
         "3"
        ]
       ],
       "shape": {
        "columns": 1,
        "rows": 192
       }
      },
      "text/plain": [
       "name_description\n",
       "fantastic residence ``funway´´ north zone madrid and modern and bright space in the financial district of madrid, only 20 minutes away from the city center.<br />perfectly communicated with lines 1 (tetuan) and 10 ( cuzco ) of metro and various bus lines.<br />very near to chamartín and nuevos ministerios stations.                                                                                                                                                                                                                                  18\n",
       "flamenco style apartment | palacio real, la latina and wonderful apartment located just above one of the oldest flamenco tablao in madrid, the corral de la morería, recently renovated opting for quality and comfort, offering an incredible rest. located in one of the most central areas of madrid that offers a multitude of restaurants, leisure and culture a few steps from the nerve center of the city. it has a bedroom with a queen size bed, a sofa bed, complete kitchen and a bathroom. whether for leisure or work, enjoy your apartment!    14\n",
       "home art madrid estudio estándar and this studio apartment has impeccable interior design. its modern style makes it one of the most practical. everything is paid to attention to every last detail. due to its unbeatable location and interior care, it is perfect to enjoy one of the most sought-after areas in madrid.                                                                                                                                                                                                                                  10\n",
       "bright spacious family apartment and this large, comfortable apartment is just a 10 minute walk from puerta del sol, located right in a trendy area between the lively central madrid districts: malasaña and chueca.                                                                                                                                                                                                                                                                                                                                          8\n",
       "habitación en piso compartido and rooms for rent in a shared apartment in the heart of glorieta de bilbao, in one of the best areas of madrid. the house has 11 bedrooms, 3 bathrooms, a large common area, and a fully stocked kitchen. the price includes all expenses: utilities, internet, and weekly cleaning of common areas and bathrooms. excellent location, with immediate access to the subway and surrounded by shops and restaurants. ideal for students or young professionals. check availability!                                              8\n",
       "                                                                                                                                                                                                                                                                                                                                                                                                                                                                                                                                                              ..\n",
       "temporary accomodation in la latina and seasonal rental property: this is not just an apartment; it is my home. i have designed it with great care, aiming to create a cozy space. this is my house, and due to work commitments, i spend some time outside of madrid, so i am looking for a tenant who will take care of it as much as i do.<br /><br />during your stay, you will have the entire apartment to yourself (i only have a few personal belongings stored), so i hope you enjoy this space as much as i do.                                      2\n",
       "studio in avenida de américa and this cozy and great apartment of 25m2 is located on calle puente areas in madrid.<br /><br />the apartment is in a residential area very well located and full of life where it is also :<br />-6 min from prosperidad metro station<br />- 1 min from cervecería la badila<br /><br />with capacity for up to 2 guests, here you will find all the basics to have a good stay.                                                                                                                                               2\n",
       "v3 - twin acogedor estudio 2 adultos and this modern and comfortable studio is designed to offer you everything you need for an enjoyable stay in madrid. with two 1.05m twin beds, bed linens and towels, kitchen equipped with microwave, coffee maker, refrigerator, toaster, and kitchenware, you can enjoy a practical and functional space. in addition, the studio has air conditioning (hot/cold), high speed wifi, tv, washing machine and dryer.                                                                                                     2\n",
       "valderribas - habitación ventana interior and enjoy the comfort and charm of this modern apartment completely renovated, modern design located near the retiro park of atocha station, menéndez pelayo and a few minutes from the children's university hospital niño jesús.<br />it has 4 private bedrooms, 2 exteriors with very good city views and two interiors with very large windows that give quite luminosity, equipped with independent air conditioning, an elegant bathroom and a shared kitchen.                                                 2\n",
       "zona prosperidad and zona prosperidad- \"calle cartagena\" room, very well located 10 minutes by car from the airport and 25 by public transport (bus 200), metro prosperity 3 minutes, metro avenida america 7 minutes walk, it is very well connected with public transport.<br /><br />great location🏡.<br /><br />bus number 200 address interchange av america departing from the airport.<br /><br />carrefour 24/7 a 5-minute walk away.<br /><br />food terraces in av america. <br /><br />only one guest.                                              2\n",
       "Name: name_description, Length: 192, dtype: int64"
      ]
     },
     "execution_count": 130,
     "metadata": {},
     "output_type": "execute_result"
    }
   ],
   "source": [
    "df[\"name_description\"] = df[\"name\"].fillna(\" \").str.lower() + \" and \" + df[\"description\"].fillna(\" \").str.lower()\n",
    "df[\"name_description\"].groupby(df[\"name_description\"]).count()[df[\"name_description\"].groupby(df[\"name_description\"]).count() > 1].sort_values(ascending=False)"
   ]
  },
  {
   "cell_type": "markdown",
   "id": "06f563d6",
   "metadata": {},
   "source": [
    "Observamos que, efectivamente, hay varios anuncios que se encuentran repetidos. Borramos todos los repetidos menos uno."
   ]
  },
  {
   "cell_type": "code",
   "execution_count": 131,
   "id": "f15832ad",
   "metadata": {},
   "outputs": [],
   "source": [
    "df.drop_duplicates(subset=[\"name_description\"], keep=\"first\", inplace=True)"
   ]
  },
  {
   "cell_type": "markdown",
   "id": "8dc400ae",
   "metadata": {},
   "source": [
    "Se pueden borrar las columnas de _name_ y _description_ dado que ya hemos creado una columna que cuenta con toda esta información, la cual utilizaremos más adelante para obtener más datos."
   ]
  },
  {
   "cell_type": "code",
   "execution_count": 132,
   "id": "98b23173",
   "metadata": {},
   "outputs": [],
   "source": [
    "df = df.drop(['name', 'description'], axis=1)"
   ]
  },
  {
   "cell_type": "markdown",
   "id": "4b7d5ba9",
   "metadata": {},
   "source": [
    "#### Anuncios que no sean de viviendas completas\n",
    "\n",
    "Dado que en el _data-set_ de Idealista solo hay datos sobre viviendas completas, no tiene sentido entrenar el modelo con otros tipos de anuncios que no sean viviendas completas. \n",
    "\n",
    "Es por ello que borramos todos los anuncios que no cumplan con esta condición."
   ]
  },
  {
   "cell_type": "code",
   "execution_count": 133,
   "id": "a1d6204c",
   "metadata": {},
   "outputs": [],
   "source": [
    "df = df[df['room_type']== 'Entire home/apt']"
   ]
  },
  {
   "cell_type": "code",
   "execution_count": 134,
   "id": "e02b8a87",
   "metadata": {},
   "outputs": [],
   "source": [
    "property_types_to_remove = ['Camper/RV', 'Room in aparthotel', 'Entire cabin','Hut','Yurt','Entire Bungalow']\n",
    "df = df[~df['property_type'].isin(property_types_to_remove)]"
   ]
  },
  {
   "cell_type": "markdown",
   "id": "8c842850",
   "metadata": {},
   "source": [
    "Hecho esto, podemos borrar las columnas de _room_type_ y de _property_type_ dado que ya no ofrecen ninguna información de valor."
   ]
  },
  {
   "cell_type": "code",
   "execution_count": 135,
   "id": "b3ed0237",
   "metadata": {},
   "outputs": [],
   "source": [
    "df = df.drop(['room_type', 'property_type'], axis=1)"
   ]
  },
  {
   "cell_type": "markdown",
   "id": "8c8193dd",
   "metadata": {},
   "source": [
    "### Cambio en tipos de datos"
   ]
  },
  {
   "cell_type": "code",
   "execution_count": 136,
   "id": "e78d6543",
   "metadata": {},
   "outputs": [
    {
     "name": "stdout",
     "output_type": "stream",
     "text": [
      "<class 'pandas.core.frame.DataFrame'>\n",
      "Index: 13632 entries, 5 to 25285\n",
      "Data columns (total 11 columns):\n",
      " #   Column                        Non-Null Count  Dtype  \n",
      "---  ------                        --------------  -----  \n",
      " 0   id                            13632 non-null  int64  \n",
      " 1   listing_url                   13632 non-null  object \n",
      " 2   neighbourhood_group_cleansed  13632 non-null  object \n",
      " 3   latitude                      13632 non-null  float64\n",
      " 4   longitude                     13632 non-null  float64\n",
      " 5   accommodates                  13632 non-null  int64  \n",
      " 6   bathrooms                     13631 non-null  float64\n",
      " 7   bedrooms                      13627 non-null  float64\n",
      " 8   amenities                     13632 non-null  object \n",
      " 9   price                         13632 non-null  object \n",
      " 10  name_description              13632 non-null  object \n",
      "dtypes: float64(4), int64(2), object(5)\n",
      "memory usage: 1.2+ MB\n"
     ]
    }
   ],
   "source": [
    "df.info()"
   ]
  },
  {
   "cell_type": "markdown",
   "id": "c3a55eaf",
   "metadata": {},
   "source": [
    "#### Baños, habitaciones"
   ]
  },
  {
   "cell_type": "code",
   "execution_count": 137,
   "id": "8c845fff",
   "metadata": {},
   "outputs": [
    {
     "data": {
      "text/plain": [
       "array([ 1.,  3.,  0.,  2.,  4.,  5.,  6.,  8.,  7., nan,  9.])"
      ]
     },
     "execution_count": 137,
     "metadata": {},
     "output_type": "execute_result"
    }
   ],
   "source": [
    "df['bedrooms'].unique()"
   ]
  },
  {
   "cell_type": "code",
   "execution_count": 138,
   "id": "d8431a76",
   "metadata": {},
   "outputs": [
    {
     "data": {
      "text/plain": [
       "array([ 1.,  3.,  0.,  2.,  4.,  5.,  6.,  8.,  7., nan,  9.])"
      ]
     },
     "execution_count": 138,
     "metadata": {},
     "output_type": "execute_result"
    }
   ],
   "source": [
    "df['bedrooms'].unique()"
   ]
  },
  {
   "cell_type": "markdown",
   "id": "e970e5aa",
   "metadata": {},
   "source": [
    "Tanto en baños como en habitaciones observamos que hay tanto apartamentos con 0 unidades de cada uno como valores desconocidos. Esto seguramente sea porque se trate de apartamentos en los que, o bien no se ha especificado el dato, o bien se trata de apartamentos tipo _loft_. En todo caso, es lógico pensar que cualquier vivienta cuenta, por lo menos, con 1 baño y 1 habitación. Por lo que cambiaremos los valores nulos y los desconocidos por 1.\n",
    "\n",
    "Además, el tipo de dato con el que están guardados dichos datos es de tipo _float_ cuando claramente se trata de datos tipo _int_. Por lo que también cambiaremos esto."
   ]
  },
  {
   "cell_type": "code",
   "execution_count": 139,
   "id": "023096cb",
   "metadata": {},
   "outputs": [],
   "source": [
    "df['bathrooms'] = df['bathrooms'].replace([np.inf,-np.inf],np.nan).fillna(0).astype(int)\n",
    "df['bedrooms'] = df['bedrooms'].replace([np.inf,-np.inf],np.nan).fillna(0).astype(int)\n",
    "\n",
    "df['bathrooms'] = df['bathrooms'].replace(0,1)\n",
    "df['bedrooms'] = df['bedrooms'].replace(0,1)"
   ]
  },
  {
   "cell_type": "markdown",
   "id": "7c394709",
   "metadata": {},
   "source": [
    "#### Precio"
   ]
  },
  {
   "cell_type": "code",
   "execution_count": 140,
   "id": "3021a5dc",
   "metadata": {},
   "outputs": [
    {
     "data": {
      "text/plain": [
       "array(['$66.00', '$89.00', '$173.00', '$72.00', '$189.00', '$94.00',\n",
       "       '$90.00', '$87.00', '$82.00', '$170.00', '$351.00', '$229.00',\n",
       "       '$177.00', '$86.00', '$57.00', '$88.00', '$118.00', '$114.00',\n",
       "       '$100.00', '$160.00', '$71.00', '$110.00', '$138.00', '$91.00',\n",
       "       '$131.00', '$106.00', '$64.00', '$129.00', '$63.00', '$243.00',\n",
       "       '$62.00', '$277.00', '$144.00', '$84.00', '$120.00', '$95.00',\n",
       "       '$97.00', '$70.00', '$80.00', '$101.00', '$141.00', '$259.00',\n",
       "       '$75.00', '$102.00', '$116.00', '$98.00', '$67.00', '$166.00',\n",
       "       '$127.00', '$152.00', '$96.00', '$190.00', '$300.00', '$109.00',\n",
       "       '$76.00', '$176.00', '$78.00', '$148.00', '$204.00', '$132.00',\n",
       "       '$65.00', '$85.00', '$154.00', '$222.00', '$225.00', '$169.00',\n",
       "       '$73.00', '$126.00', '$214.00', '$145.00', '$136.00', '$143.00',\n",
       "       '$108.00', '$209.00', '$159.00', '$119.00', '$83.00', '$122.00',\n",
       "       '$149.00', '$202.00', '$112.00', '$39.00', '$459.00', '$93.00',\n",
       "       '$47.00', '$135.00', '$146.00', '$139.00', '$105.00', '$107.00',\n",
       "       '$195.00', '$258.00', '$312.00', '$236.00', '$155.00', '$111.00',\n",
       "       '$223.00', '$151.00', '$200.00', '$68.00', '$162.00', '$59.00',\n",
       "       '$147.00', '$158.00', '$124.00', '$206.00', '$137.00', '$150.00',\n",
       "       '$220.00', '$171.00', '$385.00', '$325.00', '$179.00', '$232.00',\n",
       "       '$60.00', '$115.00', '$156.00', '$40.00', '$211.00', '$340.00',\n",
       "       '$163.00', '$157.00', '$375.00', '$81.00', '$9,514.00', '$104.00',\n",
       "       '$188.00', '$534.00', '$55.00', '$183.00', '$103.00', '$181.00',\n",
       "       '$134.00', '$182.00', '$99.00', '$125.00', '$92.00', '$79.00',\n",
       "       '$77.00', '$314.00', '$248.00', '$69.00', '$203.00', '$128.00',\n",
       "       '$175.00', '$500.00', '$35.00', '$52.00', '$113.00', '$168.00',\n",
       "       '$123.00', '$130.00', '$233.00', '$142.00', '$51.00', '$238.00',\n",
       "       '$247.00', '$117.00', '$199.00', '$285.00', '$354.00', '$305.00',\n",
       "       '$282.00', '$140.00', '$34.00', '$187.00', '$186.00', '$213.00',\n",
       "       '$672.00', '$358.00', '$279.00', '$228.00', '$269.00', '$444.00',\n",
       "       '$349.00', '$56.00', '$280.00', '$307.00', '$210.00', '$884.00',\n",
       "       '$363.00', '$42.00', '$292.00', '$58.00', '$315.00', '$274.00',\n",
       "       '$298.00', '$41.00', '$226.00', '$234.00', '$49.00', '$255.00',\n",
       "       '$1,466.00', '$205.00', '$185.00', '$184.00', '$221.00', '$266.00',\n",
       "       '$219.00', '$207.00', '$261.00', '$133.00', '$360.00', '$46.00',\n",
       "       '$121.00', '$332.00', '$54.00', '$456.00', '$153.00', '$178.00',\n",
       "       '$161.00', '$237.00', '$45.00', '$174.00', '$299.00', '$361.00',\n",
       "       '$418.00', '$326.00', '$172.00', '$507.00', '$371.00', '$336.00',\n",
       "       '$396.00', '$514.00', '$235.00', '$455.00', '$347.00', '$341.00',\n",
       "       '$215.00', '$193.00', '$6,375.00', '$165.00', '$74.00', '$167.00',\n",
       "       '$281.00', '$843.00', '$273.00', '$321.00', '$230.00', '$180.00',\n",
       "       '$164.00', '$800.00', '$543.00', '$253.00', '$197.00', '$239.00',\n",
       "       '$1,900.00', '$284.00', '$618.00', '$231.00', '$457.00', '$191.00',\n",
       "       '$250.00', '$399.00', '$263.00', '$262.00', '$632.00', '$571.00',\n",
       "       '$391.00', '$278.00', '$648.00', '$379.00', '$1,302.00', '$293.00',\n",
       "       '$53.00', '$241.00', '$43.00', '$322.00', '$290.00', '$482.00',\n",
       "       '$265.00', '$249.00', '$268.00', '$48.00', '$38.00', '$194.00',\n",
       "       '$227.00', '$19,276.00', '$288.00', '$251.00', '$201.00',\n",
       "       '$286.00', '$257.00', '$311.00', '$350.00', '$318.00', '$212.00',\n",
       "       '$208.00', '$404.00', '$486.00', '$252.00', '$823.00', '$353.00',\n",
       "       '$218.00', '$327.00', '$295.00', '$246.00', '$425.00', '$244.00',\n",
       "       '$301.00', '$774.00', '$196.00', '$50.00', '$655.00', '$550.00',\n",
       "       '$720.00', '$192.00', '$600.00', '$851.00', '$198.00', '$217.00',\n",
       "       '$291.00', '$388.00', '$264.00', '$713.00', '$254.00', '$370.00',\n",
       "       '$513.00', '$61.00', '$348.00', '$416.00', '$402.00', '$224.00',\n",
       "       '$339.00', '$509.00', '$608.00', '$364.00', '$356.00', '$310.00',\n",
       "       '$478.00', '$308.00', '$485.00', '$569.00', '$2,369.00', '$604.00',\n",
       "       '$515.00', '$409.00', '$495.00', '$536.00', '$475.00', '$427.00',\n",
       "       '$448.00', '$378.00', '$270.00', '$245.00', '$523.00', '$324.00',\n",
       "       '$369.00', '$415.00', '$372.00', '$296.00', '$540.00', '$587.00',\n",
       "       '$450.00', '$240.00', '$357.00', '$447.00', '$470.00', '$520.00',\n",
       "       '$297.00', '$438.00', '$260.00', '$552.00', '$216.00', '$397.00',\n",
       "       '$316.00', '$381.00', '$365.00', '$242.00', '$6,300.00', '$309.00',\n",
       "       '$458.00', '$366.00', '$37.00', '$724.00', '$344.00', '$333.00',\n",
       "       '$429.00', '$267.00', '$878.00', '$802.00', '$1,000.00', '$948.00',\n",
       "       '$359.00', '$422.00', '$834.00', '$900.00', '$1,400.00', '$700.00',\n",
       "       '$389.00', '$913.00', '$711.00', '$3,990.00', '$1,200.00',\n",
       "       '$328.00', '$465.00', '$597.00', '$441.00', '$489.00', '$411.00',\n",
       "       '$304.00', '$283.00', '$30.00', '$380.00', '$820.00', '$345.00',\n",
       "       '$1,212.00', '$392.00', '$691.00', '$368.00', '$276.00',\n",
       "       '$3,000.00', '$320.00', '$428.00', '$474.00', '$746.00',\n",
       "       '$1,545.00', '$421.00', '$710.00', '$275.00', '$256.00',\n",
       "       '$8,000.00', '$7,600.00', '$462.00', '$519.00', '$8,698.00',\n",
       "       '$490.00', '$342.00', '$652.00', '$393.00', '$21,013.00',\n",
       "       '$814.00', '$287.00', '$5,000.00', '$449.00', '$547.00', '$643.00',\n",
       "       '$775.00', '$592.00', '$911.00', '$477.00', '$352.00', '$289.00',\n",
       "       '$468.00', '$390.00', '$329.00', '$439.00', '$9,999.00', '$684.00',\n",
       "       '$745.00', '$918.00', '$407.00', '$2,069.00', '$807.00', '$559.00',\n",
       "       '$1,021.00', '$338.00', '$384.00', '$406.00', '$743.00', '$480.00',\n",
       "       '$383.00', '$355.00', '$3,420.00', '$506.00', '$330.00', '$382.00',\n",
       "       '$373.00', '$453.00', '$433.00', '$398.00', '$434.00', '$2,251.00',\n",
       "       '$343.00', '$620.00', '$742.00', '$386.00', '$420.00', '$606.00',\n",
       "       '$529.00', '$272.00', '$565.00', '$714.00', '$635.00', '$563.00',\n",
       "       '$498.00', '$494.00', '$313.00', '$377.00', '$376.00', '$1,048.00',\n",
       "       '$1,020.00', '$473.00', '$762.00', '$436.00', '$319.00', '$44.00',\n",
       "       '$306.00', '$414.00', '$624.00', '$567.00', '$528.00', '$331.00',\n",
       "       '$1,080.00', '$323.00', '$334.00', '$611.00', '$826.00', '$602.00',\n",
       "       '$560.00', '$400.00', '$395.00', '$688.00', '$589.00', '$423.00',\n",
       "       '$503.00', '$374.00', '$640.00', '$680.00', '$394.00', '$759.00',\n",
       "       '$7,999.00', '$454.00', '$4,720.00', '$6,517.00', '$771.00',\n",
       "       '$460.00', '$362.00', '$949.00', '$412.00', '$17,999.00',\n",
       "       '$849.00', '$367.00', '$440.00', '$788.00', '$431.00', '$623.00',\n",
       "       '$613.00', '$302.00', '$430.00', '$387.00', '$532.00', '$1,198.00',\n",
       "       '$504.00', '$901.00', '$271.00', '$650.00', '$518.00', '$303.00',\n",
       "       '$4,961.00', '$11.00', '$1,127.00', '$9,059.00', '$1,232.00',\n",
       "       '$464.00', '$521.00', '$1,037.00', '$557.00', '$23,124.00',\n",
       "       '$1,073.00', '$435.00', '$810.00', '$294.00', '$1,429.00',\n",
       "       '$674.00', '$1,140.00', '$598.00', '$488.00', '$337.00',\n",
       "       '$6,866.00', '$553.00', '$403.00', '$492.00', '$432.00', '$765.00',\n",
       "       '$1,141.00', '$335.00', '$483.00', '$1,502.00', '$583.00',\n",
       "       '$2,000.00', '$476.00', '$784.00', '$1,665.00', '$599.00',\n",
       "       '$656.00', '$479.00', '$1,174.00', '$346.00', '$419.00', '$582.00',\n",
       "       '$10,000.00', '$660.00', '$944.00', '$487.00', '$405.00',\n",
       "       '$1,500.00', '$12.00', '$508.00', '$671.00', '$469.00',\n",
       "       '$1,407.00', '$481.00', '$3,890.00', '$797.00', '$29.00',\n",
       "       '$317.00', '$14,965.00', '$1,503.00', '$443.00', '$417.00',\n",
       "       '$36.00', '$426.00', '$627.00', '$530.00', '$827.00', '$962.00',\n",
       "       '$1,254.00', '$2,171.00'], dtype=object)"
      ]
     },
     "execution_count": 140,
     "metadata": {},
     "output_type": "execute_result"
    }
   ],
   "source": [
    "df['price'].unique()"
   ]
  },
  {
   "cell_type": "markdown",
   "id": "4600667b",
   "metadata": {},
   "source": [
    "Observamos que los datos de precios por noche están guardados como tipo _object_ al ser _strings_ con el símbolo del dolar.\n",
    "\n",
    "Vamos a pasarlos a valores numéricos tipo _float_."
   ]
  },
  {
   "cell_type": "code",
   "execution_count": 141,
   "id": "498909eb",
   "metadata": {},
   "outputs": [],
   "source": [
    "df['price'] = df['price'].replace({'\\\\$': '', ',': ''}, regex=True).astype(float)"
   ]
  },
  {
   "cell_type": "markdown",
   "id": "c688140f",
   "metadata": {},
   "source": [
    "### Extracción de datos de interés \n",
    "\n",
    "Hay algunas variables que nos ofrecen información valiosa pero que no se puede aprovechar tal y como aparece en el _data-set_.\n",
    "\n",
    "Es por eso que, a continuación, extraeremos todos los datos que nos puedan ser se utilidad para el entrenamiento del modelo de las columnas:\n",
    "- _name_description_\n",
    "- _amenities_\n"
   ]
  },
  {
   "cell_type": "markdown",
   "id": "37ba68bf",
   "metadata": {},
   "source": [
    "#### _name_description_\n",
    "\n",
    "De esta variable podemos obtener los siguientes datos:\n",
    "- Terraza\n",
    "- Balcón\n",
    "- Jardín\n",
    "- Superficie del apartamento en m2"
   ]
  },
  {
   "cell_type": "code",
   "execution_count": 142,
   "id": "7755e6a1",
   "metadata": {},
   "outputs": [],
   "source": [
    "# Terraza\n",
    "df[\"terraza\"] = df[\"name_description\"].apply(lambda x: 1 if \"terrace\" in x else 0)\n",
    "# Balcón\n",
    "df[\"balcon\"] = df[\"name_description\"].apply(lambda x: 1 if \"balcon\" in x else 0)\n",
    "# Jardín\n",
    "df[\"jardin\"] = df[\"name_description\"].apply(lambda x: 1 if \"garden\" in x else 0)"
   ]
  },
  {
   "cell_type": "code",
   "execution_count": 143,
   "id": "58569993",
   "metadata": {},
   "outputs": [],
   "source": [
    "# Superficie\n",
    "def get_meters(data):\n",
    "    \"\"\"\n",
    "    Devuelve un set con todos los metros únicos presentes en la columna 'name_description' del DataFrame.\n",
    "    \"\"\"\n",
    "    matches_1 = re.findall(r'(\\d+)\\s?m²', data)\n",
    "    matches_2 = re.findall(r'(\\d+)\\s?m2', data)\n",
    "    if matches_1:\n",
    "        return int(matches_1[0])\n",
    "    if matches_2:\n",
    "        return int(matches_2[0])\n",
    "\n",
    "    return None\n",
    "\n",
    "df[\"meters\"] = df[\"name_description\"].apply(get_meters)"
   ]
  },
  {
   "cell_type": "markdown",
   "id": "007cf807",
   "metadata": {},
   "source": [
    "Borramos la columna de _name_description_ al haber extraído todas las variables que nos eran de utilidad."
   ]
  },
  {
   "cell_type": "code",
   "execution_count": 144,
   "id": "a2601128",
   "metadata": {},
   "outputs": [],
   "source": [
    "df = df.drop('name_description', axis=1)"
   ]
  },
  {
   "cell_type": "markdown",
   "id": "f8578ddc",
   "metadata": {},
   "source": [
    "#### _amenities_\n",
    "\n",
    "De esta variable, podemos obtener los siguientes datos:\n",
    "- Calefacción\n",
    "- Piscina\n",
    "- Aparcamiento\n",
    "- Aire acondicionado\n",
    "- Ascensor\n",
    "- Instalaciones para personas con movilidad reducida"
   ]
  },
  {
   "cell_type": "code",
   "execution_count": 145,
   "id": "c510c71e",
   "metadata": {},
   "outputs": [],
   "source": [
    "# Calefacción\n",
    "df['calefaccion'] = df['amenities'].apply(lambda x: 1 if 'heating' in x.lower() else 0)\n",
    "# Piscina\n",
    "df['pool'] = df['amenities'].apply(lambda x: 1 if ('pool' in str.lower(x)) and ('whirlpool' not in str.lower(x)) and ('whirpool' not in str.lower(x)) else 0)\n",
    "# Aparcamiento\n",
    "df['garaje'] = df['amenities'].apply(lambda x: 1 if 'free parking' in x.lower() else 0)\n",
    "# Aire acondicionado\n",
    "df['aire_acondicionado'] = df['amenities'].apply(lambda x: 1 if 'air conditi' in str.lower(x) else 0)\n",
    "# Ascensor\n",
    "df['ascensor'] = df['amenities'].apply(lambda x: 1 if 'elevator' in str.lower(x) else 0)\n",
    "# Movilidad reducida\n",
    "df['movilidad_reducida'] = df['amenities'].apply(lambda x: 1 if 'single level home' in str.lower(x) else 0)"
   ]
  },
  {
   "cell_type": "markdown",
   "id": "ac334c95",
   "metadata": {},
   "source": [
    "En el caso de la movilidad reducida, no tiene sentido que se tome con movilidad reducida aquellos apartamentos que no cuentan con ascensor."
   ]
  },
  {
   "cell_type": "code",
   "execution_count": 146,
   "id": "cc2d9aec",
   "metadata": {},
   "outputs": [
    {
     "data": {
      "text/plain": [
       "13632"
      ]
     },
     "execution_count": 146,
     "metadata": {},
     "output_type": "execute_result"
    }
   ],
   "source": [
    "len(df)"
   ]
  },
  {
   "cell_type": "code",
   "execution_count": null,
   "id": "6bc73b93",
   "metadata": {},
   "outputs": [],
   "source": [
    "df.loc[(df['movilidad_reducida'] == 1) & (df['ascensor'] == 0)]"
   ]
  },
  {
   "cell_type": "code",
   "execution_count": 147,
   "id": "940832ff",
   "metadata": {},
   "outputs": [],
   "source": [
    "df.loc[(df['movilidad_reducida'] == 1) & (df['ascensor'] == 0), \"movilidad_reducida\"] = 0"
   ]
  },
  {
   "cell_type": "code",
   "execution_count": 148,
   "id": "7c4029b6",
   "metadata": {},
   "outputs": [
    {
     "data": {
      "text/plain": [
       "13632"
      ]
     },
     "execution_count": 148,
     "metadata": {},
     "output_type": "execute_result"
    }
   ],
   "source": [
    "len(df)"
   ]
  },
  {
   "cell_type": "code",
   "execution_count": 149,
   "id": "84d28926",
   "metadata": {},
   "outputs": [
    {
     "data": {
      "application/vnd.microsoft.datawrangler.viewer.v0+json": {
       "columns": [
        {
         "name": "index",
         "rawType": "int64",
         "type": "integer"
        },
        {
         "name": "id",
         "rawType": "int64",
         "type": "integer"
        },
        {
         "name": "listing_url",
         "rawType": "object",
         "type": "string"
        },
        {
         "name": "neighbourhood_group_cleansed",
         "rawType": "object",
         "type": "string"
        },
        {
         "name": "latitude",
         "rawType": "float64",
         "type": "float"
        },
        {
         "name": "longitude",
         "rawType": "float64",
         "type": "float"
        },
        {
         "name": "accommodates",
         "rawType": "int64",
         "type": "integer"
        },
        {
         "name": "bathrooms",
         "rawType": "int64",
         "type": "integer"
        },
        {
         "name": "bedrooms",
         "rawType": "int64",
         "type": "integer"
        },
        {
         "name": "amenities",
         "rawType": "object",
         "type": "string"
        },
        {
         "name": "price",
         "rawType": "float64",
         "type": "float"
        },
        {
         "name": "terraza",
         "rawType": "int64",
         "type": "integer"
        },
        {
         "name": "balcon",
         "rawType": "int64",
         "type": "integer"
        },
        {
         "name": "jardin",
         "rawType": "int64",
         "type": "integer"
        },
        {
         "name": "meters",
         "rawType": "float64",
         "type": "float"
        },
        {
         "name": "calefaccion",
         "rawType": "int64",
         "type": "integer"
        },
        {
         "name": "pool",
         "rawType": "int64",
         "type": "integer"
        },
        {
         "name": "garaje",
         "rawType": "int64",
         "type": "integer"
        },
        {
         "name": "aire_acondicionado",
         "rawType": "int64",
         "type": "integer"
        },
        {
         "name": "ascensor",
         "rawType": "int64",
         "type": "integer"
        },
        {
         "name": "movilidad_reducida",
         "rawType": "int64",
         "type": "integer"
        }
       ],
       "ref": "32960ec1-fb0f-45ec-85fd-da6262c8544b",
       "rows": [],
       "shape": {
        "columns": 20,
        "rows": 0
       }
      },
      "text/html": [
       "<div>\n",
       "<style scoped>\n",
       "    .dataframe tbody tr th:only-of-type {\n",
       "        vertical-align: middle;\n",
       "    }\n",
       "\n",
       "    .dataframe tbody tr th {\n",
       "        vertical-align: top;\n",
       "    }\n",
       "\n",
       "    .dataframe thead th {\n",
       "        text-align: right;\n",
       "    }\n",
       "</style>\n",
       "<table border=\"1\" class=\"dataframe\">\n",
       "  <thead>\n",
       "    <tr style=\"text-align: right;\">\n",
       "      <th></th>\n",
       "      <th>id</th>\n",
       "      <th>listing_url</th>\n",
       "      <th>neighbourhood_group_cleansed</th>\n",
       "      <th>latitude</th>\n",
       "      <th>longitude</th>\n",
       "      <th>accommodates</th>\n",
       "      <th>bathrooms</th>\n",
       "      <th>bedrooms</th>\n",
       "      <th>amenities</th>\n",
       "      <th>price</th>\n",
       "      <th>terraza</th>\n",
       "      <th>balcon</th>\n",
       "      <th>jardin</th>\n",
       "      <th>meters</th>\n",
       "      <th>calefaccion</th>\n",
       "      <th>pool</th>\n",
       "      <th>garaje</th>\n",
       "      <th>aire_acondicionado</th>\n",
       "      <th>ascensor</th>\n",
       "      <th>movilidad_reducida</th>\n",
       "    </tr>\n",
       "  </thead>\n",
       "  <tbody>\n",
       "  </tbody>\n",
       "</table>\n",
       "</div>"
      ],
      "text/plain": [
       "Empty DataFrame\n",
       "Columns: [id, listing_url, neighbourhood_group_cleansed, latitude, longitude, accommodates, bathrooms, bedrooms, amenities, price, terraza, balcon, jardin, meters, calefaccion, pool, garaje, aire_acondicionado, ascensor, movilidad_reducida]\n",
       "Index: []"
      ]
     },
     "execution_count": 149,
     "metadata": {},
     "output_type": "execute_result"
    }
   ],
   "source": [
    "df.loc[(df['movilidad_reducida'] == 1) & (df['ascensor'] == 0)]"
   ]
  },
  {
   "cell_type": "code",
   "execution_count": null,
   "id": "45772fed",
   "metadata": {},
   "outputs": [],
   "source": []
  }
 ],
 "metadata": {
  "kernelspec": {
   "display_name": "entorno_tfm",
   "language": "python",
   "name": "python3"
  },
  "language_info": {
   "codemirror_mode": {
    "name": "ipython",
    "version": 3
   },
   "file_extension": ".py",
   "mimetype": "text/x-python",
   "name": "python",
   "nbconvert_exporter": "python",
   "pygments_lexer": "ipython3",
   "version": "3.12.11"
  }
 },
 "nbformat": 4,
 "nbformat_minor": 5
}
