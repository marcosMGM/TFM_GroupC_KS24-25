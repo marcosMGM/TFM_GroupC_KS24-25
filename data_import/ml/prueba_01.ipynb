{
 "cells": [
  {
   "cell_type": "markdown",
   "id": "e71c3381",
   "metadata": {},
   "source": [
    "### OJO 👁️👁️\n",
    "con la base de CHATGPT >>\n",
    " comparar metodología con el curso"
   ]
  },
  {
   "cell_type": "code",
   "execution_count": null,
   "id": "620675ce",
   "metadata": {},
   "outputs": [],
   "source": [
    "import pandas as pd\n",
    "import numpy as np\n",
    "\n",
    "# 1. Carga de datos\n",
    "# Supongamos que ya tienes un DataFrame de Airbnb con columnas:\n",
    "#   rooms, bathrooms, district, price\n",
    "df = pd.read_csv('airbnb_listings.csv')\n",
    "\n",
    "# 2. Preprocesado básico\n",
    "# 2.1. eliminar filas con nulos\n",
    "df = df.dropna(subset=['rooms','bathrooms','district','price'])\n",
    "\n",
    "# 2.2. codificar distrito (one-hot)\n",
    "df = pd.get_dummies(df, columns=['district'], drop_first=True)\n",
    "\n",
    "# 2.3. separar características y target\n",
    "X = df.drop('price', axis=1)\n",
    "y = df['price']\n",
    "\n",
    "# 3. División train / validation / test\n",
    "from sklearn.model_selection import train_test_split\n",
    "\n",
    "# primero train+val vs test\n",
    "X_trainval, X_test, y_trainval, y_test = train_test_split(\n",
    "    X, y, test_size=0.2, random_state=42)\n",
    "\n",
    "# luego train vs val\n",
    "X_train, X_val, y_train, y_val = train_test_split(\n",
    "    X_trainval, y_trainval, test_size=0.25, random_state=42)\n",
    "# => 60% train, 20% val, 20% test\n",
    "\n",
    "# 4. Definición de modelos a comparar\n",
    "from sklearn.linear_model import LinearRegression\n",
    "from sklearn.tree import DecisionTreeRegressor\n",
    "from sklearn.ensemble import RandomForestRegressor\n",
    "from sklearn.svm import SVR\n",
    "\n",
    "models = {\n",
    "    'LinearRegression': LinearRegression(),\n",
    "    'DecisionTree':    DecisionTreeRegressor(random_state=42),\n",
    "    'RandomForest':    RandomForestRegressor(n_estimators=100, random_state=42),\n",
    "    'SVR':             SVR(),\n",
    "}\n",
    "\n",
    "# 5. Entrenamiento y evaluación en validación\n",
    "from sklearn.metrics import mean_absolute_error, mean_squared_error\n",
    "\n",
    "results = []\n",
    "for name, model in models.items():\n",
    "    model.fit(X_train, y_train)\n",
    "    y_pred = model.predict(X_val)\n",
    "    mae = mean_absolute_error(y_val, y_pred)\n",
    "    rmse = np.sqrt(mean_squared_error(y_val, y_pred))\n",
    "    results.append({'model': name, 'MAE': mae, 'RMSE': rmse})\n",
    "\n",
    "results_df = pd.DataFrame(results).sort_values('MAE')\n",
    "print(results_df)\n"
   ]
  },
  {
   "cell_type": "code",
   "execution_count": null,
   "id": "b0b895c9",
   "metadata": {},
   "outputs": [],
   "source": [
    "best_name = results_df.iloc[0]['model']\n",
    "best_model = models[best_name]\n",
    "\n",
    "# entrenar de nuevo con todo train+val\n",
    "best_model.fit(X_trainval, y_trainval)\n",
    "y_test_pred = best_model.predict(X_test)\n",
    "\n",
    "mae_test  = mean_absolute_error(y_test, y_test_pred)\n",
    "rmse_test = np.sqrt(mean_squared_error(y_test, y_test_pred))\n",
    "\n",
    "print(f\"Mejor modelo: {best_name}\")\n",
    "print(f\"Test MAE: {mae_test:.2f}, Test RMSE: {rmse_test:.2f}\")\n"
   ]
  }
 ],
 "metadata": {
  "kernelspec": {
   "display_name": "tfm-ml",
   "language": "python",
   "name": "python3"
  },
  "language_info": {
   "name": "python",
   "version": "3.9.21"
  }
 },
 "nbformat": 4,
 "nbformat_minor": 5
}
