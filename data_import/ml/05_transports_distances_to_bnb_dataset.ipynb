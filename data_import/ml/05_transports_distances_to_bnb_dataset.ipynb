{
 "cells": [
  {
   "cell_type": "code",
   "execution_count": 1,
   "id": "093092de",
   "metadata": {},
   "outputs": [],
   "source": [
    "import pandas as pd\n",
    "from geopy.distance import distance\n",
    "from config_bd import get_connection\n",
    "from credenciales_sqlserver import *"
   ]
  },
  {
   "cell_type": "code",
   "execution_count": 2,
   "id": "be58b304",
   "metadata": {},
   "outputs": [],
   "source": [
    "completo = pd.read_csv('transform_listings.csv')"
   ]
  },
  {
   "cell_type": "code",
   "execution_count": 3,
   "id": "5b214b4d",
   "metadata": {},
   "outputs": [
    {
     "name": "stderr",
     "output_type": "stream",
     "text": [
      "C:\\Users\\dsantamaria\\AppData\\Local\\Temp\\ipykernel_22828\\720485261.py:5: UserWarning: pandas only supports SQLAlchemy connectable (engine/connection) or database string URI or sqlite3 DBAPI2 connection. Other DBAPI2 objects are not tested. Please consider using SQLAlchemy.\n",
      "  stops = pd.read_sql(query, conn)\n"
     ]
    }
   ],
   "source": [
    "with get_connection() as conn:\n",
    "    query = \"\"\"\n",
    "    SELECT * FROM TRANSPORTS\n",
    "    \"\"\"\n",
    "    stops = pd.read_sql(query, conn)\n",
    "    "
   ]
  },
  {
   "cell_type": "code",
   "execution_count": 4,
   "id": "e71de7cc",
   "metadata": {},
   "outputs": [
    {
     "data": {
      "application/vnd.microsoft.datawrangler.viewer.v0+json": {
       "columns": [
        {
         "name": "index",
         "rawType": "int64",
         "type": "integer"
        },
        {
         "name": "id",
         "rawType": "int64",
         "type": "integer"
        },
        {
         "name": "mode",
         "rawType": "int64",
         "type": "integer"
        },
        {
         "name": "stop_name",
         "rawType": "object",
         "type": "string"
        },
        {
         "name": "stop_desc",
         "rawType": "object",
         "type": "unknown"
        },
        {
         "name": "lat",
         "rawType": "float64",
         "type": "float"
        },
        {
         "name": "lon",
         "rawType": "float64",
         "type": "float"
        }
       ],
       "ref": "023b6a8c-3b58-4437-b5e4-7971907022e4",
       "rows": [
        [
         "0",
         "1423",
         "4",
         "PLAZA DE CASTILLA",
         "Paseo de la Castellana 189",
         "40.4669",
         "-3.68917"
        ],
        [
         "1",
         "1424",
         "4",
         "TRIBUNAL",
         "Calle de Fuencarral 81",
         "40.42619",
         "-3.7011"
        ],
        [
         "2",
         "1425",
         "4",
         "GRAN VIA",
         "Calle   Gran Vía 23",
         "40.42001",
         "-3.7018"
        ],
        [
         "3",
         "1426",
         "4",
         "SOL",
         "Plaza de la Puerta del Sol 6",
         "40.41688",
         "-3.70326"
        ],
        [
         "4",
         "1427",
         "4",
         "TIRSO DE MOLINA",
         "Plaza de Tirso de Molina 7",
         "40.41235",
         "-3.70466"
        ],
        [
         "5",
         "1428",
         "4",
         "ANTON MARTIN",
         "Calle de Atocha 50",
         "40.41246",
         "-3.69937"
        ],
        [
         "6",
         "1429",
         "4",
         "ESTACION DEL ARTE",
         "Plaza del Emperador Carlos V 11",
         "40.40885",
         "-3.69249"
        ],
        [
         "7",
         "1430",
         "4",
         "ATOCHA",
         "Avda de la Ciudad de Barcelona 2 B",
         "40.40659",
         "-3.68938"
        ],
        [
         "8",
         "1431",
         "4",
         "MENENDEZ PELAYO",
         "Avda de la Ciudad de Barcelona 23",
         "40.40445",
         "-3.68098"
        ],
        [
         "9",
         "1432",
         "4",
         "PACIFICO",
         "Avda de la Ciudad de Barcelona 79",
         "40.40126",
         "-3.67514"
        ],
        [
         "10",
         "1433",
         "4",
         "PUENTE DE VALLECAS",
         "Avda de la Albufera 1",
         "40.39819",
         "-3.66906"
        ],
        [
         "11",
         "1434",
         "4",
         "VALDEACEDERAS",
         "Calle de Bravo Murillo 332",
         "40.46442",
         "-3.69506"
        ],
        [
         "12",
         "1435",
         "4",
         "NUEVA NUMANCIA",
         "Avda de la Albufera 70",
         "40.39554",
         "-3.66414"
        ],
        [
         "13",
         "1436",
         "4",
         "PORTAZGO",
         "Avda de la Albufera 131",
         "40.39266",
         "-3.65868"
        ],
        [
         "14",
         "1437",
         "4",
         "BUENOS AIRES",
         "Avda de la Albufera 179",
         "40.39156",
         "-3.65391"
        ],
        [
         "15",
         "1438",
         "4",
         "ALTO DEL ARENAL",
         "Calle de Santillana del Mar 21",
         "40.38977",
         "-3.64522"
        ],
        [
         "16",
         "1439",
         "4",
         "MIGUEL HERNANDEZ",
         "Calle de León Felipe 4 A",
         "40.38732",
         "-3.63951"
        ],
        [
         "17",
         "1440",
         "4",
         "SIERRA DE GUADALUPE",
         "Avda de la Democracia 1",
         "40.38216",
         "-3.62472"
        ],
        [
         "18",
         "1441",
         "4",
         "VILLA DE VALLECAS",
         "Paseo de Federico García Lorca 2",
         "40.3796",
         "-3.6213"
        ],
        [
         "19",
         "1442",
         "4",
         "CHAMARTIN",
         "Calle de Agustín de Foxá 40",
         "40.47203",
         "-3.68259"
        ],
        [
         "20",
         "1443",
         "4",
         "BAMBU",
         "Calle del Bambú 14",
         "40.47682",
         "-3.67637"
        ],
        [
         "21",
         "1444",
         "4",
         "PINAR DE CHAMARTIN",
         "Calle de Arturo Soria 330",
         "40.48014",
         "-3.6668"
        ],
        [
         "22",
         "1445",
         "4",
         "CONGOSTO",
         "Calle del Congosto 48",
         "40.37238",
         "-3.61884"
        ],
        [
         "23",
         "1446",
         "4",
         "LA GAVIA",
         "Avda del Ensanche de Vallecas 16",
         "40.37019",
         "-3.61346"
        ],
        [
         "24",
         "1447",
         "4",
         "LAS SUERTES",
         "Calle de Cañada del Santísimo 45",
         "40.36323",
         "-3.59953"
        ],
        [
         "25",
         "1448",
         "4",
         "VALDECARROS",
         "Avda del Ensanche de Vallecas 120 A",
         "40.36007",
         "-3.59316"
        ],
        [
         "26",
         "1449",
         "4",
         "TETUAN",
         "Calle de Bravo Murillo 264",
         "40.46055",
         "-3.69825"
        ],
        [
         "27",
         "1450",
         "4",
         "ESTRECHO",
         "Calle de Bravo Murillo 191",
         "40.45429",
         "-3.70302"
        ],
        [
         "28",
         "1451",
         "4",
         "ALVARADO",
         "Calle de Bravo Murillo 138",
         "40.45033",
         "-3.70331"
        ],
        [
         "29",
         "1452",
         "4",
         "CUATRO CAMINOS",
         "Gta de Cuatro Caminos 2",
         "40.44697",
         "-3.70397"
        ],
        [
         "30",
         "1453",
         "4",
         "RIOS ROSAS",
         "Calle de Ríos Rosas 22",
         "40.44198",
         "-3.70133"
        ],
        [
         "31",
         "1454",
         "4",
         "IGLESIA",
         "Gta del Pintor Sorolla 2",
         "40.43492",
         "-3.69898"
        ],
        [
         "32",
         "1455",
         "4",
         "BILBAO",
         "Calle de Sagasta 2",
         "40.42906",
         "-3.70218"
        ],
        [
         "33",
         "1456",
         "4",
         "LA ELIPA",
         "Avda del Marqués de Corbera 58",
         "40.42662",
         "-3.65052"
        ],
        [
         "34",
         "1457",
         "4",
         "VENTAS",
         "Calle de Alcalá 204",
         "40.43088",
         "-3.66366"
        ],
        [
         "35",
         "1458",
         "4",
         "MANUEL BECERRA",
         "Plaza de Manuel Becerra 1",
         "40.4279",
         "-3.66926"
        ],
        [
         "36",
         "1459",
         "4",
         "GOYA",
         "Calle de Alcalá 96",
         "40.42455",
         "-3.67591"
        ],
        [
         "37",
         "1460",
         "4",
         "PRINCIPE DE VERGARA",
         "Calle de Alcalá 123",
         "40.42294",
         "-3.68012"
        ],
        [
         "38",
         "1461",
         "4",
         "RETIRO",
         "Calle de Alcalá 81",
         "40.42031",
         "-3.68624"
        ],
        [
         "39",
         "1462",
         "4",
         "LA ALMUDENA",
         "Calle de Arriaga 75",
         "40.42361",
         "-3.63914"
        ],
        [
         "40",
         "1463",
         "4",
         "ALSACIA",
         "Plaza de Alsacia S/N",
         "40.41829",
         "-3.62351"
        ],
        [
         "41",
         "1464",
         "4",
         "AVENIDA DE GUADALAJARA",
         "Avda de Guadalajara 110",
         "40.42239",
         "-3.61206"
        ],
        [
         "42",
         "1465",
         "4",
         "LAS ROSAS",
         "Paseo de Ginebra 35",
         "40.42375",
         "-3.60331"
        ],
        [
         "43",
         "1466",
         "4",
         "BANCO DE ESPAÑA",
         "Calle de Alcalá 49",
         "40.41922",
         "-3.69497"
        ],
        [
         "44",
         "1467",
         "4",
         "SEVILLA",
         "Calle de Alcalá 23",
         "40.41805",
         "-3.69925"
        ],
        [
         "45",
         "1468",
         "4",
         "SOL",
         "Plaza de la Puerta del Sol 6",
         "40.41685",
         "-3.70326"
        ],
        [
         "46",
         "1469",
         "4",
         "OPERA",
         "Plaza de Isabel II 9",
         "40.41809",
         "-3.70942"
        ],
        [
         "47",
         "1470",
         "4",
         "SANTO DOMINGO",
         "Calle de San Bernardo 11",
         "40.42132",
         "-3.70796"
        ],
        [
         "48",
         "1471",
         "4",
         "NOVICIADO",
         "Calle de San Bernardo 49",
         "40.42484",
         "-3.70742"
        ],
        [
         "49",
         "1472",
         "4",
         "SAN BERNARDO",
         "Calle de San Bernardo 94",
         "40.43001",
         "-3.70557"
        ]
       ],
       "shape": {
        "columns": 6,
        "rows": 13653
       }
      },
      "text/html": [
       "<div>\n",
       "<style scoped>\n",
       "    .dataframe tbody tr th:only-of-type {\n",
       "        vertical-align: middle;\n",
       "    }\n",
       "\n",
       "    .dataframe tbody tr th {\n",
       "        vertical-align: top;\n",
       "    }\n",
       "\n",
       "    .dataframe thead th {\n",
       "        text-align: right;\n",
       "    }\n",
       "</style>\n",
       "<table border=\"1\" class=\"dataframe\">\n",
       "  <thead>\n",
       "    <tr style=\"text-align: right;\">\n",
       "      <th></th>\n",
       "      <th>id</th>\n",
       "      <th>mode</th>\n",
       "      <th>stop_name</th>\n",
       "      <th>stop_desc</th>\n",
       "      <th>lat</th>\n",
       "      <th>lon</th>\n",
       "    </tr>\n",
       "  </thead>\n",
       "  <tbody>\n",
       "    <tr>\n",
       "      <th>0</th>\n",
       "      <td>1423</td>\n",
       "      <td>4</td>\n",
       "      <td>PLAZA DE CASTILLA</td>\n",
       "      <td>Paseo de la Castellana 189</td>\n",
       "      <td>40.46690</td>\n",
       "      <td>-3.68917</td>\n",
       "    </tr>\n",
       "    <tr>\n",
       "      <th>1</th>\n",
       "      <td>1424</td>\n",
       "      <td>4</td>\n",
       "      <td>TRIBUNAL</td>\n",
       "      <td>Calle de Fuencarral 81</td>\n",
       "      <td>40.42619</td>\n",
       "      <td>-3.70110</td>\n",
       "    </tr>\n",
       "    <tr>\n",
       "      <th>2</th>\n",
       "      <td>1425</td>\n",
       "      <td>4</td>\n",
       "      <td>GRAN VIA</td>\n",
       "      <td>Calle   Gran Vía 23</td>\n",
       "      <td>40.42001</td>\n",
       "      <td>-3.70180</td>\n",
       "    </tr>\n",
       "    <tr>\n",
       "      <th>3</th>\n",
       "      <td>1426</td>\n",
       "      <td>4</td>\n",
       "      <td>SOL</td>\n",
       "      <td>Plaza de la Puerta del Sol 6</td>\n",
       "      <td>40.41688</td>\n",
       "      <td>-3.70326</td>\n",
       "    </tr>\n",
       "    <tr>\n",
       "      <th>4</th>\n",
       "      <td>1427</td>\n",
       "      <td>4</td>\n",
       "      <td>TIRSO DE MOLINA</td>\n",
       "      <td>Plaza de Tirso de Molina 7</td>\n",
       "      <td>40.41235</td>\n",
       "      <td>-3.70466</td>\n",
       "    </tr>\n",
       "    <tr>\n",
       "      <th>...</th>\n",
       "      <td>...</td>\n",
       "      <td>...</td>\n",
       "      <td>...</td>\n",
       "      <td>...</td>\n",
       "      <td>...</td>\n",
       "      <td>...</td>\n",
       "    </tr>\n",
       "    <tr>\n",
       "      <th>13648</th>\n",
       "      <td>15071</td>\n",
       "      <td>10</td>\n",
       "      <td>ESTRELLA POLAR NORTE</td>\n",
       "      <td>Avda de las Estrellas 14</td>\n",
       "      <td>40.23015</td>\n",
       "      <td>-3.75112</td>\n",
       "    </tr>\n",
       "    <tr>\n",
       "      <th>13649</th>\n",
       "      <td>15072</td>\n",
       "      <td>10</td>\n",
       "      <td>ESTRELLA POLAR SUR</td>\n",
       "      <td>Avda de los Planetas 9</td>\n",
       "      <td>40.23072</td>\n",
       "      <td>-3.75383</td>\n",
       "    </tr>\n",
       "    <tr>\n",
       "      <th>13650</th>\n",
       "      <td>15073</td>\n",
       "      <td>10</td>\n",
       "      <td>JAIME I NORTE</td>\n",
       "      <td>Avda de las Estrellas 2</td>\n",
       "      <td>40.23414</td>\n",
       "      <td>-3.74969</td>\n",
       "    </tr>\n",
       "    <tr>\n",
       "      <th>13651</th>\n",
       "      <td>15074</td>\n",
       "      <td>10</td>\n",
       "      <td>JAIME I SUR</td>\n",
       "      <td>Avda de los Planetas 6</td>\n",
       "      <td>40.23470</td>\n",
       "      <td>-3.75240</td>\n",
       "    </tr>\n",
       "    <tr>\n",
       "      <th>13652</th>\n",
       "      <td>15075</td>\n",
       "      <td>10</td>\n",
       "      <td>POLIGONO INDUSTRIAL CIUDAD DE PARLA</td>\n",
       "      <td>Calle   Berlín 61</td>\n",
       "      <td>40.23867</td>\n",
       "      <td>-3.75045</td>\n",
       "    </tr>\n",
       "  </tbody>\n",
       "</table>\n",
       "<p>13653 rows × 6 columns</p>\n",
       "</div>"
      ],
      "text/plain": [
       "          id  mode                            stop_name  \\\n",
       "0       1423     4                    PLAZA DE CASTILLA   \n",
       "1       1424     4                             TRIBUNAL   \n",
       "2       1425     4                             GRAN VIA   \n",
       "3       1426     4                                  SOL   \n",
       "4       1427     4                      TIRSO DE MOLINA   \n",
       "...      ...   ...                                  ...   \n",
       "13648  15071    10                 ESTRELLA POLAR NORTE   \n",
       "13649  15072    10                   ESTRELLA POLAR SUR   \n",
       "13650  15073    10                        JAIME I NORTE   \n",
       "13651  15074    10                          JAIME I SUR   \n",
       "13652  15075    10  POLIGONO INDUSTRIAL CIUDAD DE PARLA   \n",
       "\n",
       "                          stop_desc       lat      lon  \n",
       "0        Paseo de la Castellana 189  40.46690 -3.68917  \n",
       "1            Calle de Fuencarral 81  40.42619 -3.70110  \n",
       "2               Calle   Gran Vía 23  40.42001 -3.70180  \n",
       "3      Plaza de la Puerta del Sol 6  40.41688 -3.70326  \n",
       "4        Plaza de Tirso de Molina 7  40.41235 -3.70466  \n",
       "...                             ...       ...      ...  \n",
       "13648      Avda de las Estrellas 14  40.23015 -3.75112  \n",
       "13649        Avda de los Planetas 9  40.23072 -3.75383  \n",
       "13650       Avda de las Estrellas 2  40.23414 -3.74969  \n",
       "13651        Avda de los Planetas 6  40.23470 -3.75240  \n",
       "13652             Calle   Berlín 61  40.23867 -3.75045  \n",
       "\n",
       "[13653 rows x 6 columns]"
      ]
     },
     "execution_count": 4,
     "metadata": {},
     "output_type": "execute_result"
    }
   ],
   "source": [
    "stops"
   ]
  },
  {
   "cell_type": "code",
   "execution_count": null,
   "id": "8690b464",
   "metadata": {},
   "outputs": [],
   "source": [
    "TIPOS_TRANSPORTE = [4,5,6,8,10] #El 9 está integrado en el 8"
   ]
  },
  {
   "cell_type": "code",
   "execution_count": null,
   "id": "319e2a30",
   "metadata": {},
   "outputs": [],
   "source": [
    "def calcular_distancias_vivienda(row_viv):\n",
    "    resultados = {}\n",
    "    \n",
    "    for modo in TIPOS_TRANSPORTE:\n",
    "        paradas_tipo = stops[stops['mode'] == modo]\n",
    "\n",
    "        if paradas_tipo.empty:\n",
    "            resultados[f'distancia_mode_{modo}'] = None\n",
    "            continue\n",
    "\n",
    "        # filtrar primero por lat/lon cercanas para acelerar\n",
    "        delta = 0.03 #unos 8km cuadrados de margen\n",
    "        paradas_candidatas = paradas_tipo[\n",
    "            (abs(paradas_tipo['lat'] - row_viv['LATITUDE']) < delta) &\n",
    "            (abs(paradas_tipo['lon'] - row_viv['LONGITUDE']) < delta)\n",
    "        ]\n",
    "\n",
    "        if paradas_candidatas.empty:\n",
    "            paradas_candidatas = paradas_tipo  # fallback a todas\n",
    "\n",
    "        distancias = paradas_candidatas.apply(\n",
    "            lambda stop: distance(\n",
    "                (row_viv['LATITUDE'], row_viv['LONGITUDE']),\n",
    "                (stop['lat'], stop['lon'])\n",
    "            ).meters,\n",
    "            axis=1\n",
    "        )\n",
    "\n",
    "        resultados[f'distancia_mode_{modo}'] = distancias.min()\n",
    "\n",
    "    return pd.Series(resultados)\n",
    "\n"
   ]
  },
  {
   "cell_type": "code",
   "execution_count": null,
   "id": "dc70de31",
   "metadata": {},
   "outputs": [],
   "source": [
    "\n",
    "# df = df.sample(200)\n",
    "df_distancias = df.apply(calcular_distancias_vivienda, axis=1)\n",
    "\n",
    "df = pd.concat([df, df_distancias], axis=1)\n",
    "df"
   ]
  }
 ],
 "metadata": {
  "kernelspec": {
   "display_name": "tfm-ml",
   "language": "python",
   "name": "python3"
  },
  "language_info": {
   "codemirror_mode": {
    "name": "ipython",
    "version": 3
   },
   "file_extension": ".py",
   "mimetype": "text/x-python",
   "name": "python",
   "nbconvert_exporter": "python",
   "pygments_lexer": "ipython3",
   "version": "3.9.21"
  }
 },
 "nbformat": 4,
 "nbformat_minor": 5
}
